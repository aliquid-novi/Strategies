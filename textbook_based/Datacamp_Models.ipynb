{
 "cells": [
  {
   "cell_type": "code",
   "execution_count": 16,
   "id": "a5525218-c648-43f9-8a97-3fbd527888d7",
   "metadata": {},
   "outputs": [],
   "source": [
    "# Libaries \n",
    "# Libraries and Modules used\n",
    "import MetaTrader5 as mt5 \n",
    "import pandas as pd\n",
    "from sklearn.linear_model import LinearRegression\n",
    "import ta\n",
    "import warnings\n",
    "warnings.filterwarnings(\"ignore\")\n",
    "import numpy as np\n",
    "# warnings.filterwarnings(\"ignore\")\n",
    "mt5.initialize()\n",
    "# Replace following with your MT5 Account Login\n",
    "account=51127988 # \n",
    "password=\"Aar2frM7\"\n",
    "server = 'ICMarkets-Demo'\n",
    "\n",
    "# Function to get rates from MT5 \n",
    "def get_rates(pair1, timeframe, x):\n",
    "    pair1 = pd.DataFrame(mt5.copy_rates_from_pos(pair1, timeframe, 0, x))\n",
    "    pair1['time'] = pd.to_datetime(pair1['time'], unit = 's')\n",
    "    return pair1"
   ]
  },
  {
   "cell_type": "markdown",
   "id": "9babb8f8-e8ea-4b8d-9f67-97e6ff516191",
   "metadata": {},
   "source": [
    "# GARCH / ARCH \n",
    "Steps are:\n",
    "1. Specify the model\n",
    "2. Fit the model\n",
    "3. Make a forecast\n",
    "\n",
    "Model Assumptions:\n",
    "- Distributions: normal, \"t\" (T - Distribution), \"skewt\" (Skewed t-distributions)\n",
    "- Mean model: constant, \"zero\", \"AR\"\n",
    "- Volatility Model: GARCH / ARCH \n",
    "\n"
   ]
  },
  {
   "cell_type": "code",
   "execution_count": 20,
   "id": "198bf1a2-a073-40a1-9619-316d4908e848",
   "metadata": {},
   "outputs": [],
   "source": [
    "from arch import arch_model"
   ]
  },
  {
   "cell_type": "code",
   "execution_count": 21,
   "id": "4bdeae52-2db2-4b7a-8ae6-e34b02bdd27d",
   "metadata": {},
   "outputs": [],
   "source": [
    "EURUSD = get_rates('EURUSD.a', mt5.TIMEFRAME_H4, 2000,)"
   ]
  },
  {
   "cell_type": "code",
   "execution_count": 41,
   "id": "97e5b5f6-7d93-44e6-b642-eb1412e2a9c6",
   "metadata": {},
   "outputs": [],
   "source": [
    "returns = EURUSD['close'].pct_change().dropna() * 100"
   ]
  },
  {
   "cell_type": "code",
   "execution_count": 42,
   "id": "853034fd-5f1d-43f3-8552-1908632f2415",
   "metadata": {},
   "outputs": [
    {
     "data": {
      "text/plain": [
       "1      -0.006716\n",
       "2       0.106498\n",
       "3       0.038337\n",
       "4      -1.252180\n",
       "5      -0.146501\n",
       "          ...   \n",
       "1995    0.104374\n",
       "1996    0.036019\n",
       "1997   -0.153499\n",
       "1998   -0.271409\n",
       "1999   -0.000952\n",
       "Name: close, Length: 1999, dtype: float64"
      ]
     },
     "execution_count": 42,
     "metadata": {},
     "output_type": "execute_result"
    }
   ],
   "source": [
    "returns"
   ]
  },
  {
   "cell_type": "code",
   "execution_count": 44,
   "id": "8f3cf6af-b132-43d4-9142-ad0001862059",
   "metadata": {},
   "outputs": [
    {
     "name": "stdout",
     "output_type": "stream",
     "text": [
      "Iteration:      4,   Func. Count:     33,   Neg. LLF: 360.09377666374985\n",
      "Iteration:      8,   Func. Count:     61,   Neg. LLF: 247.27141196134394\n",
      "Iteration:     12,   Func. Count:     93,   Neg. LLF: 1262.2528529756364\n",
      "Iteration:     16,   Func. Count:    119,   Neg. LLF: 7306916.357012011\n",
      "Optimization terminated successfully    (Exit mode 0)\n",
      "            Current function value: -64.30165944128586\n",
      "            Iterations: 23\n",
      "            Function evaluations: 143\n",
      "            Gradient evaluations: 19\n",
      "mu         -0.001440\n",
      "omega       0.000385\n",
      "alpha[1]    0.012597\n",
      "beta[1]     0.980071\n",
      "Name: params, dtype: float64\n",
      "                     Constant Mean - GARCH Model Results                      \n",
      "==============================================================================\n",
      "Dep. Variable:                  close   R-squared:                       0.000\n",
      "Mean Model:             Constant Mean   Adj. R-squared:                  0.000\n",
      "Vol Model:                      GARCH   Log-Likelihood:                64.3017\n",
      "Distribution:                  Normal   AIC:                          -120.603\n",
      "Method:            Maximum Likelihood   BIC:                          -98.2017\n",
      "                                        No. Observations:                 1999\n",
      "Date:                Sun, Oct 15 2023   Df Residuals:                     1998\n",
      "Time:                        01:04:48   Df Model:                            1\n",
      "                                  Mean Model                                  \n",
      "==============================================================================\n",
      "                  coef    std err          t      P>|t|       95.0% Conf. Int.\n",
      "------------------------------------------------------------------------------\n",
      "mu         -1.4396e-03  4.982e-03     -0.289      0.773 [-1.120e-02,8.326e-03]\n",
      "                               Volatility Model                              \n",
      "=============================================================================\n",
      "                 coef    std err          t      P>|t|       95.0% Conf. Int.\n",
      "-----------------------------------------------------------------------------\n",
      "omega      3.8481e-04  6.621e-04      0.581      0.561 [-9.129e-04,1.683e-03]\n",
      "alpha[1]       0.0126  1.120e-02      1.124      0.261 [-9.359e-03,3.455e-02]\n",
      "beta[1]        0.9801  2.230e-02     43.951      0.000      [  0.936,  1.024]\n",
      "=============================================================================\n",
      "\n",
      "Covariance estimator: robust\n"
     ]
    }
   ],
   "source": [
    "basic_gm = arch_model(returns, p = 1, q = 1, mean = 'constant', vol = 'GARCH', dist = 'normal')\n",
    "gm_result = basic_gm.fit(update_freq = 4)\n",
    "print(gm_result.params)\n",
    "print(gm_result.summary())"
   ]
  },
  {
   "cell_type": "code",
   "execution_count": 53,
   "id": "f9eafe25-afc5-4938-9637-26d90deb21a4",
   "metadata": {},
   "outputs": [
    {
     "name": "stdout",
     "output_type": "stream",
     "text": [
      "           h.1      h.2       h.3       h.4       h.5\n",
      "1999  0.042487  0.04256  0.042633  0.042705  0.042777\n"
     ]
    }
   ],
   "source": [
    "# Making Predictions\n",
    "\n",
    "gm_forecast = gm_result.forecast(horizon = 5)\n",
    "print(gm_forecast.varianceiance)"
   ]
  },
  {
   "cell_type": "code",
   "execution_count": null,
   "id": "e5e56f78-d29d-49ca-a21e-2a5c63879410",
   "metadata": {},
   "outputs": [],
   "source": []
  }
 ],
 "metadata": {
  "kernelspec": {
   "display_name": "Python 3 (ipykernel)",
   "language": "python",
   "name": "python3"
  },
  "language_info": {
   "codemirror_mode": {
    "name": "ipython",
    "version": 3
   },
   "file_extension": ".py",
   "mimetype": "text/x-python",
   "name": "python",
   "nbconvert_exporter": "python",
   "pygments_lexer": "ipython3",
   "version": "3.9.12"
  }
 },
 "nbformat": 4,
 "nbformat_minor": 5
}
