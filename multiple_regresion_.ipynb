{
 "cells": [
  {
   "cell_type": "code",
   "execution_count": 1,
   "metadata": {
    "colab": {
     "base_uri": "https://localhost:8080/"
    },
    "id": "OJtaXH82dd5j",
    "outputId": "f5760684-4b46-4d0b-e241-540d966a8cf0"
   },
   "outputs": [
    {
     "name": "stdout",
     "output_type": "stream",
     "text": [
      "Collecting pandas_ta\n",
      "  Downloading pandas_ta-0.3.14b.tar.gz (115 kB)\n",
      "     ---------------------------------------- 0.0/115.1 kB ? eta -:--:--\n",
      "     ---------- ----------------------------- 30.7/115.1 kB ? eta -:--:--\n",
      "     ---------- ----------------------------- 30.7/115.1 kB ? eta -:--:--\n",
      "     ---------- ----------------------------- 30.7/115.1 kB ? eta -:--:--\n",
      "     ---------- ----------------------------- 30.7/115.1 kB ? eta -:--:--\n",
      "     ----------------------------- ------- 92.2/115.1 kB 375.8 kB/s eta 0:00:01\n",
      "     ------------------------------------ 115.1/115.1 kB 395.7 kB/s eta 0:00:00\n",
      "  Preparing metadata (setup.py): started\n",
      "  Preparing metadata (setup.py): finished with status 'done'\n",
      "Requirement already satisfied: pandas in c:\\users\\markp\\anaconda3\\lib\\site-packages (from pandas_ta) (1.4.4)\n",
      "Requirement already satisfied: python-dateutil>=2.8.1 in c:\\users\\markp\\anaconda3\\lib\\site-packages (from pandas->pandas_ta) (2.8.2)\n",
      "Requirement already satisfied: pytz>=2020.1 in c:\\users\\markp\\anaconda3\\lib\\site-packages (from pandas->pandas_ta) (2022.7)\n",
      "Requirement already satisfied: numpy>=1.18.5 in c:\\users\\markp\\anaconda3\\lib\\site-packages (from pandas->pandas_ta) (1.24.2)\n",
      "Requirement already satisfied: six>=1.5 in c:\\users\\markp\\anaconda3\\lib\\site-packages (from python-dateutil>=2.8.1->pandas->pandas_ta) (1.16.0)\n",
      "Building wheels for collected packages: pandas_ta\n",
      "  Building wheel for pandas_ta (setup.py): started\n",
      "  Building wheel for pandas_ta (setup.py): finished with status 'done'\n",
      "  Created wheel for pandas_ta: filename=pandas_ta-0.3.14b0-py3-none-any.whl size=218924 sha256=9ae88f141a6965e430ce87c404061b20041790ed5b399bbe6140808938b38446\n",
      "  Stored in directory: c:\\users\\markp\\appdata\\local\\pip\\cache\\wheels\\1e\\5c\\47\\759b32beb377aee150eb4c1f1b2b7635032cc19ea09ce076fd\n",
      "Successfully built pandas_ta\n",
      "Installing collected packages: pandas_ta\n",
      "Successfully installed pandas_ta-0.3.14b0\n"
     ]
    }
   ],
   "source": [
    "!pip install pandas_ta"
   ]
  },
  {
   "cell_type": "code",
   "execution_count": 6,
   "metadata": {
    "id": "yzO-yZ9LL8I0"
   },
   "outputs": [],
   "source": [
    "import yfinance as yf\n",
    "import pandas as pd\n",
    "from sklearn.model_selection import train_test_split\n",
    "from sklearn.linear_model import LinearRegression\n",
    "from sklearn.metrics import mean_squared_error\n",
    "import yfinance as yf\n",
    "import pandas_ta as ta\n",
    "from sklearn.metrics import r2_score\n",
    "import matplotlib.pyplot as plt"
   ]
  },
  {
   "cell_type": "code",
   "execution_count": 7,
   "metadata": {},
   "outputs": [],
   "source": [
    "import MetaTrader5 as mt5\n",
    "import warnings\n",
    "warnings.filterwarnings(\"ignore\")\n",
    "mt5.initialize()\n",
    "account=51127988\n",
    "password=\"Aar2frM7\"\n",
    "server = 'ICMarkets-Demo'"
   ]
  },
  {
   "cell_type": "code",
   "execution_count": 8,
   "metadata": {
    "id": "OQJ5fusvWPON"
   },
   "outputs": [],
   "source": [
    "# df = pd.read_csv('HistoricalPrices (1).csv')\n",
    "def get_rates(pair1, x, tf):\n",
    "    pair1 = pd.DataFrame(mt5.copy_rates_from_pos(pair1, tf, 0, x))\n",
    "    pair1['time'] = pd.to_datetime(pair1['time'], unit = 's')\n",
    "    return pair1[['time', 'open', 'high', 'low', 'close']]\n",
    "\n",
    "AUDUSD = get_rates('AUDUSD.a', 2000, mt5.TIMEFRAME_D1)"
   ]
  },
  {
   "cell_type": "code",
   "execution_count": 9,
   "metadata": {},
   "outputs": [
    {
     "data": {
      "text/html": [
       "<div>\n",
       "<style scoped>\n",
       "    .dataframe tbody tr th:only-of-type {\n",
       "        vertical-align: middle;\n",
       "    }\n",
       "\n",
       "    .dataframe tbody tr th {\n",
       "        vertical-align: top;\n",
       "    }\n",
       "\n",
       "    .dataframe thead th {\n",
       "        text-align: right;\n",
       "    }\n",
       "</style>\n",
       "<table border=\"1\" class=\"dataframe\">\n",
       "  <thead>\n",
       "    <tr style=\"text-align: right;\">\n",
       "      <th></th>\n",
       "      <th>Date</th>\n",
       "      <th>open</th>\n",
       "      <th>high</th>\n",
       "      <th>low</th>\n",
       "      <th>close</th>\n",
       "    </tr>\n",
       "  </thead>\n",
       "  <tbody>\n",
       "    <tr>\n",
       "      <th>0</th>\n",
       "      <td>2016-01-22</td>\n",
       "      <td>0.69964</td>\n",
       "      <td>0.70455</td>\n",
       "      <td>0.69858</td>\n",
       "      <td>0.70020</td>\n",
       "    </tr>\n",
       "    <tr>\n",
       "      <th>1</th>\n",
       "      <td>2016-01-25</td>\n",
       "      <td>0.70014</td>\n",
       "      <td>0.70311</td>\n",
       "      <td>0.69487</td>\n",
       "      <td>0.69535</td>\n",
       "    </tr>\n",
       "    <tr>\n",
       "      <th>2</th>\n",
       "      <td>2016-01-26</td>\n",
       "      <td>0.69528</td>\n",
       "      <td>0.70208</td>\n",
       "      <td>0.69183</td>\n",
       "      <td>0.70029</td>\n",
       "    </tr>\n",
       "    <tr>\n",
       "      <th>3</th>\n",
       "      <td>2016-01-27</td>\n",
       "      <td>0.70031</td>\n",
       "      <td>0.70811</td>\n",
       "      <td>0.69918</td>\n",
       "      <td>0.70249</td>\n",
       "    </tr>\n",
       "    <tr>\n",
       "      <th>4</th>\n",
       "      <td>2016-01-28</td>\n",
       "      <td>0.70243</td>\n",
       "      <td>0.71282</td>\n",
       "      <td>0.70076</td>\n",
       "      <td>0.70819</td>\n",
       "    </tr>\n",
       "  </tbody>\n",
       "</table>\n",
       "</div>"
      ],
      "text/plain": [
       "        Date     open     high      low    close\n",
       "0 2016-01-22  0.69964  0.70455  0.69858  0.70020\n",
       "1 2016-01-25  0.70014  0.70311  0.69487  0.69535\n",
       "2 2016-01-26  0.69528  0.70208  0.69183  0.70029\n",
       "3 2016-01-27  0.70031  0.70811  0.69918  0.70249\n",
       "4 2016-01-28  0.70243  0.71282  0.70076  0.70819"
      ]
     },
     "execution_count": 9,
     "metadata": {},
     "output_type": "execute_result"
    }
   ],
   "source": [
    "AUDUSD = AUDUSD.rename(columns = {'time': 'Date'})\n",
    "df = AUDUSD\n",
    "AUDUSD.head()"
   ]
  },
  {
   "cell_type": "code",
   "execution_count": 10,
   "metadata": {
    "colab": {
     "base_uri": "https://localhost:8080/",
     "height": 206
    },
    "id": "oImS4M-_ZQfq",
    "outputId": "de1426a0-3c8b-4e00-d623-3e24d47986f1"
   },
   "outputs": [
    {
     "data": {
      "text/html": [
       "<div>\n",
       "<style scoped>\n",
       "    .dataframe tbody tr th:only-of-type {\n",
       "        vertical-align: middle;\n",
       "    }\n",
       "\n",
       "    .dataframe tbody tr th {\n",
       "        vertical-align: top;\n",
       "    }\n",
       "\n",
       "    .dataframe thead th {\n",
       "        text-align: right;\n",
       "    }\n",
       "</style>\n",
       "<table border=\"1\" class=\"dataframe\">\n",
       "  <thead>\n",
       "    <tr style=\"text-align: right;\">\n",
       "      <th></th>\n",
       "      <th>Date</th>\n",
       "      <th>open</th>\n",
       "      <th>high</th>\n",
       "      <th>low</th>\n",
       "      <th>close</th>\n",
       "    </tr>\n",
       "  </thead>\n",
       "  <tbody>\n",
       "    <tr>\n",
       "      <th>1995</th>\n",
       "      <td>2023-09-28</td>\n",
       "      <td>0.63526</td>\n",
       "      <td>0.64323</td>\n",
       "      <td>0.63448</td>\n",
       "      <td>0.64275</td>\n",
       "    </tr>\n",
       "    <tr>\n",
       "      <th>1996</th>\n",
       "      <td>2023-09-29</td>\n",
       "      <td>0.64239</td>\n",
       "      <td>0.65010</td>\n",
       "      <td>0.64063</td>\n",
       "      <td>0.64352</td>\n",
       "    </tr>\n",
       "    <tr>\n",
       "      <th>1997</th>\n",
       "      <td>2023-10-02</td>\n",
       "      <td>0.64219</td>\n",
       "      <td>0.64452</td>\n",
       "      <td>0.63622</td>\n",
       "      <td>0.63633</td>\n",
       "    </tr>\n",
       "    <tr>\n",
       "      <th>1998</th>\n",
       "      <td>2023-10-03</td>\n",
       "      <td>0.63621</td>\n",
       "      <td>0.63670</td>\n",
       "      <td>0.62856</td>\n",
       "      <td>0.63015</td>\n",
       "    </tr>\n",
       "    <tr>\n",
       "      <th>1999</th>\n",
       "      <td>2023-10-04</td>\n",
       "      <td>0.62992</td>\n",
       "      <td>0.63150</td>\n",
       "      <td>0.62864</td>\n",
       "      <td>0.63000</td>\n",
       "    </tr>\n",
       "  </tbody>\n",
       "</table>\n",
       "</div>"
      ],
      "text/plain": [
       "           Date     open     high      low    close\n",
       "1995 2023-09-28  0.63526  0.64323  0.63448  0.64275\n",
       "1996 2023-09-29  0.64239  0.65010  0.64063  0.64352\n",
       "1997 2023-10-02  0.64219  0.64452  0.63622  0.63633\n",
       "1998 2023-10-03  0.63621  0.63670  0.62856  0.63015\n",
       "1999 2023-10-04  0.62992  0.63150  0.62864  0.63000"
      ]
     },
     "execution_count": 10,
     "metadata": {},
     "output_type": "execute_result"
    }
   ],
   "source": [
    "#WSJ \n",
    "df.tail()"
   ]
  },
  {
   "cell_type": "code",
   "execution_count": 11,
   "metadata": {
    "id": "kqGnQ4D1WvFB"
   },
   "outputs": [],
   "source": [
    "df['Date'] = pd.to_datetime(df['Date'])"
   ]
  },
  {
   "cell_type": "code",
   "execution_count": 12,
   "metadata": {
    "id": "T-io_DdfY2yb"
   },
   "outputs": [],
   "source": [
    "# Sort the DataFrame by 'Date' in ascending order\n",
    "df = df.sort_values(by='Date')"
   ]
  },
  {
   "cell_type": "code",
   "execution_count": 13,
   "metadata": {
    "id": "jZmXx7hJZjbk"
   },
   "outputs": [],
   "source": [
    "# Define a function to calculate the rolling average for a given period\n",
    "def calculate_rolling_average(data, window):\n",
    "    return data.rolling(window=window)['close'].mean()"
   ]
  },
  {
   "cell_type": "code",
   "execution_count": 14,
   "metadata": {
    "id": "Xo2NbPYLZBGT"
   },
   "outputs": [],
   "source": [
    "# Calculate the closing exchange rate for the current day and the previous days\n",
    "for i in range(1, 7):\n",
    "    df[f'Close_D-{i}'] = df['close'].shift(i)"
   ]
  },
  {
   "cell_type": "code",
   "execution_count": 15,
   "metadata": {
    "id": "H3fNNKzlQ_Md"
   },
   "outputs": [],
   "source": [
    "# Calculate the average exchange rate for the last two weeks\n",
    "df['Two_Week_Avg'] = calculate_rolling_average(df, window=14)"
   ]
  },
  {
   "cell_type": "code",
   "execution_count": 16,
   "metadata": {
    "id": "gUdk6LleZ0A0"
   },
   "outputs": [],
   "source": [
    "# Calculate the average exchange rate for the last two weeks\n",
    "df['Two_Week_Avg'] = calculate_rolling_average(df, window=14)\n",
    "\n",
    "# Calculate the average exchange rate for the last month\n",
    "df['One_Month_Avg'] = calculate_rolling_average(df, window=30)"
   ]
  },
  {
   "cell_type": "code",
   "execution_count": 17,
   "metadata": {
    "id": "8TdmqFpKgSfJ"
   },
   "outputs": [],
   "source": [
    "df['RSI'] = ta.rsi(df['close'], length=14)"
   ]
  },
  {
   "cell_type": "code",
   "execution_count": 18,
   "metadata": {
    "id": "YVcuA2iwZ3Wu"
   },
   "outputs": [],
   "source": [
    "# Reset the index\n",
    "df.reset_index(drop=True, inplace=True)"
   ]
  },
  {
   "cell_type": "code",
   "execution_count": 19,
   "metadata": {
    "colab": {
     "base_uri": "https://localhost:8080/",
     "height": 615
    },
    "id": "-WKmcvhnZ9vs",
    "outputId": "1f2035af-4d5b-4c90-e92d-4544e8e2dfc2"
   },
   "outputs": [
    {
     "data": {
      "text/html": [
       "<div>\n",
       "<style scoped>\n",
       "    .dataframe tbody tr th:only-of-type {\n",
       "        vertical-align: middle;\n",
       "    }\n",
       "\n",
       "    .dataframe tbody tr th {\n",
       "        vertical-align: top;\n",
       "    }\n",
       "\n",
       "    .dataframe thead th {\n",
       "        text-align: right;\n",
       "    }\n",
       "</style>\n",
       "<table border=\"1\" class=\"dataframe\">\n",
       "  <thead>\n",
       "    <tr style=\"text-align: right;\">\n",
       "      <th></th>\n",
       "      <th>Date</th>\n",
       "      <th>close</th>\n",
       "      <th>Close_D-1</th>\n",
       "      <th>Close_D-2</th>\n",
       "      <th>Close_D-3</th>\n",
       "      <th>Close_D-4</th>\n",
       "      <th>Close_D-5</th>\n",
       "      <th>Close_D-6</th>\n",
       "      <th>Two_Week_Avg</th>\n",
       "      <th>One_Month_Avg</th>\n",
       "    </tr>\n",
       "  </thead>\n",
       "  <tbody>\n",
       "    <tr>\n",
       "      <th>0</th>\n",
       "      <td>2016-01-22</td>\n",
       "      <td>0.70020</td>\n",
       "      <td>NaN</td>\n",
       "      <td>NaN</td>\n",
       "      <td>NaN</td>\n",
       "      <td>NaN</td>\n",
       "      <td>NaN</td>\n",
       "      <td>NaN</td>\n",
       "      <td>NaN</td>\n",
       "      <td>NaN</td>\n",
       "    </tr>\n",
       "    <tr>\n",
       "      <th>1</th>\n",
       "      <td>2016-01-25</td>\n",
       "      <td>0.69535</td>\n",
       "      <td>0.70020</td>\n",
       "      <td>NaN</td>\n",
       "      <td>NaN</td>\n",
       "      <td>NaN</td>\n",
       "      <td>NaN</td>\n",
       "      <td>NaN</td>\n",
       "      <td>NaN</td>\n",
       "      <td>NaN</td>\n",
       "    </tr>\n",
       "    <tr>\n",
       "      <th>2</th>\n",
       "      <td>2016-01-26</td>\n",
       "      <td>0.70029</td>\n",
       "      <td>0.69535</td>\n",
       "      <td>0.70020</td>\n",
       "      <td>NaN</td>\n",
       "      <td>NaN</td>\n",
       "      <td>NaN</td>\n",
       "      <td>NaN</td>\n",
       "      <td>NaN</td>\n",
       "      <td>NaN</td>\n",
       "    </tr>\n",
       "    <tr>\n",
       "      <th>3</th>\n",
       "      <td>2016-01-27</td>\n",
       "      <td>0.70249</td>\n",
       "      <td>0.70029</td>\n",
       "      <td>0.69535</td>\n",
       "      <td>0.70020</td>\n",
       "      <td>NaN</td>\n",
       "      <td>NaN</td>\n",
       "      <td>NaN</td>\n",
       "      <td>NaN</td>\n",
       "      <td>NaN</td>\n",
       "    </tr>\n",
       "    <tr>\n",
       "      <th>4</th>\n",
       "      <td>2016-01-28</td>\n",
       "      <td>0.70819</td>\n",
       "      <td>0.70249</td>\n",
       "      <td>0.70029</td>\n",
       "      <td>0.69535</td>\n",
       "      <td>0.70020</td>\n",
       "      <td>NaN</td>\n",
       "      <td>NaN</td>\n",
       "      <td>NaN</td>\n",
       "      <td>NaN</td>\n",
       "    </tr>\n",
       "    <tr>\n",
       "      <th>...</th>\n",
       "      <td>...</td>\n",
       "      <td>...</td>\n",
       "      <td>...</td>\n",
       "      <td>...</td>\n",
       "      <td>...</td>\n",
       "      <td>...</td>\n",
       "      <td>...</td>\n",
       "      <td>...</td>\n",
       "      <td>...</td>\n",
       "      <td>...</td>\n",
       "    </tr>\n",
       "    <tr>\n",
       "      <th>1995</th>\n",
       "      <td>2023-09-28</td>\n",
       "      <td>0.64275</td>\n",
       "      <td>0.63527</td>\n",
       "      <td>0.63968</td>\n",
       "      <td>0.64230</td>\n",
       "      <td>0.64411</td>\n",
       "      <td>0.64154</td>\n",
       "      <td>0.64476</td>\n",
       "      <td>0.642453</td>\n",
       "      <td>0.642584</td>\n",
       "    </tr>\n",
       "    <tr>\n",
       "      <th>1996</th>\n",
       "      <td>2023-09-29</td>\n",
       "      <td>0.64352</td>\n",
       "      <td>0.64275</td>\n",
       "      <td>0.63527</td>\n",
       "      <td>0.63968</td>\n",
       "      <td>0.64230</td>\n",
       "      <td>0.64411</td>\n",
       "      <td>0.64154</td>\n",
       "      <td>0.642488</td>\n",
       "      <td>0.642692</td>\n",
       "    </tr>\n",
       "    <tr>\n",
       "      <th>1997</th>\n",
       "      <td>2023-10-02</td>\n",
       "      <td>0.63633</td>\n",
       "      <td>0.64352</td>\n",
       "      <td>0.64275</td>\n",
       "      <td>0.63527</td>\n",
       "      <td>0.63968</td>\n",
       "      <td>0.64230</td>\n",
       "      <td>0.64411</td>\n",
       "      <td>0.642039</td>\n",
       "      <td>0.642524</td>\n",
       "    </tr>\n",
       "    <tr>\n",
       "      <th>1998</th>\n",
       "      <td>2023-10-03</td>\n",
       "      <td>0.63015</td>\n",
       "      <td>0.63633</td>\n",
       "      <td>0.64352</td>\n",
       "      <td>0.64275</td>\n",
       "      <td>0.63527</td>\n",
       "      <td>0.63968</td>\n",
       "      <td>0.64230</td>\n",
       "      <td>0.641186</td>\n",
       "      <td>0.642121</td>\n",
       "    </tr>\n",
       "    <tr>\n",
       "      <th>1999</th>\n",
       "      <td>2023-10-04</td>\n",
       "      <td>0.63000</td>\n",
       "      <td>0.63015</td>\n",
       "      <td>0.63633</td>\n",
       "      <td>0.64352</td>\n",
       "      <td>0.64275</td>\n",
       "      <td>0.63527</td>\n",
       "      <td>0.63968</td>\n",
       "      <td>0.640182</td>\n",
       "      <td>0.641518</td>\n",
       "    </tr>\n",
       "  </tbody>\n",
       "</table>\n",
       "<p>2000 rows × 10 columns</p>\n",
       "</div>"
      ],
      "text/plain": [
       "           Date    close  Close_D-1  Close_D-2  Close_D-3  Close_D-4  \\\n",
       "0    2016-01-22  0.70020        NaN        NaN        NaN        NaN   \n",
       "1    2016-01-25  0.69535    0.70020        NaN        NaN        NaN   \n",
       "2    2016-01-26  0.70029    0.69535    0.70020        NaN        NaN   \n",
       "3    2016-01-27  0.70249    0.70029    0.69535    0.70020        NaN   \n",
       "4    2016-01-28  0.70819    0.70249    0.70029    0.69535    0.70020   \n",
       "...         ...      ...        ...        ...        ...        ...   \n",
       "1995 2023-09-28  0.64275    0.63527    0.63968    0.64230    0.64411   \n",
       "1996 2023-09-29  0.64352    0.64275    0.63527    0.63968    0.64230   \n",
       "1997 2023-10-02  0.63633    0.64352    0.64275    0.63527    0.63968   \n",
       "1998 2023-10-03  0.63015    0.63633    0.64352    0.64275    0.63527   \n",
       "1999 2023-10-04  0.63000    0.63015    0.63633    0.64352    0.64275   \n",
       "\n",
       "      Close_D-5  Close_D-6  Two_Week_Avg  One_Month_Avg  \n",
       "0           NaN        NaN           NaN            NaN  \n",
       "1           NaN        NaN           NaN            NaN  \n",
       "2           NaN        NaN           NaN            NaN  \n",
       "3           NaN        NaN           NaN            NaN  \n",
       "4           NaN        NaN           NaN            NaN  \n",
       "...         ...        ...           ...            ...  \n",
       "1995    0.64154    0.64476      0.642453       0.642584  \n",
       "1996    0.64411    0.64154      0.642488       0.642692  \n",
       "1997    0.64230    0.64411      0.642039       0.642524  \n",
       "1998    0.63968    0.64230      0.641186       0.642121  \n",
       "1999    0.63527    0.63968      0.640182       0.641518  \n",
       "\n",
       "[2000 rows x 10 columns]"
      ]
     },
     "execution_count": 19,
     "metadata": {},
     "output_type": "execute_result"
    }
   ],
   "source": [
    "df[['Date', 'close', 'Close_D-1', 'Close_D-2', 'Close_D-3', 'Close_D-4', 'Close_D-5', 'Close_D-6', 'Two_Week_Avg', 'One_Month_Avg']]"
   ]
  },
  {
   "cell_type": "code",
   "execution_count": 20,
   "metadata": {
    "id": "AeoZphi8aKQw"
   },
   "outputs": [],
   "source": [
    "# Assuming your DataFrame is named 'df'\n",
    "df_sorted = df.sort_values(by='Date', ascending=False)\n",
    "\n",
    "# Reset the index for a clean DataFrame\n",
    "df_sorted.reset_index(drop=True, inplace=True)"
   ]
  },
  {
   "cell_type": "code",
   "execution_count": 21,
   "metadata": {
    "colab": {
     "base_uri": "https://localhost:8080/",
     "height": 330
    },
    "id": "IGa73FcjZ_Za",
    "outputId": "0ba6a800-85bc-4492-cf6e-aa25e13b1e28"
   },
   "outputs": [
    {
     "data": {
      "text/html": [
       "<div>\n",
       "<style scoped>\n",
       "    .dataframe tbody tr th:only-of-type {\n",
       "        vertical-align: middle;\n",
       "    }\n",
       "\n",
       "    .dataframe tbody tr th {\n",
       "        vertical-align: top;\n",
       "    }\n",
       "\n",
       "    .dataframe thead th {\n",
       "        text-align: right;\n",
       "    }\n",
       "</style>\n",
       "<table border=\"1\" class=\"dataframe\">\n",
       "  <thead>\n",
       "    <tr style=\"text-align: right;\">\n",
       "      <th></th>\n",
       "      <th>Date</th>\n",
       "      <th>open</th>\n",
       "      <th>high</th>\n",
       "      <th>low</th>\n",
       "      <th>close</th>\n",
       "      <th>Close_D-1</th>\n",
       "      <th>Close_D-2</th>\n",
       "      <th>Close_D-3</th>\n",
       "      <th>Close_D-4</th>\n",
       "      <th>Close_D-5</th>\n",
       "      <th>Close_D-6</th>\n",
       "      <th>Two_Week_Avg</th>\n",
       "      <th>One_Month_Avg</th>\n",
       "      <th>RSI</th>\n",
       "    </tr>\n",
       "  </thead>\n",
       "  <tbody>\n",
       "    <tr>\n",
       "      <th>0</th>\n",
       "      <td>2023-10-04</td>\n",
       "      <td>0.62992</td>\n",
       "      <td>0.63150</td>\n",
       "      <td>0.62864</td>\n",
       "      <td>0.63000</td>\n",
       "      <td>0.63015</td>\n",
       "      <td>0.63633</td>\n",
       "      <td>0.64352</td>\n",
       "      <td>0.64275</td>\n",
       "      <td>0.63527</td>\n",
       "      <td>0.63968</td>\n",
       "      <td>0.640182</td>\n",
       "      <td>0.641518</td>\n",
       "      <td>34.811187</td>\n",
       "    </tr>\n",
       "    <tr>\n",
       "      <th>1</th>\n",
       "      <td>2023-10-03</td>\n",
       "      <td>0.63621</td>\n",
       "      <td>0.63670</td>\n",
       "      <td>0.62856</td>\n",
       "      <td>0.63015</td>\n",
       "      <td>0.63633</td>\n",
       "      <td>0.64352</td>\n",
       "      <td>0.64275</td>\n",
       "      <td>0.63527</td>\n",
       "      <td>0.63968</td>\n",
       "      <td>0.64230</td>\n",
       "      <td>0.641186</td>\n",
       "      <td>0.642121</td>\n",
       "      <td>34.939337</td>\n",
       "    </tr>\n",
       "    <tr>\n",
       "      <th>2</th>\n",
       "      <td>2023-10-02</td>\n",
       "      <td>0.64219</td>\n",
       "      <td>0.64452</td>\n",
       "      <td>0.63622</td>\n",
       "      <td>0.63633</td>\n",
       "      <td>0.64352</td>\n",
       "      <td>0.64275</td>\n",
       "      <td>0.63527</td>\n",
       "      <td>0.63968</td>\n",
       "      <td>0.64230</td>\n",
       "      <td>0.64411</td>\n",
       "      <td>0.642039</td>\n",
       "      <td>0.642524</td>\n",
       "      <td>40.666667</td>\n",
       "    </tr>\n",
       "    <tr>\n",
       "      <th>3</th>\n",
       "      <td>2023-09-29</td>\n",
       "      <td>0.64239</td>\n",
       "      <td>0.65010</td>\n",
       "      <td>0.64063</td>\n",
       "      <td>0.64352</td>\n",
       "      <td>0.64275</td>\n",
       "      <td>0.63527</td>\n",
       "      <td>0.63968</td>\n",
       "      <td>0.64230</td>\n",
       "      <td>0.64411</td>\n",
       "      <td>0.64154</td>\n",
       "      <td>0.642488</td>\n",
       "      <td>0.642692</td>\n",
       "      <td>49.418102</td>\n",
       "    </tr>\n",
       "    <tr>\n",
       "      <th>4</th>\n",
       "      <td>2023-09-28</td>\n",
       "      <td>0.63526</td>\n",
       "      <td>0.64323</td>\n",
       "      <td>0.63448</td>\n",
       "      <td>0.64275</td>\n",
       "      <td>0.63527</td>\n",
       "      <td>0.63968</td>\n",
       "      <td>0.64230</td>\n",
       "      <td>0.64411</td>\n",
       "      <td>0.64154</td>\n",
       "      <td>0.64476</td>\n",
       "      <td>0.642453</td>\n",
       "      <td>0.642584</td>\n",
       "      <td>48.311968</td>\n",
       "    </tr>\n",
       "  </tbody>\n",
       "</table>\n",
       "</div>"
      ],
      "text/plain": [
       "        Date     open     high      low    close  Close_D-1  Close_D-2  \\\n",
       "0 2023-10-04  0.62992  0.63150  0.62864  0.63000    0.63015    0.63633   \n",
       "1 2023-10-03  0.63621  0.63670  0.62856  0.63015    0.63633    0.64352   \n",
       "2 2023-10-02  0.64219  0.64452  0.63622  0.63633    0.64352    0.64275   \n",
       "3 2023-09-29  0.64239  0.65010  0.64063  0.64352    0.64275    0.63527   \n",
       "4 2023-09-28  0.63526  0.64323  0.63448  0.64275    0.63527    0.63968   \n",
       "\n",
       "   Close_D-3  Close_D-4  Close_D-5  Close_D-6  Two_Week_Avg  One_Month_Avg  \\\n",
       "0    0.64352    0.64275    0.63527    0.63968      0.640182       0.641518   \n",
       "1    0.64275    0.63527    0.63968    0.64230      0.641186       0.642121   \n",
       "2    0.63527    0.63968    0.64230    0.64411      0.642039       0.642524   \n",
       "3    0.63968    0.64230    0.64411    0.64154      0.642488       0.642692   \n",
       "4    0.64230    0.64411    0.64154    0.64476      0.642453       0.642584   \n",
       "\n",
       "         RSI  \n",
       "0  34.811187  \n",
       "1  34.939337  \n",
       "2  40.666667  \n",
       "3  49.418102  \n",
       "4  48.311968  "
      ]
     },
     "execution_count": 21,
     "metadata": {},
     "output_type": "execute_result"
    }
   ],
   "source": [
    "df_sorted.head()"
   ]
  },
  {
   "cell_type": "code",
   "execution_count": 22,
   "metadata": {
    "id": "sJTEB1LHaPdP"
   },
   "outputs": [],
   "source": [
    "df = df_sorted.drop(['open', 'high', 'low'], axis=1)"
   ]
  },
  {
   "cell_type": "code",
   "execution_count": 23,
   "metadata": {
    "id": "QrxLh6NFe6kA"
   },
   "outputs": [],
   "source": [
    "df = df.dropna()"
   ]
  },
  {
   "cell_type": "code",
   "execution_count": 24,
   "metadata": {
    "colab": {
     "base_uri": "https://localhost:8080/",
     "height": 310
    },
    "id": "N3Ld1Y8paj1g",
    "outputId": "73a0a49f-3e12-4b73-f5d0-604dcce83f66"
   },
   "outputs": [
    {
     "data": {
      "text/html": [
       "<div>\n",
       "<style scoped>\n",
       "    .dataframe tbody tr th:only-of-type {\n",
       "        vertical-align: middle;\n",
       "    }\n",
       "\n",
       "    .dataframe tbody tr th {\n",
       "        vertical-align: top;\n",
       "    }\n",
       "\n",
       "    .dataframe thead th {\n",
       "        text-align: right;\n",
       "    }\n",
       "</style>\n",
       "<table border=\"1\" class=\"dataframe\">\n",
       "  <thead>\n",
       "    <tr style=\"text-align: right;\">\n",
       "      <th></th>\n",
       "      <th>Date</th>\n",
       "      <th>close</th>\n",
       "      <th>Close_D-1</th>\n",
       "      <th>Close_D-2</th>\n",
       "      <th>Close_D-3</th>\n",
       "      <th>Close_D-4</th>\n",
       "      <th>Close_D-5</th>\n",
       "      <th>Close_D-6</th>\n",
       "      <th>Two_Week_Avg</th>\n",
       "      <th>One_Month_Avg</th>\n",
       "      <th>RSI</th>\n",
       "    </tr>\n",
       "  </thead>\n",
       "  <tbody>\n",
       "    <tr>\n",
       "      <th>0</th>\n",
       "      <td>2023-10-04</td>\n",
       "      <td>0.63000</td>\n",
       "      <td>0.63015</td>\n",
       "      <td>0.63633</td>\n",
       "      <td>0.64352</td>\n",
       "      <td>0.64275</td>\n",
       "      <td>0.63527</td>\n",
       "      <td>0.63968</td>\n",
       "      <td>0.640182</td>\n",
       "      <td>0.641518</td>\n",
       "      <td>34.811187</td>\n",
       "    </tr>\n",
       "    <tr>\n",
       "      <th>1</th>\n",
       "      <td>2023-10-03</td>\n",
       "      <td>0.63015</td>\n",
       "      <td>0.63633</td>\n",
       "      <td>0.64352</td>\n",
       "      <td>0.64275</td>\n",
       "      <td>0.63527</td>\n",
       "      <td>0.63968</td>\n",
       "      <td>0.64230</td>\n",
       "      <td>0.641186</td>\n",
       "      <td>0.642121</td>\n",
       "      <td>34.939337</td>\n",
       "    </tr>\n",
       "    <tr>\n",
       "      <th>2</th>\n",
       "      <td>2023-10-02</td>\n",
       "      <td>0.63633</td>\n",
       "      <td>0.64352</td>\n",
       "      <td>0.64275</td>\n",
       "      <td>0.63527</td>\n",
       "      <td>0.63968</td>\n",
       "      <td>0.64230</td>\n",
       "      <td>0.64411</td>\n",
       "      <td>0.642039</td>\n",
       "      <td>0.642524</td>\n",
       "      <td>40.666667</td>\n",
       "    </tr>\n",
       "    <tr>\n",
       "      <th>3</th>\n",
       "      <td>2023-09-29</td>\n",
       "      <td>0.64352</td>\n",
       "      <td>0.64275</td>\n",
       "      <td>0.63527</td>\n",
       "      <td>0.63968</td>\n",
       "      <td>0.64230</td>\n",
       "      <td>0.64411</td>\n",
       "      <td>0.64154</td>\n",
       "      <td>0.642488</td>\n",
       "      <td>0.642692</td>\n",
       "      <td>49.418102</td>\n",
       "    </tr>\n",
       "    <tr>\n",
       "      <th>4</th>\n",
       "      <td>2023-09-28</td>\n",
       "      <td>0.64275</td>\n",
       "      <td>0.63527</td>\n",
       "      <td>0.63968</td>\n",
       "      <td>0.64230</td>\n",
       "      <td>0.64411</td>\n",
       "      <td>0.64154</td>\n",
       "      <td>0.64476</td>\n",
       "      <td>0.642453</td>\n",
       "      <td>0.642584</td>\n",
       "      <td>48.311968</td>\n",
       "    </tr>\n",
       "  </tbody>\n",
       "</table>\n",
       "</div>"
      ],
      "text/plain": [
       "        Date    close  Close_D-1  Close_D-2  Close_D-3  Close_D-4  Close_D-5  \\\n",
       "0 2023-10-04  0.63000    0.63015    0.63633    0.64352    0.64275    0.63527   \n",
       "1 2023-10-03  0.63015    0.63633    0.64352    0.64275    0.63527    0.63968   \n",
       "2 2023-10-02  0.63633    0.64352    0.64275    0.63527    0.63968    0.64230   \n",
       "3 2023-09-29  0.64352    0.64275    0.63527    0.63968    0.64230    0.64411   \n",
       "4 2023-09-28  0.64275    0.63527    0.63968    0.64230    0.64411    0.64154   \n",
       "\n",
       "   Close_D-6  Two_Week_Avg  One_Month_Avg        RSI  \n",
       "0    0.63968      0.640182       0.641518  34.811187  \n",
       "1    0.64230      0.641186       0.642121  34.939337  \n",
       "2    0.64411      0.642039       0.642524  40.666667  \n",
       "3    0.64154      0.642488       0.642692  49.418102  \n",
       "4    0.64476      0.642453       0.642584  48.311968  "
      ]
     },
     "execution_count": 24,
     "metadata": {},
     "output_type": "execute_result"
    }
   ],
   "source": [
    "df.head()"
   ]
  },
  {
   "cell_type": "code",
   "execution_count": 25,
   "metadata": {
    "colab": {
     "base_uri": "https://localhost:8080/"
    },
    "id": "2rsx4EgBaoCu",
    "outputId": "fc28e443-e7d0-4289-be3e-cb88c5015dd1"
   },
   "outputs": [
    {
     "data": {
      "text/plain": [
       "Index(['Date', 'close', 'Close_D-1', 'Close_D-2', 'Close_D-3', 'Close_D-4',\n",
       "       'Close_D-5', 'Close_D-6', 'Two_Week_Avg', 'One_Month_Avg', 'RSI'],\n",
       "      dtype='object')"
      ]
     },
     "execution_count": 25,
     "metadata": {},
     "output_type": "execute_result"
    }
   ],
   "source": [
    "df.columns"
   ]
  },
  {
   "cell_type": "code",
   "execution_count": 26,
   "metadata": {
    "id": "MOaNZ2Y7cpzx"
   },
   "outputs": [],
   "source": [
    "features = ['Close_D-1', 'Close_D-2', 'Close_D-3', 'Close_D-4', 'Close_D-5', 'Close_D-6', 'Two_Week_Avg', 'One_Month_Avg']\n",
    "target = 'close'"
   ]
  },
  {
   "cell_type": "code",
   "execution_count": 27,
   "metadata": {
    "id": "c8bRb88cdX08"
   },
   "outputs": [],
   "source": [
    "# Split the data into training and testing sets (80% training, 20% testing)\n",
    "X_train, X_test, y_train, y_test = train_test_split(df[features], df[target], test_size=0.2, random_state=42)"
   ]
  },
  {
   "cell_type": "code",
   "execution_count": 28,
   "metadata": {
    "colab": {
     "base_uri": "https://localhost:8080/",
     "height": 75
    },
    "id": "SalSuaxGembk",
    "outputId": "09a7ca39-1c2c-4f30-e38d-d490369fe4aa"
   },
   "outputs": [
    {
     "data": {
      "text/plain": [
       "LinearRegression()"
      ]
     },
     "execution_count": 28,
     "metadata": {},
     "output_type": "execute_result"
    }
   ],
   "source": [
    "# Create and train a multiple regression model\n",
    "model = LinearRegression()\n",
    "model.fit(X_train, y_train)"
   ]
  },
  {
   "cell_type": "code",
   "execution_count": 29,
   "metadata": {
    "id": "0ZJt2-zuepcI"
   },
   "outputs": [],
   "source": [
    "y_pred = model.predict(X_test)"
   ]
  },
  {
   "cell_type": "code",
   "execution_count": 30,
   "metadata": {
    "colab": {
     "base_uri": "https://localhost:8080/"
    },
    "id": "ns-_DM8vfbQg",
    "outputId": "2ff5ec91-5c13-4939-acda-56298dd6779e"
   },
   "outputs": [
    {
     "name": "stdout",
     "output_type": "stream",
     "text": [
      "R-squared (R^2): 0.9877076652981333\n"
     ]
    }
   ],
   "source": [
    "r_squared = r2_score(y_test, y_pred)\n",
    "print(f'R-squared (R^2): {r_squared}')"
   ]
  },
  {
   "cell_type": "code",
   "execution_count": 31,
   "metadata": {
    "id": "JumBYkTvgpDw"
   },
   "outputs": [],
   "source": [
    "# Predict the exchange rates using the trained model\n",
    "df['Predicted_Close'] = model.predict(df[features])"
   ]
  },
  {
   "cell_type": "code",
   "execution_count": 32,
   "metadata": {
    "colab": {
     "base_uri": "https://localhost:8080/",
     "height": 330
    },
    "id": "4uE9YGC4lD6h",
    "outputId": "e7e37a9a-3206-4b6c-bffa-31b8822877ef"
   },
   "outputs": [
    {
     "data": {
      "text/html": [
       "<div>\n",
       "<style scoped>\n",
       "    .dataframe tbody tr th:only-of-type {\n",
       "        vertical-align: middle;\n",
       "    }\n",
       "\n",
       "    .dataframe tbody tr th {\n",
       "        vertical-align: top;\n",
       "    }\n",
       "\n",
       "    .dataframe thead th {\n",
       "        text-align: right;\n",
       "    }\n",
       "</style>\n",
       "<table border=\"1\" class=\"dataframe\">\n",
       "  <thead>\n",
       "    <tr style=\"text-align: right;\">\n",
       "      <th></th>\n",
       "      <th>Date</th>\n",
       "      <th>close</th>\n",
       "      <th>Close_D-1</th>\n",
       "      <th>Close_D-2</th>\n",
       "      <th>Close_D-3</th>\n",
       "      <th>Close_D-4</th>\n",
       "      <th>Close_D-5</th>\n",
       "      <th>Close_D-6</th>\n",
       "      <th>Two_Week_Avg</th>\n",
       "      <th>One_Month_Avg</th>\n",
       "      <th>RSI</th>\n",
       "      <th>Predicted_Close</th>\n",
       "    </tr>\n",
       "  </thead>\n",
       "  <tbody>\n",
       "    <tr>\n",
       "      <th>0</th>\n",
       "      <td>2023-10-04</td>\n",
       "      <td>0.63000</td>\n",
       "      <td>0.63015</td>\n",
       "      <td>0.63633</td>\n",
       "      <td>0.64352</td>\n",
       "      <td>0.64275</td>\n",
       "      <td>0.63527</td>\n",
       "      <td>0.63968</td>\n",
       "      <td>0.640182</td>\n",
       "      <td>0.641518</td>\n",
       "      <td>34.811187</td>\n",
       "      <td>0.630933</td>\n",
       "    </tr>\n",
       "    <tr>\n",
       "      <th>1</th>\n",
       "      <td>2023-10-03</td>\n",
       "      <td>0.63015</td>\n",
       "      <td>0.63633</td>\n",
       "      <td>0.64352</td>\n",
       "      <td>0.64275</td>\n",
       "      <td>0.63527</td>\n",
       "      <td>0.63968</td>\n",
       "      <td>0.64230</td>\n",
       "      <td>0.641186</td>\n",
       "      <td>0.642121</td>\n",
       "      <td>34.939337</td>\n",
       "      <td>0.636666</td>\n",
       "    </tr>\n",
       "    <tr>\n",
       "      <th>2</th>\n",
       "      <td>2023-10-02</td>\n",
       "      <td>0.63633</td>\n",
       "      <td>0.64352</td>\n",
       "      <td>0.64275</td>\n",
       "      <td>0.63527</td>\n",
       "      <td>0.63968</td>\n",
       "      <td>0.64230</td>\n",
       "      <td>0.64411</td>\n",
       "      <td>0.642039</td>\n",
       "      <td>0.642524</td>\n",
       "      <td>40.666667</td>\n",
       "      <td>0.643679</td>\n",
       "    </tr>\n",
       "    <tr>\n",
       "      <th>3</th>\n",
       "      <td>2023-09-29</td>\n",
       "      <td>0.64352</td>\n",
       "      <td>0.64275</td>\n",
       "      <td>0.63527</td>\n",
       "      <td>0.63968</td>\n",
       "      <td>0.64230</td>\n",
       "      <td>0.64411</td>\n",
       "      <td>0.64154</td>\n",
       "      <td>0.642488</td>\n",
       "      <td>0.642692</td>\n",
       "      <td>49.418102</td>\n",
       "      <td>0.643177</td>\n",
       "    </tr>\n",
       "    <tr>\n",
       "      <th>4</th>\n",
       "      <td>2023-09-28</td>\n",
       "      <td>0.64275</td>\n",
       "      <td>0.63527</td>\n",
       "      <td>0.63968</td>\n",
       "      <td>0.64230</td>\n",
       "      <td>0.64411</td>\n",
       "      <td>0.64154</td>\n",
       "      <td>0.64476</td>\n",
       "      <td>0.642453</td>\n",
       "      <td>0.642584</td>\n",
       "      <td>48.311968</td>\n",
       "      <td>0.635730</td>\n",
       "    </tr>\n",
       "  </tbody>\n",
       "</table>\n",
       "</div>"
      ],
      "text/plain": [
       "        Date    close  Close_D-1  Close_D-2  Close_D-3  Close_D-4  Close_D-5  \\\n",
       "0 2023-10-04  0.63000    0.63015    0.63633    0.64352    0.64275    0.63527   \n",
       "1 2023-10-03  0.63015    0.63633    0.64352    0.64275    0.63527    0.63968   \n",
       "2 2023-10-02  0.63633    0.64352    0.64275    0.63527    0.63968    0.64230   \n",
       "3 2023-09-29  0.64352    0.64275    0.63527    0.63968    0.64230    0.64411   \n",
       "4 2023-09-28  0.64275    0.63527    0.63968    0.64230    0.64411    0.64154   \n",
       "\n",
       "   Close_D-6  Two_Week_Avg  One_Month_Avg        RSI  Predicted_Close  \n",
       "0    0.63968      0.640182       0.641518  34.811187         0.630933  \n",
       "1    0.64230      0.641186       0.642121  34.939337         0.636666  \n",
       "2    0.64411      0.642039       0.642524  40.666667         0.643679  \n",
       "3    0.64154      0.642488       0.642692  49.418102         0.643177  \n",
       "4    0.64476      0.642453       0.642584  48.311968         0.635730  "
      ]
     },
     "execution_count": 32,
     "metadata": {},
     "output_type": "execute_result"
    }
   ],
   "source": [
    "df.head()"
   ]
  },
  {
   "cell_type": "code",
   "execution_count": 33,
   "metadata": {
    "colab": {
     "base_uri": "https://localhost:8080/"
    },
    "id": "bWbehwH2lUfy",
    "outputId": "86b79653-f844-4588-e305-e646d26805eb"
   },
   "outputs": [
    {
     "data": {
      "text/plain": [
       "Index(['Date', 'close', 'Close_D-1', 'Close_D-2', 'Close_D-3', 'Close_D-4',\n",
       "       'Close_D-5', 'Close_D-6', 'Two_Week_Avg', 'One_Month_Avg', 'RSI',\n",
       "       'Predicted_Close'],\n",
       "      dtype='object')"
      ]
     },
     "execution_count": 33,
     "metadata": {},
     "output_type": "execute_result"
    }
   ],
   "source": [
    "df.columns"
   ]
  },
  {
   "cell_type": "code",
   "execution_count": 34,
   "metadata": {
    "id": "4IaHBV3RmWk2"
   },
   "outputs": [],
   "source": [
    "import matplotlib.pyplot as plt\n",
    "\n",
    "# Create a DataFrame to store actual and predicted values\n",
    "results_df = pd.DataFrame({'Date': df['Date'], 'Actual_Close': df['close']})"
   ]
  },
  {
   "cell_type": "code",
   "execution_count": 35,
   "metadata": {
    "id": "KteNfHC4nWWT"
   },
   "outputs": [],
   "source": [
    "# Calculate and store predicted values for each day from D to D+14\n",
    "for i in range(6):\n",
    "    day_column = f'Close_D-{i+1}'\n",
    "    results_df[f'Predicted_Close_D+{i+1}'] = df[day_column]"
   ]
  },
  {
   "cell_type": "code",
   "execution_count": 36,
   "metadata": {
    "colab": {
     "base_uri": "https://localhost:8080/"
    },
    "id": "oJO7i4UMntkK",
    "outputId": "09806312-6407-4e90-f954-92876546ca62"
   },
   "outputs": [
    {
     "name": "stdout",
     "output_type": "stream",
     "text": [
      "R-squared (R^2) for Day D+1: 0.9887289572175108\n",
      "R-squared (R^2) for Day D+2: 0.9774873472605979\n",
      "R-squared (R^2) for Day D+3: 0.9664246609723468\n",
      "R-squared (R^2) for Day D+4: 0.9551474729459758\n",
      "R-squared (R^2) for Day D+5: 0.9436522158817403\n",
      "R-squared (R^2) for Day D+6: 0.9324885774566802\n"
     ]
    }
   ],
   "source": [
    "from sklearn.metrics import r2_score\n",
    "r_squared_values = []\n",
    "\n",
    "for i in range(6):\n",
    "    day_column = f'Close_D-{i+1}'\n",
    "    actual_values = df['close']\n",
    "    predicted_values = df[day_column]\n",
    "\n",
    "    r_squared = r2_score(actual_values, predicted_values)\n",
    "    r_squared_values.append(r_squared)\n",
    "    print(f'R-squared (R^2) for Day D+{i+1}: {r_squared}')\n"
   ]
  },
  {
   "cell_type": "code",
   "execution_count": 37,
   "metadata": {},
   "outputs": [
    {
     "data": {
      "text/plain": [
       "[0.9887289572175108,\n",
       " 0.9774873472605979,\n",
       " 0.9664246609723468,\n",
       " 0.9551474729459758,\n",
       " 0.9436522158817403,\n",
       " 0.9324885774566802]"
      ]
     },
     "execution_count": 37,
     "metadata": {},
     "output_type": "execute_result"
    }
   ],
   "source": [
    "r_squared_values"
   ]
  },
  {
   "cell_type": "code",
   "execution_count": 38,
   "metadata": {
    "colab": {
     "base_uri": "https://localhost:8080/"
    },
    "id": "Vkowfr3tr32P",
    "outputId": "eb27881c-92b8-43ac-fd65-5a13c2b67fcf",
    "tags": []
   },
   "outputs": [
    {
     "name": "stdout",
     "output_type": "stream",
     "text": [
      "R-squared (R^2) for Day D+1: 0.988736917850548\n"
     ]
    },
    {
     "data": {
      "image/png": "[encoded data removed]",
      "text/plain": [
       "<Figure size 800x500 with 1 Axes>"
      ]
     },
     "metadata": {},
     "output_type": "display_data"
    }
   ],
   "source": [
    "from sklearn.metrics import r2_score\n",
    "\n",
    "day_shift = 1\n",
    "day_column = 'close'  # You can change this if needed\n",
    "actual_values = df['close']\n",
    "predicted_values = df[day_column].shift(-day_shift)\n",
    "\n",
    "r_squared = r2_score(actual_values[:-day_shift], predicted_values.dropna())\n",
    "\n",
    "print(f'R-squared (R^2) for Day D+{day_shift}: {r_squared}')\n",
    "\n",
    "import matplotlib.pyplot as plt\n",
    "\n",
    "# Days D+1 to D+6\n",
    "days = ['D+1', 'D+2', 'D+3', 'D+4', 'D+5', 'D+6']\n",
    "\n",
    "# Create a line plot\n",
    "plt.figure(figsize=(8, 5))\n",
    "plt.plot(days, r_squared_values, marker='o', color='skyblue', linestyle='-', linewidth=2, markersize=8)\n",
    "plt.xlabel('Days')\n",
    "plt.ylabel('R-squared (R^2) Value')\n",
    "plt.title('R-squared (R^2) Values for Days D+1 to D+14')\n",
    "plt.ylim(0.8, 1.0)  # Set y-axis limits if necessary\n",
    "plt.grid(axis='y', linestyle='--', alpha=0.7)\n",
    "\n",
    "# Display the R-squared values as labels on the data points\n",
    "for i, value in enumerate(r_squared_values):\n",
    "    plt.text(days[i], value + 0.005, f'{value:.4f}', ha='center', va='bottom')\n",
    "\n",
    "plt.show()\n"
   ]
  },
  {
   "cell_type": "code",
   "execution_count": 39,
   "metadata": {
    "colab": {
     "base_uri": "https://localhost:8080/"
    },
    "id": "Hdat-4S4pFfU",
    "outputId": "37ff5e89-40a9-4d52-86de-040bad8d059c"
   },
   "outputs": [
    {
     "name": "stdout",
     "output_type": "stream",
     "text": [
      "R-squared (R^2) after optimization: 0.9877898527323037\n"
     ]
    }
   ],
   "source": [
    "import numpy as np\n",
    "import scipy.optimize as opt\n",
    "\n",
    "# Define the objective function to minimize (MSE)\n",
    "def objective(params):\n",
    "    predicted = np.dot(X_test, params)\n",
    "    mse = np.mean((predicted - y_test) ** 2)\n",
    "    return mse\n",
    "\n",
    "# Initialize the parameters for optimization (e.g., as all ones)\n",
    "initial_params = np.ones(len(features))\n",
    "\n",
    "# Use simulated annealing to optimize the parameters\n",
    "result = opt.basinhopping(objective, initial_params, niter=100, stepsize=0.5)\n",
    "\n",
    "# Get the optimized parameters\n",
    "optimized_params = result.x\n",
    "\n",
    "# Re-predict using the optimized parameters\n",
    "y_pred_optimized = np.dot(X_test, optimized_params)\n",
    "\n",
    "# Calculate the coefficient of determination (R^2) for the optimized predictions\n",
    "r_squared_optimized = r2_score(y_test, y_pred_optimized)\n",
    "print(f'R-squared (R^2) after optimization: {r_squared_optimized}')"
   ]
  },
  {
   "cell_type": "code",
   "execution_count": 40,
   "metadata": {},
   "outputs": [
    {
     "name": "stdout",
     "output_type": "stream",
     "text": [
      "Predicted exchange rate for today (Day D): 0.6309326670713533\n",
      "Predicted exchange rate for tomorrow (Day D+1): 0.6366658974357214\n"
     ]
    }
   ],
   "source": [
    "# Get the latest row from your DataFrame\n",
    "latest_row = df.iloc[0]\n",
    "\n",
    "# Extract the predicted exchange rate for today (Day D)\n",
    "predicted_exchange_rate_today = latest_row['Predicted_Close']\n",
    "\n",
    "# Extract the predicted exchange rate for tomorrow (Day D+1)\n",
    "predicted_exchange_rate_tomorrow = df['Predicted_Close'].iloc[1]\n",
    "predicted_exchange_rate_6_days = df['Predicted_Close'].iloc[14]\n",
    "\n",
    "print(f'Predicted exchange rate for today (Day D): {predicted_exchange_rate_today}')\n",
    "print(f'Predicted exchange rate for tomorrow (Day D+1): {predicted_exchange_rate_tomorrow}')"
   ]
  },
  {
   "cell_type": "code",
   "execution_count": 41,
   "metadata": {
    "colab": {
     "base_uri": "https://localhost:8080/"
    },
    "id": "W61VHSdhvE3D",
    "outputId": "8a3b8393-04fb-40bd-c918-f8c752108ca6"
   },
   "outputs": [
    {
     "name": "stdout",
     "output_type": "stream",
     "text": [
      "Predicted exchange rate for today (Day D): 0.6309326670713533\n",
      "Predicted exchange rate for tomorrow (Day D+1): 0.6366658974357214\n",
      "Predicated exchange rate for 14 days (Day+14): 0.6436793783693039\n"
     ]
    }
   ],
   "source": [
    "# Get the latest row from your DataFrame\n",
    "latest_row = df.iloc[0]\n",
    "\n",
    "# Extract the predicted exchange rate for today (Day D)\n",
    "predicted_exchange_rate_today = latest_row['Predicted_Close']\n",
    "\n",
    "# Extract the predicted exchange rate for tomorrow (Day D+1)\n",
    "predicted_exchange_rate_tomorrow = df['Predicted_Close'].iloc[1]\n",
    "predicted_exchange_rate_6_days = df['Predicted_Close'].iloc[2]\n",
    "\n",
    "print(f'Predicted exchange rate for today (Day D): {predicted_exchange_rate_today}')\n",
    "print(f'Predicted exchange rate for tomorrow (Day D+1): {predicted_exchange_rate_tomorrow}')\n",
    "print(f'Predicated exchange rate for 14 days (Day+14): {predicted_exchange_rate_6_days}')"
   ]
  },
  {
   "cell_type": "code",
   "execution_count": 42,
   "metadata": {},
   "outputs": [
    {
     "data": {
      "text/plain": [
       "<AxesSubplot:>"
      ]
     },
     "execution_count": 42,
     "metadata": {},
     "output_type": "execute_result"
    },
    {
     "data": {
      "image/png": "[encoded data removed]",
      "text/plain": [
       "<Figure size 640x480 with 1 Axes>"
      ]
     },
     "metadata": {},
     "output_type": "display_data"
    }
   ],
   "source": [
    "x = []  \n",
    "bar_count = 90\n",
    "\n",
    "for i in range(bar_count): \n",
    "    a = df['Predicted_Close'].iloc[i]\n",
    "    x.append(a)  # Now, you're appending to a list\n",
    "\n",
    "x = pd.DataFrame(x)\n",
    "x.plot()"
   ]
  },
  {
   "cell_type": "code",
   "execution_count": 501,
   "metadata": {
    "colab": {
     "base_uri": "https://localhost:8080/",
     "height": 330
    },
    "id": "E5Y7na-w85eE",
    "outputId": "61b24018-67ce-4356-e631-5f2ad833e30b"
   },
   "outputs": [
    {
     "data": {
      "text/html": [
       "<div>\n",
       "<style scoped>\n",
       "    .dataframe tbody tr th:only-of-type {\n",
       "        vertical-align: middle;\n",
       "    }\n",
       "\n",
       "    .dataframe tbody tr th {\n",
       "        vertical-align: top;\n",
       "    }\n",
       "\n",
       "    .dataframe thead th {\n",
       "        text-align: right;\n",
       "    }\n",
       "</style>\n",
       "<table border=\"1\" class=\"dataframe\">\n",
       "  <thead>\n",
       "    <tr style=\"text-align: right;\">\n",
       "      <th></th>\n",
       "      <th>Date</th>\n",
       "      <th>close</th>\n",
       "      <th>Close_D-1</th>\n",
       "      <th>Close_D-2</th>\n",
       "      <th>Close_D-3</th>\n",
       "      <th>Close_D-4</th>\n",
       "      <th>Close_D-5</th>\n",
       "      <th>Close_D-6</th>\n",
       "      <th>Two_Week_Avg</th>\n",
       "      <th>One_Month_Avg</th>\n",
       "      <th>RSI</th>\n",
       "      <th>Predicted_Close</th>\n",
       "    </tr>\n",
       "  </thead>\n",
       "  <tbody>\n",
       "    <tr>\n",
       "      <th>0</th>\n",
       "      <td>2023-10-03</td>\n",
       "      <td>1820.34</td>\n",
       "      <td>1827.77</td>\n",
       "      <td>1848.74</td>\n",
       "      <td>1864.80</td>\n",
       "      <td>1874.99</td>\n",
       "      <td>1900.58</td>\n",
       "      <td>1915.78</td>\n",
       "      <td>1894.835000</td>\n",
       "      <td>1910.575000</td>\n",
       "      <td>19.259244</td>\n",
       "      <td>1828.869617</td>\n",
       "    </tr>\n",
       "    <tr>\n",
       "      <th>1</th>\n",
       "      <td>2023-10-02</td>\n",
       "      <td>1827.77</td>\n",
       "      <td>1848.74</td>\n",
       "      <td>1864.80</td>\n",
       "      <td>1874.99</td>\n",
       "      <td>1900.58</td>\n",
       "      <td>1915.78</td>\n",
       "      <td>1925.25</td>\n",
       "      <td>1901.107143</td>\n",
       "      <td>1913.143000</td>\n",
       "      <td>20.373251</td>\n",
       "      <td>1848.424892</td>\n",
       "    </tr>\n",
       "    <tr>\n",
       "      <th>2</th>\n",
       "      <td>2023-09-29</td>\n",
       "      <td>1848.74</td>\n",
       "      <td>1864.80</td>\n",
       "      <td>1874.99</td>\n",
       "      <td>1900.58</td>\n",
       "      <td>1915.78</td>\n",
       "      <td>1925.25</td>\n",
       "      <td>1919.94</td>\n",
       "      <td>1907.219286</td>\n",
       "      <td>1915.373000</td>\n",
       "      <td>24.013482</td>\n",
       "      <td>1865.198909</td>\n",
       "    </tr>\n",
       "    <tr>\n",
       "      <th>3</th>\n",
       "      <td>2023-09-28</td>\n",
       "      <td>1864.80</td>\n",
       "      <td>1874.99</td>\n",
       "      <td>1900.58</td>\n",
       "      <td>1915.78</td>\n",
       "      <td>1925.25</td>\n",
       "      <td>1919.94</td>\n",
       "      <td>1930.36</td>\n",
       "      <td>1912.475714</td>\n",
       "      <td>1916.727333</td>\n",
       "      <td>27.508947</td>\n",
       "      <td>1874.752068</td>\n",
       "    </tr>\n",
       "    <tr>\n",
       "      <th>4</th>\n",
       "      <td>2023-09-27</td>\n",
       "      <td>1874.99</td>\n",
       "      <td>1900.58</td>\n",
       "      <td>1915.78</td>\n",
       "      <td>1925.25</td>\n",
       "      <td>1919.94</td>\n",
       "      <td>1930.36</td>\n",
       "      <td>1931.34</td>\n",
       "      <td>1916.356429</td>\n",
       "      <td>1917.545000</td>\n",
       "      <td>30.089473</td>\n",
       "      <td>1899.255611</td>\n",
       "    </tr>\n",
       "  </tbody>\n",
       "</table>\n",
       "</div>"
      ],
      "text/plain": [
       "        Date    close  Close_D-1  Close_D-2  Close_D-3  Close_D-4  Close_D-5  \\\n",
       "0 2023-10-03  1820.34    1827.77    1848.74    1864.80    1874.99    1900.58   \n",
       "1 2023-10-02  1827.77    1848.74    1864.80    1874.99    1900.58    1915.78   \n",
       "2 2023-09-29  1848.74    1864.80    1874.99    1900.58    1915.78    1925.25   \n",
       "3 2023-09-28  1864.80    1874.99    1900.58    1915.78    1925.25    1919.94   \n",
       "4 2023-09-27  1874.99    1900.58    1915.78    1925.25    1919.94    1930.36   \n",
       "\n",
       "   Close_D-6  Two_Week_Avg  One_Month_Avg        RSI  Predicted_Close  \n",
       "0    1915.78   1894.835000    1910.575000  19.259244      1828.869617  \n",
       "1    1925.25   1901.107143    1913.143000  20.373251      1848.424892  \n",
       "2    1919.94   1907.219286    1915.373000  24.013482      1865.198909  \n",
       "3    1930.36   1912.475714    1916.727333  27.508947      1874.752068  \n",
       "4    1931.34   1916.356429    1917.545000  30.089473      1899.255611  "
      ]
     },
     "execution_count": 501,
     "metadata": {},
     "output_type": "execute_result"
    }
   ],
   "source": [
    "df.head()"
   ]
  },
  {
   "cell_type": "code",
   "execution_count": null,
   "metadata": {
    "id": "6B7ys43-_WdK"
   },
   "outputs": [],
   "source": []
  },
  {
   "cell_type": "code",
   "execution_count": null,
   "metadata": {},
   "outputs": [],
   "source": []
  }
 ],
 "metadata": {
  "colab": {
   "provenance": []
  },
  "kernelspec": {
   "display_name": "Python 3 (ipykernel)",
   "language": "python",
   "name": "python3"
  },
  "language_info": {
   "codemirror_mode": {
    "name": "ipython",
    "version": 3
   },
   "file_extension": ".py",
   "mimetype": "text/x-python",
   "name": "python",
   "nbconvert_exporter": "python",
   "pygments_lexer": "ipython3",
   "version": "3.9.13"
  }
 },
 "nbformat": 4,
 "nbformat_minor": 4
}
