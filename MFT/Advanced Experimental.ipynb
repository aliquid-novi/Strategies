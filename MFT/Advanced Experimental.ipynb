{
 "cells": [
  {
   "cell_type": "markdown",
   "id": "5c0544f7-acc0-4c1a-8b0c-fcf54c31cfa9",
   "metadata": {},
   "source": [
    "# Topology - Persistent Homology"
   ]
  },
  {
   "cell_type": "code",
   "execution_count": 1,
   "id": "32f9e3a2-31a0-442f-b9ae-bbad5997668d",
   "metadata": {},
   "outputs": [],
   "source": [
    "import MetaTrader5 as mt5\n",
    "from datetime import datetime\n",
    "import pytz\n",
    "import pandas as pd\n",
    "import matplotlib.pyplot as plt\n",
    "from statsmodels.tsa.arima.model import ARIMA\n",
    "import numpy as np\n",
    "import warnings\n",
    "from sklearn.metrics.pairwise import euclidean_distances\n",
    "import gudhi as gd\n",
    "import shutil\n",
    "import ta\n",
    "warnings.filterwarnings(\"ignore\")\n",
    "mt5.initialize()\n",
    "account=51127988\n",
    "password= \"Aar2frM7\"\n",
    "server = 'ICMarkets-Demo'"
   ]
  },
  {
   "cell_type": "code",
   "execution_count": 3,
   "id": "bb20d488-765b-4db3-8375-5569e9cafc72",
   "metadata": {},
   "outputs": [],
   "source": [
    "def get_rates(pair1, x):\n",
    "    pair1 = pd.DataFrame(mt5.copy_rates_from_pos(pair1, mt5.TIMEFRAME_M15, 0, x))\n",
    "    pair1['time'] = pd.to_datetime(pair1['time'], unit = 's')\n",
    "    return pair1\n",
    "\n",
    "AUDUSD = get_rates('AUDUSD.a', 250)"
   ]
  },
  {
   "cell_type": "code",
   "execution_count": 4,
   "id": "7f778b12-1860-4a8d-8b98-abefcf634d73",
   "metadata": {},
   "outputs": [],
   "source": [
    "# Other data ideas:\n",
    "# AUD basket, AUD cointegrating pairs, AUD correlated pairs\n",
    "# arima values, garch values, arma values"
   ]
  },
  {
   "cell_type": "code",
   "execution_count": 5,
   "id": "fbc16532-30ad-4b66-9421-7071fd160742",
   "metadata": {},
   "outputs": [],
   "source": [
    "df = AUDUSD[['open', 'high', 'low', 'close']]\n",
    "df = df.iloc[:-1] "
   ]
  },
  {
   "cell_type": "code",
   "execution_count": 13,
   "id": "627317ed-d6a1-4cbd-9c30-7d47ab945a8b",
   "metadata": {},
   "outputs": [],
   "source": [
    "# Compute the Euclidean distance matrix\n",
    "dist_matrix = euclidean_distances(df)\n",
    "\n",
    "# Use the GUDHI library to construct a Rips complex\n",
    "rips_complex = gd.RipsComplex(distance_matrix=dist_matrix, max_edge_length=1.0)\n",
    "\n",
    "simplex_tree = rips_complex.create_simplex_tree(max_dimension=2)\n",
    "\n",
    "# To visualize or analyze the topological features of the complex, you can use GUDHI's persistence diagram functionality:\n",
    "diag = simplex_tree.persistence(min_persistence=0.01)"
   ]
  },
  {
   "cell_type": "code",
   "execution_count": 11,
   "id": "3843b6a3-a7c1-44a8-87da-1e092bf08658",
   "metadata": {},
   "outputs": [
    {
     "name": "stdout",
     "output_type": "stream",
     "text": [
      "The market is simple, potentially indicating a trend continuation. Buy\n"
     ]
    }
   ],
   "source": [
    "# Set a threshold for the minimum persistence that we consider significant\n",
    "min_persistence = 0.1\n",
    "threshold_high = 20\n",
    "threshold_low = 5\n",
    "\n",
    "# Calculate the persistence diagram\n",
    "diag = simplex_tree.persistence(min_persistence=min_persistence)\n",
    "\n",
    "# Extract the persistent features (those with persistence above the threshold)\n",
    "persistent_features = [interval for interval in diag if interval[1][1] - interval[1][0] > min_persistence]\n",
    "\n",
    "# Hypothetical trading logic\n",
    "if len(persistent_features) > threshold_high:\n",
    "    print(\"The market is complex, potentially indicating a trend change. Short\")\n",
    "    if len(mt5.positions_get()) == 0:\n",
    "        sell_order()\n",
    "    else:\n",
    "        for i in mt5.positions_get():\n",
    "            if 'Rips' in i.comment and i.type == 1:\n",
    "                print('Already in short position. No action')\n",
    "                # position = i \n",
    "                # close_position(position) ## still closing everything else, amend when important\n",
    "                # sell_order()\n",
    "            elif 'Rips' in i.comment and i.type == 0:\n",
    "                print('Previously long. Changing to short.')\n",
    "                position = i \n",
    "                close_position(position) ## still closing everything else, amend when important\n",
    "                sell_order()\n",
    "\n",
    "elif len(persistent_features) < threshold_low:\n",
    "    print(\"The market is simple, potentially indicating a trend continuation. Buy\")\n",
    "    if len(mt5.positions_get()) == 0:\n",
    "        buy_order()\n",
    "    else:\n",
    "        for i in mt5.positions_get():\n",
    "            if i.type == 1:\n",
    "                print('Already long')\n",
    "                break\n",
    "            else:\n",
    "                close_position(i)\n",
    "                buy_order()\n",
    "else:\n",
    "    print(\"The market is in an intermediate state. No action taken.\")"
   ]
  },
  {
   "cell_type": "code",
   "execution_count": 8,
   "id": "21750a80-d47c-4c6f-8da8-f9f02ad20964",
   "metadata": {},
   "outputs": [],
   "source": [
    "def buy_order():\n",
    "    price = mt5.symbol_info_tick('AUDUSD.a').ask\n",
    "    request = {\n",
    "        \"action\": mt5.TRADE_ACTION_DEAL,\n",
    "        \"symbol\": 'AUDUSD.a',\n",
    "        \"volume\": 1.00,\n",
    "        \"type\": mt5.ORDER_TYPE_BUY,\n",
    "        \"price\": price,\n",
    "        \"deviation\": 20,\n",
    "        \"magic\": 234000,\n",
    "        \"comment\": f\"Rips Complex\",\n",
    "        \"type_time\": mt5.ORDER_TIME_GTC,\n",
    "        \"type_filling\": mt5.ORDER_FILLING_IOC,\n",
    "    }\n",
    "    result1 = mt5.order_send(request)\n",
    "    result1\n",
    "    \n",
    "def sell_order():\n",
    "    price = mt5.symbol_info_tick('AUDUSD.a').bid\n",
    "    request = {\n",
    "        \"action\": mt5.TRADE_ACTION_DEAL,\n",
    "        \"symbol\": 'AUDUSD.a',\n",
    "        \"volume\": 1.00,\n",
    "        \"type\": mt5.ORDER_TYPE_SELL,\n",
    "        \"price\": price,\n",
    "        \"deviation\": 20,\n",
    "        \"magic\": 234000,\n",
    "        \"comment\": f\"Rips Complex\",\n",
    "        \"type_time\": mt5.ORDER_TIME_GTC,\n",
    "        \"type_filling\": mt5.ORDER_FILLING_IOC,\n",
    "    }\n",
    "    result1 = mt5.order_send(request)\n",
    "    result1\n",
    "    \n",
    "def close_position(position):\n",
    "\n",
    "    tick = mt5.symbol_info_tick(position.symbol)\n",
    "\n",
    "    request = {\n",
    "        \"action\" : mt5.TRADE_ACTION_DEAL,\n",
    "        \"position\": position.ticket,\n",
    "        \"symbol\": position.symbol,\n",
    "        \"volume\": position.volume,\n",
    "        \"type\": mt5.ORDER_TYPE_BUY if position.type == 1 else mt5.ORDER_TYPE_SELL,\n",
    "        \"price\": tick.ask if position.type == 1 else tick.bid,\n",
    "        \"deviation\": 20,\n",
    "        \"magic\": 100,\n",
    "        \"comment\": 'pytohn script close',\n",
    "        'type_time': mt5.ORDER_TIME_GTC,\n",
    "        'type_filling':mt5.ORDER_FILLING_IOC,\n",
    "\n",
    "        }\n",
    "    result1 = mt5.order_send(request)"
   ]
  },
  {
   "cell_type": "code",
   "execution_count": null,
   "id": "6d188a5e-5bbb-4ee8-9407-dd7abbc92580",
   "metadata": {},
   "outputs": [],
   "source": []
  }
 ],
 "metadata": {
  "kernelspec": {
   "display_name": "Python 3 (ipykernel)",
   "language": "python",
   "name": "python3"
  },
  "language_info": {
   "codemirror_mode": {
    "name": "ipython",
    "version": 3
   },
   "file_extension": ".py",
   "mimetype": "text/x-python",
   "name": "python",
   "nbconvert_exporter": "python",
   "pygments_lexer": "ipython3",
   "version": "3.9.13"
  }
 },
 "nbformat": 4,
 "nbformat_minor": 5
}
