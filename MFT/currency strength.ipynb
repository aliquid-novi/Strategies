{
 "cells": [
  {
   "cell_type": "code",
   "execution_count": 1,
   "id": "1045a626-7d64-408e-94d3-07a8064034b9",
   "metadata": {},
   "outputs": [],
   "source": [
    "import MetaTrader5 as mt5\n",
    "from datetime import datetime\n",
    "import pytz\n",
    "import pandas as pd\n",
    "import matplotlib.pyplot as plt\n",
    "from statsmodels.tsa.arima.model import ARIMA\n",
    "import numpy as np\n",
    "import warnings\n",
    "import coint\n",
    "warnings.filterwarnings(\"ignore\")\n",
    "mt5.initialize()\n",
    "account=51127988\n",
    "password=\"Aar2frM7\"\n",
    "server = 'ICMarkets-Demo'"
   ]
  },
  {
   "cell_type": "code",
   "execution_count": 165,
   "id": "3e225a61-d619-4b84-b4de-831f6d2e957e",
   "metadata": {},
   "outputs": [],
   "source": [
    "currency_dict = {\n",
    "    'EUR': [],\n",
    "    'USD': [],\n",
    "    'JPY': [],\n",
    "    'GBP': [],\n",
    "    'CHF': [],\n",
    "    'CAD': [],\n",
    "    'AUD': [],\n",
    "    'NZD': []\n",
    "}\n",
    "\n",
    "def get_rates(pair1, x):\n",
    "    pair1 = pd.DataFrame(mt5.copy_rates_from_pos(pair1, mt5.TIMEFRAME_M15, 0, x))\n",
    "    pair1['time'] = pd.to_datetime(pair1['time'], unit = 's')\n",
    "    return pair1['close']"
   ]
  },
  {
   "cell_type": "code",
   "execution_count": 166,
   "id": "69afa0cd-e932-4993-9d00-126c45f11840",
   "metadata": {},
   "outputs": [],
   "source": [
    "symbols = ['EUR', 'GBP', 'USD', 'JPY', 'CHF', 'AUD', 'CAD', 'NZD']\n",
    "currency_pairs = []\n",
    "for i in range(len(symbols)):\n",
    "    for j in range(i+1, len(symbols)):\n",
    "        pair = symbols[i] + symbols[j]\n",
    "        currency_pairs.append(pair + '.a')"
   ]
  },
  {
   "cell_type": "code",
   "execution_count": 167,
   "id": "bcaba95f-a805-4e56-9424-0563e62cc9e5",
   "metadata": {},
   "outputs": [],
   "source": [
    "valid_pairs = []\n",
    "\n",
    "for pair in currency_pairs:\n",
    "    base_currency, quote_currency = pair[:3], pair[3:6]\n",
    "\n",
    "    # Check if the pair is valid\n",
    "    rates = mt5.copy_rates_from_pos(pair, mt5.TIMEFRAME_M15, 0, 1)\n",
    "    if rates is not None:\n",
    "        valid_pairs.append(pair)\n",
    "    else:\n",
    "        # Try switching the currencies and check if the pair is valid\n",
    "        switched_pair = quote_currency + base_currency + '.a'\n",
    "        rates = mt5.copy_rates_from_pos(switched_pair, mt5.TIMEFRAME_M15, 0, 1)\n",
    "        if rates is not None:\n",
    "            valid_pairs.append(switched_pair)"
   ]
  },
  {
   "cell_type": "code",
   "execution_count": 168,
   "id": "2de762a2-a9b1-43fb-8304-391aba7aff7d",
   "metadata": {},
   "outputs": [
    {
     "name": "stdout",
     "output_type": "stream",
     "text": [
      "{'EUR': 22.46, 'USD': 20.79, 'JPY': 127.58, 'GBP': 25.99, 'CHF': 22.66, 'CAD': 15.62, 'AUD': 13.92, 'NZD': 12.97}\n"
     ]
    }
   ],
   "source": [
    "\n",
    "data = {}\n",
    "for symbol in valid_pairs:\n",
    "    data[symbol] = get_rates(symbol, 24)\n",
    "\n",
    "for symbol, price in data.items():\n",
    "    # Iterate over the dictionary instead of using multiple if/elif statements\n",
    "    for currency in currency_dict:\n",
    "        if currency in symbol:\n",
    "            currency_dict[currency].append((symbol, price))\n",
    "\n",
    "average_rates = {}\n",
    "\n",
    "for base_currency, pairs in currency_dict.items():\n",
    "    total_sum_for_all_pairs = 0\n",
    "    for pair_name, pair_data in pairs:\n",
    "        total_sum_for_all_pairs += pair_data.sum()\n",
    "    average_rate_for_base_currency = total_sum_for_all_pairs / (len(pairs) * len(pair_data))\n",
    "    average_rates[base_currency] = round(average_rate_for_base_currency, 2)\n",
    "\n",
    "print(average_rates)"
   ]
  },
  {
   "cell_type": "code",
   "execution_count": 178,
   "id": "13c28426-ad76-499c-ada7-b0c2252b8e22",
   "metadata": {},
   "outputs": [
    {
     "data": {
      "text/plain": [
       "{'EUR': 22.46,\n",
       " 'USD': 20.79,\n",
       " 'JPY': 127.58,\n",
       " 'GBP': 25.99,\n",
       " 'CHF': 22.66,\n",
       " 'CAD': 15.62,\n",
       " 'AUD': 13.92,\n",
       " 'NZD': 12.97}"
      ]
     },
     "execution_count": 178,
     "metadata": {},
     "output_type": "execute_result"
    }
   ],
   "source": [
    "average_rates"
   ]
  },
  {
   "cell_type": "code",
   "execution_count": 169,
   "id": "030b0152-f328-45bd-b908-665d5a0342b6",
   "metadata": {},
   "outputs": [],
   "source": [
    "currency_strength_book = {\n",
    "                    }"
   ]
  },
  {
   "cell_type": "code",
   "execution_count": 182,
   "id": "81f8dd49-14de-42a5-bc7e-8460a74e93da",
   "metadata": {},
   "outputs": [
    {
     "name": "stdout",
     "output_type": "stream",
     "text": [
      "EURNZD.a sum is 2179.44929\n",
      "NZDUSD.a sum is 2179.44929\n",
      "NZDJPY.a sum is 2179.44929\n",
      "GBPNZD.a sum is 2179.44929\n",
      "NZDCHF.a sum is 2179.44929\n",
      "NZDCAD.a sum is 2179.44929\n",
      "AUDNZD.a sum is 2179.44929\n",
      "NZDCAD.a sum is 2179.44929\n"
     ]
    }
   ],
   "source": [
    "for base, pairs in currency_dict.items():\n",
    "    for pair_name, prices in pairs:\n",
    "        currency_prices.sum() / len(pair_name)\n",
    "    print(f'{pair_name} sum is {total_sum_for_all_pairs}')\n",
    "    # currency_"
   ]
  },
  {
   "cell_type": "code",
   "execution_count": null,
   "id": "29651251-2652-4e1e-a749-d6772a314600",
   "metadata": {},
   "outputs": [],
   "source": []
  }
 ],
 "metadata": {
  "kernelspec": {
   "display_name": "Python 3 (ipykernel)",
   "language": "python",
   "name": "python3"
  },
  "language_info": {
   "codemirror_mode": {
    "name": "ipython",
    "version": 3
   },
   "file_extension": ".py",
   "mimetype": "text/x-python",
   "name": "python",
   "nbconvert_exporter": "python",
   "pygments_lexer": "ipython3",
   "version": "3.9.13"
  }
 },
 "nbformat": 4,
 "nbformat_minor": 5
}
