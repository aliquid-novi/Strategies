{
 "cells": [
  {
   "cell_type": "code",
   "execution_count": 103,
   "id": "ac7a1968-4042-490c-badf-917aba834a6c",
   "metadata": {
    "tags": []
   },
   "outputs": [],
   "source": [
    "import MetaTrader5 as mt5\n",
    "from datetime import datetime\n",
    "import pytz\n",
    "import pandas as pd\n",
    "import numpy as np\n",
    "\n",
    "\n",
    "mt5.initialize()\n",
    "account=51434456 # \n",
    "password=\"9UpBvVzc\"\n",
    "server = 'ICMarkets-Demo'\n",
    "\n",
    "from collections import defaultdict\n",
    "from datetime import datetime, timedelta\n",
    "import numpy as np\n",
    "import pandas as pd\n",
    "\n",
    "def get_rates(pair1, tf, x):\n",
    "    pair1 = pd.DataFrame(mt5.copy_rates_from_pos(pair1, tf, 0, x))\n",
    "    pair1['time'] = pd.to_datetime(pair1['time'], unit = 's')\n",
    "    pair1 = pair1.set_index(pair1['time'])\n",
    "    pair1 = pair1.drop(columns = ['time','tick_volume', 'spread', 'real_volume'])\n",
    "    return pair1\n",
    "\n",
    "# Assume mini_list and get_rates are defined elsewhere.\n",
    "mini_list = ['AUDUSD.a', 'CADJPY.a', 'EURCAD.a', 'EURGBP.a']\n",
    "\n",
    "def buy_order(symbol):\n",
    "    price = mt5.symbol_info_tick(symbol).ask\n",
    "    request = {\n",
    "        \"action\": mt5.TRADE_ACTION_DEAL,\n",
    "        \"symbol\": symbol,\n",
    "        \"volume\": 1.00,\n",
    "        \"type\": mt5.ORDER_TYPE_BUY,\n",
    "        \"price\": price,\n",
    "        \"deviation\": 20,\n",
    "        \"magic\": 234000,\n",
    "        \"comment\": f\"Interlagged_B\",\n",
    "        \"type_time\": mt5.ORDER_TIME_GTC,\n",
    "        \"type_filling\": mt5.ORDER_FILLING_IOC,\n",
    "    }\n",
    "    result1 = mt5.order_send(request)\n",
    "    result1\n",
    "    \n",
    "def sell_order(symbol):\n",
    "    price = mt5.symbol_info_tick(symbol).bid\n",
    "    request = {\n",
    "        \"action\": mt5.TRADE_ACTION_DEAL,\n",
    "        \"symbol\": symbol,\n",
    "        \"volume\": 1.00,\n",
    "        \"type\": mt5.ORDER_TYPE_SELL,\n",
    "        \"price\": price,\n",
    "        \"deviation\": 20,\n",
    "        \"magic\": 234000,\n",
    "        \"comment\": f\"Interlagged_S\",\n",
    "        \"type_time\": mt5.ORDER_TIME_GTC,\n",
    "        \"type_filling\": mt5.ORDER_FILLING_IOC,\n",
    "    }\n",
    "    result1 = mt5.order_send(request)\n",
    "    result1\n",
    "\n",
    "def t3_sing_corr(symbol, base_hour, bars=100):\n",
    "    base_ts1 = datetime.strptime(f'{base_hour}:00', '%H:%M').time()\n",
    "    base_ts2 = (datetime.combine(datetime.today(), base_ts1) + timedelta(hours=1)).time()\n",
    "    base_ts1, base_ts2 = [t.strftime('%H:%M') for t in [base_ts1, base_ts2]]\n",
    "\n",
    "    base_prices = get_rates(symbol, mt5.TIMEFRAME_H1, 50000)\n",
    "    base_prices = base_prices.between_time(base_ts1, base_ts2)\n",
    "    base_prices['returns'] = base_prices['close'] - base_prices['open']\n",
    "\n",
    "    correlations = {}\n",
    "    ordered_correlations = defaultdict(list)\n",
    "\n",
    "    for h in range(24):\n",
    "        if h == base_hour:\n",
    "            continue\n",
    "\n",
    "        ts1 = datetime.strptime(f'{h}:00', '%H:%M').time()\n",
    "        ts2 = (datetime.combine(datetime.today(), ts1) + timedelta(hours=1)).time()\n",
    "        ts1, ts2 = [t.strftime('%H:%M') for t in [ts1, ts2]]\n",
    "\n",
    "        prices = get_rates(symbol, mt5.TIMEFRAME_H1, 50000)\n",
    "        prices = prices.between_time(ts1, ts2)\n",
    "        prices['returns'] = prices['close'] - prices['open']\n",
    "\n",
    "        pearson_corr = np.corrcoef(base_prices['returns'].tail(bars), prices['returns'].tail(bars))[0, 1]\n",
    "\n",
    "        if abs(pearson_corr) > 0.2:\n",
    "            correlations[f'{base_ts1}-{ts1} | {symbol}'] = pearson_corr\n",
    "\n",
    "        if abs(pearson_corr) > 0.4:\n",
    "            ordered_correlations['0.4 and over'].append((f'{base_ts1}-{ts1}', pearson_corr, symbol))\n",
    "        elif abs(pearson_corr) > 0.3:\n",
    "            ordered_correlations['0.3 to 0.4'].append((f'{base_ts1}-{ts1}', pearson_corr, symbol))\n",
    "        elif abs(pearson_corr) > 0.2:\n",
    "            ordered_correlations['0.2 to 0.3'].append((f'{base_ts1}-{ts1}', pearson_corr, symbol))\n",
    "\n",
    "    return correlations, ordered_correlations"
   ]
  },
  {
   "cell_type": "code",
   "execution_count": 104,
   "id": "c9388137-c914-41cd-944c-340f7fa7ec65",
   "metadata": {
    "tags": []
   },
   "outputs": [
    {
     "name": "stdout",
     "output_type": "stream",
     "text": [
      "Analysis Complete\n",
      "Sorting complete. Data:\n",
      "[('04:00-05:00', 0.5357495809764415, 'AUDUSD.a'), ('03:00-04:00', 0.43032202822594295, 'CADJPY.a'), ('04:00-05:00', 0.6168058596424455, 'CADJPY.a'), ('03:00-04:00', 0.5080331475519061, 'EURCAD.a'), ('04:00-05:00', 0.45476495136946726, 'EURCAD.a'), ('03:00-04:00', 0.4800711882394064, 'EURGBP.a'), ('04:00-05:00', 0.4436762128073423, 'EURGBP.a')]\n"
     ]
    }
   ],
   "source": [
    "correlations_all = {}\n",
    "ordered_correlations_all = defaultdict(list)\n",
    "\n",
    "for symbol in mini_list:\n",
    "    for i in range(24):\n",
    "        correlations, ordered_correlations = t3_sing_corr(symbol, i, bars=100)\n",
    "        correlations_all.update(correlations)\n",
    "        for key in ordered_correlations.keys():\n",
    "            ordered_correlations_all[key].extend(ordered_correlations[key])\n",
    "\n",
    "print('Analysis Complete')\n",
    "\n",
    "data = ordered_correlations_all\n",
    "ordered_correlations_all = defaultdict(list)\n",
    "for key in data.keys():\n",
    "    ordered_correlations_all[key] = [item for item in data[key] if int(item[0].split('-')[0].split(':')[0]) < int(item[0].split('-')[1].split(':')[0])]\n",
    "\n",
    "strong_correlations = ordered_correlations_all['0.4 and over']\n",
    "correct_data = [item for item in strong_correlations if int(item[0].split('-')[0].split(':')[0]) < int(item[0].split('-')[1].split(':')[0])]\n",
    "print('Sorting complete. Data:')\n",
    "print(correct_data)"
   ]
  },
  {
   "cell_type": "markdown",
   "id": "6fa1de0c-4cd9-4502-9f60-403fdc780461",
   "metadata": {},
   "source": [
    "# Logic of trade\n",
    "\n",
    "The following timestamp of the two correlated times is the subject of interest because whatever return occured in its partnered pair has a high correlation in the return of the timestamp afterwards. \n",
    "\n",
    "1. Check if 'current_time' is equal to the latter timestamp of the correlated times\n",
    "2. If it's equal:\n",
    "    - Calculate return of the former timestamp for the symbol and confirm which direction to take (Same directiion as return)\n",
    "    - Send trade order in calculated direction\n",
    "    - Close trade at the end of the hour"
   ]
  },
  {
   "cell_type": "code",
   "execution_count": 109,
   "id": "2b2f783d-827d-41a5-9bc0-c1c9ba9a22c1",
   "metadata": {
    "tags": []
   },
   "outputs": [
    {
     "name": "stdout",
     "output_type": "stream",
     "text": [
      "04:18\n",
      "No Match on AUDUSD.a. Time is 04:18. Correlated time is 05:00\n",
      "No Match on CADJPY.a. Time is 04:18. Correlated time is 04:00\n",
      "No Match on CADJPY.a. Time is 04:18. Correlated time is 05:00\n",
      "No Match on EURCAD.a. Time is 04:18. Correlated time is 04:00\n",
      "No Match on EURCAD.a. Time is 04:18. Correlated time is 05:00\n",
      "No Match on EURGBP.a. Time is 04:18. Correlated time is 04:00\n",
      "No Match on EURGBP.a. Time is 04:18. Correlated time is 05:00\n"
     ]
    }
   ],
   "source": [
    "now = datetime.now(pytz.timezone('Europe/Helsinki'))  # use the appropriate timezone\n",
    "current_time = now.strftime('%H:%M')\n",
    "print(current_time)\n",
    "pairs2trade = []\n",
    "\n",
    "for data in correct_data:\n",
    "    time_range = data[0]\n",
    "    start_time, end_time = [datetime.strptime(t, '%H:%M') for t in time_range.split('-')]\n",
    "    end_time = end_time.replace(year=now.year, month=now.month, day=now.day, tzinfo=now.tzinfo)\n",
    "    current_time_dt = datetime.strptime(current_time, '%H:%M').replace(year=now.year, month=now.month, day=now.day, tzinfo=now.tzinfo)\n",
    "\n",
    "    time_difference = abs((end_time - current_time_dt).total_seconds())\n",
    "    \n",
    "    if time_difference <= 300:  # Within 5 minutes\n",
    "        print(f'Match Found for {data[2]} at {end_time.strftime(\"%H:%M\")}. Adding to list to trade...')\n",
    "        pairs2trade.append(data)\n",
    "    else:\n",
    "        print(f'No Match on {data[2]}. Time is {current_time}. Correlated time is {end_time.strftime(\"%H:%M\")}')\n"
   ]
  },
  {
   "cell_type": "code",
   "execution_count": 106,
   "id": "7431e9eb-62f7-4852-88f1-bf181e859888",
   "metadata": {
    "tags": []
   },
   "outputs": [
    {
     "data": {
      "text/plain": [
       "[]"
      ]
     },
     "execution_count": 106,
     "metadata": {},
     "output_type": "execute_result"
    }
   ],
   "source": [
    "def get_rate(pair1, tf, x):\n",
    "    pair1 = pd.DataFrame(mt5.copy_rates_from_pos(pair1, tf, 0, x))\n",
    "    pair1['time'] = pd.to_datetime(pair1['time'], unit = 's')\n",
    "    pair1 = pair1.set_index(pair1['time'])\n",
    "    pair1 = pair1.drop(columns = ['time','tick_volume', 'spread', 'real_volume'])\n",
    "    return pair1\n",
    "pairs2trade"
   ]
  },
  {
   "cell_type": "code",
   "execution_count": 107,
   "id": "a147cdf4-4049-4c8b-a2de-5dd11a273522",
   "metadata": {
    "tags": []
   },
   "outputs": [
    {
     "data": {
      "text/plain": [
       "[]"
      ]
     },
     "execution_count": 107,
     "metadata": {},
     "output_type": "execute_result"
    }
   ],
   "source": [
    "pairs2trade"
   ]
  },
  {
   "cell_type": "code",
   "execution_count": 108,
   "id": "790fa7be-3c98-443e-929a-7b1b61e0ad76",
   "metadata": {
    "tags": []
   },
   "outputs": [
    {
     "name": "stdout",
     "output_type": "stream",
     "text": [
      "No trades\n"
     ]
    }
   ],
   "source": [
    "if len(pairs2trade) > 0:\n",
    "    print('There are trades to be made')\n",
    "    for pair in pairs2trade:\n",
    "        end_time_str = pair[0].split('-')[1]\n",
    "        target_time = datetime.strptime(end_time_str, '%H:%M').time()\n",
    "        rates = get_rate(pair[2], mt5.TIMEFRAME_H1, 24)\n",
    "        rates.index = rates.index.time\n",
    "        info = rates.loc[target_time]  # use the dynamically set target_time\n",
    "        returns = (info['close'] - info['open'])\n",
    "\n",
    "        if returns > 0:\n",
    "            print(f\"Init. Buy for {pair[2]}\")\n",
    "            buy_order(i)\n",
    "\n",
    "        else:\n",
    "            print(f\"Init. Sell for {pair[2]}\")\n",
    "            sell_order(i)\n",
    "\n",
    "    open_positions = {}\n",
    "\n",
    "    # After opening a position, store the opening time\n",
    "    for position in mt5.positions_get():\n",
    "        open_positions[position.ticket] = datetime.now()\n",
    "else:\n",
    "    print('No trades')"
   ]
  },
  {
   "cell_type": "code",
   "execution_count": 79,
   "id": "0defa101-f512-4b18-98aa-a5daa2a3d8f2",
   "metadata": {
    "tags": []
   },
   "outputs": [
    {
     "name": "stdout",
     "output_type": "stream",
     "text": [
      "Returns for AUDUSD.a are -0.00035999999999991594\n",
      "Init. Sell for AUDUSD.a\n",
      "Returns for CADJPY.a are 0.046999999999997044\n",
      "Init. Buy for CADJPY.a\n",
      "Returns for EURCAD.a are 1.999999999990898e-05\n",
      "Init. Buy for EURCAD.a\n",
      "Returns for EURGBP.a are 0.000260000000000038\n",
      "Init. Buy for EURGBP.a\n",
      "buy list: ['CADJPY.a', 'EURCAD.a', 'EURGBP.a']\n",
      "['AUDUSD.a']\n"
     ]
    }
   ],
   "source": [
    "from datetime import time\n",
    "buy_list = []\n",
    "sell_list = []\n",
    "\n",
    "for pair in pairs2trade:\n",
    "    end_time_str = pair[0].split('-')[1]\n",
    "    target_time = datetime.strptime(end_time_str, '%H:%M').time()\n",
    "    rates = get_rate(pair[2], mt5.TIMEFRAME_H1, 24)\n",
    "    rates.index = rates.index.time\n",
    "    info = rates.loc[target_time]  # use the dynamically set target_time\n",
    "    returns = (info['close'] - info['open'])\n",
    "    \n",
    "    print(f\"Returns for {pair[2]} are {returns}\")\n",
    "\n",
    "    if returns > 0:\n",
    "        print(f\"Init. Buy for {pair[2]}\")\n",
    "        buy_list.append(pair[2])\n",
    "        \n",
    "    else:\n",
    "        print(f\"Init. Sell for {pair[2]}\")\n",
    "        sell_list.append(pair[2])\n",
    "    \n",
    "print('buy list:', buy_list)\n",
    "print(sell_list)"
   ]
  },
  {
   "cell_type": "code",
   "execution_count": 65,
   "id": "6bbbce41-72a3-43cd-a2c9-c726913bb62a",
   "metadata": {
    "collapsed": true,
    "jupyter": {
     "outputs_hidden": true
    },
    "tags": []
   },
   "outputs": [
    {
     "name": "stdout",
     "output_type": "stream",
     "text": [
      "20:00:00\n",
      "Returns for AUDUSD.a are -0.0015299999999999203\n",
      "Init. Sell for AUDUSD.a\n",
      "20:00:00\n",
      "Returns for CADJPY.a are -0.06199999999999761\n",
      "Init. Sell for CADJPY.a\n",
      "20:00:00\n",
      "Returns for EURCAD.a are -0.00026999999999999247\n",
      "Init. Sell for EURCAD.a\n",
      "20:00:00\n",
      "Returns for EURGBP.a are 0.00034000000000000696\n",
      "Init. Buy for EURGBP.a\n",
      "['EURGBP.a']\n",
      "['AUDUSD.a', 'CADJPY.a', 'EURCAD.a']\n"
     ]
    }
   ],
   "source": [
    "from datetime import time\n",
    "buy_list = []\n",
    "sell_list = []\n",
    "\n",
    "for pair in pairs2trade:\n",
    "    rates = get_rate(pair[2], mt5.TIMEFRAME_H1, 24)\n",
    "    rates.index = rates.index.time\n",
    "    target_time = time(20,0,0)\n",
    "    info = rates.loc[target_time]\n",
    "    returns = (info['close'] - info['open'])\n",
    "    print(f\"Returns for {pair[2]} are {returns}\")\n",
    "\n",
    "    if returns > 0:\n",
    "        print(f\"Init. Buy for {pair[2]}\")\n",
    "        buy_list.append(pair[2])\n",
    "        \n",
    "    else:\n",
    "        print(f\"Init. Sell for {pair[2]}\")\n",
    "        sell_list.append(pair[2])\n",
    "    \n",
    "print(buy_list)\n",
    "print(sell_list)"
   ]
  },
  {
   "cell_type": "code",
   "execution_count": 59,
   "id": "8962acf5-8f4e-492f-afcc-10572754bb83",
   "metadata": {
    "tags": []
   },
   "outputs": [
    {
     "data": {
      "text/plain": [
       "datetime.datetime(2023, 10, 18, 10, 1, 7, 268578, tzinfo=<DstTzInfo 'Europe/Helsinki' EEST+3:00:00 DST>)"
      ]
     },
     "execution_count": 59,
     "metadata": {},
     "output_type": "execute_result"
    }
   ],
   "source": [
    "now = datetime.now(pytz.timezone('Europe/Helsinki'))\n",
    "now"
   ]
  },
  {
   "cell_type": "code",
   "execution_count": 15,
   "id": "a6f7dee2-3517-4bd7-9d71-65148790a4c6",
   "metadata": {
    "tags": []
   },
   "outputs": [
    {
     "name": "stdout",
     "output_type": "stream",
     "text": [
      "EURGBP.a has been sent\n",
      "AUDUSD.a has been sent\n",
      "CADJPY.a has been sent\n",
      "EURCAD.a has been sent\n"
     ]
    }
   ],
   "source": [
    "# Sending Orders\n",
    "\n",
    "for i in buy_list:\n",
    "    buy_order(i)\n",
    "    print(f\"{i} has been sent\")\n",
    "for i in sell_list:\n",
    "    sell_order(i)\n",
    "    print(f\"{i} has been sent\")"
   ]
  },
  {
   "cell_type": "code",
   "execution_count": 89,
   "id": "1b249333-2c10-407c-b7e6-c8eaae1a4979",
   "metadata": {
    "tags": []
   },
   "outputs": [],
   "source": [
    "open_positions = {}\n",
    "\n",
    "# After opening a position, store the opening time\n",
    "for position in mt5.positions_get():\n",
    "    open_positions[position.ticket] = datetime.now()"
   ]
  },
  {
   "cell_type": "code",
   "execution_count": 90,
   "id": "9c630277-2bc1-48b2-a24f-55b1bcd86439",
   "metadata": {
    "tags": []
   },
   "outputs": [
    {
     "data": {
      "text/plain": [
       "{502721170: datetime.datetime(2023, 10, 18, 13, 13, 20, 573491),\n",
       " 502721174: datetime.datetime(2023, 10, 18, 13, 13, 20, 573491),\n",
       " 502721184: datetime.datetime(2023, 10, 18, 13, 13, 20, 573491),\n",
       " 502721192: datetime.datetime(2023, 10, 18, 13, 13, 20, 573491),\n",
       " 502727193: datetime.datetime(2023, 10, 18, 13, 13, 20, 573491),\n",
       " 502727200: datetime.datetime(2023, 10, 18, 13, 13, 20, 573491),\n",
       " 502727207: datetime.datetime(2023, 10, 18, 13, 13, 20, 573491),\n",
       " 502727219: datetime.datetime(2023, 10, 18, 13, 13, 20, 573491),\n",
       " 502733046: datetime.datetime(2023, 10, 18, 13, 13, 20, 573491),\n",
       " 502733051: datetime.datetime(2023, 10, 18, 13, 13, 20, 573491),\n",
       " 502733054: datetime.datetime(2023, 10, 18, 13, 13, 20, 573491),\n",
       " 502733062: datetime.datetime(2023, 10, 18, 13, 13, 20, 573491),\n",
       " 502787213: datetime.datetime(2023, 10, 18, 13, 13, 20, 573491),\n",
       " 502787229: datetime.datetime(2023, 10, 18, 13, 13, 20, 573491),\n",
       " 502787233: datetime.datetime(2023, 10, 18, 13, 13, 20, 573491),\n",
       " 502792680: datetime.datetime(2023, 10, 18, 13, 13, 20, 573491),\n",
       " 502792693: datetime.datetime(2023, 10, 18, 13, 13, 20, 573491),\n",
       " 502792700: datetime.datetime(2023, 10, 18, 13, 13, 20, 573491),\n",
       " 502799057: datetime.datetime(2023, 10, 18, 13, 13, 20, 573491),\n",
       " 502799069: datetime.datetime(2023, 10, 18, 13, 13, 20, 573491),\n",
       " 502799086: datetime.datetime(2023, 10, 18, 13, 13, 20, 573491),\n",
       " 502852473: datetime.datetime(2023, 10, 18, 13, 13, 20, 573491),\n",
       " 502858521: datetime.datetime(2023, 10, 18, 13, 13, 20, 573491),\n",
       " 502862384: datetime.datetime(2023, 10, 18, 13, 13, 20, 573491),\n",
       " 502909753: datetime.datetime(2023, 10, 18, 13, 13, 20, 573491),\n",
       " 502909763: datetime.datetime(2023, 10, 18, 13, 13, 20, 573491),\n",
       " 502909777: datetime.datetime(2023, 10, 18, 13, 13, 20, 573491),\n",
       " 502909791: datetime.datetime(2023, 10, 18, 13, 13, 20, 573491),\n",
       " 502916370: datetime.datetime(2023, 10, 18, 13, 13, 20, 573491),\n",
       " 502916385: datetime.datetime(2023, 10, 18, 13, 13, 20, 573491),\n",
       " 502916397: datetime.datetime(2023, 10, 18, 13, 13, 20, 573491),\n",
       " 502916408: datetime.datetime(2023, 10, 18, 13, 13, 20, 573491),\n",
       " 502926208: datetime.datetime(2023, 10, 18, 13, 13, 20, 573491),\n",
       " 502926252: datetime.datetime(2023, 10, 18, 13, 13, 20, 573491),\n",
       " 502926316: datetime.datetime(2023, 10, 18, 13, 13, 20, 573491),\n",
       " 502926467: datetime.datetime(2023, 10, 18, 13, 13, 20, 573491),\n",
       " 503007346: datetime.datetime(2023, 10, 18, 13, 13, 20, 573491),\n",
       " 503007397: datetime.datetime(2023, 10, 18, 13, 13, 20, 573491),\n",
       " 503007429: datetime.datetime(2023, 10, 18, 13, 13, 20, 573491),\n",
       " 503007462: datetime.datetime(2023, 10, 18, 13, 13, 20, 573491),\n",
       " 503017494: datetime.datetime(2023, 10, 18, 13, 13, 20, 573491),\n",
       " 503017500: datetime.datetime(2023, 10, 18, 13, 13, 20, 573491),\n",
       " 503017506: datetime.datetime(2023, 10, 18, 13, 13, 20, 573491),\n",
       " 503017518: datetime.datetime(2023, 10, 18, 13, 13, 20, 573491),\n",
       " 503023975: datetime.datetime(2023, 10, 18, 13, 13, 20, 573491),\n",
       " 503023993: datetime.datetime(2023, 10, 18, 13, 13, 20, 573491),\n",
       " 503024005: datetime.datetime(2023, 10, 18, 13, 13, 20, 573491),\n",
       " 503024018: datetime.datetime(2023, 10, 18, 13, 13, 20, 573491)}"
      ]
     },
     "execution_count": 90,
     "metadata": {},
     "output_type": "execute_result"
    }
   ],
   "source": [
    "open_positions"
   ]
  },
  {
   "cell_type": "code",
   "execution_count": 93,
   "id": "ed9605d4-cc3f-49c6-8395-4ebd25cde9e7",
   "metadata": {
    "tags": []
   },
   "outputs": [
    {
     "name": "stdout",
     "output_type": "stream",
     "text": [
      "Checking positions...\n",
      "Ticket 502721170 opened at 2023-10-18 13:13:20.573491\n",
      "Current time is 2023-10-18 13:13:29.239509\n",
      "Total seconds opened: 8.666018\n",
      "Ticket 502721174 opened at 2023-10-18 13:13:20.573491\n",
      "Current time is 2023-10-18 13:13:29.239509\n",
      "Total seconds opened: 8.666018\n",
      "Ticket 502721184 opened at 2023-10-18 13:13:20.573491\n",
      "Current time is 2023-10-18 13:13:29.239509\n",
      "Total seconds opened: 8.666018\n",
      "Ticket 502721192 opened at 2023-10-18 13:13:20.573491\n",
      "Current time is 2023-10-18 13:13:29.239509\n",
      "Total seconds opened: 8.666018\n",
      "Ticket 502727193 opened at 2023-10-18 13:13:20.573491\n",
      "Current time is 2023-10-18 13:13:29.240487\n",
      "Total seconds opened: 8.666996\n",
      "Ticket 502727200 opened at 2023-10-18 13:13:20.573491\n",
      "Current time is 2023-10-18 13:13:29.240487\n",
      "Total seconds opened: 8.666996\n",
      "Ticket 502727207 opened at 2023-10-18 13:13:20.573491\n",
      "Current time is 2023-10-18 13:13:29.240487\n",
      "Total seconds opened: 8.666996\n",
      "Ticket 502727219 opened at 2023-10-18 13:13:20.573491\n",
      "Current time is 2023-10-18 13:13:29.240487\n",
      "Total seconds opened: 8.666996\n",
      "Ticket 502733046 opened at 2023-10-18 13:13:20.573491\n",
      "Current time is 2023-10-18 13:13:29.240487\n",
      "Total seconds opened: 8.666996\n",
      "Ticket 502733051 opened at 2023-10-18 13:13:20.573491\n",
      "Current time is 2023-10-18 13:13:29.240487\n",
      "Total seconds opened: 8.666996\n",
      "Ticket 502733054 opened at 2023-10-18 13:13:20.573491\n",
      "Current time is 2023-10-18 13:13:29.240487\n",
      "Total seconds opened: 8.666996\n",
      "Ticket 502733062 opened at 2023-10-18 13:13:20.573491\n",
      "Current time is 2023-10-18 13:13:29.240487\n",
      "Total seconds opened: 8.666996\n",
      "Ticket 502787213 opened at 2023-10-18 13:13:20.573491\n",
      "Current time is 2023-10-18 13:13:29.240487\n",
      "Total seconds opened: 8.666996\n",
      "Ticket 502787229 opened at 2023-10-18 13:13:20.573491\n",
      "Current time is 2023-10-18 13:13:29.240487\n",
      "Total seconds opened: 8.666996\n",
      "Ticket 502787233 opened at 2023-10-18 13:13:20.573491\n",
      "Current time is 2023-10-18 13:13:29.240487\n",
      "Total seconds opened: 8.666996\n",
      "Ticket 502792680 opened at 2023-10-18 13:13:20.573491\n",
      "Current time is 2023-10-18 13:13:29.240487\n",
      "Total seconds opened: 8.666996\n",
      "Ticket 502792693 opened at 2023-10-18 13:13:20.573491\n",
      "Current time is 2023-10-18 13:13:29.240487\n",
      "Total seconds opened: 8.666996\n",
      "Ticket 502792700 opened at 2023-10-18 13:13:20.573491\n",
      "Current time is 2023-10-18 13:13:29.240487\n",
      "Total seconds opened: 8.666996\n",
      "Ticket 502799057 opened at 2023-10-18 13:13:20.573491\n",
      "Current time is 2023-10-18 13:13:29.240487\n",
      "Total seconds opened: 8.666996\n",
      "Ticket 502799069 opened at 2023-10-18 13:13:20.573491\n",
      "Current time is 2023-10-18 13:13:29.240487\n",
      "Total seconds opened: 8.666996\n",
      "Ticket 502799086 opened at 2023-10-18 13:13:20.573491\n",
      "Current time is 2023-10-18 13:13:29.240487\n",
      "Total seconds opened: 8.666996\n",
      "Ticket 502852473 opened at 2023-10-18 13:13:20.573491\n",
      "Current time is 2023-10-18 13:13:29.240487\n",
      "Total seconds opened: 8.666996\n",
      "Ticket 502858521 opened at 2023-10-18 13:13:20.573491\n",
      "Current time is 2023-10-18 13:13:29.240487\n",
      "Total seconds opened: 8.666996\n",
      "Ticket 502862384 opened at 2023-10-18 13:13:20.573491\n",
      "Current time is 2023-10-18 13:13:29.240487\n",
      "Total seconds opened: 8.666996\n",
      "Ticket 502909753 opened at 2023-10-18 13:13:20.573491\n",
      "Current time is 2023-10-18 13:13:29.240487\n",
      "Total seconds opened: 8.666996\n",
      "Ticket 502909763 opened at 2023-10-18 13:13:20.573491\n",
      "Current time is 2023-10-18 13:13:29.240487\n",
      "Total seconds opened: 8.666996\n",
      "Ticket 502909777 opened at 2023-10-18 13:13:20.573491\n",
      "Current time is 2023-10-18 13:13:29.240487\n",
      "Total seconds opened: 8.666996\n",
      "Ticket 502909791 opened at 2023-10-18 13:13:20.573491\n",
      "Current time is 2023-10-18 13:13:29.240487\n",
      "Total seconds opened: 8.666996\n",
      "Ticket 502916370 opened at 2023-10-18 13:13:20.573491\n",
      "Current time is 2023-10-18 13:13:29.240487\n",
      "Total seconds opened: 8.666996\n",
      "Ticket 502916385 opened at 2023-10-18 13:13:20.573491\n",
      "Current time is 2023-10-18 13:13:29.240487\n",
      "Total seconds opened: 8.666996\n",
      "Ticket 502916397 opened at 2023-10-18 13:13:20.573491\n",
      "Current time is 2023-10-18 13:13:29.240487\n",
      "Total seconds opened: 8.666996\n",
      "Ticket 502916408 opened at 2023-10-18 13:13:20.573491\n",
      "Current time is 2023-10-18 13:13:29.240487\n",
      "Total seconds opened: 8.666996\n",
      "Ticket 502926208 opened at 2023-10-18 13:13:20.573491\n",
      "Current time is 2023-10-18 13:13:29.240487\n",
      "Total seconds opened: 8.666996\n",
      "Ticket 502926252 opened at 2023-10-18 13:13:20.573491\n",
      "Current time is 2023-10-18 13:13:29.240487\n",
      "Total seconds opened: 8.666996\n",
      "Ticket 502926316 opened at 2023-10-18 13:13:20.573491\n",
      "Current time is 2023-10-18 13:13:29.240487\n",
      "Total seconds opened: 8.666996\n",
      "Ticket 502926467 opened at 2023-10-18 13:13:20.573491\n",
      "Current time is 2023-10-18 13:13:29.240487\n",
      "Total seconds opened: 8.666996\n",
      "Ticket 503007346 opened at 2023-10-18 13:13:20.573491\n",
      "Current time is 2023-10-18 13:13:29.240487\n",
      "Total seconds opened: 8.666996\n",
      "Ticket 503007397 opened at 2023-10-18 13:13:20.573491\n",
      "Current time is 2023-10-18 13:13:29.240487\n",
      "Total seconds opened: 8.666996\n",
      "Ticket 503007429 opened at 2023-10-18 13:13:20.573491\n",
      "Current time is 2023-10-18 13:13:29.240487\n",
      "Total seconds opened: 8.666996\n",
      "Ticket 503007462 opened at 2023-10-18 13:13:20.573491\n",
      "Current time is 2023-10-18 13:13:29.240487\n",
      "Total seconds opened: 8.666996\n",
      "Ticket 503017494 opened at 2023-10-18 13:13:20.573491\n",
      "Current time is 2023-10-18 13:13:29.240487\n",
      "Total seconds opened: 8.666996\n",
      "Ticket 503017500 opened at 2023-10-18 13:13:20.573491\n",
      "Current time is 2023-10-18 13:13:29.240487\n",
      "Total seconds opened: 8.666996\n",
      "Ticket 503017506 opened at 2023-10-18 13:13:20.573491\n",
      "Current time is 2023-10-18 13:13:29.240487\n",
      "Total seconds opened: 8.666996\n",
      "Ticket 503017518 opened at 2023-10-18 13:13:20.573491\n",
      "Current time is 2023-10-18 13:13:29.241464\n",
      "Total seconds opened: 8.667973\n",
      "Ticket 503023975 opened at 2023-10-18 13:13:20.573491\n",
      "Current time is 2023-10-18 13:13:29.241464\n",
      "Total seconds opened: 8.667973\n",
      "Ticket 503023993 opened at 2023-10-18 13:13:20.573491\n",
      "Current time is 2023-10-18 13:13:29.241464\n",
      "Total seconds opened: 8.667973\n",
      "Ticket 503024005 opened at 2023-10-18 13:13:20.573491\n",
      "Current time is 2023-10-18 13:13:29.241464\n",
      "Total seconds opened: 8.667973\n",
      "Ticket 503024018 opened at 2023-10-18 13:13:20.573491\n",
      "Current time is 2023-10-18 13:13:29.241464\n",
      "Total seconds opened: 8.667973\n"
     ]
    }
   ],
   "source": [
    "if len(open_positions) >= 1:\n",
    "    print('Checking positions...')\n",
    "    tickets_to_remove = []  # A list to store tickets that will be removed\n",
    "    for ticket, open_time in open_positions.items():\n",
    "        print(f\"Ticket {ticket} opened at {open_time}\")\n",
    "        current_time = datetime.now()\n",
    "        print(f\"Current time is {current_time}\")\n",
    "        time_difference = current_time - open_time  # Swapped the order\n",
    "        print(f\"Total seconds opened: {time_difference.total_seconds()}\")\n",
    "        \n",
    "        if time_difference.total_seconds() > 3600:\n",
    "            position = mt5.positions_get(ticket=ticket)\n",
    "            if position:  # Check if the position exists\n",
    "                close_position(position[0])\n",
    "                tickets_to_remove.append(ticket)  # Add the ticket to the removal list\n",
    "\n",
    "    # Remove the closed positions from the dictionary\n",
    "    for ticket in tickets_to_remove:\n",
    "        del open_positions[ticket]\n",
    "\n",
    "else:\n",
    "    print('No open positions')"
   ]
  },
  {
   "cell_type": "code",
   "execution_count": 128,
   "id": "e2a8e558-16f7-400e-9291-a5cc10221b00",
   "metadata": {
    "tags": []
   },
   "outputs": [
    {
     "ename": "IndentationError",
     "evalue": "unexpected indent (1862904201.py, line 188)",
     "output_type": "error",
     "traceback": [
      "\u001b[1;36m  Cell \u001b[1;32mIn[128], line 188\u001b[1;36m\u001b[0m\n\u001b[1;33m    for ticket in tickets_to_remove:\u001b[0m\n\u001b[1;37m    ^\u001b[0m\n\u001b[1;31mIndentationError\u001b[0m\u001b[1;31m:\u001b[0m unexpected indent\n"
     ]
    }
   ],
   "source": [
    "\n",
    "def run():\n",
    "    def get_rates(pair1, tf, x):\n",
    "        pair1 = pd.DataFrame(mt5.copy_rates_from_pos(pair1, tf, 0, x))\n",
    "        pair1['time'] = pd.to_datetime(pair1['time'], unit = 's')\n",
    "        pair1 = pair1.set_index(pair1['time'])\n",
    "        pair1 = pair1.drop(columns = ['time','tick_volume', 'spread', 'real_volume'])\n",
    "        return pair1\n",
    "\n",
    "    # Assume mini_list and get_rates are defined elsewhere.\n",
    "    mini_list = ['AUDUSD.a', 'CADJPY.a', 'EURCAD.a', 'EURGBP.a']\n",
    "\n",
    "    def buy_order(symbol):\n",
    "        price = mt5.symbol_info_tick(symbol).ask\n",
    "        request = {\n",
    "            \"action\": mt5.TRADE_ACTION_DEAL,\n",
    "            \"symbol\": symbol,\n",
    "            \"volume\": 1.00,\n",
    "            \"type\": mt5.ORDER_TYPE_BUY,\n",
    "            \"price\": price,\n",
    "            \"deviation\": 20,\n",
    "            \"magic\": 234000,\n",
    "            \"comment\": f\"Interlagged_B\",\n",
    "            \"type_time\": mt5.ORDER_TIME_GTC,\n",
    "            \"type_filling\": mt5.ORDER_FILLING_IOC,\n",
    "        }\n",
    "        result1 = mt5.order_send(request)\n",
    "        result1\n",
    "\n",
    "    def sell_order(symbol):\n",
    "        price = mt5.symbol_info_tick(symbol).bid\n",
    "        request = {\n",
    "            \"action\": mt5.TRADE_ACTION_DEAL,\n",
    "            \"symbol\": symbol,\n",
    "            \"volume\": 1.00,\n",
    "            \"type\": mt5.ORDER_TYPE_SELL,\n",
    "            \"price\": price,\n",
    "            \"deviation\": 20,\n",
    "            \"magic\": 234000,\n",
    "            \"comment\": f\"Interlagged_S\",\n",
    "            \"type_time\": mt5.ORDER_TIME_GTC,\n",
    "            \"type_filling\": mt5.ORDER_FILLING_IOC,\n",
    "        }\n",
    "        result1 = mt5.order_send(request)\n",
    "        result1\n",
    "\n",
    "    def t3_sing_corr(symbol, base_hour, bars=100):\n",
    "        base_ts1 = datetime.strptime(f'{base_hour}:00', '%H:%M').time()\n",
    "        base_ts2 = (datetime.combine(datetime.today(), base_ts1) + timedelta(hours=1)).time()\n",
    "        base_ts1, base_ts2 = [t.strftime('%H:%M') for t in [base_ts1, base_ts2]]\n",
    "\n",
    "        base_prices = get_rates(symbol, mt5.TIMEFRAME_H1, 50000)\n",
    "        base_prices = base_prices.between_time(base_ts1, base_ts2)\n",
    "        base_prices['returns'] = base_prices['close'] - base_prices['open']\n",
    "\n",
    "        correlations = {}\n",
    "        ordered_correlations = defaultdict(list)\n",
    "\n",
    "        for h in range(24):\n",
    "            if h == base_hour:\n",
    "                continue\n",
    "\n",
    "            ts1 = datetime.strptime(f'{h}:00', '%H:%M').time()\n",
    "            ts2 = (datetime.combine(datetime.today(), ts1) + timedelta(hours=1)).time()\n",
    "            ts1, ts2 = [t.strftime('%H:%M') for t in [ts1, ts2]]\n",
    "\n",
    "            prices = get_rates(symbol, mt5.TIMEFRAME_H1, 50000)\n",
    "            prices = prices.between_time(ts1, ts2)\n",
    "            prices['returns'] = prices['close'] - prices['open']\n",
    "\n",
    "            pearson_corr = np.corrcoef(base_prices['returns'].tail(bars), prices['returns'].tail(bars))[0, 1]\n",
    "\n",
    "            if abs(pearson_corr) > 0.2:\n",
    "                correlations[f'{base_ts1}-{ts1} | {symbol}'] = pearson_corr\n",
    "\n",
    "            if abs(pearson_corr) > 0.4:\n",
    "                ordered_correlations['0.4 and over'].append((f'{base_ts1}-{ts1}', pearson_corr, symbol))\n",
    "            elif abs(pearson_corr) > 0.3:\n",
    "                ordered_correlations['0.3 to 0.4'].append((f'{base_ts1}-{ts1}', pearson_corr, symbol))\n",
    "            elif abs(pearson_corr) > 0.2:\n",
    "                ordered_correlations['0.2 to 0.3'].append((f'{base_ts1}-{ts1}', pearson_corr, symbol))\n",
    "\n",
    "        return correlations, ordered_correlations\n",
    "    \n",
    "    ## Trading Algorithm ##\n",
    "\n",
    "    correlations_all = {}\n",
    "    ordered_correlations_all = defaultdict(list)\n",
    "\n",
    "    for symbol in mini_list:\n",
    "        for i in range(24):\n",
    "            correlations, ordered_correlations = t3_sing_corr(symbol, i, bars=100)\n",
    "            correlations_all.update(correlations)\n",
    "            for key in ordered_correlations.keys():\n",
    "                ordered_correlations_all[key].extend(ordered_correlations[key])\n",
    "\n",
    "    print('Analysis Complete')\n",
    "\n",
    "    data = ordered_correlations_all\n",
    "    ordered_correlations_all = defaultdict(list)\n",
    "    for key in data.keys():\n",
    "        ordered_correlations_all[key] = [item for item in data[key] if int(item[0].split('-')[0].split(':')[0]) < int(item[0].split('-')[1].split(':')[0])]\n",
    "\n",
    "    strong_correlations = ordered_correlations_all['0.4 and over']\n",
    "    correct_data = [item for item in strong_correlations if int(item[0].split('-')[0].split(':')[0]) < int(item[0].split('-')[1].split(':')[0])]\n",
    "    print('Sorting complete. Data:')\n",
    "    print(correct_data)\n",
    "\n",
    "    now = datetime.now(pytz.timezone('Europe/Helsinki'))  # use the appropriate timezone\n",
    "    current_time = now.strftime('%H:%M')\n",
    "    pairs2trade = []\n",
    "\n",
    "    for data in correct_data:\n",
    "        time_range = data[0]\n",
    "        start_time, end_time = [datetime.strptime(t, '%H:%M') for t in time_range.split('-')]\n",
    "        end_time = end_time.replace(year=now.year, month=now.month, day=now.day, tzinfo=now.tzinfo)\n",
    "        current_time_dt = datetime.strptime(current_time, '%H:%M').replace(year=now.year, month=now.month, day=now.day, tzinfo=now.tzinfo)\n",
    "\n",
    "        time_difference = abs((end_time - current_time_dt).total_seconds())\n",
    "\n",
    "        if time_difference <= 500:  # Within 5 minutes\n",
    "            print(f'Match Found for {data[2]} at {end_time.strftime(\"%H:%M\")}. Adding to list to trade...')\n",
    "            pairs2trade.append(data)\n",
    "        else:\n",
    "            print(f'No Match on {data[2]}. Time is {current_time}. Correlated time is {end_time.strftime(\"%H:%M\")}')\n",
    "\n",
    "    def get_rate(pair1, tf, x):\n",
    "        pair1 = pd.DataFrame(mt5.copy_rates_from_pos(pair1, tf, 0, x))\n",
    "        pair1['time'] = pd.to_datetime(pair1['time'], unit = 's')\n",
    "        pair1 = pair1.set_index(pair1['time'])\n",
    "        pair1 = pair1.drop(columns = ['time','tick_volume', 'spread', 'real_volume'])\n",
    "        return pair1\n",
    "\n",
    "\n",
    "    from datetime import time\n",
    "    \n",
    "\n",
    "    if len(pairs2trade) > 0:\n",
    "        for pair in pairs2trade:\n",
    "            end_time_str = pair[0].split('-')[1]\n",
    "            target_time = datetime.strptime(end_time_str, '%H:%M').time()\n",
    "            rates = get_rate(pair[2], mt5.TIMEFRAME_H1, 24)\n",
    "            rates.index = rates.index.time\n",
    "            info = rates.loc[target_time]  # use the dynamically set target_time\n",
    "            returns = (info['close'] - info['open'])\n",
    "\n",
    "            if returns > 0:\n",
    "                print(f\"Init. Buy for {pair[2]}\")\n",
    "                buy_order(pair[2])\n",
    "\n",
    "            else:\n",
    "                print(f\"Init. Sell for {pair[2]}\")\n",
    "                sell_order(pair[2])\n",
    "\n",
    "    def check_close_position(trade_position):\n",
    "        # Your logic to close the position\n",
    "        ticket = trade_position.ticket\n",
    "        time = datetime.fromtimestamp(trade_position.time)\n",
    "        symbol = trade_position.symbol\n",
    "        comment = i.comment\n",
    "        print(f\"Checking {symbol} of {comment} to close\")\n",
    "        # Sample trade position (replace this with the actual object you get)\n",
    "        position = {\n",
    "            'ticket': ticket,\n",
    "            'time': time,  # This would be the actual Unix timestamp\n",
    "            'Symbol': symbol,\n",
    "            'Comment': comment,\n",
    "        }\n",
    "\n",
    "        # Get the current Unix timestamp\n",
    "        current_unix_time = int(datetime.utcnow().timestamp())\n",
    "        # print(f\"Current UNIX time is {current_unix_time}\")\n",
    "        # Calculate the time difference in seconds\n",
    "        time_difference = current_unix_time - int(i.time)\n",
    "\n",
    "        # Check if 4 hours or more have passed (4 hours = 4 * 60 * 60 seconds)\n",
    "        if time_difference >= 60 * 60:\n",
    "            close_position(trade_position)\n",
    "        else:\n",
    "            print(f\"Position {symbol} with ticket {trade_position['ticket']} has been open for less than 4 hours.\")\n",
    "\n",
    "    open_positions = mt5.positions_get()\n",
    "\n",
    "    for i in open_positions:\n",
    "        # print(i)\n",
    "        check_close_position(i)\n",
    "\n",
    "            # Remove the closed positions from the dictionary\n",
    "        for ticket in tickets_to_remove:\n",
    "            print(f\"Deleting {ticket}\")\n",
    "            del open_positions[ticket]\n",
    "    else:\n",
    "        print('No open positions')"
   ]
  },
  {
   "cell_type": "code",
   "execution_count": 116,
   "id": "e16e3807-6cc1-40c5-ac7d-be9e84ca55f5",
   "metadata": {
    "tags": []
   },
   "outputs": [
    {
     "name": "stderr",
     "output_type": "stream",
     "text": [
      "\n",
      "KeyboardInterrupt\n",
      "\n"
     ]
    }
   ],
   "source": [
    "run()"
   ]
  },
  {
   "cell_type": "code",
   "execution_count": 114,
   "id": "f36bb74d-237e-4540-ae87-96c0553aba64",
   "metadata": {
    "tags": []
   },
   "outputs": [],
   "source": [
    "buy_order('CADJPY.a')"
   ]
  },
  {
   "cell_type": "code",
   "execution_count": 123,
   "id": "795599a2-fc37-4c96-a941-9075aab1167c",
   "metadata": {
    "tags": []
   },
   "outputs": [],
   "source": [
    "def close_position(position):\n",
    "\n",
    "    tick = mt5.symbol_info_tick(position.symbol)\n",
    "\n",
    "    request = {\n",
    "        \"action\" : mt5.TRADE_ACTION_DEAL,\n",
    "        \"position\": position.ticket,\n",
    "        \"symbol\": position.symbol,\n",
    "        \"volume\": position.volume,\n",
    "        \"type\": mt5.ORDER_TYPE_BUY if position.type == 1 else mt5.ORDER_TYPE_SELL,\n",
    "        \"price\": tick.ask if position.type == 1 else tick.bid,\n",
    "        \"deviation\": 20,\n",
    "        \"magic\": 100,\n",
    "        \"comment\": 'Closing',\n",
    "        'type_time': mt5.ORDER_TIME_GTC,\n",
    "        'type_filling':mt5.ORDER_FILLING_IOC,\n",
    "\n",
    "        }\n",
    "    result = mt5.order_send(request)\n",
    "    print(f\"Closed {position.symbol} of {position.comment}\")\n",
    "    result"
   ]
  },
  {
   "cell_type": "code",
   "execution_count": 127,
   "id": "5a9a9d8a",
   "metadata": {
    "tags": []
   },
   "outputs": [
    {
     "name": "stdout",
     "output_type": "stream",
     "text": [
      "Position AUDUSD.a of MC_REGRESS not applicable\n",
      "Position EURUSD.a of MC_REGRESS not applicable\n",
      "Position EURNZD.a of MC_REGRESS not applicable\n",
      "Position NZDUSD.a of MC_REGRESS not applicable\n",
      "Position GBPUSD.a of MC_REGRESS not applicable\n",
      "Position GBPNZD.a of MC_REGRESS not applicable\n",
      "Position NZDUSD.a of S_Regress not applicable\n",
      "Position GBPUSD.a of S_Regress not applicable\n",
      "Position GBPNZD.a of S_Regress not applicable\n",
      "Position AUDUSD.a of B_Regress not applicable\n",
      "Position EURUSD.a of B_Regress not applicable\n",
      "Position EURNZD.a of B_Regress not applicable\n"
     ]
    }
   ],
   "source": [
    "def check_close_position(trade_position):\n",
    "    # Your logic to close the position\n",
    "    ticket = trade_position.ticket\n",
    "    time = datetime.fromtimestamp(trade_position.time)\n",
    "    symbol = trade_position.symbol\n",
    "    comment = i.comment\n",
    "    print(f\"Checking {symbol} of {comment} to close\")\n",
    "    # Sample trade position (replace this with the actual object you get)\n",
    "    position = {\n",
    "        'ticket': ticket,\n",
    "        'time': time,  # This would be the actual Unix timestamp\n",
    "        'Symbol': symbol,\n",
    "        'Comment': comment,\n",
    "    }\n",
    "\n",
    "    # Get the current Unix timestamp\n",
    "    current_unix_time = int(datetime.utcnow().timestamp())\n",
    "    # print(f\"Current UNIX time is {current_unix_time}\")\n",
    "    # Calculate the time difference in seconds\n",
    "    time_difference = current_unix_time - int(i.time)\n",
    "    \n",
    "    if abs(time_difference) >= 3600:\n",
    "        close_position(trade_position)\n",
    "    else:\n",
    "        print(f\"Position {symbol} with of mode {trade_position.comment} has been open for less than 1 hours.\")\n",
    "\n",
    "open_positions = mt5.positions_get()\n",
    "\n",
    "for i in open_positions:\n",
    "    # print(i)\n",
    "    if 'Interlagged' in i.comment:\n",
    "        print(f\"Closing {i.symbol}\")\n",
    "        check_close_position(i)\n",
    "    else:\n",
    "        print(f\"Position {i.symbol} of {i.comment} not applicable\")"
   ]
  },
  {
   "cell_type": "code",
   "execution_count": 13,
   "id": "328b1a0d-e167-4c54-ba22-ffda0699f85e",
   "metadata": {},
   "outputs": [
    {
     "name": "stdout",
     "output_type": "stream",
     "text": [
      "AccountInfo(login=51127988, trade_mode=0, leverage=30, limit_orders=200, margin_so_mode=0, trade_allowed=True, trade_expert=True, margin_mode=2, currency_digits=2, fifo_close=False, balance=86854.08, credit=0.0, profit=580.68, equity=87434.76, margin=4669.88, margin_free=82764.88, margin_level=1872.3127789150897, margin_so_call=100.0, margin_so_so=50.0, margin_initial=0.0, margin_maintenance=0.0, assets=0.0, liabilities=0.0, commission_blocked=0.0, name='Paje Mark David De', server='ICMarkets-Demo', currency='USD', company='International Capital Markets Pty Ltd.')\n",
      "Analysis Complete\n",
      "Sorting complete. Data:\n",
      "[('06:00-07:00', 0.6923392460983308, 'AUDUSD.a'), ('06:00-07:00', 0.6302504896226635, 'CADJPY.a'), ('06:00-19:00', 0.5265742910383214, 'CADJPY.a'), ('07:00-19:00', 0.5050207802829982, 'CADJPY.a'), ('20:00-23:00', -0.43802653245593043, 'CADJPY.a'), ('06:00-07:00', 0.49182126892204414, 'EURCAD.a'), ('07:00-08:00', 0.4879853314930847, 'EURCAD.a'), ('07:00-08:00', 0.47959753092549934, 'EURGBP.a')]\n",
      "No Match on AUDUSD.a. Time is 07:19. Correlated time is 07:00\n",
      "No Match on CADJPY.a. Time is 07:19. Correlated time is 07:00\n",
      "No Match on CADJPY.a. Time is 07:19. Correlated time is 19:00\n",
      "No Match on CADJPY.a. Time is 07:19. Correlated time is 19:00\n",
      "No Match on CADJPY.a. Time is 07:19. Correlated time is 23:00\n",
      "No Match on EURCAD.a. Time is 07:19. Correlated time is 07:00\n",
      "No Match on EURCAD.a. Time is 07:19. Correlated time is 08:00\n",
      "No Match on EURGBP.a. Time is 07:19. Correlated time is 08:00\n",
      "Entering trading loop\n",
      "[]\n",
      "[]\n",
      "Beginning closing logic\n"
     ]
    }
   ],
   "source": [
    "run()"
   ]
  },
  {
   "cell_type": "code",
   "execution_count": 67,
   "id": "cd9f76f1-d946-4b3f-9b8b-e3de1bfbb518",
   "metadata": {
    "collapsed": true,
    "jupyter": {
     "outputs_hidden": true
    },
    "tags": []
   },
   "outputs": [
    {
     "name": "stdout",
     "output_type": "stream",
     "text": [
      "Analysis Complete\n",
      "Sorting complete. Data:\n",
      "[('14:00-15:00', 0.6478555314873491, 'AUDUSD.a'), ('06:00-19:00', 0.5256722522789767, 'CADJPY.a'), ('07:00-20:00', 0.4442479992818048, 'CADJPY.a'), ('07:00-22:00', 0.4828922502213256, 'CADJPY.a'), ('14:00-15:00', 0.6247276650106708, 'CADJPY.a'), ('20:00-23:00', -0.4340704345773939, 'CADJPY.a'), ('14:00-15:00', 0.729163056468036, 'EURCAD.a'), ('13:00-14:00', 0.6080780244139647, 'EURGBP.a'), ('14:00-15:00', 0.6022938329112788, 'EURGBP.a')]\n",
      "No Match on AUDUSD.a. Time is 14:54. Correlated time is 15:00\n",
      "No Match on CADJPY.a. Time is 14:54. Correlated time is 19:00\n",
      "No Match on CADJPY.a. Time is 14:54. Correlated time is 20:00\n",
      "No Match on CADJPY.a. Time is 14:54. Correlated time is 22:00\n",
      "No Match on CADJPY.a. Time is 14:54. Correlated time is 15:00\n",
      "No Match on CADJPY.a. Time is 14:54. Correlated time is 23:00\n",
      "No Match on EURCAD.a. Time is 14:54. Correlated time is 15:00\n",
      "No Match on EURGBP.a. Time is 14:54. Correlated time is 14:00\n",
      "No Match on EURGBP.a. Time is 14:54. Correlated time is 15:00\n",
      "[]\n",
      "[]\n",
      "Beginning closing logic\n",
      "Strategy Inter-lagged Loop Completed\n"
     ]
    },
    {
     "ename": "KeyError",
     "evalue": "'time'",
     "output_type": "error",
     "traceback": [
      "\u001b[1;31m---------------------------------------------------------------------------\u001b[0m",
      "\u001b[1;31mKeyError\u001b[0m                                  Traceback (most recent call last)",
      "File \u001b[1;32m~\\anaconda3\\lib\\site-packages\\pandas\\core\\indexes\\base.py:3629\u001b[0m, in \u001b[0;36mIndex.get_loc\u001b[1;34m(self, key, method, tolerance)\u001b[0m\n\u001b[0;32m   3628\u001b[0m \u001b[38;5;28;01mtry\u001b[39;00m:\n\u001b[1;32m-> 3629\u001b[0m     \u001b[38;5;28;01mreturn\u001b[39;00m \u001b[38;5;28;43mself\u001b[39;49m\u001b[38;5;241;43m.\u001b[39;49m\u001b[43m_engine\u001b[49m\u001b[38;5;241;43m.\u001b[39;49m\u001b[43mget_loc\u001b[49m\u001b[43m(\u001b[49m\u001b[43mcasted_key\u001b[49m\u001b[43m)\u001b[49m\n\u001b[0;32m   3630\u001b[0m \u001b[38;5;28;01mexcept\u001b[39;00m \u001b[38;5;167;01mKeyError\u001b[39;00m \u001b[38;5;28;01mas\u001b[39;00m err:\n",
      "File \u001b[1;32m~\\anaconda3\\lib\\site-packages\\pandas\\_libs\\index.pyx:136\u001b[0m, in \u001b[0;36mpandas._libs.index.IndexEngine.get_loc\u001b[1;34m()\u001b[0m\n",
      "File \u001b[1;32m~\\anaconda3\\lib\\site-packages\\pandas\\_libs\\index.pyx:163\u001b[0m, in \u001b[0;36mpandas._libs.index.IndexEngine.get_loc\u001b[1;34m()\u001b[0m\n",
      "File \u001b[1;32mpandas\\_libs\\hashtable_class_helper.pxi:5198\u001b[0m, in \u001b[0;36mpandas._libs.hashtable.PyObjectHashTable.get_item\u001b[1;34m()\u001b[0m\n",
      "File \u001b[1;32mpandas\\_libs\\hashtable_class_helper.pxi:5206\u001b[0m, in \u001b[0;36mpandas._libs.hashtable.PyObjectHashTable.get_item\u001b[1;34m()\u001b[0m\n",
      "\u001b[1;31mKeyError\u001b[0m: 'time'",
      "\nThe above exception was the direct cause of the following exception:\n",
      "\u001b[1;31mKeyError\u001b[0m                                  Traceback (most recent call last)",
      "Cell \u001b[1;32mIn[67], line 4\u001b[0m\n\u001b[0;32m      1\u001b[0m \u001b[38;5;28;01mimport\u001b[39;00m \u001b[38;5;21;01mtime\u001b[39;00m \n\u001b[0;32m      3\u001b[0m \u001b[38;5;28;01mwhile\u001b[39;00m \u001b[38;5;28;01mTrue\u001b[39;00m:\n\u001b[1;32m----> 4\u001b[0m     \u001b[43mrun\u001b[49m\u001b[43m(\u001b[49m\u001b[43m)\u001b[49m\n\u001b[0;32m      6\u001b[0m     \u001b[38;5;28mprint\u001b[39m(\u001b[38;5;124m'\u001b[39m\u001b[38;5;124mStrategy Inter-lagged Loop Completed\u001b[39m\u001b[38;5;124m'\u001b[39m)\n\u001b[0;32m      8\u001b[0m     time\u001b[38;5;241m.\u001b[39msleep(\u001b[38;5;241m30\u001b[39m)\n",
      "Cell \u001b[1;32mIn[64], line 104\u001b[0m, in \u001b[0;36mrun\u001b[1;34m()\u001b[0m\n\u001b[0;32m    102\u001b[0m \u001b[38;5;28;01mfor\u001b[39;00m symbol \u001b[38;5;129;01min\u001b[39;00m mini_list:\n\u001b[0;32m    103\u001b[0m     \u001b[38;5;28;01mfor\u001b[39;00m i \u001b[38;5;129;01min\u001b[39;00m \u001b[38;5;28mrange\u001b[39m(\u001b[38;5;241m24\u001b[39m):\n\u001b[1;32m--> 104\u001b[0m         correlations, ordered_correlations \u001b[38;5;241m=\u001b[39m \u001b[43mt3_sing_corr\u001b[49m\u001b[43m(\u001b[49m\u001b[43msymbol\u001b[49m\u001b[43m,\u001b[49m\u001b[43m \u001b[49m\u001b[43mi\u001b[49m\u001b[43m,\u001b[49m\u001b[43m \u001b[49m\u001b[43mbars\u001b[49m\u001b[38;5;241;43m=\u001b[39;49m\u001b[38;5;241;43m100\u001b[39;49m\u001b[43m)\u001b[49m\n\u001b[0;32m    105\u001b[0m         correlations_all\u001b[38;5;241m.\u001b[39mupdate(correlations)\n\u001b[0;32m    106\u001b[0m         \u001b[38;5;28;01mfor\u001b[39;00m key \u001b[38;5;129;01min\u001b[39;00m ordered_correlations\u001b[38;5;241m.\u001b[39mkeys():\n",
      "Cell \u001b[1;32mIn[64], line 66\u001b[0m, in \u001b[0;36mrun.<locals>.t3_sing_corr\u001b[1;34m(symbol, base_hour, bars)\u001b[0m\n\u001b[0;32m     63\u001b[0m base_ts2 \u001b[38;5;241m=\u001b[39m (datetime\u001b[38;5;241m.\u001b[39mcombine(datetime\u001b[38;5;241m.\u001b[39mtoday(), base_ts1) \u001b[38;5;241m+\u001b[39m timedelta(hours\u001b[38;5;241m=\u001b[39m\u001b[38;5;241m1\u001b[39m))\u001b[38;5;241m.\u001b[39mtime()\n\u001b[0;32m     64\u001b[0m base_ts1, base_ts2 \u001b[38;5;241m=\u001b[39m [t\u001b[38;5;241m.\u001b[39mstrftime(\u001b[38;5;124m'\u001b[39m\u001b[38;5;124m%\u001b[39m\u001b[38;5;124mH:\u001b[39m\u001b[38;5;124m%\u001b[39m\u001b[38;5;124mM\u001b[39m\u001b[38;5;124m'\u001b[39m) \u001b[38;5;28;01mfor\u001b[39;00m t \u001b[38;5;129;01min\u001b[39;00m [base_ts1, base_ts2]]\n\u001b[1;32m---> 66\u001b[0m base_prices \u001b[38;5;241m=\u001b[39m \u001b[43mget_rates\u001b[49m\u001b[43m(\u001b[49m\u001b[43msymbol\u001b[49m\u001b[43m,\u001b[49m\u001b[43m \u001b[49m\u001b[43mmt5\u001b[49m\u001b[38;5;241;43m.\u001b[39;49m\u001b[43mTIMEFRAME_H1\u001b[49m\u001b[43m,\u001b[49m\u001b[43m \u001b[49m\u001b[38;5;241;43m50000\u001b[39;49m\u001b[43m)\u001b[49m\n\u001b[0;32m     67\u001b[0m base_prices \u001b[38;5;241m=\u001b[39m base_prices\u001b[38;5;241m.\u001b[39mbetween_time(base_ts1, base_ts2)\n\u001b[0;32m     68\u001b[0m base_prices[\u001b[38;5;124m'\u001b[39m\u001b[38;5;124mreturns\u001b[39m\u001b[38;5;124m'\u001b[39m] \u001b[38;5;241m=\u001b[39m base_prices[\u001b[38;5;124m'\u001b[39m\u001b[38;5;124mclose\u001b[39m\u001b[38;5;124m'\u001b[39m] \u001b[38;5;241m-\u001b[39m base_prices[\u001b[38;5;124m'\u001b[39m\u001b[38;5;124mopen\u001b[39m\u001b[38;5;124m'\u001b[39m]\n",
      "Cell \u001b[1;32mIn[64], line 19\u001b[0m, in \u001b[0;36mrun.<locals>.get_rates\u001b[1;34m(pair1, tf, x)\u001b[0m\n\u001b[0;32m     17\u001b[0m \u001b[38;5;28;01mdef\u001b[39;00m \u001b[38;5;21mget_rates\u001b[39m(pair1, tf, x):\n\u001b[0;32m     18\u001b[0m     pair1 \u001b[38;5;241m=\u001b[39m pd\u001b[38;5;241m.\u001b[39mDataFrame(mt5\u001b[38;5;241m.\u001b[39mcopy_rates_from_pos(pair1, tf, \u001b[38;5;241m0\u001b[39m, x))\n\u001b[1;32m---> 19\u001b[0m     pair1[\u001b[38;5;124m'\u001b[39m\u001b[38;5;124mtime\u001b[39m\u001b[38;5;124m'\u001b[39m] \u001b[38;5;241m=\u001b[39m pd\u001b[38;5;241m.\u001b[39mto_datetime(\u001b[43mpair1\u001b[49m\u001b[43m[\u001b[49m\u001b[38;5;124;43m'\u001b[39;49m\u001b[38;5;124;43mtime\u001b[39;49m\u001b[38;5;124;43m'\u001b[39;49m\u001b[43m]\u001b[49m, unit \u001b[38;5;241m=\u001b[39m \u001b[38;5;124m'\u001b[39m\u001b[38;5;124ms\u001b[39m\u001b[38;5;124m'\u001b[39m)\n\u001b[0;32m     20\u001b[0m     pair1 \u001b[38;5;241m=\u001b[39m pair1\u001b[38;5;241m.\u001b[39mset_index(pair1[\u001b[38;5;124m'\u001b[39m\u001b[38;5;124mtime\u001b[39m\u001b[38;5;124m'\u001b[39m])\n\u001b[0;32m     21\u001b[0m     pair1 \u001b[38;5;241m=\u001b[39m pair1\u001b[38;5;241m.\u001b[39mdrop(columns \u001b[38;5;241m=\u001b[39m [\u001b[38;5;124m'\u001b[39m\u001b[38;5;124mtime\u001b[39m\u001b[38;5;124m'\u001b[39m,\u001b[38;5;124m'\u001b[39m\u001b[38;5;124mtick_volume\u001b[39m\u001b[38;5;124m'\u001b[39m, \u001b[38;5;124m'\u001b[39m\u001b[38;5;124mspread\u001b[39m\u001b[38;5;124m'\u001b[39m, \u001b[38;5;124m'\u001b[39m\u001b[38;5;124mreal_volume\u001b[39m\u001b[38;5;124m'\u001b[39m])\n",
      "File \u001b[1;32m~\\anaconda3\\lib\\site-packages\\pandas\\core\\frame.py:3505\u001b[0m, in \u001b[0;36mDataFrame.__getitem__\u001b[1;34m(self, key)\u001b[0m\n\u001b[0;32m   3503\u001b[0m \u001b[38;5;28;01mif\u001b[39;00m \u001b[38;5;28mself\u001b[39m\u001b[38;5;241m.\u001b[39mcolumns\u001b[38;5;241m.\u001b[39mnlevels \u001b[38;5;241m>\u001b[39m \u001b[38;5;241m1\u001b[39m:\n\u001b[0;32m   3504\u001b[0m     \u001b[38;5;28;01mreturn\u001b[39;00m \u001b[38;5;28mself\u001b[39m\u001b[38;5;241m.\u001b[39m_getitem_multilevel(key)\n\u001b[1;32m-> 3505\u001b[0m indexer \u001b[38;5;241m=\u001b[39m \u001b[38;5;28;43mself\u001b[39;49m\u001b[38;5;241;43m.\u001b[39;49m\u001b[43mcolumns\u001b[49m\u001b[38;5;241;43m.\u001b[39;49m\u001b[43mget_loc\u001b[49m\u001b[43m(\u001b[49m\u001b[43mkey\u001b[49m\u001b[43m)\u001b[49m\n\u001b[0;32m   3506\u001b[0m \u001b[38;5;28;01mif\u001b[39;00m is_integer(indexer):\n\u001b[0;32m   3507\u001b[0m     indexer \u001b[38;5;241m=\u001b[39m [indexer]\n",
      "File \u001b[1;32m~\\anaconda3\\lib\\site-packages\\pandas\\core\\indexes\\base.py:3631\u001b[0m, in \u001b[0;36mIndex.get_loc\u001b[1;34m(self, key, method, tolerance)\u001b[0m\n\u001b[0;32m   3629\u001b[0m     \u001b[38;5;28;01mreturn\u001b[39;00m \u001b[38;5;28mself\u001b[39m\u001b[38;5;241m.\u001b[39m_engine\u001b[38;5;241m.\u001b[39mget_loc(casted_key)\n\u001b[0;32m   3630\u001b[0m \u001b[38;5;28;01mexcept\u001b[39;00m \u001b[38;5;167;01mKeyError\u001b[39;00m \u001b[38;5;28;01mas\u001b[39;00m err:\n\u001b[1;32m-> 3631\u001b[0m     \u001b[38;5;28;01mraise\u001b[39;00m \u001b[38;5;167;01mKeyError\u001b[39;00m(key) \u001b[38;5;28;01mfrom\u001b[39;00m \u001b[38;5;21;01merr\u001b[39;00m\n\u001b[0;32m   3632\u001b[0m \u001b[38;5;28;01mexcept\u001b[39;00m \u001b[38;5;167;01mTypeError\u001b[39;00m:\n\u001b[0;32m   3633\u001b[0m     \u001b[38;5;66;03m# If we have a listlike key, _check_indexing_error will raise\u001b[39;00m\n\u001b[0;32m   3634\u001b[0m     \u001b[38;5;66;03m#  InvalidIndexError. Otherwise we fall through and re-raise\u001b[39;00m\n\u001b[0;32m   3635\u001b[0m     \u001b[38;5;66;03m#  the TypeError.\u001b[39;00m\n\u001b[0;32m   3636\u001b[0m     \u001b[38;5;28mself\u001b[39m\u001b[38;5;241m.\u001b[39m_check_indexing_error(key)\n",
      "\u001b[1;31mKeyError\u001b[0m: 'time'"
     ]
    }
   ],
   "source": [
    "import time \n",
    "\n",
    "while True:\n",
    "    run()\n",
    "    \n",
    "    print('Strategy Inter-lagged Loop Completed')\n",
    "    \n",
    "    time.sleep(30)"
   ]
  },
  {
   "cell_type": "code",
   "execution_count": 42,
   "id": "c05a5184-cdcc-42e1-a3a9-e73e9fa25681",
   "metadata": {},
   "outputs": [
    {
     "ename": "TypeError",
     "evalue": "cannot perform __mul__ with this index type: DatetimeArray",
     "output_type": "error",
     "traceback": [
      "\u001b[1;31m---------------------------------------------------------------------------\u001b[0m",
      "\u001b[1;31mTypeError\u001b[0m                                 Traceback (most recent call last)",
      "Cell \u001b[1;32mIn[42], line 19\u001b[0m\n\u001b[0;32m     17\u001b[0m \u001b[38;5;28;01mfor\u001b[39;00m _, h_row \u001b[38;5;129;01min\u001b[39;00m eu_hrly\u001b[38;5;241m.\u001b[39miterrows():\n\u001b[0;32m     18\u001b[0m     eu_hrly \u001b[38;5;241m=\u001b[39m h_row[\u001b[38;5;124m'\u001b[39m\u001b[38;5;124mreturn\u001b[39m\u001b[38;5;124m'\u001b[39m]\n\u001b[1;32m---> 19\u001b[0m     correlation \u001b[38;5;241m=\u001b[39m \u001b[43meu_daily\u001b[49m\u001b[43m \u001b[49m\u001b[38;5;241;43m*\u001b[39;49m\u001b[43m \u001b[49m\u001b[43meu_hrly\u001b[49m  \u001b[38;5;66;03m# Calculate correlation (using a simple multiplication here for illustration)\u001b[39;00m\n\u001b[0;32m     20\u001b[0m     correlations\u001b[38;5;241m.\u001b[39mappend(correlation)\n",
      "File \u001b[1;32m~\\anaconda3\\lib\\site-packages\\pandas\\core\\ops\\common.py:70\u001b[0m, in \u001b[0;36m_unpack_zerodim_and_defer.<locals>.new_method\u001b[1;34m(self, other)\u001b[0m\n\u001b[0;32m     66\u001b[0m             \u001b[38;5;28;01mreturn\u001b[39;00m \u001b[38;5;28mNotImplemented\u001b[39m\n\u001b[0;32m     68\u001b[0m other \u001b[38;5;241m=\u001b[39m item_from_zerodim(other)\n\u001b[1;32m---> 70\u001b[0m \u001b[38;5;28;01mreturn\u001b[39;00m \u001b[43mmethod\u001b[49m\u001b[43m(\u001b[49m\u001b[38;5;28;43mself\u001b[39;49m\u001b[43m,\u001b[49m\u001b[43m \u001b[49m\u001b[43mother\u001b[49m\u001b[43m)\u001b[49m\n",
      "File \u001b[1;32m~\\anaconda3\\lib\\site-packages\\pandas\\core\\arraylike.py:116\u001b[0m, in \u001b[0;36mOpsMixin.__mul__\u001b[1;34m(self, other)\u001b[0m\n\u001b[0;32m    114\u001b[0m \u001b[38;5;129m@unpack_zerodim_and_defer\u001b[39m(\u001b[38;5;124m\"\u001b[39m\u001b[38;5;124m__mul__\u001b[39m\u001b[38;5;124m\"\u001b[39m)\n\u001b[0;32m    115\u001b[0m \u001b[38;5;28;01mdef\u001b[39;00m \u001b[38;5;21m__mul__\u001b[39m(\u001b[38;5;28mself\u001b[39m, other):\n\u001b[1;32m--> 116\u001b[0m     \u001b[38;5;28;01mreturn\u001b[39;00m \u001b[38;5;28;43mself\u001b[39;49m\u001b[38;5;241;43m.\u001b[39;49m\u001b[43m_arith_method\u001b[49m\u001b[43m(\u001b[49m\u001b[43mother\u001b[49m\u001b[43m,\u001b[49m\u001b[43m \u001b[49m\u001b[43moperator\u001b[49m\u001b[38;5;241;43m.\u001b[39;49m\u001b[43mmul\u001b[49m\u001b[43m)\u001b[49m\n",
      "File \u001b[1;32m~\\anaconda3\\lib\\site-packages\\pandas\\core\\frame.py:6955\u001b[0m, in \u001b[0;36mDataFrame._arith_method\u001b[1;34m(self, other, op)\u001b[0m\n\u001b[0;32m   6951\u001b[0m other \u001b[38;5;241m=\u001b[39m ops\u001b[38;5;241m.\u001b[39mmaybe_prepare_scalar_for_op(other, (\u001b[38;5;28mself\u001b[39m\u001b[38;5;241m.\u001b[39mshape[axis],))\n\u001b[0;32m   6953\u001b[0m \u001b[38;5;28mself\u001b[39m, other \u001b[38;5;241m=\u001b[39m ops\u001b[38;5;241m.\u001b[39malign_method_FRAME(\u001b[38;5;28mself\u001b[39m, other, axis, flex\u001b[38;5;241m=\u001b[39m\u001b[38;5;28;01mTrue\u001b[39;00m, level\u001b[38;5;241m=\u001b[39m\u001b[38;5;28;01mNone\u001b[39;00m)\n\u001b[1;32m-> 6955\u001b[0m new_data \u001b[38;5;241m=\u001b[39m \u001b[38;5;28;43mself\u001b[39;49m\u001b[38;5;241;43m.\u001b[39;49m\u001b[43m_dispatch_frame_op\u001b[49m\u001b[43m(\u001b[49m\u001b[43mother\u001b[49m\u001b[43m,\u001b[49m\u001b[43m \u001b[49m\u001b[43mop\u001b[49m\u001b[43m,\u001b[49m\u001b[43m \u001b[49m\u001b[43maxis\u001b[49m\u001b[38;5;241;43m=\u001b[39;49m\u001b[43maxis\u001b[49m\u001b[43m)\u001b[49m\n\u001b[0;32m   6956\u001b[0m \u001b[38;5;28;01mreturn\u001b[39;00m \u001b[38;5;28mself\u001b[39m\u001b[38;5;241m.\u001b[39m_construct_result(new_data)\n",
      "File \u001b[1;32m~\\anaconda3\\lib\\site-packages\\pandas\\core\\frame.py:6982\u001b[0m, in \u001b[0;36mDataFrame._dispatch_frame_op\u001b[1;34m(self, right, func, axis)\u001b[0m\n\u001b[0;32m   6979\u001b[0m \u001b[38;5;28;01mif\u001b[39;00m \u001b[38;5;129;01mnot\u001b[39;00m is_list_like(right):\n\u001b[0;32m   6980\u001b[0m     \u001b[38;5;66;03m# i.e. scalar, faster than checking np.ndim(right) == 0\u001b[39;00m\n\u001b[0;32m   6981\u001b[0m     \u001b[38;5;28;01mwith\u001b[39;00m np\u001b[38;5;241m.\u001b[39merrstate(\u001b[38;5;28mall\u001b[39m\u001b[38;5;241m=\u001b[39m\u001b[38;5;124m\"\u001b[39m\u001b[38;5;124mignore\u001b[39m\u001b[38;5;124m\"\u001b[39m):\n\u001b[1;32m-> 6982\u001b[0m         bm \u001b[38;5;241m=\u001b[39m \u001b[38;5;28;43mself\u001b[39;49m\u001b[38;5;241;43m.\u001b[39;49m\u001b[43m_mgr\u001b[49m\u001b[38;5;241;43m.\u001b[39;49m\u001b[43mapply\u001b[49m\u001b[43m(\u001b[49m\u001b[43marray_op\u001b[49m\u001b[43m,\u001b[49m\u001b[43m \u001b[49m\u001b[43mright\u001b[49m\u001b[38;5;241;43m=\u001b[39;49m\u001b[43mright\u001b[49m\u001b[43m)\u001b[49m\n\u001b[0;32m   6983\u001b[0m     \u001b[38;5;28;01mreturn\u001b[39;00m \u001b[38;5;28mself\u001b[39m\u001b[38;5;241m.\u001b[39m_constructor(bm)\n\u001b[0;32m   6985\u001b[0m \u001b[38;5;28;01melif\u001b[39;00m \u001b[38;5;28misinstance\u001b[39m(right, DataFrame):\n",
      "File \u001b[1;32m~\\anaconda3\\lib\\site-packages\\pandas\\core\\internals\\managers.py:302\u001b[0m, in \u001b[0;36mBaseBlockManager.apply\u001b[1;34m(self, f, align_keys, ignore_failures, **kwargs)\u001b[0m\n\u001b[0;32m    300\u001b[0m \u001b[38;5;28;01mtry\u001b[39;00m:\n\u001b[0;32m    301\u001b[0m     \u001b[38;5;28;01mif\u001b[39;00m callable(f):\n\u001b[1;32m--> 302\u001b[0m         applied \u001b[38;5;241m=\u001b[39m b\u001b[38;5;241m.\u001b[39mapply(f, \u001b[38;5;241m*\u001b[39m\u001b[38;5;241m*\u001b[39mkwargs)\n\u001b[0;32m    303\u001b[0m     \u001b[38;5;28;01melse\u001b[39;00m:\n\u001b[0;32m    304\u001b[0m         applied \u001b[38;5;241m=\u001b[39m \u001b[38;5;28mgetattr\u001b[39m(b, f)(\u001b[38;5;241m*\u001b[39m\u001b[38;5;241m*\u001b[39mkwargs)\n",
      "File \u001b[1;32m~\\anaconda3\\lib\\site-packages\\pandas\\core\\internals\\blocks.py:402\u001b[0m, in \u001b[0;36mBlock.apply\u001b[1;34m(self, func, **kwargs)\u001b[0m\n\u001b[0;32m    396\u001b[0m \u001b[38;5;129m@final\u001b[39m\n\u001b[0;32m    397\u001b[0m \u001b[38;5;28;01mdef\u001b[39;00m \u001b[38;5;21mapply\u001b[39m(\u001b[38;5;28mself\u001b[39m, func, \u001b[38;5;241m*\u001b[39m\u001b[38;5;241m*\u001b[39mkwargs) \u001b[38;5;241m-\u001b[39m\u001b[38;5;241m>\u001b[39m \u001b[38;5;28mlist\u001b[39m[Block]:\n\u001b[0;32m    398\u001b[0m     \u001b[38;5;124;03m\"\"\"\u001b[39;00m\n\u001b[0;32m    399\u001b[0m \u001b[38;5;124;03m    apply the function to my values; return a block if we are not\u001b[39;00m\n\u001b[0;32m    400\u001b[0m \u001b[38;5;124;03m    one\u001b[39;00m\n\u001b[0;32m    401\u001b[0m \u001b[38;5;124;03m    \"\"\"\u001b[39;00m\n\u001b[1;32m--> 402\u001b[0m     result \u001b[38;5;241m=\u001b[39m func(\u001b[38;5;28mself\u001b[39m\u001b[38;5;241m.\u001b[39mvalues, \u001b[38;5;241m*\u001b[39m\u001b[38;5;241m*\u001b[39mkwargs)\n\u001b[0;32m    404\u001b[0m     \u001b[38;5;28;01mreturn\u001b[39;00m \u001b[38;5;28mself\u001b[39m\u001b[38;5;241m.\u001b[39m_split_op_result(result)\n",
      "File \u001b[1;32m~\\anaconda3\\lib\\site-packages\\pandas\\core\\ops\\array_ops.py:216\u001b[0m, in \u001b[0;36marithmetic_op\u001b[1;34m(left, right, op)\u001b[0m\n\u001b[0;32m    203\u001b[0m \u001b[38;5;66;03m# NB: We assume that extract_array and ensure_wrapped_if_datetimelike\u001b[39;00m\n\u001b[0;32m    204\u001b[0m \u001b[38;5;66;03m#  have already been called on `left` and `right`,\u001b[39;00m\n\u001b[0;32m    205\u001b[0m \u001b[38;5;66;03m#  and `maybe_prepare_scalar_for_op` has already been called on `right`\u001b[39;00m\n\u001b[0;32m    206\u001b[0m \u001b[38;5;66;03m# We need to special-case datetime64/timedelta64 dtypes (e.g. because numpy\u001b[39;00m\n\u001b[0;32m    207\u001b[0m \u001b[38;5;66;03m# casts integer dtypes to timedelta64 when operating with timedelta64 - GH#22390)\u001b[39;00m\n\u001b[0;32m    209\u001b[0m \u001b[38;5;28;01mif\u001b[39;00m (\n\u001b[0;32m    210\u001b[0m     should_extension_dispatch(left, right)\n\u001b[0;32m    211\u001b[0m     \u001b[38;5;129;01mor\u001b[39;00m \u001b[38;5;28misinstance\u001b[39m(right, (Timedelta, BaseOffset, Timestamp))\n\u001b[1;32m   (...)\u001b[0m\n\u001b[0;32m    214\u001b[0m     \u001b[38;5;66;03m# Timedelta/Timestamp and other custom scalars are included in the check\u001b[39;00m\n\u001b[0;32m    215\u001b[0m     \u001b[38;5;66;03m# because numexpr will fail on it, see GH#31457\u001b[39;00m\n\u001b[1;32m--> 216\u001b[0m     res_values \u001b[38;5;241m=\u001b[39m \u001b[43mop\u001b[49m\u001b[43m(\u001b[49m\u001b[43mleft\u001b[49m\u001b[43m,\u001b[49m\u001b[43m \u001b[49m\u001b[43mright\u001b[49m\u001b[43m)\u001b[49m\n\u001b[0;32m    217\u001b[0m \u001b[38;5;28;01melse\u001b[39;00m:\n\u001b[0;32m    218\u001b[0m     \u001b[38;5;66;03m# TODO we should handle EAs consistently and move this check before the if/else\u001b[39;00m\n\u001b[0;32m    219\u001b[0m     \u001b[38;5;66;03m# (https://github.com/pandas-dev/pandas/issues/41165)\u001b[39;00m\n\u001b[0;32m    220\u001b[0m     _bool_arith_check(op, left, right)\n",
      "File \u001b[1;32m~\\anaconda3\\lib\\site-packages\\pandas\\core\\ops\\invalid.py:53\u001b[0m, in \u001b[0;36mmake_invalid_op.<locals>.invalid_op\u001b[1;34m(self, other)\u001b[0m\n\u001b[0;32m     51\u001b[0m \u001b[38;5;28;01mdef\u001b[39;00m \u001b[38;5;21minvalid_op\u001b[39m(\u001b[38;5;28mself\u001b[39m, other\u001b[38;5;241m=\u001b[39m\u001b[38;5;28;01mNone\u001b[39;00m):\n\u001b[0;32m     52\u001b[0m     typ \u001b[38;5;241m=\u001b[39m \u001b[38;5;28mtype\u001b[39m(\u001b[38;5;28mself\u001b[39m)\u001b[38;5;241m.\u001b[39m\u001b[38;5;18m__name__\u001b[39m\n\u001b[1;32m---> 53\u001b[0m     \u001b[38;5;28;01mraise\u001b[39;00m \u001b[38;5;167;01mTypeError\u001b[39;00m(\u001b[38;5;124mf\u001b[39m\u001b[38;5;124m\"\u001b[39m\u001b[38;5;124mcannot perform \u001b[39m\u001b[38;5;132;01m{\u001b[39;00mname\u001b[38;5;132;01m}\u001b[39;00m\u001b[38;5;124m with this index type: \u001b[39m\u001b[38;5;132;01m{\u001b[39;00mtyp\u001b[38;5;132;01m}\u001b[39;00m\u001b[38;5;124m\"\u001b[39m)\n",
      "\u001b[1;31mTypeError\u001b[0m: cannot perform __mul__ with this index type: DatetimeArray"
     ]
    }
   ],
   "source": [
    "# Calculate daily returns\n",
    "eu_daily['return'] = eu_daily['close'].pct_change()\n",
    "\n",
    "# Calculate hourly returns\n",
    "eu_hrly['return'] = eu_hrly['close'].pct_change()\n",
    "\n",
    "correlations = []\n",
    "\n",
    "for index, row in eu_daily.iterrows():\n",
    "    day = row['time']\n",
    "    daily_return = row['return']\n",
    "    \n",
    "    # Select the 24 hourly data points after this day\n",
    "    mask = (eu_hrly['time'] > day) & (eu_hrly['time'] <= (pd.to_datetime(day) + pd.Timedelta(days=1)))\n",
    "    eu_hrly = eu_hrly.loc[mask]\n",
    "    \n",
    "    for _, h_row in eu_hrly.iterrows():\n",
    "        eu_hrly = h_row['return']\n",
    "        correlation = eu_daily * eu_hrly  # Calculate correlation (using a simple multiplication here for illustration)\n",
    "        correlations.append(correlation)\n",
    "\n",
    "# average_correlation = sum(correlations) / len(correlations)\n",
    "# print(average_correlation)"
   ]
  },
  {
   "cell_type": "code",
   "execution_count": null,
   "id": "71644e1d-c00f-4f2c-8ab4-ce678011d024",
   "metadata": {},
   "outputs": [],
   "source": []
  }
 ],
 "metadata": {
  "kernelspec": {
   "display_name": "Python 3 (ipykernel)",
   "language": "python",
   "name": "python3"
  },
  "language_info": {
   "codemirror_mode": {
    "name": "ipython",
    "version": 3
   },
   "file_extension": ".py",
   "mimetype": "text/x-python",
   "name": "python",
   "nbconvert_exporter": "python",
   "pygments_lexer": "ipython3",
   "version": "3.11.5"
  }
 },
 "nbformat": 4,
 "nbformat_minor": 5
}
