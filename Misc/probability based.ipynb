{
 "cells": [
  {
   "cell_type": "code",
   "execution_count": 1,
   "id": "447f47b7-d376-4551-a376-e90c282f569a",
   "metadata": {},
   "outputs": [],
   "source": [
    "import MetaTrader5 as mt5\n",
    "from datetime import datetime\n",
    "import pytz\n",
    "import pandas as pd\n",
    "import matplotlib.pyplot as plt\n",
    "from statsmodels.tsa.arima.model import ARIMA\n",
    "import numpy as np\n",
    "import warnings\n",
    "warnings.filterwarnings(\"ignore\")\n",
    "mt5.initialize()\n",
    "account=51127988\n",
    "password=\"Aar2frM7\"\n",
    "server = 'ICMarkets-Demo'"
   ]
  },
  {
   "cell_type": "markdown",
   "id": "f6d7daa3-59a3-40b7-bd49-2ba6757349c2",
   "metadata": {},
   "source": [
    "# Axioms to test\n",
    "\n",
    "Given a 7 pip movement of the 'base' symbols:\n",
    "\n",
    "- If USDJPY, USDCHF rise, EURUSD falls \n",
    "- If GBPUSD and GBPJPY rise, EURGBP falls\n",
    "- If AUDSD falls and USDCAD rises, Gold increases \n",
    "- If EURUSD rises and USDCHF falls, EURCHF increases \n",
    "\n",
    "## Notes\n",
    "\n",
    "- Could there be a time-lagged correlation with the above? For example, instead of the 3rd symbol increasing/decreasing based on the first two symbols on the next candle, could the ith element increase instead? So if USDJPY and USDCHF rise, would EURUSD fall on the 6th candle following?"
   ]
  },
  {
   "cell_type": "code",
   "execution_count": null,
   "id": "d6a5c682-6cf5-4d3a-88eb-66cc8d72a107",
   "metadata": {},
   "outputs": [],
   "source": []
  }
 ],
 "metadata": {
  "kernelspec": {
   "display_name": "Python 3 (ipykernel)",
   "language": "python",
   "name": "python3"
  },
  "language_info": {
   "codemirror_mode": {
    "name": "ipython",
    "version": 3
   },
   "file_extension": ".py",
   "mimetype": "text/x-python",
   "name": "python",
   "nbconvert_exporter": "python",
   "pygments_lexer": "ipython3",
   "version": "3.9.13"
  }
 },
 "nbformat": 4,
 "nbformat_minor": 5
}
