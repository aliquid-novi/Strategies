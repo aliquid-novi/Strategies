{
 "cells": [
  {
   "cell_type": "markdown",
   "id": "fa8ce075-9ace-40cf-abac-70a36f932a2a",
   "metadata": {},
   "source": [
    "Types of methods to be used:\n",
    "1. Cross-Correlation Analysis\n",
    "2. Granger Causality Test\n",
    "3. VAR Model\n",
    "4. Impulse Response Analysis\n",
    "5. Lagged Regression Analysis "
   ]
  },
  {
   "cell_type": "code",
   "execution_count": 1,
   "id": "2a52e893-d01c-4d1c-82e7-a48e895fe67c",
   "metadata": {},
   "outputs": [],
   "source": [
    "import MetaTrader5 as mt5\n",
    "from datetime import datetime\n",
    "import pytz\n",
    "import pandas as pd\n",
    "import matplotlib.pyplot as plt\n",
    "from statsmodels.tsa.arima.model import ARIMA\n",
    "import numpy as np\n",
    "import warnings\n",
    "warnings.filterwarnings(\"ignore\")\n",
    "mt5.initialize()\n",
    "account=51127988\n",
    "password=\"Aar2frM7\"\n",
    "server = 'ICMarkets-Demo'"
   ]
  },
  {
   "cell_type": "code",
   "execution_count": 2,
   "id": "cd296808-b11e-4803-878e-5f57865d4130",
   "metadata": {},
   "outputs": [],
   "source": [
    "def get_rates(pair1, tf, x):\n",
    "    pair1 = pd.DataFrame(mt5.copy_rates_from_pos(pair1, tf, 0, x))\n",
    "    pair1['time'] = pd.to_datetime(pair1['time'], unit = 's')\n",
    "    pair1 = pair1.set_index(pair1['time'])\n",
    "    pair1 = pair1.drop(columns = ['time','tick_volume', 'spread', 'real_volume'])\n",
    "    return pair1"
   ]
  },
  {
   "cell_type": "markdown",
   "id": "6e63d7f3-d97a-4125-a86b-b18a6887cbaf",
   "metadata": {},
   "source": [
    "## Hypothesis \n",
    "Currency prices whose sessions open prior to other sessions can be a leading indicator of prices for currencies sessions not yet opened, which can be found through interdependent and time lagged analysis. For example, if the Sydney session open in the first hour returns +10 pips, USDJPY is expected to return -10 pips in the first hour. \n",
    "\n",
    "## Method\n",
    "\n",
    "Gather data on the first 5min to 60min bars of each open, starting with Sydney. Will base currencies against the USD Markets open in the following order:\n",
    "\n",
    "- Sydney: 7PM (AUDUSD)\n",
    "- Tokyo: 8PM (USDJPY)\n",
    "- Frankfurt: 1PM (EURUSD)\n",
    "- London: 2PM (GBPUSD)\n",
    "- New York: 3PM (NIL)\n",
    "\n",
    "Run a Pearson Correlation and a Granger Causality method on the gathered data and the respective currencies.\n",
    "\n"
   ]
  },
  {
   "cell_type": "code",
   "execution_count": null,
   "id": "39c5eb67-25b2-4d9d-ae66-4b79c809f8d4",
   "metadata": {},
   "outputs": [],
   "source": []
  },
  {
   "cell_type": "code",
   "execution_count": 5,
   "id": "48f8e48a-17dd-432d-ac69-dadfbe20019c",
   "metadata": {},
   "outputs": [
    {
     "data": {
      "text/html": [
       "<div>\n",
       "<style scoped>\n",
       "    .dataframe tbody tr th:only-of-type {\n",
       "        vertical-align: middle;\n",
       "    }\n",
       "\n",
       "    .dataframe tbody tr th {\n",
       "        vertical-align: top;\n",
       "    }\n",
       "\n",
       "    .dataframe thead th {\n",
       "        text-align: right;\n",
       "    }\n",
       "</style>\n",
       "<table border=\"1\" class=\"dataframe\">\n",
       "  <thead>\n",
       "    <tr style=\"text-align: right;\">\n",
       "      <th></th>\n",
       "      <th>open</th>\n",
       "      <th>high</th>\n",
       "      <th>low</th>\n",
       "      <th>close</th>\n",
       "    </tr>\n",
       "    <tr>\n",
       "      <th>time</th>\n",
       "      <th></th>\n",
       "      <th></th>\n",
       "      <th></th>\n",
       "      <th></th>\n",
       "    </tr>\n",
       "  </thead>\n",
       "  <tbody>\n",
       "    <tr>\n",
       "      <th>2015-06-03 20:00:00</th>\n",
       "      <td>124.371</td>\n",
       "      <td>124.423</td>\n",
       "      <td>124.317</td>\n",
       "      <td>124.400</td>\n",
       "    </tr>\n",
       "    <tr>\n",
       "      <th>2015-06-04 20:00:00</th>\n",
       "      <td>124.516</td>\n",
       "      <td>124.535</td>\n",
       "      <td>124.346</td>\n",
       "      <td>124.348</td>\n",
       "    </tr>\n",
       "    <tr>\n",
       "      <th>2015-06-05 20:00:00</th>\n",
       "      <td>125.516</td>\n",
       "      <td>125.617</td>\n",
       "      <td>125.459</td>\n",
       "      <td>125.593</td>\n",
       "    </tr>\n",
       "    <tr>\n",
       "      <th>2015-06-08 20:00:00</th>\n",
       "      <td>125.055</td>\n",
       "      <td>125.075</td>\n",
       "      <td>124.688</td>\n",
       "      <td>124.744</td>\n",
       "    </tr>\n",
       "    <tr>\n",
       "      <th>2015-06-09 20:00:00</th>\n",
       "      <td>124.288</td>\n",
       "      <td>124.427</td>\n",
       "      <td>124.252</td>\n",
       "      <td>124.403</td>\n",
       "    </tr>\n",
       "    <tr>\n",
       "      <th>...</th>\n",
       "      <td>...</td>\n",
       "      <td>...</td>\n",
       "      <td>...</td>\n",
       "      <td>...</td>\n",
       "    </tr>\n",
       "    <tr>\n",
       "      <th>2023-06-08 20:00:00</th>\n",
       "      <td>138.923</td>\n",
       "      <td>138.980</td>\n",
       "      <td>138.898</td>\n",
       "      <td>138.940</td>\n",
       "    </tr>\n",
       "    <tr>\n",
       "      <th>2023-06-09 20:00:00</th>\n",
       "      <td>139.362</td>\n",
       "      <td>139.368</td>\n",
       "      <td>139.292</td>\n",
       "      <td>139.325</td>\n",
       "    </tr>\n",
       "    <tr>\n",
       "      <th>2023-06-12 20:00:00</th>\n",
       "      <td>139.714</td>\n",
       "      <td>139.768</td>\n",
       "      <td>139.576</td>\n",
       "      <td>139.637</td>\n",
       "    </tr>\n",
       "    <tr>\n",
       "      <th>2023-06-13 20:00:00</th>\n",
       "      <td>139.896</td>\n",
       "      <td>140.203</td>\n",
       "      <td>139.840</td>\n",
       "      <td>140.176</td>\n",
       "    </tr>\n",
       "    <tr>\n",
       "      <th>2023-06-14 20:00:00</th>\n",
       "      <td>139.356</td>\n",
       "      <td>139.445</td>\n",
       "      <td>139.334</td>\n",
       "      <td>139.421</td>\n",
       "    </tr>\n",
       "  </tbody>\n",
       "</table>\n",
       "<p>2083 rows × 4 columns</p>\n",
       "</div>"
      ],
      "text/plain": [
       "                        open     high      low    close\n",
       "time                                                   \n",
       "2015-06-03 20:00:00  124.371  124.423  124.317  124.400\n",
       "2015-06-04 20:00:00  124.516  124.535  124.346  124.348\n",
       "2015-06-05 20:00:00  125.516  125.617  125.459  125.593\n",
       "2015-06-08 20:00:00  125.055  125.075  124.688  124.744\n",
       "2015-06-09 20:00:00  124.288  124.427  124.252  124.403\n",
       "...                      ...      ...      ...      ...\n",
       "2023-06-08 20:00:00  138.923  138.980  138.898  138.940\n",
       "2023-06-09 20:00:00  139.362  139.368  139.292  139.325\n",
       "2023-06-12 20:00:00  139.714  139.768  139.576  139.637\n",
       "2023-06-13 20:00:00  139.896  140.203  139.840  140.176\n",
       "2023-06-14 20:00:00  139.356  139.445  139.334  139.421\n",
       "\n",
       "[2083 rows x 4 columns]"
      ]
     },
     "execution_count": 5,
     "metadata": {},
     "output_type": "execute_result"
    }
   ],
   "source": [
    "#Starting with AUDUSD, Hourly Timeframe \n",
    "AUDUSD = get_rates('AUDUSD.a', mt5.TIMEFRAME_H1, 50000)\n",
    "syd_opens = AUDUSD.between_time('19:00','19:59')\n",
    "syd_opens['Syd Pip Return'] = 10000 * (syd_opens['open'] - syd_opens['close'])\n",
    "USDJPY = get_rates('USDJPY.a', mt5.TIMEFRAME_H1, 50000)\n",
    "tokyo_opens = USDJPY.between_time('20:00', '20:59')\n",
    "tokyo_opens"
   ]
  },
  {
   "cell_type": "code",
   "execution_count": 52,
   "id": "28200e65-2a29-4c6a-b530-e0a2616a205a",
   "metadata": {},
   "outputs": [],
   "source": [
    "tokyo_opens['Tko Pip Return'] = (tokyo_opens['open'] - tokyo_opens['close'])"
   ]
  },
  {
   "cell_type": "code",
   "execution_count": 55,
   "id": "7f8cc971-f191-4695-9f6e-dfb0e230ce41",
   "metadata": {},
   "outputs": [
    {
     "data": {
      "text/plain": [
       "array([[1.       , 0.6430547],\n",
       "       [0.6430547, 1.       ]])"
      ]
     },
     "execution_count": 55,
     "metadata": {},
     "output_type": "execute_result"
    }
   ],
   "source": [
    "pearson_corr = np.corrcoef(syd_opens['Syd Pip Return'].tail(5), tokyo_opens['Tko Pip Return'].tail(5)) \n",
    "pearson_corr"
   ]
  },
  {
   "cell_type": "code",
   "execution_count": null,
   "id": "a56a1042-8e99-454a-a2f0-50edf7efdb1b",
   "metadata": {},
   "outputs": [],
   "source": []
  }
 ],
 "metadata": {
  "kernelspec": {
   "display_name": "Python 3 (ipykernel)",
   "language": "python",
   "name": "python3"
  },
  "language_info": {
   "codemirror_mode": {
    "name": "ipython",
    "version": 3
   },
   "file_extension": ".py",
   "mimetype": "text/x-python",
   "name": "python",
   "nbconvert_exporter": "python",
   "pygments_lexer": "ipython3",
   "version": "3.9.13"
  }
 },
 "nbformat": 4,
 "nbformat_minor": 5
}
