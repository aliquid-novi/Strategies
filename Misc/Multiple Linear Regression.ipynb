{
 "cells": [
  {
   "cell_type": "markdown",
   "id": "e050a39b-74fc-4607-b50c-73d487eb2198",
   "metadata": {},
   "source": [
    "Hybrid Forex prediction model using multiple regression, simulated annealing, reinforcement learning and technical analysis\n",
    "\n",
    "https://www.researchgate.net/profile/Chihab-Younes/publication/366165718_Hybrid_Forex_prediction_model_using_multiple_regression_simulated_annealing_reinforcement_learning_and_technical_analysis/links/6393e9e0e42faa7e75aefbac/Hybrid-Forex-prediction-model-using-multiple-regression-simulated-annealing-reinforcement-learning-and-technical-analysis.pdf?origin=publication_detail"
   ]
  },
  {
   "cell_type": "code",
   "execution_count": 238,
   "id": "7e15b458-e28f-4b65-b085-6956abe1ecbb",
   "metadata": {},
   "outputs": [],
   "source": [
    "import MetaTrader5 as mt5\n",
    "from datetime import datetime\n",
    "import pytz\n",
    "import pandas as pd\n",
    "import matplotlib.pyplot as plt\n",
    "from statsmodels.tsa.arima.model import ARIMA\n",
    "import numpy as np\n",
    "import warnings\n",
    "warnings.filterwarnings(\"ignore\")\n",
    "mt5.initialize()\n",
    "account=51127988\n",
    "password=\"Aar2frM7\"\n",
    "server = 'ICMarkets-Demo'"
   ]
  },
  {
   "cell_type": "code",
   "execution_count": 239,
   "id": "7fda7964-05fc-434a-8b40-55ba530911f2",
   "metadata": {},
   "outputs": [],
   "source": [
    "from sklearn.linear_model import LinearRegression\n",
    "import statsmodels.api as sm\n",
    "import ta"
   ]
  },
  {
   "cell_type": "code",
   "execution_count": 240,
   "id": "4eb17a7a-a94b-47af-b467-c1ab5602ab55",
   "metadata": {},
   "outputs": [],
   "source": [
    "def get_rates(pair1, timeframe, x):\n",
    "    pair1 = pd.DataFrame(mt5.copy_rates_from_pos(pair1, timeframe, 0, x))\n",
    "    pair1['time'] = pd.to_datetime(pair1['time'], unit = 's')\n",
    "    return pair1\n"
   ]
  },
  {
   "cell_type": "code",
   "execution_count": 294,
   "id": "e8b5e640-dc55-4a4b-9fe0-4b1d7e391714",
   "metadata": {},
   "outputs": [],
   "source": [
    "EURUSD = get_rates('AUDUSD.a', mt5.TIMEFRAME_D1, 500)\n",
    "EURUSD = EURUSD[['close']]\n",
    "for i in range(1,7):\n",
    "    EURUSD[f'Period {i}'] = EURUSD['close'].shift(i)\n",
    "\n",
    "EURUSD['2w'] = EURUSD['close'].rolling(window = 14).mean()\n",
    "EURUSD['1m'] = EURUSD['close'].rolling(window = 30).mean()\n",
    "\n",
    "EURUSD['rsi'] = ta.momentum.rsi(EURUSD['close'], window = 14, fillna = False)\n",
    "\n",
    "EURUSD = EURUSD.dropna()"
   ]
  },
  {
   "cell_type": "code",
   "execution_count": 295,
   "id": "45df4490-7d33-493a-92a2-f0646a47c78f",
   "metadata": {},
   "outputs": [],
   "source": [
    "EU_x = EURUSD\n",
    "EU_x = EU_x.drop('close', axis = 1)"
   ]
  },
  {
   "cell_type": "code",
   "execution_count": 296,
   "id": "2c0ae06f-4b1b-4fc2-af2e-5a10e95004de",
   "metadata": {},
   "outputs": [],
   "source": [
    "# Defining X (features) and y (target)\n",
    "X = EU_x\n",
    "X = X.dropna()\n",
    "y = EURUSD['close']"
   ]
  },
  {
   "cell_type": "code",
   "execution_count": 297,
   "id": "904f69ef-3d7c-4998-87f3-ddcf088c6178",
   "metadata": {},
   "outputs": [
    {
     "data": {
      "text/plain": [
       "LinearRegression()"
      ]
     },
     "execution_count": 297,
     "metadata": {},
     "output_type": "execute_result"
    }
   ],
   "source": [
    "##Define the model\n",
    "from sklearn.linear_model import LinearRegression\n",
    "# Create and train the model (replace with your actual training code)\n",
    "model = LinearRegression()\n",
    "model.fit(X, y)"
   ]
  },
  {
   "cell_type": "code",
   "execution_count": 301,
   "id": "89e31e54-5f1d-4410-a8b0-9b8f419977df",
   "metadata": {},
   "outputs": [],
   "source": [
    "vals = pd.DataFrame()  # Create an empty DataFrame\n",
    "\n",
    "for i in range(1, 251):  # Let's make sure it's consistent with the '250' you mentioned earlier\n",
    "    today_features = X.iloc[-i]\n",
    "    today_price = model.predict([today_features])[0]\n",
    "    \n",
    "    vals = vals.append({'Predicted': today_price, 'Actual': EURUSD['close'].iloc[-i]}, ignore_index=True)\n",
    "\n",
    "vals = vals[::-1].reset_index(drop=True)  # Reverse the order to match the original sequence"
   ]
  },
  {
   "cell_type": "code",
   "execution_count": 303,
   "id": "4ac4b4e1-5b05-416e-86e1-20643422e958",
   "metadata": {},
   "outputs": [
    {
     "data": {
      "text/plain": [
       "<AxesSubplot:>"
      ]
     },
     "execution_count": 303,
     "metadata": {},
     "output_type": "execute_result"
    },
    {
     "data": {
      "image/png": "[encoded data removed]",
      "text/plain": [
       "<Figure size 432x288 with 1 Axes>"
      ]
     },
     "metadata": {
      "needs_background": "light"
     },
     "output_type": "display_data"
    }
   ],
   "source": [
    "vals.plot()"
   ]
  },
  {
   "cell_type": "code",
   "execution_count": 300,
   "id": "8877ef7d-1dd2-43c9-b092-53a7a913e9bb",
   "metadata": {},
   "outputs": [
    {
     "ename": "ValueError",
     "evalue": "Columns must be same length as key",
     "output_type": "error",
     "traceback": [
      "\u001b[1;31m---------------------------------------------------------------------------\u001b[0m",
      "\u001b[1;31mValueError\u001b[0m                                Traceback (most recent call last)",
      "Input \u001b[1;32mIn [300]\u001b[0m, in \u001b[0;36m<cell line: 3>\u001b[1;34m()\u001b[0m\n\u001b[0;32m      4\u001b[0m today_features \u001b[38;5;241m=\u001b[39m X\u001b[38;5;241m.\u001b[39miloc[\u001b[38;5;241m-\u001b[39mi]\n\u001b[0;32m      5\u001b[0m today_price \u001b[38;5;241m=\u001b[39m model\u001b[38;5;241m.\u001b[39mpredict([today_features])[\u001b[38;5;241m0\u001b[39m]\n\u001b[1;32m----> 6\u001b[0m vals[\u001b[38;5;124m'\u001b[39m\u001b[38;5;124mPredicted\u001b[39m\u001b[38;5;124m'\u001b[39m] \u001b[38;5;241m=\u001b[39m vals\u001b[38;5;241m.\u001b[39mappend([today_price])\n\u001b[0;32m      7\u001b[0m vals[\u001b[38;5;124m'\u001b[39m\u001b[38;5;124mActual\u001b[39m\u001b[38;5;124m'\u001b[39m] \u001b[38;5;241m=\u001b[39m EURUSD[\u001b[38;5;124m'\u001b[39m\u001b[38;5;124mclose\u001b[39m\u001b[38;5;124m'\u001b[39m]\u001b[38;5;241m.\u001b[39miloc[\u001b[38;5;241m-\u001b[39mi]\n",
      "File \u001b[1;32m~\\anaconda3\\lib\\site-packages\\pandas\\core\\frame.py:3645\u001b[0m, in \u001b[0;36mDataFrame.__setitem__\u001b[1;34m(self, key, value)\u001b[0m\n\u001b[0;32m   3643\u001b[0m     \u001b[38;5;28mself\u001b[39m\u001b[38;5;241m.\u001b[39m_setitem_array(key, value)\n\u001b[0;32m   3644\u001b[0m \u001b[38;5;28;01melif\u001b[39;00m \u001b[38;5;28misinstance\u001b[39m(value, DataFrame):\n\u001b[1;32m-> 3645\u001b[0m     \u001b[38;5;28;43mself\u001b[39;49m\u001b[38;5;241;43m.\u001b[39;49m\u001b[43m_set_item_frame_value\u001b[49m\u001b[43m(\u001b[49m\u001b[43mkey\u001b[49m\u001b[43m,\u001b[49m\u001b[43m \u001b[49m\u001b[43mvalue\u001b[49m\u001b[43m)\u001b[49m\n\u001b[0;32m   3646\u001b[0m \u001b[38;5;28;01melif\u001b[39;00m (\n\u001b[0;32m   3647\u001b[0m     is_list_like(value)\n\u001b[0;32m   3648\u001b[0m     \u001b[38;5;129;01mand\u001b[39;00m \u001b[38;5;129;01mnot\u001b[39;00m \u001b[38;5;28mself\u001b[39m\u001b[38;5;241m.\u001b[39mcolumns\u001b[38;5;241m.\u001b[39mis_unique\n\u001b[0;32m   3649\u001b[0m     \u001b[38;5;129;01mand\u001b[39;00m \u001b[38;5;241m1\u001b[39m \u001b[38;5;241m<\u001b[39m \u001b[38;5;28mlen\u001b[39m(\u001b[38;5;28mself\u001b[39m\u001b[38;5;241m.\u001b[39mcolumns\u001b[38;5;241m.\u001b[39mget_indexer_for([key])) \u001b[38;5;241m==\u001b[39m \u001b[38;5;28mlen\u001b[39m(value)\n\u001b[0;32m   3650\u001b[0m ):\n\u001b[0;32m   3651\u001b[0m     \u001b[38;5;66;03m# Column to set is duplicated\u001b[39;00m\n\u001b[0;32m   3652\u001b[0m     \u001b[38;5;28mself\u001b[39m\u001b[38;5;241m.\u001b[39m_setitem_array([key], value)\n",
      "File \u001b[1;32m~\\anaconda3\\lib\\site-packages\\pandas\\core\\frame.py:3775\u001b[0m, in \u001b[0;36mDataFrame._set_item_frame_value\u001b[1;34m(self, key, value)\u001b[0m\n\u001b[0;32m   3773\u001b[0m len_cols \u001b[38;5;241m=\u001b[39m \u001b[38;5;241m1\u001b[39m \u001b[38;5;28;01mif\u001b[39;00m is_scalar(cols) \u001b[38;5;28;01melse\u001b[39;00m \u001b[38;5;28mlen\u001b[39m(cols)\n\u001b[0;32m   3774\u001b[0m \u001b[38;5;28;01mif\u001b[39;00m len_cols \u001b[38;5;241m!=\u001b[39m \u001b[38;5;28mlen\u001b[39m(value\u001b[38;5;241m.\u001b[39mcolumns):\n\u001b[1;32m-> 3775\u001b[0m     \u001b[38;5;28;01mraise\u001b[39;00m \u001b[38;5;167;01mValueError\u001b[39;00m(\u001b[38;5;124m\"\u001b[39m\u001b[38;5;124mColumns must be same length as key\u001b[39m\u001b[38;5;124m\"\u001b[39m)\n\u001b[0;32m   3777\u001b[0m \u001b[38;5;66;03m# align right-hand-side columns if self.columns\u001b[39;00m\n\u001b[0;32m   3778\u001b[0m \u001b[38;5;66;03m# is multi-index and self[key] is a sub-frame\u001b[39;00m\n\u001b[0;32m   3779\u001b[0m \u001b[38;5;28;01mif\u001b[39;00m \u001b[38;5;28misinstance\u001b[39m(\u001b[38;5;28mself\u001b[39m\u001b[38;5;241m.\u001b[39mcolumns, MultiIndex) \u001b[38;5;129;01mand\u001b[39;00m \u001b[38;5;28misinstance\u001b[39m(\n\u001b[0;32m   3780\u001b[0m     loc, (\u001b[38;5;28mslice\u001b[39m, Series, np\u001b[38;5;241m.\u001b[39mndarray, Index)\n\u001b[0;32m   3781\u001b[0m ):\n",
      "\u001b[1;31mValueError\u001b[0m: Columns must be same length as key"
     ]
    }
   ],
   "source": [
    "vals = pd.DataFrame()\n",
    "\n",
    "for i in range(250):\n",
    "    today_features = X.iloc[-i]\n",
    "    today_price = model.predict([today_features])[0]\n",
    "    vals['Predicted'] = vals.append([today_price])\n",
    "    vals['Actual'] = EURUSD['close'].iloc[-i]"
   ]
  },
  {
   "cell_type": "code",
   "execution_count": 288,
   "id": "efcdea44-1b30-49f2-a472-e61466f9dfd1",
   "metadata": {},
   "outputs": [
    {
     "data": {
      "text/html": [
       "<div>\n",
       "<style scoped>\n",
       "    .dataframe tbody tr th:only-of-type {\n",
       "        vertical-align: middle;\n",
       "    }\n",
       "\n",
       "    .dataframe tbody tr th {\n",
       "        vertical-align: top;\n",
       "    }\n",
       "\n",
       "    .dataframe thead th {\n",
       "        text-align: right;\n",
       "    }\n",
       "</style>\n",
       "<table border=\"1\" class=\"dataframe\">\n",
       "  <thead>\n",
       "    <tr style=\"text-align: right;\">\n",
       "      <th></th>\n",
       "      <th>0</th>\n",
       "      <th>closes</th>\n",
       "    </tr>\n",
       "  </thead>\n",
       "  <tbody>\n",
       "    <tr>\n",
       "      <th>0</th>\n",
       "      <td>0.710658</td>\n",
       "      <td>NaN</td>\n",
       "    </tr>\n",
       "    <tr>\n",
       "      <th>0</th>\n",
       "      <td>0.640054</td>\n",
       "      <td>NaN</td>\n",
       "    </tr>\n",
       "    <tr>\n",
       "      <th>0</th>\n",
       "      <td>0.641066</td>\n",
       "      <td>NaN</td>\n",
       "    </tr>\n",
       "    <tr>\n",
       "      <th>0</th>\n",
       "      <td>0.640130</td>\n",
       "      <td>NaN</td>\n",
       "    </tr>\n",
       "    <tr>\n",
       "      <th>0</th>\n",
       "      <td>0.633864</td>\n",
       "      <td>NaN</td>\n",
       "    </tr>\n",
       "    <tr>\n",
       "      <th>...</th>\n",
       "      <td>...</td>\n",
       "      <td>...</td>\n",
       "    </tr>\n",
       "    <tr>\n",
       "      <th>0</th>\n",
       "      <td>0.649905</td>\n",
       "      <td>NaN</td>\n",
       "    </tr>\n",
       "    <tr>\n",
       "      <th>0</th>\n",
       "      <td>0.652233</td>\n",
       "      <td>NaN</td>\n",
       "    </tr>\n",
       "    <tr>\n",
       "      <th>0</th>\n",
       "      <td>0.652442</td>\n",
       "      <td>NaN</td>\n",
       "    </tr>\n",
       "    <tr>\n",
       "      <th>0</th>\n",
       "      <td>0.646648</td>\n",
       "      <td>NaN</td>\n",
       "    </tr>\n",
       "    <tr>\n",
       "      <th>0</th>\n",
       "      <td>0.650964</td>\n",
       "      <td>NaN</td>\n",
       "    </tr>\n",
       "  </tbody>\n",
       "</table>\n",
       "<p>250 rows × 2 columns</p>\n",
       "</div>"
      ],
      "text/plain": [
       "           0  closes\n",
       "0   0.710658     NaN\n",
       "0   0.640054     NaN\n",
       "0   0.641066     NaN\n",
       "0   0.640130     NaN\n",
       "0   0.633864     NaN\n",
       "..       ...     ...\n",
       "0   0.649905     NaN\n",
       "0   0.652233     NaN\n",
       "0   0.652442     NaN\n",
       "0   0.646648     NaN\n",
       "0   0.650964     NaN\n",
       "\n",
       "[250 rows x 2 columns]"
      ]
     },
     "execution_count": 291,
     "metadata": {},
     "output_type": "execute_result"
    }
   ],
   "source": [
    "vals = pd.DataFrame(vals)\n",
    "vals['closes'] = EURUSD['close'][-250:]\n",
    "vals"
   ]
  },
  {
   "cell_type": "code",
   "execution_count": 245,
   "id": "7121d324-4615-4bef-9f6a-f0df58eafd15",
   "metadata": {},
   "outputs": [],
   "source": [
    "# # Weighted regression\n",
    "# model = sm.OLS(y, EU_x).fit()\n",
    "\n",
    "# # Get predictions (for example purposes)\n",
    "# predictions = model.predict(X)"
   ]
  },
  {
   "cell_type": "code",
   "execution_count": 263,
   "id": "1c558f8b-c0a7-4e31-acfb-3179e9b7eb15",
   "metadata": {},
   "outputs": [
    {
     "ename": "ValueError",
     "evalue": "Expected 2D array, got 1D array instead:\narray=[ 0.72243     0.72345     0.72762     0.72648     0.73019     0.7343\n  0.73158357  0.73981633 29.87650061].\nReshape your data either using array.reshape(-1, 1) if your data has a single feature or array.reshape(1, -1) if it contains a single sample.",
     "output_type": "error",
     "traceback": [
      "\u001b[1;31m---------------------------------------------------------------------------\u001b[0m",
      "\u001b[1;31mValueError\u001b[0m                                Traceback (most recent call last)",
      "Input \u001b[1;32mIn [263]\u001b[0m, in \u001b[0;36m<cell line: 2>\u001b[1;34m()\u001b[0m\n\u001b[0;32m      1\u001b[0m vals \u001b[38;5;241m=\u001b[39m []\n\u001b[0;32m      2\u001b[0m \u001b[38;5;28;01mfor\u001b[39;00m i \u001b[38;5;129;01min\u001b[39;00m \u001b[38;5;28mrange\u001b[39m(\u001b[38;5;241m50\u001b[39m):\n\u001b[1;32m----> 3\u001b[0m     predicted_price \u001b[38;5;241m=\u001b[39m \u001b[43mmodel\u001b[49m\u001b[38;5;241;43m.\u001b[39;49m\u001b[43mpredict\u001b[49m\u001b[43m(\u001b[49m\u001b[43mEU_x\u001b[49m\u001b[38;5;241;43m.\u001b[39;49m\u001b[43miloc\u001b[49m\u001b[43m[\u001b[49m\u001b[38;5;241;43m-\u001b[39;49m\u001b[43mi\u001b[49m\u001b[43m]\u001b[49m\u001b[43m)\u001b[49m\n\u001b[0;32m      4\u001b[0m     \u001b[38;5;66;03m# print(f\"{predicted_price.values[0]:.5f} vs actual close: {EURUSD['close'].iloc[-i]:.5f}\")\u001b[39;00m\n\u001b[0;32m      5\u001b[0m     vals\u001b[38;5;241m.\u001b[39mappend(predicted_price\u001b[38;5;241m.\u001b[39mvalues[\u001b[38;5;241m0\u001b[39m] \u001b[38;5;241m-\u001b[39m EURUSD[\u001b[38;5;124m'\u001b[39m\u001b[38;5;124mclose\u001b[39m\u001b[38;5;124m'\u001b[39m]\u001b[38;5;241m.\u001b[39miloc[i])\n",
      "File \u001b[1;32m~\\anaconda3\\lib\\site-packages\\sklearn\\linear_model\\_base.py:362\u001b[0m, in \u001b[0;36mLinearModel.predict\u001b[1;34m(self, X)\u001b[0m\n\u001b[0;32m    348\u001b[0m \u001b[38;5;28;01mdef\u001b[39;00m \u001b[38;5;21mpredict\u001b[39m(\u001b[38;5;28mself\u001b[39m, X):\n\u001b[0;32m    349\u001b[0m     \u001b[38;5;124;03m\"\"\"\u001b[39;00m\n\u001b[0;32m    350\u001b[0m \u001b[38;5;124;03m    Predict using the linear model.\u001b[39;00m\n\u001b[0;32m    351\u001b[0m \n\u001b[1;32m   (...)\u001b[0m\n\u001b[0;32m    360\u001b[0m \u001b[38;5;124;03m        Returns predicted values.\u001b[39;00m\n\u001b[0;32m    361\u001b[0m \u001b[38;5;124;03m    \"\"\"\u001b[39;00m\n\u001b[1;32m--> 362\u001b[0m     \u001b[38;5;28;01mreturn\u001b[39;00m \u001b[38;5;28;43mself\u001b[39;49m\u001b[38;5;241;43m.\u001b[39;49m\u001b[43m_decision_function\u001b[49m\u001b[43m(\u001b[49m\u001b[43mX\u001b[49m\u001b[43m)\u001b[49m\n",
      "File \u001b[1;32m~\\anaconda3\\lib\\site-packages\\sklearn\\linear_model\\_base.py:345\u001b[0m, in \u001b[0;36mLinearModel._decision_function\u001b[1;34m(self, X)\u001b[0m\n\u001b[0;32m    342\u001b[0m \u001b[38;5;28;01mdef\u001b[39;00m \u001b[38;5;21m_decision_function\u001b[39m(\u001b[38;5;28mself\u001b[39m, X):\n\u001b[0;32m    343\u001b[0m     check_is_fitted(\u001b[38;5;28mself\u001b[39m)\n\u001b[1;32m--> 345\u001b[0m     X \u001b[38;5;241m=\u001b[39m \u001b[38;5;28;43mself\u001b[39;49m\u001b[38;5;241;43m.\u001b[39;49m\u001b[43m_validate_data\u001b[49m\u001b[43m(\u001b[49m\u001b[43mX\u001b[49m\u001b[43m,\u001b[49m\u001b[43m \u001b[49m\u001b[43maccept_sparse\u001b[49m\u001b[38;5;241;43m=\u001b[39;49m\u001b[43m[\u001b[49m\u001b[38;5;124;43m\"\u001b[39;49m\u001b[38;5;124;43mcsr\u001b[39;49m\u001b[38;5;124;43m\"\u001b[39;49m\u001b[43m,\u001b[49m\u001b[43m \u001b[49m\u001b[38;5;124;43m\"\u001b[39;49m\u001b[38;5;124;43mcsc\u001b[39;49m\u001b[38;5;124;43m\"\u001b[39;49m\u001b[43m,\u001b[49m\u001b[43m \u001b[49m\u001b[38;5;124;43m\"\u001b[39;49m\u001b[38;5;124;43mcoo\u001b[39;49m\u001b[38;5;124;43m\"\u001b[39;49m\u001b[43m]\u001b[49m\u001b[43m,\u001b[49m\u001b[43m \u001b[49m\u001b[43mreset\u001b[49m\u001b[38;5;241;43m=\u001b[39;49m\u001b[38;5;28;43;01mFalse\u001b[39;49;00m\u001b[43m)\u001b[49m\n\u001b[0;32m    346\u001b[0m     \u001b[38;5;28;01mreturn\u001b[39;00m safe_sparse_dot(X, \u001b[38;5;28mself\u001b[39m\u001b[38;5;241m.\u001b[39mcoef_\u001b[38;5;241m.\u001b[39mT, dense_output\u001b[38;5;241m=\u001b[39m\u001b[38;5;28;01mTrue\u001b[39;00m) \u001b[38;5;241m+\u001b[39m \u001b[38;5;28mself\u001b[39m\u001b[38;5;241m.\u001b[39mintercept_\n",
      "File \u001b[1;32m~\\anaconda3\\lib\\site-packages\\sklearn\\base.py:566\u001b[0m, in \u001b[0;36mBaseEstimator._validate_data\u001b[1;34m(self, X, y, reset, validate_separately, **check_params)\u001b[0m\n\u001b[0;32m    564\u001b[0m     \u001b[38;5;28;01mraise\u001b[39;00m \u001b[38;5;167;01mValueError\u001b[39;00m(\u001b[38;5;124m\"\u001b[39m\u001b[38;5;124mValidation should be done on X, y or both.\u001b[39m\u001b[38;5;124m\"\u001b[39m)\n\u001b[0;32m    565\u001b[0m \u001b[38;5;28;01melif\u001b[39;00m \u001b[38;5;129;01mnot\u001b[39;00m no_val_X \u001b[38;5;129;01mand\u001b[39;00m no_val_y:\n\u001b[1;32m--> 566\u001b[0m     X \u001b[38;5;241m=\u001b[39m check_array(X, \u001b[38;5;241m*\u001b[39m\u001b[38;5;241m*\u001b[39mcheck_params)\n\u001b[0;32m    567\u001b[0m     out \u001b[38;5;241m=\u001b[39m X\n\u001b[0;32m    568\u001b[0m \u001b[38;5;28;01melif\u001b[39;00m no_val_X \u001b[38;5;129;01mand\u001b[39;00m \u001b[38;5;129;01mnot\u001b[39;00m no_val_y:\n",
      "File \u001b[1;32m~\\anaconda3\\lib\\site-packages\\sklearn\\utils\\validation.py:769\u001b[0m, in \u001b[0;36mcheck_array\u001b[1;34m(array, accept_sparse, accept_large_sparse, dtype, order, copy, force_all_finite, ensure_2d, allow_nd, ensure_min_samples, ensure_min_features, estimator)\u001b[0m\n\u001b[0;32m    767\u001b[0m     \u001b[38;5;66;03m# If input is 1D raise error\u001b[39;00m\n\u001b[0;32m    768\u001b[0m     \u001b[38;5;28;01mif\u001b[39;00m array\u001b[38;5;241m.\u001b[39mndim \u001b[38;5;241m==\u001b[39m \u001b[38;5;241m1\u001b[39m:\n\u001b[1;32m--> 769\u001b[0m         \u001b[38;5;28;01mraise\u001b[39;00m \u001b[38;5;167;01mValueError\u001b[39;00m(\n\u001b[0;32m    770\u001b[0m             \u001b[38;5;124m\"\u001b[39m\u001b[38;5;124mExpected 2D array, got 1D array instead:\u001b[39m\u001b[38;5;130;01m\\n\u001b[39;00m\u001b[38;5;124marray=\u001b[39m\u001b[38;5;132;01m{}\u001b[39;00m\u001b[38;5;124m.\u001b[39m\u001b[38;5;130;01m\\n\u001b[39;00m\u001b[38;5;124m\"\u001b[39m\n\u001b[0;32m    771\u001b[0m             \u001b[38;5;124m\"\u001b[39m\u001b[38;5;124mReshape your data either using array.reshape(-1, 1) if \u001b[39m\u001b[38;5;124m\"\u001b[39m\n\u001b[0;32m    772\u001b[0m             \u001b[38;5;124m\"\u001b[39m\u001b[38;5;124myour data has a single feature or array.reshape(1, -1) \u001b[39m\u001b[38;5;124m\"\u001b[39m\n\u001b[0;32m    773\u001b[0m             \u001b[38;5;124m\"\u001b[39m\u001b[38;5;124mif it contains a single sample.\u001b[39m\u001b[38;5;124m\"\u001b[39m\u001b[38;5;241m.\u001b[39mformat(array)\n\u001b[0;32m    774\u001b[0m         )\n\u001b[0;32m    776\u001b[0m \u001b[38;5;66;03m# make sure we actually converted to numeric:\u001b[39;00m\n\u001b[0;32m    777\u001b[0m \u001b[38;5;28;01mif\u001b[39;00m dtype_numeric \u001b[38;5;129;01mand\u001b[39;00m array\u001b[38;5;241m.\u001b[39mdtype\u001b[38;5;241m.\u001b[39mkind \u001b[38;5;129;01min\u001b[39;00m \u001b[38;5;124m\"\u001b[39m\u001b[38;5;124mOUSV\u001b[39m\u001b[38;5;124m\"\u001b[39m:\n",
      "\u001b[1;31mValueError\u001b[0m: Expected 2D array, got 1D array instead:\narray=[ 0.72243     0.72345     0.72762     0.72648     0.73019     0.7343\n  0.73158357  0.73981633 29.87650061].\nReshape your data either using array.reshape(-1, 1) if your data has a single feature or array.reshape(1, -1) if it contains a single sample."
     ]
    }
   ],
   "source": [
    "vals = []\n",
    "for i in range(50):\n",
    "    predicted_price = model.predict(EU_x.iloc[-i])\n",
    "    # print(f\"{predicted_price.values[0]:.5f} vs actual close: {EURUSD['close'].iloc[-i]:.5f}\")\n",
    "    vals.append(predicted_price.values[0] - EURUSD['close'].iloc[i])\n",
    "\n",
    "# Later, if you want to convert vals to a DataFrame or Series:\n",
    "vals_df = pd.DataFrame(vals)"
   ]
  },
  {
   "cell_type": "code",
   "execution_count": 247,
   "id": "100a5aea-bb8c-4f91-841f-82b4f6dab554",
   "metadata": {},
   "outputs": [
    {
     "data": {
      "text/plain": [
       "<AxesSubplot:>"
      ]
     },
     "execution_count": 247,
     "metadata": {},
     "output_type": "execute_result"
    },
    {
     "data": {
      "image/png": "[encoded data removed]",
      "text/plain": [
       "<Figure size 432x288 with 1 Axes>"
      ]
     },
     "metadata": {
      "needs_background": "light"
     },
     "output_type": "display_data"
    }
   ],
   "source": [
    "vals_df = vals_df * 1000\n",
    "vals_df.plot()"
   ]
  },
  {
   "cell_type": "code",
   "execution_count": 248,
   "id": "f9ee26cb-c21e-4b6a-85d9-af03efddfd29",
   "metadata": {},
   "outputs": [
    {
     "data": {
      "text/plain": [
       "None    0.643651\n",
       "dtype: float64"
      ]
     },
     "execution_count": 248,
     "metadata": {},
     "output_type": "execute_result"
    }
   ],
   "source": [
    "predicted_price = model.predict(EU_x.iloc[-1])\n",
    "predicted_price"
   ]
  },
  {
   "cell_type": "code",
   "execution_count": 251,
   "id": "7a9a0fe9-8621-447f-ae92-31d4260620d2",
   "metadata": {},
   "outputs": [
    {
     "name": "stdout",
     "output_type": "stream",
     "text": [
      "[0.64517111]\n"
     ]
    }
   ],
   "source": [
    "EURUSD = get_rates('AUDUSD.a', mt5.TIMEFRAME_D1, 500)\n",
    "EURUSD = EURUSD[['close']]\n",
    "for i in range(1,7):\n",
    "    EURUSD[f'Period {i}'] = EURUSD['close'].shift(i)\n",
    "\n",
    "EURUSD['2w'] = EURUSD['close'].rolling(window = 14).mean()\n",
    "EURUSD['1m'] = EURUSD['close'].rolling(window = 30).mean()\n",
    "EURUSD['rsi'] = ta.momentum.rsi(EURUSD['close'], window = 14, fillna = False)\n",
    "\n",
    "# Shift close for predicting the next period's close\n",
    "EURUSD['future_close'] = EURUSD['close'].shift(-1)\n",
    "\n",
    "# Drop rows with NaN\n",
    "EURUSD = EURUSD.dropna()\n",
    "\n",
    "# Defining X (features) and y (target)\n",
    "X = EURUSD.drop(columns=['close', 'future_close'])\n",
    "y = EURUSD['future_close']\n",
    "\n",
    "# Weighted regression\n",
    "model = sm.OLS(y, X).fit()\n",
    "\n",
    "# Predict the next period's close using the most recent predictors\n",
    "predicted_data = X.iloc[-1].values.reshape(1, -1)  # reshape to 2D array\n",
    "predicted_price = model.predict(predicted_data)\n",
    "print(predicted_price)\n"
   ]
  },
  {
   "cell_type": "code",
   "execution_count": 255,
   "id": "d2e4150b-c577-4f59-b136-4318c60795e0",
   "metadata": {},
   "outputs": [
    {
     "name": "stdout",
     "output_type": "stream",
     "text": [
      "[0.64097945]\n"
     ]
    }
   ],
   "source": [
    "EURUSD = get_rates('AUDUSD.a', mt5.TIMEFRAME_D1, 500)\n",
    "EURUSD = EURUSD[['close']]\n",
    "for i in range(1,7):\n",
    "    EURUSD[f'Period {i}'] = EURUSD['close'].shift(i)\n",
    "\n",
    "EURUSD['2w'] = EURUSD['close'].rolling(window = 14).mean()\n",
    "EURUSD['1m'] = EURUSD['close'].rolling(window = 30).mean()\n",
    "EURUSD['rsi'] = ta.momentum.rsi(EURUSD['close'], window = 14, fillna = False)\n",
    "\n",
    "# Shift close for predicting the next period's close\n",
    "EURUSD['future_close'] = EURUSD['close'].shift(-1)\n",
    "\n",
    "# Drop rows with NaN\n",
    "EURUSD = EURUSD.dropna()\n",
    "\n",
    "# Defining X (features) and y (target)\n",
    "X = EURUSD.drop(columns=['close', 'future_close'])\n",
    "y = EURUSD['future_close']\n",
    "\n",
    "# Weighted regression\n",
    "model = sm.OLS(y, X).fit()\n",
    "\n",
    "# Predict the next period's close using the most recent predictors\n",
    "predicted_data = X.iloc[-1].values.reshape(1, -1)  # reshape to 2D array\n",
    "predicted_price = model.predict(predicted_data)\n",
    "print(predicted_price)\n"
   ]
  },
  {
   "cell_type": "code",
   "execution_count": null,
   "id": "f5feb2e6-396d-4216-9c16-700025e80615",
   "metadata": {},
   "outputs": [],
   "source": []
  }
 ],
 "metadata": {
  "kernelspec": {
   "display_name": "Python 3 (ipykernel)",
   "language": "python",
   "name": "python3"
  },
  "language_info": {
   "codemirror_mode": {
    "name": "ipython",
    "version": 3
   },
   "file_extension": ".py",
   "mimetype": "text/x-python",
   "name": "python",
   "nbconvert_exporter": "python",
   "pygments_lexer": "ipython3",
   "version": "3.9.12"
  }
 },
 "nbformat": 4,
 "nbformat_minor": 5
}
