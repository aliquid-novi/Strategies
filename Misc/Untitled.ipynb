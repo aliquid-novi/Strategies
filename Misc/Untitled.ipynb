{
 "cells": [
  {
   "cell_type": "markdown",
   "id": "e050a39b-74fc-4607-b50c-73d487eb2198",
   "metadata": {},
   "source": [
    "Hybrid Forex prediction model using multiple regression, simulated annealing, reinforcement learning and technical analysis\n",
    "\n",
    "https://www.researchgate.net/profile/Chihab-Younes/publication/366165718_Hybrid_Forex_prediction_model_using_multiple_regression_simulated_annealing_reinforcement_learning_and_technical_analysis/links/6393e9e0e42faa7e75aefbac/Hybrid-Forex-prediction-model-using-multiple-regression-simulated-annealing-reinforcement-learning-and-technical-analysis.pdf?origin=publication_detail"
   ]
  },
  {
   "cell_type": "code",
   "execution_count": 190,
   "id": "7e15b458-e28f-4b65-b085-6956abe1ecbb",
   "metadata": {},
   "outputs": [],
   "source": [
    "import MetaTrader5 as mt5\n",
    "from datetime import datetime\n",
    "import pytz\n",
    "import pandas as pd\n",
    "import matplotlib.pyplot as plt\n",
    "from statsmodels.tsa.arima.model import ARIMA\n",
    "import numpy as np\n",
    "import warnings\n",
    "warnings.filterwarnings(\"ignore\")\n",
    "mt5.initialize()\n",
    "account=51127988\n",
    "password=\"Aar2frM7\"\n",
    "server = 'ICMarkets-Demo'"
   ]
  },
  {
   "cell_type": "code",
   "execution_count": 191,
   "id": "7fda7964-05fc-434a-8b40-55ba530911f2",
   "metadata": {},
   "outputs": [],
   "source": [
    "from sklearn.linear_model import LinearRegression\n",
    "import statsmodels.api as sm\n",
    "import ta"
   ]
  },
  {
   "cell_type": "code",
   "execution_count": 193,
   "id": "4eb17a7a-a94b-47af-b467-c1ab5602ab55",
   "metadata": {},
   "outputs": [],
   "source": [
    "def get_rates(pair1, timeframe, x):\n",
    "    pair1 = pd.DataFrame(mt5.copy_rates_from_pos(pair1, timeframe, 0, x))\n",
    "    pair1['time'] = pd.to_datetime(pair1['time'], unit = 's')\n",
    "    return pair1\n"
   ]
  },
  {
   "cell_type": "code",
   "execution_count": 228,
   "id": "e8b5e640-dc55-4a4b-9fe0-4b1d7e391714",
   "metadata": {},
   "outputs": [],
   "source": [
    "EURUSD = get_rates('XAUUSD.a', mt5.TIMEFRAME_D1, 100)\n",
    "EURUSD = EURUSD[['close']]\n",
    "for i in range(1,7):\n",
    "    EURUSD[f'Period {i}'] = EURUSD['close'].shift(i)\n",
    "\n",
    "EURUSD['2w'] = EURUSD['close'].rolling(window = 14).mean()\n",
    "EURUSD['1m'] = EURUSD['close'].rolling(window = 30).mean()\n",
    "\n",
    "EURUSD['rsi'] = ta.momentum.rsi(EURUSD['close'], window = 14, fillna = False)\n",
    "\n",
    "EURUSD = EURUSD.dropna()"
   ]
  },
  {
   "cell_type": "code",
   "execution_count": 229,
   "id": "45df4490-7d33-493a-92a2-f0646a47c78f",
   "metadata": {},
   "outputs": [],
   "source": [
    "EU_x = EURUSD\n",
    "EU_x = EU_x.drop('close', axis = 1)"
   ]
  },
  {
   "cell_type": "code",
   "execution_count": 230,
   "id": "2c0ae06f-4b1b-4fc2-af2e-5a10e95004de",
   "metadata": {},
   "outputs": [],
   "source": [
    "# Defining X (features) and y (target)\n",
    "X = EU_x\n",
    "X = X.dropna()\n",
    "y = EURUSD['close']"
   ]
  },
  {
   "cell_type": "code",
   "execution_count": 231,
   "id": "7121d324-4615-4bef-9f6a-f0df58eafd15",
   "metadata": {},
   "outputs": [
    {
     "data": {
      "text/plain": [
       "1908.5372149265568"
      ]
     },
     "execution_count": 231,
     "metadata": {},
     "output_type": "execute_result"
    }
   ],
   "source": [
    "# Weighted regression\n",
    "model = sm.OLS(y, EU_x).fit()\n",
    "\n",
    "# Get predictions (for example purposes)\n",
    "predictions = model.predict(X)\n",
    "predictions.iloc[-1]"
   ]
  },
  {
   "cell_type": "code",
   "execution_count": 205,
   "id": "1c558f8b-c0a7-4e31-acfb-3179e9b7eb15",
   "metadata": {},
   "outputs": [],
   "source": [
    "vals = []\n",
    "for i in range(250):\n",
    "    predicted_price = model.predict(EU_x.iloc[-i])\n",
    "    # print(f\"{predicted_price.values[0]:.5f} vs actual close: {EURUSD['close'].iloc[-i]:.5f}\")\n",
    "    vals.append(predicted_price.values[0] - EURUSD['close'].iloc[i])\n",
    "\n",
    "# Later, if you want to convert vals to a DataFrame or Series:\n",
    "vals_df = pd.DataFrame(vals)"
   ]
  },
  {
   "cell_type": "code",
   "execution_count": 206,
   "id": "100a5aea-bb8c-4f91-841f-82b4f6dab554",
   "metadata": {},
   "outputs": [
    {
     "data": {
      "text/plain": [
       "<AxesSubplot:>"
      ]
     },
     "execution_count": 206,
     "metadata": {},
     "output_type": "execute_result"
    },
    {
     "data": {
      "image/png": "[encoded data removed]",
      "text/plain": [
       "<Figure size 432x288 with 1 Axes>"
      ]
     },
     "metadata": {
      "needs_background": "light"
     },
     "output_type": "display_data"
    }
   ],
   "source": [
    "vals_df = vals_df * 1000\n",
    "vals_df.plot()"
   ]
  },
  {
   "cell_type": "code",
   "execution_count": 201,
   "id": "f9ee26cb-c21e-4b6a-85d9-af03efddfd29",
   "metadata": {},
   "outputs": [
    {
     "data": {
      "text/plain": [
       "None    1.069958\n",
       "dtype: float64"
      ]
     },
     "execution_count": 201,
     "metadata": {},
     "output_type": "execute_result"
    }
   ],
   "source": [
    "predicted_price = model.predict(EU_x.iloc[-1])\n",
    "predicted_price"
   ]
  },
  {
   "cell_type": "code",
   "execution_count": 204,
   "id": "7a9a0fe9-8621-447f-ae92-31d4260620d2",
   "metadata": {},
   "outputs": [
    {
     "data": {
      "text/plain": [
       "None    1.069958\n",
       "dtype: float64"
      ]
     },
     "execution_count": 204,
     "metadata": {},
     "output_type": "execute_result"
    }
   ],
   "source": [
    "predicted_price = model.predict(EU_x.iloc[-1])\n",
    "predicted_price"
   ]
  },
  {
   "cell_type": "code",
   "execution_count": null,
   "id": "37ee1c23-636f-4ceb-ac3d-9d41976a6e9f",
   "metadata": {},
   "outputs": [],
   "source": []
  }
 ],
 "metadata": {
  "kernelspec": {
   "display_name": "Python 3 (ipykernel)",
   "language": "python",
   "name": "python3"
  },
  "language_info": {
   "codemirror_mode": {
    "name": "ipython",
    "version": 3
   },
   "file_extension": ".py",
   "mimetype": "text/x-python",
   "name": "python",
   "nbconvert_exporter": "python",
   "pygments_lexer": "ipython3",
   "version": "3.9.12"
  }
 },
 "nbformat": 4,
 "nbformat_minor": 5
}
