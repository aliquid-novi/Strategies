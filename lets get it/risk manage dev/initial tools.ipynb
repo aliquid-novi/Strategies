{
 "cells": [
  {
   "cell_type": "code",
   "execution_count": 77,
   "id": "d10d9087-a5e1-4654-ac17-1c74a9e7096f",
   "metadata": {
    "tags": []
   },
   "outputs": [],
   "source": [
    "import MetaTrader5 as mt5 \n",
    "import pandas as pd\n",
    "import numpy as np\n",
    "from statsmodels.tsa.stattools import adfuller \n",
    "\n",
    "from datetime import datetime\n",
    "mt5.initialize()\n",
    "# Replace following with your MT5 Account Login\n",
    "account=51434456 # \n",
    "password=\"9UpBvVzc\"\n",
    "server = 'ICMarkets-Demo'\n",
    "def get_rates(pair1, timeframe, x):\n",
    "    pair1 = pd.DataFrame(mt5.copy_rates_from_pos(pair1, timeframe, 0, x))\n",
    "    pair1['time'] = pd.to_datetime(pair1['time'], unit = 's')\n",
    "    return pair1[['time','close']]\n",
    "\n",
    "def compute_spread(p1, p2, tf, x):\n",
    "    data1 = get_rates(p1, tf, x)\n",
    "    data2 = get_rates(p2, tf, x)\n",
    "    merged = data1.join(data2, lsuffix=\"_x\", rsuffix=\"_y\")\n",
    "    spread = merged['close_x'] - merged['close_y']\n",
    "    return spread.dropna()\n",
    "\n",
    "def adf_test(spread):\n",
    "    '''Runs ADF test on a spread series'''\n",
    "    result = adfuller(spread)\n",
    "    return {'ADF Statistic': result[0], 'p-value': result[1], 'Critical Values': result[4]}"
   ]
  },
  {
   "cell_type": "code",
   "execution_count": 78,
   "id": "8ada8fcd-57bc-4e8a-af17-99c823f781e0",
   "metadata": {
    "tags": []
   },
   "outputs": [],
   "source": [
    "currency_pairs = [\n",
    "    ('EURUSD.a', 'GBPUSD.a',),\n",
    "    ('AUDCAD.a', 'USDCAD.a',),\n",
    "    ('NZDCAD.a', 'USDCAD.a',),\n",
    "    ('EURCHF.a', 'GBPCHF.a',),\n",
    "    ('EURNOK.a', 'EURSEK.a',)\n",
    "]"
   ]
  },
  {
   "cell_type": "code",
   "execution_count": 81,
   "id": "8034f397-3762-43f5-bb9d-d41e46a59cfc",
   "metadata": {
    "tags": []
   },
   "outputs": [],
   "source": [
    "total_df = pd.DataFrame()  # Initialize total_df before the loop\n",
    "for currency in currency_pairs:\n",
    "    df = pd.DataFrame(compute_spread(currency[0], currency[1], mt5.TIMEFRAME_D1, 2000))\n",
    "    # Rename all columns in df to reflect the currency pair\n",
    "    df.columns = [f'{currency[0]}-{currency[1]}' for col in df.columns]\n",
    "    total_df = pd.concat([total_df, df], axis=1)"
   ]
  },
  {
   "cell_type": "markdown",
   "id": "4ab52111-411a-4a77-bf84-c684f2dd3632",
   "metadata": {
    "tags": []
   },
   "source": [
    "### VaR Calculations"
   ]
  },
  {
   "cell_type": "code",
   "execution_count": 100,
   "id": "e5347996-3665-4a22-9fcf-16721a1c7383",
   "metadata": {
    "tags": []
   },
   "outputs": [
    {
     "data": {
      "text/html": [
       "<div>\n",
       "<style scoped>\n",
       "    .dataframe tbody tr th:only-of-type {\n",
       "        vertical-align: middle;\n",
       "    }\n",
       "\n",
       "    .dataframe tbody tr th {\n",
       "        vertical-align: top;\n",
       "    }\n",
       "\n",
       "    .dataframe thead th {\n",
       "        text-align: right;\n",
       "    }\n",
       "</style>\n",
       "<table border=\"1\" class=\"dataframe\">\n",
       "  <thead>\n",
       "    <tr style=\"text-align: right;\">\n",
       "      <th></th>\n",
       "      <th>EURUSD.a-GBPUSD.a</th>\n",
       "      <th>AUDCAD.a-USDCAD.a</th>\n",
       "      <th>NZDCAD.a-USDCAD.a</th>\n",
       "      <th>EURCHF.a-GBPCHF.a</th>\n",
       "      <th>EURNOK.a-EURSEK.a</th>\n",
       "    </tr>\n",
       "  </thead>\n",
       "  <tbody>\n",
       "    <tr>\n",
       "      <th>count</th>\n",
       "      <td>161.000000</td>\n",
       "      <td>161.000000</td>\n",
       "      <td>161.000000</td>\n",
       "      <td>161.000000</td>\n",
       "      <td>161.000000</td>\n",
       "    </tr>\n",
       "    <tr>\n",
       "      <th>mean</th>\n",
       "      <td>-0.023950</td>\n",
       "      <td>-0.013821</td>\n",
       "      <td>-0.012997</td>\n",
       "      <td>-0.026690</td>\n",
       "      <td>-0.340117</td>\n",
       "    </tr>\n",
       "    <tr>\n",
       "      <th>std</th>\n",
       "      <td>0.023282</td>\n",
       "      <td>0.011729</td>\n",
       "      <td>0.011439</td>\n",
       "      <td>0.023809</td>\n",
       "      <td>1.405744</td>\n",
       "    </tr>\n",
       "    <tr>\n",
       "      <th>min</th>\n",
       "      <td>-0.139372</td>\n",
       "      <td>-0.061058</td>\n",
       "      <td>-0.077931</td>\n",
       "      <td>-0.142918</td>\n",
       "      <td>-17.017341</td>\n",
       "    </tr>\n",
       "    <tr>\n",
       "      <th>25%</th>\n",
       "      <td>-0.032961</td>\n",
       "      <td>-0.018721</td>\n",
       "      <td>-0.018807</td>\n",
       "      <td>-0.035660</td>\n",
       "      <td>-0.228913</td>\n",
       "    </tr>\n",
       "    <tr>\n",
       "      <th>50%</th>\n",
       "      <td>-0.016546</td>\n",
       "      <td>-0.010318</td>\n",
       "      <td>-0.009317</td>\n",
       "      <td>-0.018752</td>\n",
       "      <td>-0.102356</td>\n",
       "    </tr>\n",
       "    <tr>\n",
       "      <th>75%</th>\n",
       "      <td>-0.008768</td>\n",
       "      <td>-0.005332</td>\n",
       "      <td>-0.005029</td>\n",
       "      <td>-0.011114</td>\n",
       "      <td>-0.044549</td>\n",
       "    </tr>\n",
       "    <tr>\n",
       "      <th>max</th>\n",
       "      <td>-0.000076</td>\n",
       "      <td>-0.000025</td>\n",
       "      <td>-0.000113</td>\n",
       "      <td>-0.000336</td>\n",
       "      <td>-0.000260</td>\n",
       "    </tr>\n",
       "  </tbody>\n",
       "</table>\n",
       "</div>"
      ],
      "text/plain": [
       "       EURUSD.a-GBPUSD.a  AUDCAD.a-USDCAD.a  NZDCAD.a-USDCAD.a  \\\n",
       "count         161.000000         161.000000         161.000000   \n",
       "mean           -0.023950          -0.013821          -0.012997   \n",
       "std             0.023282           0.011729           0.011439   \n",
       "min            -0.139372          -0.061058          -0.077931   \n",
       "25%            -0.032961          -0.018721          -0.018807   \n",
       "50%            -0.016546          -0.010318          -0.009317   \n",
       "75%            -0.008768          -0.005332          -0.005029   \n",
       "max            -0.000076          -0.000025          -0.000113   \n",
       "\n",
       "       EURCHF.a-GBPCHF.a  EURNOK.a-EURSEK.a  \n",
       "count         161.000000         161.000000  \n",
       "mean           -0.026690          -0.340117  \n",
       "std             0.023809           1.405744  \n",
       "min            -0.142918         -17.017341  \n",
       "25%            -0.035660          -0.228913  \n",
       "50%            -0.018752          -0.102356  \n",
       "75%            -0.011114          -0.044549  \n",
       "max            -0.000336          -0.000260  "
      ]
     },
     "execution_count": 100,
     "metadata": {},
     "output_type": "execute_result"
    }
   ],
   "source": [
    "total_df_ret = total_df.pct_change().dropna()\n",
    "\n",
    "# Focusing on negative returns for VaR\n",
    "negative_returns = total_df_ret[total_df_ret < 0].dropna()\n",
    "negative_returns.describe()"
   ]
  },
  {
   "cell_type": "code",
   "execution_count": 102,
   "id": "9f2e5ca7-c689-41c7-8398-370219454bd1",
   "metadata": {
    "tags": []
   },
   "outputs": [
    {
     "name": "stdout",
     "output_type": "stream",
     "text": [
      "EURUSD.a-GBPUSD.a\n",
      "AUDCAD.a-USDCAD.a\n",
      "NZDCAD.a-USDCAD.a\n",
      "EURCHF.a-GBPCHF.a\n",
      "EURNOK.a-EURSEK.a\n"
     ]
    }
   ],
   "source": [
    "for i in total_df_ret.columns:\n",
    "    print(i)"
   ]
  },
  {
   "cell_type": "code",
   "execution_count": null,
   "id": "6afba464-a08d-40d4-8376-be8e6662ae79",
   "metadata": {},
   "outputs": [],
   "source": []
  },
  {
   "cell_type": "code",
   "execution_count": 103,
   "id": "a24351e9-a402-4f71-9654-3b4dabd88fb2",
   "metadata": {
    "tags": []
   },
   "outputs": [],
   "source": [
    "import numpy as np\n",
    "\n",
    "var_level = 95\n",
    "spreads = total_df_ret.columns\n",
    "var_results = {}\n",
    "\n",
    "for spread in spreads:\n",
    "    negative_returns = total_df[spread][total_df[spread] < 0]\n",
    "    var_95 = np.percentile(negative_returns, 100 - var_level)\n",
    "    var_95 = abs(var_95)  # Convert to positive number for representation\n",
    "    var_results[spread] = var_95"
   ]
  },
  {
   "cell_type": "code",
   "execution_count": 105,
   "id": "3661e230-5b88-4b16-a43a-363744157d82",
   "metadata": {
    "tags": []
   },
   "outputs": [
    {
     "name": "stdout",
     "output_type": "stream",
     "text": [
      "95% VaR for EURUSD.a-GBPUSD.a: -5.54%\n",
      "95% VaR for AUDCAD.a-USDCAD.a: -3.19%\n",
      "95% VaR for NZDCAD.a-USDCAD.a: -2.89%\n",
      "95% VaR for EURCHF.a-GBPCHF.a: -5.70%\n",
      "95% VaR for EURNOK.a-EURSEK.a: -60.59%\n"
     ]
    }
   ],
   "source": [
    "var_levels = {}\n",
    "\n",
    "for col in total_df_ret.columns:\n",
    "    var_95 = np.percentile(total_df_ret[col].dropna(), 5)  # 5th percentile for 95% VaR\n",
    "    var_levels[col] = var_95\n",
    "\n",
    "# Display VaR for each currency pair\n",
    "for pair, var in var_levels.items():\n",
    "    print(f\"95% VaR for {pair}: {var * 100:.2f}%\")"
   ]
  },
  {
   "cell_type": "code",
   "execution_count": 104,
   "id": "11e8dc41-465f-43f9-8cbb-6c4e0a4fa31c",
   "metadata": {
    "tags": []
   },
   "outputs": [
    {
     "data": {
      "text/plain": [
       "{'EURUSD.a-GBPUSD.a': 0.2243070000000001,\n",
       " 'AUDCAD.a-USDCAD.a': 0.48728,\n",
       " 'NZDCAD.a-USDCAD.a': 0.5537754999999999,\n",
       " 'EURCHF.a-GBPCHF.a': 0.21131300000000003,\n",
       " 'EURNOK.a-EURSEK.a': 0.8948379999999997}"
      ]
     },
     "execution_count": 104,
     "metadata": {},
     "output_type": "execute_result"
    }
   ],
   "source": [
    "var_results"
   ]
  },
  {
   "cell_type": "code",
   "execution_count": 50,
   "id": "07667fb7-16bb-4bf7-ad3a-eacdbf6cbfaf",
   "metadata": {
    "tags": []
   },
   "outputs": [
    {
     "data": {
      "text/html": [
       "<div>\n",
       "<style scoped>\n",
       "    .dataframe tbody tr th:only-of-type {\n",
       "        vertical-align: middle;\n",
       "    }\n",
       "\n",
       "    .dataframe tbody tr th {\n",
       "        vertical-align: top;\n",
       "    }\n",
       "\n",
       "    .dataframe thead th {\n",
       "        text-align: right;\n",
       "    }\n",
       "</style>\n",
       "<table border=\"1\" class=\"dataframe\">\n",
       "  <thead>\n",
       "    <tr style=\"text-align: right;\">\n",
       "      <th></th>\n",
       "      <th>EURUSD.a-GBPUSD.a</th>\n",
       "      <th>AUDCAD.a-USDCAD.a</th>\n",
       "      <th>NZDCAD.a-USDCAD.a</th>\n",
       "      <th>EURCHF.a-GBPCHF.a</th>\n",
       "      <th>EURNOK.a-EURSEK.a</th>\n",
       "    </tr>\n",
       "  </thead>\n",
       "  <tbody>\n",
       "    <tr>\n",
       "      <th>EURUSD.a-GBPUSD.a</th>\n",
       "      <td>1.000000</td>\n",
       "      <td>0.241742</td>\n",
       "      <td>0.221649</td>\n",
       "      <td>0.981762</td>\n",
       "      <td>0.105700</td>\n",
       "    </tr>\n",
       "    <tr>\n",
       "      <th>AUDCAD.a-USDCAD.a</th>\n",
       "      <td>0.241742</td>\n",
       "      <td>1.000000</td>\n",
       "      <td>0.953249</td>\n",
       "      <td>0.232592</td>\n",
       "      <td>-0.244765</td>\n",
       "    </tr>\n",
       "    <tr>\n",
       "      <th>NZDCAD.a-USDCAD.a</th>\n",
       "      <td>0.221649</td>\n",
       "      <td>0.953249</td>\n",
       "      <td>1.000000</td>\n",
       "      <td>0.201966</td>\n",
       "      <td>-0.228926</td>\n",
       "    </tr>\n",
       "    <tr>\n",
       "      <th>EURCHF.a-GBPCHF.a</th>\n",
       "      <td>0.981762</td>\n",
       "      <td>0.232592</td>\n",
       "      <td>0.201966</td>\n",
       "      <td>1.000000</td>\n",
       "      <td>0.143348</td>\n",
       "    </tr>\n",
       "    <tr>\n",
       "      <th>EURNOK.a-EURSEK.a</th>\n",
       "      <td>0.105700</td>\n",
       "      <td>-0.244765</td>\n",
       "      <td>-0.228926</td>\n",
       "      <td>0.143348</td>\n",
       "      <td>1.000000</td>\n",
       "    </tr>\n",
       "  </tbody>\n",
       "</table>\n",
       "</div>"
      ],
      "text/plain": [
       "                   EURUSD.a-GBPUSD.a  AUDCAD.a-USDCAD.a  NZDCAD.a-USDCAD.a  \\\n",
       "EURUSD.a-GBPUSD.a           1.000000           0.241742           0.221649   \n",
       "AUDCAD.a-USDCAD.a           0.241742           1.000000           0.953249   \n",
       "NZDCAD.a-USDCAD.a           0.221649           0.953249           1.000000   \n",
       "EURCHF.a-GBPCHF.a           0.981762           0.232592           0.201966   \n",
       "EURNOK.a-EURSEK.a           0.105700          -0.244765          -0.228926   \n",
       "\n",
       "                   EURCHF.a-GBPCHF.a  EURNOK.a-EURSEK.a  \n",
       "EURUSD.a-GBPUSD.a           0.981762           0.105700  \n",
       "AUDCAD.a-USDCAD.a           0.232592          -0.244765  \n",
       "NZDCAD.a-USDCAD.a           0.201966          -0.228926  \n",
       "EURCHF.a-GBPCHF.a           1.000000           0.143348  \n",
       "EURNOK.a-EURSEK.a           0.143348           1.000000  "
      ]
     },
     "execution_count": 50,
     "metadata": {},
     "output_type": "execute_result"
    }
   ],
   "source": [
    "total_df.corr()"
   ]
  },
  {
   "cell_type": "markdown",
   "id": "87f7edb9-16ff-4b93-b959-20aa9828eb0b",
   "metadata": {},
   "source": [
    "### Monte Carlo sims"
   ]
  },
  {
   "cell_type": "code",
   "execution_count": 1,
   "id": "de615281-0fb8-426f-a809-cf964feab929",
   "metadata": {},
   "outputs": [],
   "source": [
    "# Random Walks"
   ]
  },
  {
   "cell_type": "markdown",
   "id": "15bcb9a6-cdf9-478b-bee1-397217ba9599",
   "metadata": {},
   "source": [
    "### \"Swap\" risk calculations"
   ]
  },
  {
   "cell_type": "code",
   "execution_count": null,
   "id": "8e0e9f3e-e3f5-4dd7-a800-7f37b109c815",
   "metadata": {},
   "outputs": [],
   "source": []
  }
 ],
 "metadata": {
  "kernelspec": {
   "display_name": "Python 3 (ipykernel)",
   "language": "python",
   "name": "python3"
  },
  "language_info": {
   "codemirror_mode": {
    "name": "ipython",
    "version": 3
   },
   "file_extension": ".py",
   "mimetype": "text/x-python",
   "name": "python",
   "nbconvert_exporter": "python",
   "pygments_lexer": "ipython3",
   "version": "3.9.13"
  }
 },
 "nbformat": 4,
 "nbformat_minor": 5
}
