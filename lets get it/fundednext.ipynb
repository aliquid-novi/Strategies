{
 "cells": [
  {
   "cell_type": "code",
   "execution_count": 1,
   "id": "06f7bdd1-87e8-4499-ba84-9c58c345b897",
   "metadata": {},
   "outputs": [],
   "source": [
    "account = 533690\n",
    "password = 'gywNZ76##' \n",
    "server = 'GrowthNext-Server'"
   ]
  },
  {
   "cell_type": "markdown",
   "id": "0c6137b9-4385-49f7-8776-f51f1f474699",
   "metadata": {},
   "source": [
    "# Important Notes\n",
    "Max DAILY lost (accumulative) - 3%. Begin reducing positions at 2%. Close all positions at 2.5% \n",
    "Target volatility each day - 2%"
   ]
  },
  {
   "cell_type": "code",
   "execution_count": null,
   "id": "b6f189ba-fe6c-43db-9ad0-e0a506c38c37",
   "metadata": {},
   "outputs": [],
   "source": []
  }
 ],
 "metadata": {
  "kernelspec": {
   "display_name": "Python 3 (ipykernel)",
   "language": "python",
   "name": "python3"
  },
  "language_info": {
   "codemirror_mode": {
    "name": "ipython",
    "version": 3
   },
   "file_extension": ".py",
   "mimetype": "text/x-python",
   "name": "python",
   "nbconvert_exporter": "python",
   "pygments_lexer": "ipython3",
   "version": "3.9.13"
  }
 },
 "nbformat": 4,
 "nbformat_minor": 5
}
