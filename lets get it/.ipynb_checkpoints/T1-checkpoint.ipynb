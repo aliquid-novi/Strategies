{
 "cells": [
  {
   "cell_type": "markdown",
   "id": "3a492bcb-d475-45af-a469-7e2431b62f70",
   "metadata": {},
   "source": [
    "### Cointegration x Multiple Linear Regression -> Markov Chain \n",
    "\n",
    "Feed multiple linear regression output into the transitional matrix for the Markov Chain transition probabilities between states."
   ]
  },
  {
   "cell_type": "code",
   "execution_count": null,
   "id": "a53f2be4-ef3b-4afc-9f8b-4a68fcc512ee",
   "metadata": {},
   "outputs": [],
   "source": [
    "# Libaries \n",
    "# Libraries and Modules used\n",
    "import MetaTrader5 as mt5 \n",
    "import pandas as pd\n",
    "from sklearn.linear_model import LinearRegression\n",
    "import ta\n",
    "import warnings\n",
    "warnings.filterwarnings(\"ignore\")\n",
    "import numpy as np\n",
    "# warnings.filterwarnings(\"ignore\")\n",
    "mt5.initialize()\n",
    "# Replace following with your MT5 Account Login\n",
    "account=51127988 # \n",
    "password=\"Aar2frM7\"\n",
    "server = 'ICMarkets-Demo'\n",
    "\n",
    "# Function to get rates from MT5 \n",
    "def get_rates(pair1, timeframe, x):\n",
    "    pair1 = pd.DataFrame(mt5.copy_rates_from_pos(pair1, timeframe, 0, x))\n",
    "    pair1['time'] = pd.to_datetime(pair1['time'], unit = 's')\n",
    "    return pair1['close']"
   ]
  },
  {
   "cell_type": "markdown",
   "id": "9afa11d0-e94e-4eab-b6f7-102586fc64b5",
   "metadata": {},
   "source": [
    "### Cointegration Code"
   ]
  },
  {
   "cell_type": "code",
   "execution_count": 25,
   "id": "2b89d64b-5ec1-432f-b241-1dd2b557d84d",
   "metadata": {},
   "outputs": [],
   "source": [
    "first_order_pairs = [('AUDJPY.a', 'EURJPY.a'), ('AUDJPY.a', 'GBPJPY.a'), ('EURJPY.a', 'GBPJPY.a'),                      \n",
    "                    ('USDJPY.a', 'AUDJPY.a'), ('USDJPY.a', 'GBPJPY.a'), ('USDJPY.a', 'EURJPY.a'),                     \n",
    "                    ('NZDJPY.a', 'AUDJPY.a'), ('NZDJPY.a', 'GBPJPY.a'), ('NZDJPY.a', 'EURJPY.a'), ('USDJPY.a', 'NZDJPY.a'),                      \n",
    "                    ('AUDUSD.a', 'EURUSD.a'), ('AUDUSD.a', 'NZDUSD.a'), ('AUDUSD.a', 'GBPUSD.a'),                      \n",
    "                    ('EURUSD.a', 'NZDUSD.a'), ('EURUSD.a', 'GBPUSD.a'), ('GBPUSD.a', 'NZDUSD.a'), \n",
    "                    ('AUDJPY.a', 'AUDUSD.a'), ('AUDUSD.a', 'AUDNZD.a'), ('EURUSD.a', 'EURJPY.a'),\n",
    "                    ('EURGBP.a', 'GBPUSD.a'), ('GBPCHF.a', 'GBPUSD.a'), ('GBPCAD.a', 'GBPAUD.a'), \n",
    "                    ('CADJPY.a', 'AUDJPY.a'), ('CADJPY.a', 'NZDJPY.a'), ('EURNZD.a', 'GBPNZD.a')]"
   ]
  },
  {
   "cell_type": "code",
   "execution_count": 132,
   "id": "f789e767-ac23-4dde-9553-2a2bba69d32f",
   "metadata": {},
   "outputs": [],
   "source": [
    "first_order_pairs = [('AUDUSD.a', 'NZDUSD.a'), \n",
    "                     ('EURUSD.a', 'GBPUSD.a'),\n",
    "                     ('EURNZD.a', 'GBPNZD.a')]"
   ]
  },
  {
   "cell_type": "code",
   "execution_count": 176,
   "id": "3b800186-4b45-4d2a-95cc-aa18cb3273d9",
   "metadata": {},
   "outputs": [],
   "source": [
    "def get_data(symbol, bars=1000):\n",
    "    '''Fetches price data for a symbol'''\n",
    "    rates = pd.DataFrame(mt5.copy_rates_from_pos(symbol, mt5.TIMEFRAME_D1, 0, bars))\n",
    "    rates['time'] = pd.to_datetime(rates['time'], unit = 's')\n",
    "    return rates[['time', 'close']].set_index('time')\n",
    "\n",
    "def compute_spread(pair):\n",
    "    '''Computes the spread for a given pair'''\n",
    "    data1 = get_data(pair[0])\n",
    "    data2 = get_data(pair[1])\n",
    "    merged = data1.join(data2, lsuffix=\"_x\", rsuffix=\"_y\")\n",
    "    spread = merged['close_x'] - merged['close_y']\n",
    "    return spread.dropna()\n",
    "\n",
    "def adf_test(spread):\n",
    "    '''Runs ADF test on a spread series'''\n",
    "    result = adfuller(spread)\n",
    "    return {'ADF Statistic': result[0], 'p-value': result[1], 'Critical Values': result[4]}\n"
   ]
  },
  {
   "cell_type": "code",
   "execution_count": 177,
   "id": "c9f27a14-2172-43ee-be96-454306cdced5",
   "metadata": {
    "tags": []
   },
   "outputs": [
    {
     "name": "stdout",
     "output_type": "stream",
     "text": [
      "Running through pair ('AUDUSD.a', 'NZDUSD.a')\n",
      "Running through pair ('EURUSD.a', 'GBPUSD.a')\n",
      "Running through pair ('EURNZD.a', 'GBPNZD.a')\n"
     ]
    },
    {
     "data": {
      "text/html": [
       "<div>\n",
       "<style scoped>\n",
       "    .dataframe tbody tr th:only-of-type {\n",
       "        vertical-align: middle;\n",
       "    }\n",
       "\n",
       "    .dataframe tbody tr th {\n",
       "        vertical-align: top;\n",
       "    }\n",
       "\n",
       "    .dataframe thead th {\n",
       "        text-align: right;\n",
       "    }\n",
       "</style>\n",
       "<table border=\"1\" class=\"dataframe\">\n",
       "  <thead>\n",
       "    <tr style=\"text-align: right;\">\n",
       "      <th></th>\n",
       "      <th></th>\n",
       "      <th>ADF Statistic</th>\n",
       "      <th>p-value</th>\n",
       "      <th>Critical Values</th>\n",
       "    </tr>\n",
       "  </thead>\n",
       "  <tbody>\n",
       "    <tr>\n",
       "      <th>AUDUSD.a</th>\n",
       "      <th>NZDUSD.a</th>\n",
       "      <td>-2.747314</td>\n",
       "      <td>0.066203</td>\n",
       "      <td>{'1%': -3.4369193380671, '5%': -2.864440383452...</td>\n",
       "    </tr>\n",
       "    <tr>\n",
       "      <th>EURUSD.a</th>\n",
       "      <th>GBPUSD.a</th>\n",
       "      <td>-2.666107</td>\n",
       "      <td>0.080089</td>\n",
       "      <td>{'1%': -3.4369391965679257, '5%': -2.864449141...</td>\n",
       "    </tr>\n",
       "    <tr>\n",
       "      <th>EURNZD.a</th>\n",
       "      <th>GBPNZD.a</th>\n",
       "      <td>-2.809984</td>\n",
       "      <td>0.056862</td>\n",
       "      <td>{'1%': -3.4369391965679257, '5%': -2.864449141...</td>\n",
       "    </tr>\n",
       "  </tbody>\n",
       "</table>\n",
       "</div>"
      ],
      "text/plain": [
       "                  ADF Statistic   p-value  \\\n",
       "AUDUSD.a NZDUSD.a     -2.747314  0.066203   \n",
       "EURUSD.a GBPUSD.a     -2.666107  0.080089   \n",
       "EURNZD.a GBPNZD.a     -2.809984  0.056862   \n",
       "\n",
       "                                                     Critical Values  \n",
       "AUDUSD.a NZDUSD.a  {'1%': -3.4369193380671, '5%': -2.864440383452...  \n",
       "EURUSD.a GBPUSD.a  {'1%': -3.4369391965679257, '5%': -2.864449141...  \n",
       "EURNZD.a GBPNZD.a  {'1%': -3.4369391965679257, '5%': -2.864449141...  "
      ]
     },
     "execution_count": 177,
     "metadata": {},
     "output_type": "execute_result"
    }
   ],
   "source": [
    "# Running the tests\n",
    "results = {}\n",
    "for pair in first_order_pairs:\n",
    "    print(f'Running through pair {pair}')\n",
    "    spread = compute_spread(pair)\n",
    "    results[pair] = adf_test(spread)\n",
    "\n",
    "# Convert results to a DataFrame\n",
    "df = pd.DataFrame(results).T\n",
    "\n",
    "df"
   ]
  },
  {
   "cell_type": "code",
   "execution_count": 178,
   "id": "a53b11d0-6ab5-4437-b55b-78a00d65a6f6",
   "metadata": {
    "tags": []
   },
   "outputs": [
    {
     "name": "stdout",
     "output_type": "stream",
     "text": [
      "Pair ('AUDUSD.a', 'NZDUSD.a') is cointegrated\n",
      "Pair ('EURUSD.a', 'GBPUSD.a') is cointegrated\n",
      "Pair ('EURNZD.a', 'GBPNZD.a') is cointegrated\n"
     ]
    }
   ],
   "source": [
    "coint_pairs = []\n",
    "\n",
    "for idx, row in df.iterrows():\n",
    "    if row['ADF Statistic'] < row['Critical Values']['10%']:\n",
    "        print(f'Pair {idx} is cointegrated')\n",
    "        coint_pairs.append(idx)"
   ]
  },
  {
   "cell_type": "markdown",
   "id": "c59f9866-f123-4b9e-b48a-34f183b7a4fe",
   "metadata": {},
   "source": [
    "### Multiple Linear Regression "
   ]
  },
  {
   "cell_type": "code",
   "execution_count": 245,
   "id": "f5c968d9-0ec3-4253-b47b-129810edf806",
   "metadata": {},
   "outputs": [],
   "source": [
    "import pandas_ta as ta"
   ]
  },
  {
   "cell_type": "code",
   "execution_count": 218,
   "id": "6489c367-9c98-44a1-9283-68f559f2f594",
   "metadata": {},
   "outputs": [],
   "source": [
    "co_dict = {}\n",
    "\n",
    "for pair in coint_pairs:\n",
    "    coint_dict[pair] = compute_spread(pair)"
   ]
  },
  {
   "cell_type": "code",
   "execution_count": null,
   "id": "dd399698-9ac2-44c9-9cf5-f8778a9e09b1",
   "metadata": {},
   "outputs": [],
   "source": [
    "def calculate_features(data):\n",
    "    \n",
    "    fiften_day_avg = data.rolling(window = 15).mean().round(5)\n",
    "    sixty_day_avg = data.rolling(window= 60).mean().round(5)\n",
    "    \n",
    "    # Create DataFrame to store all features\n",
    "    features_df = pd.DataFrame(index=data.index)\n",
    "    \n",
    "    n = 10  # for example, you can adjust n as needed\n",
    "    features_df['momentum'] = data - data.shift(n)\n",
    "    features_df['fiften_day_avg'] = fiften_day_avg\n",
    "    features_df['sixty_day_avg'] = sixty_day_avg\n",
    "    features_df['RSI'] = ta.rsi(data, length=14)\n",
    "    features_df['ROC'] = ((data - data.shift(n)) / data.shift(n)) * 100  # expressed in percentage\n",
    "\n",
    "    \n",
    "    # Remove rows with any NA values\n",
    "    features_df.dropna(inplace=True)\n",
    "    \n",
    "    return features_df\n",
    "\n",
    "features_dict = {}\n",
    "\n",
    "for pair, data in coint_dict.items():\n",
    "    features = calculate_features(data)\n",
    "    features_dict[pair] = features"
   ]
  },
  {
   "cell_type": "code",
   "execution_count": 327,
   "id": "795e1cba-1489-4fbd-bca4-7be781daffad",
   "metadata": {},
   "outputs": [
    {
     "data": {
      "text/html": [
       "<div>\n",
       "<style scoped>\n",
       "    .dataframe tbody tr th:only-of-type {\n",
       "        vertical-align: middle;\n",
       "    }\n",
       "\n",
       "    .dataframe tbody tr th {\n",
       "        vertical-align: top;\n",
       "    }\n",
       "\n",
       "    .dataframe thead th {\n",
       "        text-align: right;\n",
       "    }\n",
       "</style>\n",
       "<table border=\"1\" class=\"dataframe\">\n",
       "  <thead>\n",
       "    <tr style=\"text-align: right;\">\n",
       "      <th></th>\n",
       "      <th>momentum</th>\n",
       "      <th>fiften_day_avg</th>\n",
       "      <th>sixty_day_avg</th>\n",
       "      <th>RSI</th>\n",
       "      <th>ROC</th>\n",
       "    </tr>\n",
       "    <tr>\n",
       "      <th>time</th>\n",
       "      <th></th>\n",
       "      <th></th>\n",
       "      <th></th>\n",
       "      <th></th>\n",
       "      <th></th>\n",
       "    </tr>\n",
       "  </thead>\n",
       "  <tbody>\n",
       "    <tr>\n",
       "      <th>2020-02-20</th>\n",
       "      <td>-0.03011</td>\n",
       "      <td>-0.32202</td>\n",
       "      <td>-0.30517</td>\n",
       "      <td>42.497349</td>\n",
       "      <td>9.997676</td>\n",
       "    </tr>\n",
       "    <tr>\n",
       "      <th>2020-02-21</th>\n",
       "      <td>-0.02870</td>\n",
       "      <td>-0.32238</td>\n",
       "      <td>-0.30574</td>\n",
       "      <td>42.178300</td>\n",
       "      <td>9.463202</td>\n",
       "    </tr>\n",
       "    <tr>\n",
       "      <th>2020-02-24</th>\n",
       "      <td>-0.01383</td>\n",
       "      <td>-0.32424</td>\n",
       "      <td>-0.30625</td>\n",
       "      <td>45.016997</td>\n",
       "      <td>4.408952</td>\n",
       "    </tr>\n",
       "    <tr>\n",
       "      <th>2020-02-25</th>\n",
       "      <td>-0.01740</td>\n",
       "      <td>-0.32623</td>\n",
       "      <td>-0.30687</td>\n",
       "      <td>41.090063</td>\n",
       "      <td>5.468431</td>\n",
       "    </tr>\n",
       "    <tr>\n",
       "      <th>2020-02-26</th>\n",
       "      <td>0.00159</td>\n",
       "      <td>-0.32699</td>\n",
       "      <td>-0.30743</td>\n",
       "      <td>49.937310</td>\n",
       "      <td>-0.493819</td>\n",
       "    </tr>\n",
       "    <tr>\n",
       "      <th>...</th>\n",
       "      <td>...</td>\n",
       "      <td>...</td>\n",
       "      <td>...</td>\n",
       "      <td>...</td>\n",
       "      <td>...</td>\n",
       "    </tr>\n",
       "    <tr>\n",
       "      <th>2023-09-27</th>\n",
       "      <td>0.02195</td>\n",
       "      <td>-0.28620</td>\n",
       "      <td>-0.29486</td>\n",
       "      <td>60.402963</td>\n",
       "      <td>-7.384605</td>\n",
       "    </tr>\n",
       "    <tr>\n",
       "      <th>2023-09-28</th>\n",
       "      <td>0.02399</td>\n",
       "      <td>-0.28437</td>\n",
       "      <td>-0.29443</td>\n",
       "      <td>60.877566</td>\n",
       "      <td>-8.037389</td>\n",
       "    </tr>\n",
       "    <tr>\n",
       "      <th>2023-09-29</th>\n",
       "      <td>0.02003</td>\n",
       "      <td>-0.28254</td>\n",
       "      <td>-0.29394</td>\n",
       "      <td>62.528122</td>\n",
       "      <td>-6.864526</td>\n",
       "    </tr>\n",
       "    <tr>\n",
       "      <th>2023-10-02</th>\n",
       "      <td>0.01542</td>\n",
       "      <td>-0.28078</td>\n",
       "      <td>-0.29347</td>\n",
       "      <td>63.225831</td>\n",
       "      <td>-5.390854</td>\n",
       "    </tr>\n",
       "    <tr>\n",
       "      <th>2023-10-03</th>\n",
       "      <td>0.01693</td>\n",
       "      <td>-0.27926</td>\n",
       "      <td>-0.29283</td>\n",
       "      <td>62.380958</td>\n",
       "      <td>-5.871948</td>\n",
       "    </tr>\n",
       "  </tbody>\n",
       "</table>\n",
       "<p>941 rows × 5 columns</p>\n",
       "</div>"
      ],
      "text/plain": [
       "            momentum  fiften_day_avg  sixty_day_avg        RSI       ROC\n",
       "time                                                                    \n",
       "2020-02-20  -0.03011        -0.32202       -0.30517  42.497349  9.997676\n",
       "2020-02-21  -0.02870        -0.32238       -0.30574  42.178300  9.463202\n",
       "2020-02-24  -0.01383        -0.32424       -0.30625  45.016997  4.408952\n",
       "2020-02-25  -0.01740        -0.32623       -0.30687  41.090063  5.468431\n",
       "2020-02-26   0.00159        -0.32699       -0.30743  49.937310 -0.493819\n",
       "...              ...             ...            ...        ...       ...\n",
       "2023-09-27   0.02195        -0.28620       -0.29486  60.402963 -7.384605\n",
       "2023-09-28   0.02399        -0.28437       -0.29443  60.877566 -8.037389\n",
       "2023-09-29   0.02003        -0.28254       -0.29394  62.528122 -6.864526\n",
       "2023-10-02   0.01542        -0.28078       -0.29347  63.225831 -5.390854\n",
       "2023-10-03   0.01693        -0.27926       -0.29283  62.380958 -5.871948\n",
       "\n",
       "[941 rows x 5 columns]"
      ]
     },
     "execution_count": 327,
     "metadata": {},
     "output_type": "execute_result"
    }
   ],
   "source": [
    "features"
   ]
  },
  {
   "cell_type": "code",
   "execution_count": 328,
   "id": "7529cb01-f9cf-4485-9ab7-e96d5a0a9a97",
   "metadata": {},
   "outputs": [
    {
     "name": "stdout",
     "output_type": "stream",
     "text": [
      "Mean Squared Error for ('AUDUSD.a', 'NZDUSD.a'): 2.220105684597874e-06\n",
      "Mean Squared Error for ('EURUSD.a', 'GBPUSD.a'): 1.0994324272918845e-05\n",
      "Mean Squared Error for ('EURNZD.a', 'GBPNZD.a'): 2.3812394344454926e-05\n",
      "{('AUDUSD.a', 'NZDUSD.a'): 0.05001427035730266, ('EURUSD.a', 'GBPUSD.a'): -0.19828035448765968, ('EURNZD.a', 'GBPNZD.a'): -0.27310792031353637}\n"
     ]
    }
   ],
   "source": [
    "\n",
    "# Define the objective function to minimize (MSE)\n",
    "def objective(params):\n",
    "    predicted = np.dot(X_test, params)\n",
    "    mse = np.mean((predicted - y_test) ** 2)\n",
    "    return mse\n",
    "\n",
    "for pair, features_df in features_dict.items():\n",
    "    \n",
    "    # Prepare the data\n",
    "    X = features_df.values  # Feature values\n",
    "    y = coint_dict[pair].values[59:]  # All values as target\n",
    "\n",
    "    # Split the data\n",
    "    X_train, X_test, y_train, y_test = train_test_split(X, y, test_size=0.2, random_state=42)\n",
    "\n",
    "    # Train a linear regression model as an example\n",
    "    model = LinearRegression()\n",
    "    model.fit(X_train, y_train)\n",
    "\n",
    "    # Make predictions\n",
    "    y_pred = model.predict(X_test)\n",
    "    \n",
    "    # Calculate MSE\n",
    "    mse = mean_squared_error(y_test, y_pred)\n",
    "    # print(f\"Mean Squared Error for {pair}: {mse}\")\n",
    "    \n",
    "     # Initialize the parameters for optimization (e.g., as all ones)\n",
    "    initial_params = np.ones(X_test.shape[1])\n",
    "\n",
    "    # Use simulated annealing to optimize the parameters\n",
    "    result = opt.basinhopping(objective, initial_params, niter=100, stepsize=0.5)\n",
    "\n",
    "    # Get the optimized parameters\n",
    "    optimized_params = result.x\n",
    "\n",
    "    # Re-predict using the optimized parameters\n",
    "    y_pred_optimized = np.dot(X_test, optimized_params)\n",
    "    \n",
    "    # Save the prediction\n",
    "    predictions[pair] = y_pred_optimized[0]\n",
    "\n",
    "    # Evaluate the model\n",
    "    mse = mean_squared_error(y_test, y_pred_optimized)\n",
    "    r_squared_optimized = r2_score(y_test, y_pred_optimized)\n",
    "    print(f\"Mean Squared Error for {pair}: {mse}\")\n",
    "    # print(f'R-squared (R^2) for {pair}: {r_squared_optimized}')\n",
    "\n",
    "print(predictions)"
   ]
  },
  {
   "cell_type": "code",
   "execution_count": 321,
   "id": "0f0c9564-f384-41f5-8ae0-b41a253f3c71",
   "metadata": {},
   "outputs": [
    {
     "data": {
      "text/plain": [
       "<AxesSubplot:xlabel='time'>"
      ]
     },
     "execution_count": 321,
     "metadata": {},
     "output_type": "execute_result"
    },
    {
     "data": {
      "image/png": "[encoded data removed]",
      "text/plain": [
       "<Figure size 640x480 with 1 Axes>"
      ]
     },
     "metadata": {},
     "output_type": "display_data"
    }
   ],
   "source": [
    "compute_spread(['AUDUSD.a', 'NZDUSD.a']).plot()"
   ]
  },
  {
   "cell_type": "code",
   "execution_count": 290,
   "id": "1b55ff7a-fad7-4e7e-adf0-b33ae642e903",
   "metadata": {},
   "outputs": [
    {
     "data": {
      "text/plain": [
       "0.040179999999999993"
      ]
     },
     "execution_count": 290,
     "metadata": {},
     "output_type": "execute_result"
    }
   ],
   "source": [
    "compute_spread(['AUDUSD.a', 'NZDUSD.a']).iloc[-1]"
   ]
  },
  {
   "cell_type": "code",
   "execution_count": 299,
   "id": "0c71851e-5c4b-4a75-b803-c5ab8504430b",
   "metadata": {},
   "outputs": [
    {
     "data": {
      "text/plain": [
       "-0.16044999999999998"
      ]
     },
     "execution_count": 299,
     "metadata": {},
     "output_type": "execute_result"
    }
   ],
   "source": [
    "compute_spread(['EURUSD.a', 'GBPUSD.a']).iloc[-1]"
   ]
  },
  {
   "cell_type": "code",
   "execution_count": 300,
   "id": "11d73ad4-d4cc-4892-ae7f-1c2dec80a2d5",
   "metadata": {},
   "outputs": [
    {
     "data": {
      "text/plain": [
       "-0.2726900000000001"
      ]
     },
     "execution_count": 300,
     "metadata": {},
     "output_type": "execute_result"
    }
   ],
   "source": [
    "compute_spread(['EURNZD.a', 'GBPNZD.a']).iloc[-1]"
   ]
  },
  {
   "cell_type": "markdown",
   "id": "4aa9c748-93ac-4be6-99f0-eae1ed36ef75",
   "metadata": {},
   "source": [
    "### ARIMA + GARCH"
   ]
  },
  {
   "cell_type": "code",
   "execution_count": null,
   "id": "fc1ac2e9-f03b-4adc-96e6-230c7fb8ff7c",
   "metadata": {},
   "outputs": [],
   "source": []
  },
  {
   "cell_type": "markdown",
   "id": "4cc2ecd2-f2a8-453a-a432-9aed839a86c4",
   "metadata": {},
   "source": [
    "### Neural Network"
   ]
  },
  {
   "cell_type": "code",
   "execution_count": null,
   "id": "ba09a35c-343f-4727-ba26-8b1f31f9404e",
   "metadata": {},
   "outputs": [],
   "source": []
  },
  {
   "cell_type": "markdown",
   "id": "48d4e775-3323-4bf3-bc99-52d5d18b2cf3",
   "metadata": {},
   "source": [
    "### Other Technical Analyis tools"
   ]
  },
  {
   "cell_type": "code",
   "execution_count": null,
   "id": "44a45ca9-90b2-45e3-805e-33b75b1a5af0",
   "metadata": {},
   "outputs": [],
   "source": [
    "# Moving Averages "
   ]
  },
  {
   "cell_type": "markdown",
   "id": "1a74a1ba-5862-4187-b7a1-c45f9a961e0e",
   "metadata": {},
   "source": [
    "### Markov Chain"
   ]
  },
  {
   "cell_type": "code",
   "execution_count": 136,
   "id": "5fe4a137-eb62-4a3e-bb04-21684a797b80",
   "metadata": {},
   "outputs": [],
   "source": [
    "class MarkovChain:\n",
    "    \n",
    "    # Adjust Accordingly \n",
    "    def __init__(self, price_data):\n",
    "        self.data = pd.DataFrame(price_data)\n",
    "        self.states = ['s_bull', 'w_bull', 'doji', 'w_bear', 's_bear']\n",
    "    \n",
    "    def compute_returns(self):\n",
    "        self.data['returns'] = self.data['close'].pct_change()\n",
    "        \n",
    "    # Temporary states, to amend to more sophisticated/specific states\n",
    "    def classify_state(self, ret):\n",
    "        if ret > 0.01:\n",
    "            return 's_bull'\n",
    "        elif ret > 0.003 and ret < 0.01:\n",
    "            return 'w_bull'\n",
    "        elif ret < 0.002 and ret > -0.002:\n",
    "            return 'doji'\n",
    "        elif ret < -0.003 and ret > -0.01:\n",
    "            return 'w_bear'\n",
    "        else:\n",
    "            return 's_bear'\n",
    "        \n",
    "    def classify_states(self):\n",
    "        self.data['state'] = self.data['returns'].apply(self.classify_state)\n",
    "        \n",
    "        \n",
    "    # ChatGPT code testing/creating a matrix to test for ergodicity \n",
    "    def initialize_matrix(self):\n",
    "        self.matrix = np.zeros((len(self.states), len(self.states)))\n",
    "\n",
    "    def construct_transition_matrix(self):\n",
    "        self.initialize_matrix()\n",
    "\n",
    "        for i in range(1, len(self.data['state'])):\n",
    "            curr_state = self.data['state'][i]\n",
    "            prev_state = self.data['state'][i - 1]\n",
    "            curr_index = self.states.index(curr_state)\n",
    "            prev_index = self.states.index(prev_state)\n",
    "\n",
    "            self.matrix[prev_index][curr_index] += 1\n",
    "\n",
    "        # Normalize the matrix to get transition probabilities\n",
    "        self.matrix = self.matrix / self.matrix.sum(axis=1)[:, None]\n",
    "\n",
    "    def is_ergodic(self):\n",
    "        if (self.matrix > 0).all():\n",
    "            return True\n",
    "        return False"
   ]
  },
  {
   "cell_type": "code",
   "execution_count": 134,
   "id": "b0969d82-cabe-4064-bb17-e9c03336807a",
   "metadata": {},
   "outputs": [
    {
     "data": {
      "text/plain": [
       "0      1.16066\n",
       "1      1.15793\n",
       "2      1.16127\n",
       "3      1.15545\n",
       "4      1.15675\n",
       "        ...   \n",
       "495    1.05719\n",
       "496    1.05031\n",
       "497    1.05661\n",
       "498    1.05732\n",
       "499    1.05700\n",
       "Name: close, Length: 500, dtype: float64"
      ]
     },
     "execution_count": 134,
     "metadata": {},
     "output_type": "execute_result"
    }
   ],
   "source": [
    "data = get_rates(\"EURUSD.a\", mt5.TIMEFRAME_D1, 500)\n",
    "data"
   ]
  },
  {
   "cell_type": "code",
   "execution_count": 135,
   "id": "668d62d8-1a79-4ded-86aa-bb846ac48863",
   "metadata": {},
   "outputs": [
    {
     "data": {
      "text/html": [
       "<div>\n",
       "<style scoped>\n",
       "    .dataframe tbody tr th:only-of-type {\n",
       "        vertical-align: middle;\n",
       "    }\n",
       "\n",
       "    .dataframe tbody tr th {\n",
       "        vertical-align: top;\n",
       "    }\n",
       "\n",
       "    .dataframe thead th {\n",
       "        text-align: right;\n",
       "    }\n",
       "</style>\n",
       "<table border=\"1\" class=\"dataframe\">\n",
       "  <thead>\n",
       "    <tr style=\"text-align: right;\">\n",
       "      <th></th>\n",
       "      <th>close</th>\n",
       "      <th>returns</th>\n",
       "      <th>state</th>\n",
       "    </tr>\n",
       "  </thead>\n",
       "  <tbody>\n",
       "    <tr>\n",
       "      <th>0</th>\n",
       "      <td>1.16066</td>\n",
       "      <td>NaN</td>\n",
       "      <td>s_bear</td>\n",
       "    </tr>\n",
       "    <tr>\n",
       "      <th>1</th>\n",
       "      <td>1.15793</td>\n",
       "      <td>-0.002352</td>\n",
       "      <td>s_bear</td>\n",
       "    </tr>\n",
       "    <tr>\n",
       "      <th>2</th>\n",
       "      <td>1.16127</td>\n",
       "      <td>0.002884</td>\n",
       "      <td>s_bear</td>\n",
       "    </tr>\n",
       "    <tr>\n",
       "      <th>3</th>\n",
       "      <td>1.15545</td>\n",
       "      <td>-0.005012</td>\n",
       "      <td>w_bear</td>\n",
       "    </tr>\n",
       "    <tr>\n",
       "      <th>4</th>\n",
       "      <td>1.15675</td>\n",
       "      <td>0.001125</td>\n",
       "      <td>doji</td>\n",
       "    </tr>\n",
       "    <tr>\n",
       "      <th>...</th>\n",
       "      <td>...</td>\n",
       "      <td>...</td>\n",
       "      <td>...</td>\n",
       "    </tr>\n",
       "    <tr>\n",
       "      <th>495</th>\n",
       "      <td>1.05719</td>\n",
       "      <td>-0.001907</td>\n",
       "      <td>doji</td>\n",
       "    </tr>\n",
       "    <tr>\n",
       "      <th>496</th>\n",
       "      <td>1.05031</td>\n",
       "      <td>-0.006508</td>\n",
       "      <td>w_bear</td>\n",
       "    </tr>\n",
       "    <tr>\n",
       "      <th>497</th>\n",
       "      <td>1.05661</td>\n",
       "      <td>0.005998</td>\n",
       "      <td>w_bull</td>\n",
       "    </tr>\n",
       "    <tr>\n",
       "      <th>498</th>\n",
       "      <td>1.05732</td>\n",
       "      <td>0.000672</td>\n",
       "      <td>doji</td>\n",
       "    </tr>\n",
       "    <tr>\n",
       "      <th>499</th>\n",
       "      <td>1.05700</td>\n",
       "      <td>-0.000303</td>\n",
       "      <td>doji</td>\n",
       "    </tr>\n",
       "  </tbody>\n",
       "</table>\n",
       "<p>500 rows × 3 columns</p>\n",
       "</div>"
      ],
      "text/plain": [
       "       close   returns   state\n",
       "0    1.16066       NaN  s_bear\n",
       "1    1.15793 -0.002352  s_bear\n",
       "2    1.16127  0.002884  s_bear\n",
       "3    1.15545 -0.005012  w_bear\n",
       "4    1.15675  0.001125    doji\n",
       "..       ...       ...     ...\n",
       "495  1.05719 -0.001907    doji\n",
       "496  1.05031 -0.006508  w_bear\n",
       "497  1.05661  0.005998  w_bull\n",
       "498  1.05732  0.000672    doji\n",
       "499  1.05700 -0.000303    doji\n",
       "\n",
       "[500 rows x 3 columns]"
      ]
     },
     "execution_count": 135,
     "metadata": {},
     "output_type": "execute_result"
    }
   ],
   "source": [
    "a = MarkovChain(data)\n",
    "a.compute_returns()\n",
    "a.classify_states()\n",
    "a.data"
   ]
  },
  {
   "cell_type": "code",
   "execution_count": null,
   "id": "f0e7e6f3-2c72-4ad9-9a7d-57fa789073f2",
   "metadata": {},
   "outputs": [],
   "source": []
  },
  {
   "cell_type": "code",
   "execution_count": null,
   "id": "fbc1e834-5ea3-4b50-8e6d-f21597c66c43",
   "metadata": {},
   "outputs": [],
   "source": []
  }
 ],
 "metadata": {
  "kernelspec": {
   "display_name": "Python 3 (ipykernel)",
   "language": "python",
   "name": "python3"
  },
  "language_info": {
   "codemirror_mode": {
    "name": "ipython",
    "version": 3
   },
   "file_extension": ".py",
   "mimetype": "text/x-python",
   "name": "python",
   "nbconvert_exporter": "python",
   "pygments_lexer": "ipython3",
   "version": "3.9.13"
  }
 },
 "nbformat": 4,
 "nbformat_minor": 5
}
