{
 "cells": [
  {
   "cell_type": "code",
   "execution_count": 215,
   "id": "8e554905-3bf9-434b-8b11-e70a239e5fe4",
   "metadata": {},
   "outputs": [],
   "source": [
    "import MetaTrader5 as mt5 \n",
    "import pandas as pd\n",
    "import numpy as np\n",
    "from statsmodels.tsa.stattools import adfuller \n",
    "from datetime import datetime\n",
    "import requests\n",
    "import pandas as pd\n",
    "import numpy as np\n",
    "import warnings\n",
    "import json\n",
    "warnings.filterwarnings(\"ignore\")\n",
    "mt5.initialize()\n",
    "# Replace following with your MT5 Account Login\n",
    "account=51434456 # \n",
    "password=\"9UpBvVzc\"\n",
    "server = 'ICMarkets-Demo'\n",
    "\n",
    "def get_rates(pair1, timeframe, x):\n",
    "    pair1 = pd.DataFrame(mt5.copy_rates_from_pos(pair1, timeframe, 0, x))\n",
    "    pair1['time'] = pd.to_datetime(pair1['time'], unit = 's')\n",
    "    return pair1[['time','open', 'high', 'low', 'close']].set_index('time')"
   ]
  },
  {
   "cell_type": "markdown",
   "id": "abd9ca03-9187-4e73-8194-76744471f5c5",
   "metadata": {},
   "source": [
    "## Data Gathering"
   ]
  },
  {
   "cell_type": "code",
   "execution_count": 216,
   "id": "36866c12-5361-4226-8630-1d9dffbee556",
   "metadata": {},
   "outputs": [
    {
     "name": "stdout",
     "output_type": "stream",
     "text": [
      "Getting AUDUSD.a's rates\n",
      "Getting USDCAD.a's rates\n",
      "Getting USDCHF.a's rates\n",
      "Getting GBPUSD.a's rates\n",
      "Getting USDJPY.a's rates\n",
      "Getting NZDUSD.a's rates\n",
      "Getting EURUSD.a's rates\n"
     ]
    }
   ],
   "source": [
    "import requests\n",
    "import xml.etree.ElementTree as ET\n",
    "import pandas as pd\n",
    "\n",
    "combined_dfs = {}\n",
    "\n",
    "# Define the base URL for the BIS Stats API\n",
    "base_url = 'https://stats.bis.org/api/v1'\n",
    "\n",
    "count_codes = [['AUDUSD.a','AU'], ['USDCAD.a', 'CA'],\n",
    "               ['USDCHF.a','CH'], ['GBPUSD.a', 'GB'],\n",
    "               ['USDJPY.a', 'JP'], ['NZDUSD.a', 'NZ'], \n",
    "               ['EURUSD.a', 'XM']]\n",
    "\n",
    "for country in count_codes:\n",
    "\n",
    "    # Define the endpoint parameters\n",
    "    flow = 'BIS,WS_EER_D,1.0'  # Example: Version 1.0 of the WS_EER_M domain, maintained by the BIS\n",
    "    key = f'D.N.N.{country[1]}'\n",
    "    start_period = '2000'  # Example: Start year 2000\n",
    "    end_period = '2023'  # Example: End year 2020\n",
    "    detail = 'full'  # Example: All data and documentation\n",
    "\n",
    "    # Construct the endpoint URL\n",
    "    endpoint_url = f'{base_url}/data/{flow}/{key}/all'\n",
    "\n",
    "    # Define the query parameters\n",
    "    query_params = {\n",
    "        'startPeriod': start_period,\n",
    "        'endPeriod': end_period,\n",
    "        'detail': detail\n",
    "    }\n",
    "\n",
    "    # Make the GET request\n",
    "    response = requests.get(endpoint_url, params=query_params)\n",
    "\n",
    "    # Check for a successful response\n",
    "    if response.status_code == 200:\n",
    "        # Assign the text of the response to xml_data\n",
    "        xml_data = response.text\n",
    "\n",
    "        # Parse the XML data\n",
    "        root = ET.fromstring(xml_data)\n",
    "\n",
    "        # Initialize empty lists to store the data\n",
    "        time_periods = []\n",
    "        obs_values = []\n",
    "\n",
    "        # Iterate through the XML and extract the desired information\n",
    "        for obs in root.findall(\".//Obs\"):\n",
    "            time_period = obs.get('TIME_PERIOD')\n",
    "            obs_value = obs.get('OBS_VALUE')\n",
    "            time_periods.append(time_period)\n",
    "            obs_values.append(obs_value)\n",
    "\n",
    "        # Create a DataFrame\n",
    "        df = pd.DataFrame({\n",
    "            'Time_Period': time_periods,\n",
    "            'OBS_Value': obs_values\n",
    "        })\n",
    "\n",
    "        df['OBS_Value'] = df['OBS_Value'].replace('NaN', np.nan)\n",
    "        # Drop rows with NaN values\n",
    "        df.dropna(subset=['OBS_Value'], inplace=True)\n",
    "        df['OBS_Value'] = df['OBS_Value'].astype(float)\n",
    "        df['Time_Period'] = pd.to_datetime(df['Time_Period'])\n",
    "        \n",
    "        df = df.set_index('Time_Period')\n",
    "        print(f\"Getting {country[0]}'s rates\")\n",
    "        rates = get_rates(country[0], mt5.TIMEFRAME_D1, 2500)\n",
    "        \n",
    "        combined = pd.concat([df[-len(rates):], rates['close']], join = 'outer', axis = 1)\n",
    "        \n",
    "        combined_dfs[country[1]] = combined.dropna()\n",
    "\n",
    "    else:\n",
    "        print(f'Failed to retrieve data: {response.status_code}')"
   ]
  },
  {
   "cell_type": "code",
   "execution_count": 219,
   "id": "637738ae-9c2f-4b94-b2b8-1ab37478701e",
   "metadata": {},
   "outputs": [],
   "source": [
    "# Compute Expected Returns\n",
    "weekly_dfs = {}\n",
    "features = ['OBS_Value', 'close']\n",
    "\n",
    "for name, dfs in combined_dfs.items():\n",
    "    df = combined_dfs[name]\n",
    "    # Assuming 'df' is your DataFrame\n",
    "    df['date'] = pd.to_datetime(df.index)\n",
    "    df.set_index('date', inplace=True)\n",
    "\n",
    "    # Resample to get the last value of each week\n",
    "    weekly = df.resample('W').last()\n",
    "    weekly_dfs[name] = weekly\n",
    "\n",
    "for df in weekly_dfs.values():\n",
    "    df['EER_ret'] = df['OBS_Value'].pct_change()\n",
    "    df['close_ret'] = df['close'].pct_change()\n",
    "    df['ret_diff'] = df['close_ret'] - df['EER_ret']"
   ]
  },
  {
   "cell_type": "code",
   "execution_count": 199,
   "id": "3f1def98-b69a-4cf5-ae2e-2256901332c9",
   "metadata": {},
   "outputs": [
    {
     "name": "stdout",
     "output_type": "stream",
     "text": [
      "-0.0017504619274529842\n",
      "0.0004950985246066075\n",
      "0.0007063393960797804\n",
      "-0.0017371163867979655\n",
      "-0.006657963446475068\n",
      "0.0007866273352998832\n",
      "0.0029310693349504646\n"
     ]
    }
   ],
   "source": [
    "for df in weekly_dfs.values():\n",
    "    print(df['EER_ret'].iloc[-1])"
   ]
  },
  {
   "cell_type": "code",
   "execution_count": 221,
   "id": "050f8e40-1fc1-4fa2-819b-a63a407789f2",
   "metadata": {},
   "outputs": [],
   "source": [
    "last_update = {}\n",
    "\n",
    "for name, df in weekly_dfs.items():\n",
    "    last_update[name] = df['EER_ret'].iloc[-1]"
   ]
  },
  {
   "cell_type": "code",
   "execution_count": 222,
   "id": "d7cc9a3d-ec1e-41ad-b0e2-ba7bd99684e3",
   "metadata": {},
   "outputs": [],
   "source": [
    "last_update.keys()\n",
    "symbols = ['AUDUSD.a', 'USDCAD.a', 'USDCHF.a', 'GBPUSD.a', 'USDJPY.a', 'NZDUSD.a', 'EURUSD.a']\n",
    "\n",
    "last_update = {symbols[i]: value for i, (key, value) in enumerate(last_update.items())}"
   ]
  },
  {
   "cell_type": "markdown",
   "id": "2b1637ef-bc47-4d0e-8307-babb2ff29771",
   "metadata": {
    "tags": []
   },
   "source": [
    "## Order Sending / Closing Logic"
   ]
  },
  {
   "cell_type": "code",
   "execution_count": 217,
   "id": "526bf68e-fcf1-44af-a420-92c614b65896",
   "metadata": {
    "tags": []
   },
   "outputs": [],
   "source": [
    "def close_all():\n",
    "    close_positions = []\n",
    "    open_positions = mt5.positions_get()\n",
    "    open_positions\n",
    "    for i in open_positions:\n",
    "        close_positions.append(i)\n",
    "        \n",
    "    for pos in close_positions:\n",
    "        close_position(pos)\n",
    "        \n",
    "def close_position(position):\n",
    "\n",
    "    tick = mt5.symbol_info_tick(position.symbol)\n",
    "\n",
    "    request = {\n",
    "        \"action\" : mt5.TRADE_ACTION_DEAL,\n",
    "        \"position\": position.ticket,\n",
    "        \"symbol\": position.symbol,\n",
    "        \"volume\": position.volume,\n",
    "        \"type\": mt5.ORDER_TYPE_BUY if position.type == 1 else mt5.ORDER_TYPE_SELL,\n",
    "        \"price\": tick.ask if position.type == 1 else tick.bid,\n",
    "        \"deviation\": 20,\n",
    "        \"magic\": 100,\n",
    "        \"comment\": 'Regres Close',\n",
    "        'type_time': mt5.ORDER_TIME_GTC,\n",
    "        'type_filling':mt5.ORDER_FILLING_IOC,\n",
    "\n",
    "        }\n",
    "    result = mt5.order_send(request)"
   ]
  },
  {
   "cell_type": "code",
   "execution_count": 218,
   "id": "05a9845b-9a0a-4e3e-a07c-3fd206d51e91",
   "metadata": {},
   "outputs": [],
   "source": [
    "close_all()"
   ]
  },
  {
   "cell_type": "code",
   "execution_count": 63,
   "id": "bc347626-7bf5-48a1-9ea6-d977d6dee598",
   "metadata": {
    "tags": []
   },
   "outputs": [],
   "source": [
    "def send_order(symbol, side, lot, comment):\n",
    "    \n",
    "    if side.lower() == 'sell':\n",
    "        order_type = mt5.ORDER_TYPE_SELL\n",
    "        price = mt5.symbol_info_tick(symbol).bid\n",
    "    elif side.lower() == 'buy':\n",
    "        order_type = mt5.ORDER_TYPE_BUY\n",
    "        price = mt5.symbol_info_tick(symbol).ask\n",
    "    \n",
    "    request = {\n",
    "        \"action\": mt5.TRADE_ACTION_DEAL,\n",
    "        \"symbol\": symbol,\n",
    "        \"volume\": lot,\n",
    "        \"type\": order_type,\n",
    "        \"price\": price,\n",
    "        \"deviation\": 5,\n",
    "        \"magic\": 234000,\n",
    "        \"comment\": comment,\n",
    "        \"type_time\": mt5.ORDER_TIME_GTC,\n",
    "        \"type_filling\": mt5.ORDER_FILLING_IOC,\n",
    "    }\n",
    "    result = mt5.order_send(request)\n",
    "    result"
   ]
  },
  {
   "cell_type": "markdown",
   "id": "e63cea26-b75d-41a1-adf3-ecd9b8eb21a1",
   "metadata": {
    "tags": []
   },
   "source": [
    "# Risk Management"
   ]
  },
  {
   "cell_type": "markdown",
   "id": "2a9ca880-4e1d-4443-a037-b15c4c4e7dd6",
   "metadata": {},
   "source": [
    "**Main Models:**\n",
    "- VAR Model\n",
    "- ARIMA Model\n",
    "\n",
    "For each of the forecasts, run the following:\n",
    "1. Monte Carlo Simulation\n",
    "2. Threshold-Based (Standard Deviation) Position Sizing\n",
    "3. IQR-Based Risk Management\n",
    "\n",
    "**MAIN CONCERN / ADJUSTMENTS**\n",
    "If forecasts show the opposite return being forecasted given EER values for week before, trading into the new week. For example, if EER values returned 1% in W1, but the ARIMA and Monte Carlo Simulation suggest that returns may be -0.5%, major action should be taken!"
   ]
  },
  {
   "cell_type": "markdown",
   "id": "1fa685da-c92f-49f8-8bd1-d72c22390ba6",
   "metadata": {
    "tags": []
   },
   "source": [
    "### EER Forecast (VAR Model)\n",
    "Forecast with a VAR Model what the difference of returns will likely be between the EER value / currency close price."
   ]
  },
  {
   "cell_type": "code",
   "execution_count": null,
   "id": "22a126c2-9b00-4df2-95f8-9b73b03482db",
   "metadata": {},
   "outputs": [],
   "source": []
  },
  {
   "cell_type": "markdown",
   "id": "50ba23ec-a7da-4e32-b1df-7eb78f597018",
   "metadata": {
    "tags": []
   },
   "source": [
    "### EER Forecast (ARIMA Model)\n",
    "\n",
    "Forecast next close ret / EER ret difference for each currency for the next week. If EER forecast is within the IQR ranges associated with each currency, adjust lot sizes accordingly"
   ]
  },
  {
   "cell_type": "code",
   "execution_count": 114,
   "id": "49914f06-233d-43aa-b37a-c29e80398aaa",
   "metadata": {
    "tags": []
   },
   "outputs": [],
   "source": [
    "import itertools\n",
    "import warnings\n",
    "from statsmodels.tsa.arima.model import ARIMA\n",
    "import pandas as pd\n",
    "\n",
    "def evaluate_arima_model_aic_bic(series, arima_order):\n",
    "    '''Evaluates ARIMA model for AIC and BIC'''\n",
    "    try:\n",
    "        model = ARIMA(series, order=arima_order)\n",
    "        model_fit = model.fit()\n",
    "        aic = model_fit.aic\n",
    "        bic = model_fit.bic\n",
    "        return aic, bic\n",
    "    except Exception as e:\n",
    "        print(f'Error with ARIMA order {arima_order}: {e}')\n",
    "        return float('inf'), float('inf')\n",
    "\n",
    "def find_best_arima_model(series, p_values, d_values, q_values):\n",
    "    '''Find the best ARIMA model based on AIC and BIC'''\n",
    "    best_aic, best_bic, best_cfg = float(\"inf\"), float(\"inf\"), None\n",
    "    for p, d, q in itertools.product(p_values, d_values, q_values):\n",
    "        order = (p, d, q)\n",
    "        aic, bic = evaluate_arima_model_aic_bic(series, order)\n",
    "        if aic < best_aic or bic < best_bic:\n",
    "            best_aic, best_bic, best_cfg = aic, bic, order\n",
    "            print(f'ARIMA{order} AIC: {aic}, BIC: {bic}')\n",
    "    print(f'Best ARIMA{best_cfg} AIC: {best_aic}, BIC: {best_bic}')\n",
    "    return best_cfg"
   ]
  },
  {
   "cell_type": "code",
   "execution_count": 209,
   "id": "2640454d-0b4f-43ae-ad7c-80e876a8cf6b",
   "metadata": {},
   "outputs": [
    {
     "data": {
      "text/plain": [
       "<AxesSubplot:xlabel='date'>"
      ]
     },
     "execution_count": 209,
     "metadata": {},
     "output_type": "execute_result"
    },
    {
     "data": {
      "image/png": "[encoded data removed]",
      "text/plain": [
       "<Figure size 432x288 with 1 Axes>"
      ]
     },
     "metadata": {
      "needs_background": "light"
     },
     "output_type": "display_data"
    }
   ],
   "source": [
    "weekly_dfs['JP'][['close_ret', 'EER_ret']].plot()"
   ]
  },
  {
   "cell_type": "code",
   "execution_count": 214,
   "id": "da3b4a09-7fb1-4bbf-af16-8c4e5a6ddfa9",
   "metadata": {},
   "outputs": [
    {
     "data": {
      "text/html": [
       "<div>\n",
       "<style scoped>\n",
       "    .dataframe tbody tr th:only-of-type {\n",
       "        vertical-align: middle;\n",
       "    }\n",
       "\n",
       "    .dataframe tbody tr th {\n",
       "        vertical-align: top;\n",
       "    }\n",
       "\n",
       "    .dataframe thead th {\n",
       "        text-align: right;\n",
       "    }\n",
       "</style>\n",
       "<table border=\"1\" class=\"dataframe\">\n",
       "  <thead>\n",
       "    <tr style=\"text-align: right;\">\n",
       "      <th></th>\n",
       "      <th>OBS_Value</th>\n",
       "      <th>close</th>\n",
       "      <th>EER_return</th>\n",
       "      <th>price_return</th>\n",
       "      <th>EER_direction</th>\n",
       "      <th>price_direction</th>\n",
       "      <th>direction_match</th>\n",
       "      <th>EER_ret</th>\n",
       "      <th>close_ret</th>\n",
       "      <th>ret_diff</th>\n",
       "    </tr>\n",
       "    <tr>\n",
       "      <th>date</th>\n",
       "      <th></th>\n",
       "      <th></th>\n",
       "      <th></th>\n",
       "      <th></th>\n",
       "      <th></th>\n",
       "      <th></th>\n",
       "      <th></th>\n",
       "      <th></th>\n",
       "      <th></th>\n",
       "      <th></th>\n",
       "    </tr>\n",
       "  </thead>\n",
       "  <tbody>\n",
       "    <tr>\n",
       "      <th>2014-05-18</th>\n",
       "      <td>95.45</td>\n",
       "      <td>101.499</td>\n",
       "      <td>0.003047</td>\n",
       "      <td>-0.000768</td>\n",
       "      <td>1</td>\n",
       "      <td>-1</td>\n",
       "      <td>False</td>\n",
       "      <td>NaN</td>\n",
       "      <td>NaN</td>\n",
       "      <td>NaN</td>\n",
       "    </tr>\n",
       "    <tr>\n",
       "      <th>2014-05-25</th>\n",
       "      <td>95.19</td>\n",
       "      <td>101.961</td>\n",
       "      <td>-0.001573</td>\n",
       "      <td>0.002074</td>\n",
       "      <td>-1</td>\n",
       "      <td>1</td>\n",
       "      <td>False</td>\n",
       "      <td>-0.002724</td>\n",
       "      <td>0.004552</td>\n",
       "      <td>0.007276</td>\n",
       "    </tr>\n",
       "    <tr>\n",
       "      <th>2014-06-01</th>\n",
       "      <td>95.38</td>\n",
       "      <td>101.746</td>\n",
       "      <td>-0.000314</td>\n",
       "      <td>0.000246</td>\n",
       "      <td>-1</td>\n",
       "      <td>1</td>\n",
       "      <td>False</td>\n",
       "      <td>0.001996</td>\n",
       "      <td>-0.002109</td>\n",
       "      <td>-0.004105</td>\n",
       "    </tr>\n",
       "    <tr>\n",
       "      <th>2014-06-08</th>\n",
       "      <td>94.61</td>\n",
       "      <td>102.466</td>\n",
       "      <td>-0.000211</td>\n",
       "      <td>0.000469</td>\n",
       "      <td>-1</td>\n",
       "      <td>1</td>\n",
       "      <td>False</td>\n",
       "      <td>-0.008073</td>\n",
       "      <td>0.007076</td>\n",
       "      <td>0.015149</td>\n",
       "    </tr>\n",
       "    <tr>\n",
       "      <th>2014-06-15</th>\n",
       "      <td>95.10</td>\n",
       "      <td>102.031</td>\n",
       "      <td>0.000842</td>\n",
       "      <td>0.002850</td>\n",
       "      <td>1</td>\n",
       "      <td>1</td>\n",
       "      <td>True</td>\n",
       "      <td>0.005179</td>\n",
       "      <td>-0.004245</td>\n",
       "      <td>-0.009424</td>\n",
       "    </tr>\n",
       "    <tr>\n",
       "      <th>...</th>\n",
       "      <td>...</td>\n",
       "      <td>...</td>\n",
       "      <td>...</td>\n",
       "      <td>...</td>\n",
       "      <td>...</td>\n",
       "      <td>...</td>\n",
       "      <td>...</td>\n",
       "      <td>...</td>\n",
       "      <td>...</td>\n",
       "      <td>...</td>\n",
       "    </tr>\n",
       "    <tr>\n",
       "      <th>2023-11-19</th>\n",
       "      <td>73.96</td>\n",
       "      <td>149.578</td>\n",
       "      <td>0.011626</td>\n",
       "      <td>-0.007676</td>\n",
       "      <td>1</td>\n",
       "      <td>-1</td>\n",
       "      <td>False</td>\n",
       "      <td>0.002847</td>\n",
       "      <td>-0.012810</td>\n",
       "      <td>-0.015658</td>\n",
       "    </tr>\n",
       "    <tr>\n",
       "      <th>2023-11-26</th>\n",
       "      <td>73.69</td>\n",
       "      <td>149.428</td>\n",
       "      <td>-0.000814</td>\n",
       "      <td>-0.000969</td>\n",
       "      <td>-1</td>\n",
       "      <td>-1</td>\n",
       "      <td>True</td>\n",
       "      <td>-0.003651</td>\n",
       "      <td>-0.001003</td>\n",
       "      <td>0.002648</td>\n",
       "    </tr>\n",
       "    <tr>\n",
       "      <th>2023-12-03</th>\n",
       "      <td>74.34</td>\n",
       "      <td>146.804</td>\n",
       "      <td>-0.002282</td>\n",
       "      <td>-0.009580</td>\n",
       "      <td>-1</td>\n",
       "      <td>-1</td>\n",
       "      <td>True</td>\n",
       "      <td>0.008821</td>\n",
       "      <td>-0.017560</td>\n",
       "      <td>-0.026381</td>\n",
       "    </tr>\n",
       "    <tr>\n",
       "      <th>2023-12-10</th>\n",
       "      <td>76.60</td>\n",
       "      <td>144.979</td>\n",
       "      <td>0.003669</td>\n",
       "      <td>0.005807</td>\n",
       "      <td>1</td>\n",
       "      <td>1</td>\n",
       "      <td>True</td>\n",
       "      <td>0.030401</td>\n",
       "      <td>-0.012432</td>\n",
       "      <td>-0.042832</td>\n",
       "    </tr>\n",
       "    <tr>\n",
       "      <th>2023-12-17</th>\n",
       "      <td>76.09</td>\n",
       "      <td>145.465</td>\n",
       "      <td>0.005949</td>\n",
       "      <td>-0.004741</td>\n",
       "      <td>1</td>\n",
       "      <td>-1</td>\n",
       "      <td>False</td>\n",
       "      <td>-0.006658</td>\n",
       "      <td>0.003352</td>\n",
       "      <td>0.010010</td>\n",
       "    </tr>\n",
       "  </tbody>\n",
       "</table>\n",
       "<p>501 rows × 10 columns</p>\n",
       "</div>"
      ],
      "text/plain": [
       "            OBS_Value    close  EER_return  price_return  EER_direction  \\\n",
       "date                                                                      \n",
       "2014-05-18      95.45  101.499    0.003047     -0.000768              1   \n",
       "2014-05-25      95.19  101.961   -0.001573      0.002074             -1   \n",
       "2014-06-01      95.38  101.746   -0.000314      0.000246             -1   \n",
       "2014-06-08      94.61  102.466   -0.000211      0.000469             -1   \n",
       "2014-06-15      95.10  102.031    0.000842      0.002850              1   \n",
       "...               ...      ...         ...           ...            ...   \n",
       "2023-11-19      73.96  149.578    0.011626     -0.007676              1   \n",
       "2023-11-26      73.69  149.428   -0.000814     -0.000969             -1   \n",
       "2023-12-03      74.34  146.804   -0.002282     -0.009580             -1   \n",
       "2023-12-10      76.60  144.979    0.003669      0.005807              1   \n",
       "2023-12-17      76.09  145.465    0.005949     -0.004741              1   \n",
       "\n",
       "            price_direction  direction_match   EER_ret  close_ret  ret_diff  \n",
       "date                                                                         \n",
       "2014-05-18               -1            False       NaN        NaN       NaN  \n",
       "2014-05-25                1            False -0.002724   0.004552  0.007276  \n",
       "2014-06-01                1            False  0.001996  -0.002109 -0.004105  \n",
       "2014-06-08                1            False -0.008073   0.007076  0.015149  \n",
       "2014-06-15                1             True  0.005179  -0.004245 -0.009424  \n",
       "...                     ...              ...       ...        ...       ...  \n",
       "2023-11-19               -1            False  0.002847  -0.012810 -0.015658  \n",
       "2023-11-26               -1             True -0.003651  -0.001003  0.002648  \n",
       "2023-12-03               -1             True  0.008821  -0.017560 -0.026381  \n",
       "2023-12-10                1             True  0.030401  -0.012432 -0.042832  \n",
       "2023-12-17               -1            False -0.006658   0.003352  0.010010  \n",
       "\n",
       "[501 rows x 10 columns]"
      ]
     },
     "execution_count": 214,
     "metadata": {},
     "output_type": "execute_result"
    }
   ],
   "source": [
    "weekly_dfs['JP']"
   ]
  },
  {
   "cell_type": "code",
   "execution_count": 212,
   "id": "ffd77abb-4322-467f-bfab-7ef9468aa0ef",
   "metadata": {},
   "outputs": [
    {
     "data": {
      "text/plain": [
       "<AxesSubplot:xlabel='date'>"
      ]
     },
     "execution_count": 212,
     "metadata": {},
     "output_type": "execute_result"
    },
    {
     "data": {
      "image/png": "[encoded data removed]",
      "text/plain": [
       "<Figure size 432x288 with 1 Axes>"
      ]
     },
     "metadata": {
      "needs_background": "light"
     },
     "output_type": "display_data"
    }
   ],
   "source": [
    "weekly_dfs['JP']['ret_diff'].plot()"
   ]
  },
  {
   "cell_type": "code",
   "execution_count": 196,
   "id": "c0527442-7cac-4344-89b5-b046a348c07f",
   "metadata": {},
   "outputs": [
    {
     "name": "stdout",
     "output_type": "stream",
     "text": [
      "Iterating through AU\n",
      "ARIMA(0, 0, 0) AIC: -3120.5265103837414, BIC: -3112.0932981815718\n",
      "Best ARIMA(0, 0, 0) AIC: -3120.5265103837414, BIC: -3112.0932981815718\n",
      "Iterating through CA\n",
      "ARIMA(0, 0, 0) AIC: -3254.2514100206567, BIC: -3245.818197818487\n",
      "Best ARIMA(0, 0, 0) AIC: -3254.2514100206567, BIC: -3245.818197818487\n",
      "Iterating through CH\n",
      "ARIMA(0, 0, 0) AIC: -3184.6504863712935, BIC: -3176.217274169124\n",
      "ARIMA(0, 0, 2) AIC: -3217.545688481244, BIC: -3200.6792640769045\n",
      "Best ARIMA(0, 0, 2) AIC: -3217.545688481244, BIC: -3200.6792640769045\n",
      "Iterating through GB\n",
      "ARIMA(0, 0, 0) AIC: -3255.5042582093756, BIC: -3247.071046007206\n",
      "Best ARIMA(0, 0, 0) AIC: -3255.5042582093756, BIC: -3247.071046007206\n",
      "Iterating through JP\n",
      "ARIMA(0, 0, 0) AIC: -3072.7546973374556, BIC: -3064.321485135286\n",
      "Best ARIMA(0, 0, 0) AIC: -3072.7546973374556, BIC: -3064.321485135286\n",
      "Iterating through NZ\n",
      "ARIMA(0, 0, 0) AIC: -3238.096989320527, BIC: -3229.6637771183573\n",
      "Best ARIMA(0, 0, 0) AIC: -3238.096989320527, BIC: -3229.6637771183573\n",
      "Iterating through XM\n",
      "ARIMA(0, 0, 0) AIC: -3630.9905160636577, BIC: -3622.557303861488\n",
      "Best ARIMA(0, 0, 0) AIC: -3630.9905160636577, BIC: -3622.557303861488\n"
     ]
    }
   ],
   "source": [
    "arma_forecasts = {}\n",
    "for df in weekly_dfs:\n",
    "    print(f'Iterating through {df}')\n",
    "    \n",
    "    # Example usage:\n",
    "    series = weekly_dfs[df]['EER_ret']  # Replace 'your_column' with your actual column name\n",
    "\n",
    "    # Define the p, d, q ranges to try\n",
    "    p_values = range(0, 5)\n",
    "    # d_values = range(0, 3)  # Example range for d\n",
    "    q_values = range(0, 5)\n",
    "\n",
    "    # Find the best ARIMA model\n",
    "    best_arima_order = find_best_arima_model(series, p_values, d_values, q_values)\n",
    "\n",
    "    # Fit the best ARIMA model\n",
    "    best_model = ARIMA(series, order=best_arima_order)\n",
    "    best_model_fit = best_model.fit()\n",
    "    forecast = best_model_fit.forecast(steps=1)\n",
    "    arma_forecasts[df] = forecast"
   ]
  },
  {
   "cell_type": "code",
   "execution_count": 116,
   "id": "b06bcd77-ad29-44c2-b3f8-4e5c97bea483",
   "metadata": {},
   "outputs": [
    {
     "data": {
      "text/plain": [
       "{'AU': 2023-12-24    0.000571\n",
       " Freq: W-SUN, dtype: float64,\n",
       " 'CA': 2023-12-24    0.000775\n",
       " Freq: W-SUN, dtype: float64,\n",
       " 'CH': 2023-12-24    0.001187\n",
       " Freq: W-SUN, dtype: float64,\n",
       " 'GB': 2023-12-24   -0.000564\n",
       " Freq: W-SUN, dtype: float64,\n",
       " 'JP': 2023-12-24    0.001182\n",
       " Freq: W-SUN, dtype: float64,\n",
       " 'NZ': 2023-12-24   -0.000328\n",
       " Freq: W-SUN, dtype: float64,\n",
       " 'XM': 2023-12-24   -0.000399\n",
       " Freq: W-SUN, dtype: float64}"
      ]
     },
     "execution_count": 116,
     "metadata": {},
     "output_type": "execute_result"
    }
   ],
   "source": [
    "arma_forecasts"
   ]
  },
  {
   "cell_type": "markdown",
   "id": "7f0208be-c051-4054-8584-a7da0e486468",
   "metadata": {
    "jp-MarkdownHeadingCollapsed": true,
    "tags": []
   },
   "source": [
    "### IQR, STD Threshold and Montecarlo results"
   ]
  },
  {
   "cell_type": "markdown",
   "id": "cbf10c8c-90eb-4ec3-9ec5-d0cfd9a5031d",
   "metadata": {
    "tags": []
   },
   "source": [
    "### Monte Carlo Sim Class"
   ]
  },
  {
   "cell_type": "code",
   "execution_count": 118,
   "id": "04959e8a-0d0f-425e-abcf-171a0e2e7a5c",
   "metadata": {},
   "outputs": [],
   "source": [
    "class MonteCarloSimulation:\n",
    "    def __init__(self, mean, std, periods, simulations, initial_price):\n",
    "        self.mean = mean\n",
    "        self.std = std\n",
    "        self.periods = periods\n",
    "        self.simulations = simulations\n",
    "        self.initial_price = initial_price\n",
    "        self.simulation_results = None\n",
    "\n",
    "    def run_simulation(self):\n",
    "        results = np.zeros((self.periods, self.simulations))\n",
    "        results[0] = self.initial_price\n",
    "\n",
    "        for t in range(1, self.periods):\n",
    "            random_shock = np.random.normal(self.mean, self.std, size=self.simulations)\n",
    "            results[t] = results[t-1] * np.exp(random_shock)\n",
    "\n",
    "        self.simulation_results = results\n",
    "\n",
    "    def plot_results(self):\n",
    "        if self.simulation_results is not None:\n",
    "            plt.figure(figsize=(10, 6))\n",
    "            plt.plot(pd.DataFrame(self.simulation_results))\n",
    "            plt.title(\"Monte Carlo Simulation\")\n",
    "            plt.xlabel(\"Time Periods\")\n",
    "            plt.ylabel(\"Price\")\n",
    "            plt.show()\n",
    "        else:\n",
    "            print(\"Run the simulation first.\")"
   ]
  },
  {
   "cell_type": "code",
   "execution_count": 161,
   "id": "5cb325f3-0774-4b7b-8818-759deb80b4d6",
   "metadata": {},
   "outputs": [],
   "source": [
    "ret_diff = weekly_dfs['AU']\n",
    "ret_diff_mean = ret_diff.mean()\n",
    "ret_diff_std = ret_diff.std()\n",
    "periods = 1\n",
    "simulations = 10000\n",
    "initial_price = ret_diff.iloc[-1]\n",
    "ret_diff = MonteCarloSimulation(ret_diff_mean, ret_diff_std, periods, simulations, initial_price)"
   ]
  },
  {
   "cell_type": "code",
   "execution_count": 163,
   "id": "f4096d92-952a-49a1-8197-925a9e129ba3",
   "metadata": {},
   "outputs": [
    {
     "ename": "ValueError",
     "evalue": "could not broadcast input array from shape (6,) into shape (10000,)",
     "output_type": "error",
     "traceback": [
      "\u001b[1;31m---------------------------------------------------------------------------\u001b[0m",
      "\u001b[1;31mValueError\u001b[0m                                Traceback (most recent call last)",
      "Input \u001b[1;32mIn [163]\u001b[0m, in \u001b[0;36m<cell line: 1>\u001b[1;34m()\u001b[0m\n\u001b[1;32m----> 1\u001b[0m \u001b[43mret_diff\u001b[49m\u001b[38;5;241;43m.\u001b[39;49m\u001b[43mrun_simulation\u001b[49m\u001b[43m(\u001b[49m\u001b[43m)\u001b[49m\n",
      "Input \u001b[1;32mIn [118]\u001b[0m, in \u001b[0;36mMonteCarloSimulation.run_simulation\u001b[1;34m(self)\u001b[0m\n\u001b[0;32m     10\u001b[0m \u001b[38;5;28;01mdef\u001b[39;00m \u001b[38;5;21mrun_simulation\u001b[39m(\u001b[38;5;28mself\u001b[39m):\n\u001b[0;32m     11\u001b[0m     results \u001b[38;5;241m=\u001b[39m np\u001b[38;5;241m.\u001b[39mzeros((\u001b[38;5;28mself\u001b[39m\u001b[38;5;241m.\u001b[39mperiods, \u001b[38;5;28mself\u001b[39m\u001b[38;5;241m.\u001b[39msimulations))\n\u001b[1;32m---> 12\u001b[0m     results[\u001b[38;5;241m0\u001b[39m] \u001b[38;5;241m=\u001b[39m \u001b[38;5;28mself\u001b[39m\u001b[38;5;241m.\u001b[39minitial_price\n\u001b[0;32m     14\u001b[0m     \u001b[38;5;28;01mfor\u001b[39;00m t \u001b[38;5;129;01min\u001b[39;00m \u001b[38;5;28mrange\u001b[39m(\u001b[38;5;241m1\u001b[39m, \u001b[38;5;28mself\u001b[39m\u001b[38;5;241m.\u001b[39mperiods):\n\u001b[0;32m     15\u001b[0m         random_shock \u001b[38;5;241m=\u001b[39m np\u001b[38;5;241m.\u001b[39mrandom\u001b[38;5;241m.\u001b[39mnormal(\u001b[38;5;28mself\u001b[39m\u001b[38;5;241m.\u001b[39mmean, \u001b[38;5;28mself\u001b[39m\u001b[38;5;241m.\u001b[39mstd, size\u001b[38;5;241m=\u001b[39m\u001b[38;5;28mself\u001b[39m\u001b[38;5;241m.\u001b[39msimulations)\n",
      "\u001b[1;31mValueError\u001b[0m: could not broadcast input array from shape (6,) into shape (10000,)"
     ]
    }
   ],
   "source": [
    "ret_diff.run_simulation()"
   ]
  },
  {
   "cell_type": "code",
   "execution_count": null,
   "id": "77ac8187-16a8-4973-9749-8314398bcbcc",
   "metadata": {},
   "outputs": [],
   "source": []
  },
  {
   "cell_type": "code",
   "execution_count": 120,
   "id": "d8b53cbd-01c3-472d-81ce-b1b72a4762df",
   "metadata": {},
   "outputs": [],
   "source": [
    "import numpy as np\n",
    "from sklearn.linear_model import LinearRegression\n",
    "import matplotlib.pyplot as plt"
   ]
  },
  {
   "cell_type": "code",
   "execution_count": 172,
   "id": "659cfb95-918c-4a4e-93e6-b17f5ec4cc5a",
   "metadata": {},
   "outputs": [
    {
     "name": "stdout",
     "output_type": "stream",
     "text": [
      "Iterating through AU\n",
      "0.8763039068817601\n",
      "0.8666654691299702\n",
      "Iterating through CA\n",
      "-0.9606158050076168\n",
      "-0.9499101564461231\n",
      "Iterating through CH\n",
      "-0.4855556408924766\n",
      "-0.49597670112240944\n",
      "Iterating through GB\n",
      "0.8448659049280014\n",
      "0.8353836459371833\n",
      "Iterating through JP\n",
      "-0.9337108927944022\n",
      "-0.9364568528214373\n",
      "Iterating through NZ\n",
      "0.8530028637848602\n",
      "0.8466691944393905\n",
      "Iterating through XM\n",
      "0.7609866910309511\n",
      "0.7763988079196247\n"
     ]
    }
   ],
   "source": [
    "for df in weekly_dfs:\n",
    "    print(f\"Iterating through {df}\")\n",
    "    weekly_dfs[df]['close_lag1'] = weekly_dfs[df]['close'].shift(1)\n",
    "    print(weekly_dfs[df]['close_lag1'].corr(weekly_dfs[df]['OBS_Value']))\n",
    "\n",
    "    weekly_dfs[df]['lag1'] = weekly_dfs[df]['OBS_Value'].shift(1)\n",
    "    # print(weekly_dfs[df]['close'].corr(weekly_dfs[df]['lag1']))\n",
    "    print(weekly_dfs[df]['close'].corr(weekly_dfs[df]['lag1']))"
   ]
  },
  {
   "cell_type": "code",
   "execution_count": 132,
   "id": "b73eecb0-a836-41ba-8ca5-a1574c89f979",
   "metadata": {},
   "outputs": [],
   "source": [
    "from sklearn.model_selection import train_test_split\n",
    "from sklearn.metrics import mean_squared_error"
   ]
  },
  {
   "cell_type": "code",
   "execution_count": 150,
   "id": "5557ec44-3403-4f6f-9d3e-5e1f7c65b8b5",
   "metadata": {},
   "outputs": [],
   "source": [
    "X = np.array(weekly_dfs['AU']['ret_diff']).reshape(-1, 1)\n",
    "y = weekly_dfs['AU']['close']"
   ]
  },
  {
   "cell_type": "code",
   "execution_count": 151,
   "id": "fc488959-90a6-4a60-bce0-aa681a1f63a5",
   "metadata": {},
   "outputs": [],
   "source": [
    "X_train, X_test, y_train, y_test = train_test_split(X, y, test_size=0.2, random_state=42)"
   ]
  },
  {
   "cell_type": "code",
   "execution_count": 152,
   "id": "4e7b89e8-925f-4845-911f-0e74db5ac97d",
   "metadata": {},
   "outputs": [
    {
     "data": {
      "text/plain": [
       "LinearRegression()"
      ]
     },
     "execution_count": 152,
     "metadata": {},
     "output_type": "execute_result"
    }
   ],
   "source": [
    "model = LinearRegression()\n",
    "model.fit(X_train, y_train)"
   ]
  },
  {
   "cell_type": "code",
   "execution_count": 153,
   "id": "06961407-01b3-4419-81fc-8f1027543bd0",
   "metadata": {},
   "outputs": [
    {
     "name": "stdout",
     "output_type": "stream",
     "text": [
      "Mean Squared Error: 0.0009552122594511012\n",
      "R-squared: 0.7947419785672323\n"
     ]
    }
   ],
   "source": [
    "# Predicting on the test set\n",
    "y_pred = model.predict(X_test)\n",
    "\n",
    "# Calculating the error rate (Mean Squared Error)\n",
    "mse = mean_squared_error(y_test, y_pred)\n",
    "print(\"Mean Squared Error:\", mse)\n",
    "\n",
    "# Optional: Calculate other metrics, like R-squared\n",
    "r_squared = model.score(X_test, y_test)\n",
    "print(\"R-squared:\", r_squared)"
   ]
  },
  {
   "cell_type": "code",
   "execution_count": 155,
   "id": "7f1b5d3b-e0c4-4856-8e1e-ebe5f8d4f1f3",
   "metadata": {},
   "outputs": [
    {
     "data": {
      "text/plain": [
       "date\n",
       "2014-05-18    121.02\n",
       "2014-05-25    119.55\n",
       "2014-06-01    120.61\n",
       "2014-06-08    121.06\n",
       "2014-06-15    121.81\n",
       "               ...  \n",
       "2023-11-19    101.76\n",
       "2023-11-26    102.54\n",
       "2023-12-03    103.02\n",
       "2023-12-10    102.83\n",
       "2023-12-17    102.65\n",
       "Freq: W-SUN, Name: OBS_Value, Length: 501, dtype: float64"
      ]
     },
     "execution_count": 155,
     "metadata": {},
     "output_type": "execute_result"
    }
   ],
   "source": [
    "weekly_dfs['AU']['OBS_Value']"
   ]
  },
  {
   "cell_type": "markdown",
   "id": "5df9309e-939a-4662-9fe2-7f449f8b5bd2",
   "metadata": {
    "tags": []
   },
   "source": [
    "# Orders "
   ]
  },
  {
   "cell_type": "markdown",
   "id": "08363705-6415-4b47-939e-6c41ba48a0b5",
   "metadata": {
    "tags": []
   },
   "source": [
    "### Simple Order Send\n",
    "Copying EER return direction as data is released."
   ]
  },
  {
   "cell_type": "code",
   "execution_count": 64,
   "id": "83d105d2-18be-474e-a430-a1fb22ae1d7b",
   "metadata": {},
   "outputs": [],
   "source": [
    "def sim_send():\n",
    "    for symbol, value in last_update.items():\n",
    "        if symbol[:3] == 'USD':\n",
    "            print(f\"Looping through {symbol}\")\n",
    "            if value > 0:\n",
    "                send_order(symbol, 'sell', 1.00, 'EER')\n",
    "                print(f\"Selling {symbol}\")\n",
    "            else:\n",
    "                send_order(symbol, 'buy', 1.00, 'EER')\n",
    "        else:\n",
    "            if value > 0:\n",
    "                send_order(symbol, 'buy', 1.00, 'EER')\n",
    "            else:\n",
    "                send_order(symbol, 'sell', 1.00, 'EER')"
   ]
  },
  {
   "cell_type": "markdown",
   "id": "30cf4f6b-eba9-478a-b23f-016d21a13558",
   "metadata": {},
   "source": [
    "### Pair / Triplet Trading\n",
    "\n",
    "Trading based on a cointegrating relationship within EER values"
   ]
  },
  {
   "cell_type": "code",
   "execution_count": null,
   "id": "2dc835c3-f4af-42ef-9fa1-36c84163c154",
   "metadata": {},
   "outputs": [],
   "source": []
  },
  {
   "cell_type": "markdown",
   "id": "3c8bf2de-9fa1-446f-b020-8ef485387509",
   "metadata": {},
   "source": [
    "### Mean Reversion / Momentum \n",
    "\n",
    "Based on mean-reverting nature of EER values balanced with the momentum of EER values"
   ]
  },
  {
   "cell_type": "code",
   "execution_count": null,
   "id": "fc150523-71df-4c39-b270-e3982ad21bec",
   "metadata": {},
   "outputs": [],
   "source": []
  },
  {
   "cell_type": "code",
   "execution_count": null,
   "id": "eb39eade-e286-4afa-987a-08df4a1fa665",
   "metadata": {},
   "outputs": [],
   "source": []
  },
  {
   "cell_type": "code",
   "execution_count": null,
   "id": "4421737b-d82e-469f-a088-b08958293d48",
   "metadata": {},
   "outputs": [],
   "source": []
  },
  {
   "cell_type": "markdown",
   "id": "7193a304-0971-479f-a0bf-a5fcf51a7646",
   "metadata": {
    "tags": []
   },
   "source": [
    "# Research\n",
    "\n",
    "Analyzing the relationship of EER data and close prices. "
   ]
  },
  {
   "cell_type": "code",
   "execution_count": 9,
   "id": "7482aabc-60fb-4206-9c25-0ffbe54a44db",
   "metadata": {},
   "outputs": [],
   "source": [
    "for df in weekly_dfs.values():\n",
    "    df['ret'] = df['close'].pct_change()\n",
    "    df['ret_diff'] = df['EER_ret'] - df['ret']\n",
    "    df = df.dropna()"
   ]
  },
  {
   "cell_type": "code",
   "execution_count": 12,
   "id": "c2103158-3c2e-4ed0-97d7-3d55b56a1cef",
   "metadata": {},
   "outputs": [
    {
     "name": "stdout",
     "output_type": "stream",
     "text": [
      "EER Correlation with AU is: 0.7901864448535375\n",
      "EER Correlation with CA is: -0.8028662382263347\n",
      "EER Correlation with CH is: -0.6972064531265869\n",
      "EER Correlation with GB is: 0.6872038876573432\n",
      "EER Correlation with JP is: -0.8162789646117149\n",
      "EER Correlation with NZ is: 0.7759010905793639\n",
      "EER Correlation with XM is: 0.75461984964802\n"
     ]
    }
   ],
   "source": [
    "for name, df in weekly_dfs.items():\n",
    "    print(f\"EER Correlation with {name} is: {df['EER_ret'].corr(df['ret'])}\")"
   ]
  },
  {
   "cell_type": "code",
   "execution_count": 13,
   "id": "72aa1e6e-873f-4fc9-af82-5c6075060ef2",
   "metadata": {},
   "outputs": [
    {
     "data": {
      "text/html": [
       "<div>\n",
       "<style scoped>\n",
       "    .dataframe tbody tr th:only-of-type {\n",
       "        vertical-align: middle;\n",
       "    }\n",
       "\n",
       "    .dataframe tbody tr th {\n",
       "        vertical-align: top;\n",
       "    }\n",
       "\n",
       "    .dataframe thead th {\n",
       "        text-align: right;\n",
       "    }\n",
       "</style>\n",
       "<table border=\"1\" class=\"dataframe\">\n",
       "  <thead>\n",
       "    <tr style=\"text-align: right;\">\n",
       "      <th></th>\n",
       "      <th>AU Stats</th>\n",
       "      <th>CA Stats</th>\n",
       "      <th>CH Stats</th>\n",
       "      <th>GB Stats</th>\n",
       "      <th>JP Stats</th>\n",
       "      <th>NZ Stats</th>\n",
       "      <th>XM Stats</th>\n",
       "    </tr>\n",
       "  </thead>\n",
       "  <tbody>\n",
       "    <tr>\n",
       "      <th>count</th>\n",
       "      <td>500.000000</td>\n",
       "      <td>500.000000</td>\n",
       "      <td>500.000000</td>\n",
       "      <td>500.000000</td>\n",
       "      <td>500.000000</td>\n",
       "      <td>500.000000</td>\n",
       "      <td>500.000000</td>\n",
       "    </tr>\n",
       "    <tr>\n",
       "      <th>mean</th>\n",
       "      <td>0.000331</td>\n",
       "      <td>-0.000780</td>\n",
       "      <td>0.000455</td>\n",
       "      <td>0.000355</td>\n",
       "      <td>-0.001187</td>\n",
       "      <td>0.000385</td>\n",
       "      <td>0.000303</td>\n",
       "    </tr>\n",
       "    <tr>\n",
       "      <th>std</th>\n",
       "      <td>0.009016</td>\n",
       "      <td>0.018449</td>\n",
       "      <td>0.020908</td>\n",
       "      <td>0.009577</td>\n",
       "      <td>0.022378</td>\n",
       "      <td>0.009825</td>\n",
       "      <td>0.007543</td>\n",
       "    </tr>\n",
       "    <tr>\n",
       "      <th>min</th>\n",
       "      <td>-0.053037</td>\n",
       "      <td>-0.064334</td>\n",
       "      <td>-0.104875</td>\n",
       "      <td>-0.050289</td>\n",
       "      <td>-0.100707</td>\n",
       "      <td>-0.055615</td>\n",
       "      <td>-0.033891</td>\n",
       "    </tr>\n",
       "    <tr>\n",
       "      <th>25%</th>\n",
       "      <td>-0.005043</td>\n",
       "      <td>-0.011253</td>\n",
       "      <td>-0.009497</td>\n",
       "      <td>-0.005518</td>\n",
       "      <td>-0.013587</td>\n",
       "      <td>-0.004930</td>\n",
       "      <td>-0.004470</td>\n",
       "    </tr>\n",
       "    <tr>\n",
       "      <th>50%</th>\n",
       "      <td>0.000351</td>\n",
       "      <td>-0.000383</td>\n",
       "      <td>-0.000585</td>\n",
       "      <td>0.000610</td>\n",
       "      <td>-0.002483</td>\n",
       "      <td>0.000214</td>\n",
       "      <td>0.000593</td>\n",
       "    </tr>\n",
       "    <tr>\n",
       "      <th>75%</th>\n",
       "      <td>0.005571</td>\n",
       "      <td>0.011458</td>\n",
       "      <td>0.009036</td>\n",
       "      <td>0.005837</td>\n",
       "      <td>0.010900</td>\n",
       "      <td>0.005794</td>\n",
       "      <td>0.004755</td>\n",
       "    </tr>\n",
       "    <tr>\n",
       "      <th>max</th>\n",
       "      <td>0.033373</td>\n",
       "      <td>0.059054</td>\n",
       "      <td>0.284139</td>\n",
       "      <td>0.036804</td>\n",
       "      <td>0.077664</td>\n",
       "      <td>0.039223</td>\n",
       "      <td>0.029442</td>\n",
       "    </tr>\n",
       "  </tbody>\n",
       "</table>\n",
       "</div>"
      ],
      "text/plain": [
       "         AU Stats    CA Stats    CH Stats    GB Stats    JP Stats    NZ Stats  \\\n",
       "count  500.000000  500.000000  500.000000  500.000000  500.000000  500.000000   \n",
       "mean     0.000331   -0.000780    0.000455    0.000355   -0.001187    0.000385   \n",
       "std      0.009016    0.018449    0.020908    0.009577    0.022378    0.009825   \n",
       "min     -0.053037   -0.064334   -0.104875   -0.050289   -0.100707   -0.055615   \n",
       "25%     -0.005043   -0.011253   -0.009497   -0.005518   -0.013587   -0.004930   \n",
       "50%      0.000351   -0.000383   -0.000585    0.000610   -0.002483    0.000214   \n",
       "75%      0.005571    0.011458    0.009036    0.005837    0.010900    0.005794   \n",
       "max      0.033373    0.059054    0.284139    0.036804    0.077664    0.039223   \n",
       "\n",
       "         XM Stats  \n",
       "count  500.000000  \n",
       "mean     0.000303  \n",
       "std      0.007543  \n",
       "min     -0.033891  \n",
       "25%     -0.004470  \n",
       "50%      0.000593  \n",
       "75%      0.004755  \n",
       "max      0.029442  "
      ]
     },
     "execution_count": 13,
     "metadata": {},
     "output_type": "execute_result"
    }
   ],
   "source": [
    "desc_stats = pd.DataFrame()\n",
    "\n",
    "for name in weekly_dfs:\n",
    "    desc_stats[f\"{name} Stats\"] = weekly_dfs[name]['ret_diff'].describe()\n",
    "desc_stats"
   ]
  },
  {
   "cell_type": "code",
   "execution_count": 77,
   "id": "6aab6ab2-fcb7-42df-80b9-d5f34600ce38",
   "metadata": {},
   "outputs": [],
   "source": [
    "eer_vals = pd.DataFrame()\n",
    "\n",
    "for name in weekly_dfs:\n",
    "    eer_vals[f'{name}'] = weekly_dfs[name]['OBS_Value']"
   ]
  },
  {
   "cell_type": "code",
   "execution_count": 33,
   "id": "14678f4e-3b14-4797-bfde-22bff26f553c",
   "metadata": {},
   "outputs": [],
   "source": [
    "from statsmodels.tsa.stattools import coint\n",
    "from itertools import combinations\n",
    "import pandas as pd\n",
    "from statsmodels.tsa.stattools import adfuller \n",
    "\n",
    "def cointegration_test(series1, series2):\n",
    "    '''Runs cointegration test on two series'''\n",
    "    score, p_value, _ = coint(series1, series2)\n",
    "    return {'Cointegration Score': score, 'p-value': p_value}"
   ]
  },
  {
   "cell_type": "code",
   "execution_count": 79,
   "id": "93d8a545-0c83-4c98-a72c-862d3806cfd1",
   "metadata": {},
   "outputs": [],
   "source": [
    "all_pairs = list(combinations(eer_vals.columns, 2))\n",
    "all_trips = list(combinations(eer_vals.columns, 3))"
   ]
  },
  {
   "cell_type": "code",
   "execution_count": 83,
   "id": "b9c0298f-9818-47da-ad99-c915c1ee127d",
   "metadata": {
    "tags": []
   },
   "outputs": [],
   "source": [
    "def adf_test(series1, series2):\n",
    "    '''Runs ADF test on a spread series'''\n",
    "    spread = series1 - series2\n",
    "    result = adfuller(spread)\n",
    "    return {'ADF Statistic': result[0], 'p-value': result[1], 'Critical Values': result[4]}\n",
    "\n",
    "def johansen_test(data, det_order=0, k_ar_diff=1):\n",
    "\n",
    "    result = coint_johansen(data, det_order, k_ar_diff)\n",
    "    return result\n"
   ]
  },
  {
   "cell_type": "code",
   "execution_count": 56,
   "id": "0b8caac4-7782-4ecb-b3f6-46d026c0ab4e",
   "metadata": {
    "tags": []
   },
   "outputs": [
    {
     "ename": "NameError",
     "evalue": "name 'all_pairs' is not defined",
     "output_type": "error",
     "traceback": [
      "\u001b[1;31m---------------------------------------------------------------------------\u001b[0m",
      "\u001b[1;31mNameError\u001b[0m                                 Traceback (most recent call last)",
      "Input \u001b[1;32mIn [56]\u001b[0m, in \u001b[0;36m<cell line: 3>\u001b[1;34m()\u001b[0m\n\u001b[0;32m      1\u001b[0m \u001b[38;5;66;03m# Perform cointegration test on each pair\u001b[39;00m\n\u001b[0;32m      2\u001b[0m coint_results \u001b[38;5;241m=\u001b[39m {}\n\u001b[1;32m----> 3\u001b[0m \u001b[38;5;28;01mfor\u001b[39;00m pair \u001b[38;5;129;01min\u001b[39;00m \u001b[43mall_pairs\u001b[49m:\n\u001b[0;32m      4\u001b[0m     series1, series2 \u001b[38;5;241m=\u001b[39m eer_vals[pair[\u001b[38;5;241m0\u001b[39m]], eer_vals[pair[\u001b[38;5;241m1\u001b[39m]]\n\u001b[0;32m      5\u001b[0m     coint_test_result \u001b[38;5;241m=\u001b[39m adf_test(series1, series2)\n",
      "\u001b[1;31mNameError\u001b[0m: name 'all_pairs' is not defined"
     ]
    }
   ],
   "source": [
    "# Perform cointegration test on each pair\n",
    "coint_results = {}\n",
    "for pair in all_pairs:\n",
    "    series1, series2 = eer_vals[pair[0]], eer_vals[pair[1]]\n",
    "    coint_test_result = adf_test(series1, series2)\n",
    "    if coint_test_result['Critical Values']['10%'] > coint_test_result['ADF Statistic']:\n",
    "        # print(f\"{coint_test_result['Critical Values']['10%']} is smaller than {coint_test_result['ADF Statistic']}. Adding to results\")\n",
    "        coint_results[pair] = {'ADF_Stat': round(coint_test_result['ADF Statistic'], 4), \n",
    "                               '10%_stat': round(coint_test_result['Critical Values']['10%'], 4)}\n",
    "coint_results"
   ]
  },
  {
   "cell_type": "code",
   "execution_count": 108,
   "id": "ee1494ba-a429-4c15-b14f-077ec3c083fc",
   "metadata": {},
   "outputs": [
    {
     "name": "stdout",
     "output_type": "stream",
     "text": [
      "  At 90%: 27.0669, Trace Stat = 26.334654627092632\n",
      "  At 95%: 29.7961, Trace Stat = 26.334654627092632\n",
      "  At 99%: 35.4628, Trace Stat = 26.334654627092632\n",
      "  At 90%: 13.4294, Trace Stat = 7.676091331107257\n",
      "  At 95%: 15.4943, Trace Stat = 7.676091331107257\n",
      "  At 99%: 19.9349, Trace Stat = 7.676091331107257\n",
      "  At 90%: 2.7055, Trace Stat = 0.7471535183749242\n",
      "  At 95%: 3.8415, Trace Stat = 0.7471535183749242\n",
      "  At 99%: 6.6349, Trace Stat = 0.7471535183749242\n"
     ]
    }
   ],
   "source": [
    "for sym in all_trips:\n",
    "    data = eer_vals[sym[0]], eer_vals[sym[1]], eer_vals[sym[2]]\n",
    "test_result = johansen_test(pd.DataFrame(data).T)\n",
    "n = len(data)\n",
    "for i in range(n):\n",
    "    print(f\"  At 90%: {test_result.trace_stat_crit_vals[i, 0]}, Trace Stat = {test_result.trace_stat[i]}\")\n",
    "    print(f\"  At 95%: {test_result.trace_stat_crit_vals[i, 1]}, Trace Stat = {test_result.trace_stat[i]}\")\n",
    "    print(f\"  At 99%: {test_result.trace_stat_crit_vals[i, 2]}, Trace Stat = {test_result.trace_stat[i]}\")"
   ]
  },
  {
   "cell_type": "code",
   "execution_count": 115,
   "id": "d191e523-36a6-46a3-a0fe-99d48a7b08b1",
   "metadata": {},
   "outputs": [
    {
     "name": "stdout",
     "output_type": "stream",
     "text": [
      "Result: 13.4294 < 13.937368787819146\n",
      "('AU', 'CA', 'GB') cointegrates on a trip. level\n",
      "Result: 13.4294 < 19.290192302491445\n",
      "('AU', 'CA', 'NZ') cointegrates on a trip. level\n",
      "Result: 13.4294 < 17.71064339528753\n",
      "('AU', 'CA', 'XM') cointegrates on a trip. level\n",
      "Result: 13.4294 < 13.440846845315779\n",
      "('AU', 'GB', 'XM') cointegrates on a trip. level\n",
      "Result: 13.4294 < 18.203896258830596\n",
      "('AU', 'NZ', 'XM') cointegrates on a trip. level\n",
      "Result: 13.4294 < 15.570874597943478\n",
      "('CA', 'CH', 'JP') cointegrates on a trip. level\n",
      "Result: 13.4294 < 16.647381123213624\n",
      "('CA', 'GB', 'NZ') cointegrates on a trip. level\n",
      "Result: 13.4294 < 16.29832999361456\n",
      "('CA', 'GB', 'XM') cointegrates on a trip. level\n",
      "Result: 13.4294 < 23.233955281631843\n",
      "('CA', 'NZ', 'XM') cointegrates on a trip. level\n",
      "Result: 13.4294 < 14.135697301903793\n",
      "('GB', 'NZ', 'XM') cointegrates on a trip. level\n"
     ]
    }
   ],
   "source": [
    "from statsmodels.tsa.vector_ar.vecm import coint_johansen\n",
    "trip_coint_res = {}\n",
    "for sym in all_trips:\n",
    "    data = eer_vals[sym[0]], eer_vals[sym[1]], eer_vals[sym[2]]\n",
    "    test_result = johansen_test(pd.DataFrame(data).T)\n",
    "    \n",
    "    if test_result.trace_stat_crit_vals[1,0] < test_result.trace_stat[1]:\n",
    "        print(f\"Result: {test_result.trace_stat_crit_vals[1,0]} < {test_result.trace_stat[1]}\")\n",
    "        print(f\"{sym} cointegrates on a trip. level\")\n",
    "    \n",
    "    # result = johansen_test(data)"
   ]
  },
  {
   "cell_type": "code",
   "execution_count": 119,
   "id": "f50b88c8-a1b4-4100-8647-6fc67350fd87",
   "metadata": {
    "tags": []
   },
   "outputs": [
    {
     "name": "stdout",
     "output_type": "stream",
     "text": [
      "('AU', 'CA', 'NZ') has 3 cointegrating relationship(s).\n",
      "('AU', 'CA', 'XM') has 3 cointegrating relationship(s).\n",
      "('AU', 'NZ', 'XM') has 3 cointegrating relationship(s).\n",
      "('CA', 'GB', 'NZ') has 3 cointegrating relationship(s).\n",
      "('CA', 'GB', 'XM') has 3 cointegrating relationship(s).\n",
      "('CA', 'NZ', 'XM') has 3 cointegrating relationship(s).\n"
     ]
    }
   ],
   "source": [
    "trip_coint_res = {}\n",
    "for sym in all_trips:\n",
    "    data = pd.DataFrame({sym[0]: eer_vals[sym[0]], sym[1]: eer_vals[sym[1]], sym[2]: eer_vals[sym[2]]})\n",
    "    test_result = johansen_test(data)\n",
    "    \n",
    "    \n",
    "    cointegrating_relations = sum(test_result.trace_stat > test_result.trace_stat_crit_vals[:, 1])\n",
    "    if cointegrating_relations >= 3:\n",
    "        trip_coint_res[sym] = cointegrating_relations\n",
    "\n",
    "    # print(f\"{sym} shows evidence of {cointegrating_relations} cointegrating relationship(s).\")\n",
    "\n",
    "# Output results\n",
    "for trip, relations in trip_coint_res.items():\n",
    "    print(f\"{trip} has {relations} cointegrating relationship(s).\")"
   ]
  },
  {
   "cell_type": "code",
   "execution_count": 124,
   "id": "075b9ec6-835e-48e6-a2ee-3202f1e4dedc",
   "metadata": {},
   "outputs": [
    {
     "data": {
      "text/html": [
       "<div>\n",
       "<style scoped>\n",
       "    .dataframe tbody tr th:only-of-type {\n",
       "        vertical-align: middle;\n",
       "    }\n",
       "\n",
       "    .dataframe tbody tr th {\n",
       "        vertical-align: top;\n",
       "    }\n",
       "\n",
       "    .dataframe thead th {\n",
       "        text-align: right;\n",
       "    }\n",
       "</style>\n",
       "<table border=\"1\" class=\"dataframe\">\n",
       "  <thead>\n",
       "    <tr style=\"text-align: right;\">\n",
       "      <th></th>\n",
       "      <th>AU</th>\n",
       "      <th>CA</th>\n",
       "      <th>NZ</th>\n",
       "    </tr>\n",
       "  </thead>\n",
       "  <tbody>\n",
       "    <tr>\n",
       "      <th>count</th>\n",
       "      <td>501.000000</td>\n",
       "      <td>501.000000</td>\n",
       "      <td>501.000000</td>\n",
       "    </tr>\n",
       "    <tr>\n",
       "      <th>mean</th>\n",
       "      <td>106.988363</td>\n",
       "      <td>104.074631</td>\n",
       "      <td>104.420279</td>\n",
       "    </tr>\n",
       "    <tr>\n",
       "      <th>std</th>\n",
       "      <td>5.515604</td>\n",
       "      <td>4.818668</td>\n",
       "      <td>4.175869</td>\n",
       "    </tr>\n",
       "    <tr>\n",
       "      <th>min</th>\n",
       "      <td>89.110000</td>\n",
       "      <td>93.230000</td>\n",
       "      <td>95.260000</td>\n",
       "    </tr>\n",
       "    <tr>\n",
       "      <th>25%</th>\n",
       "      <td>103.110000</td>\n",
       "      <td>101.220000</td>\n",
       "      <td>101.550000</td>\n",
       "    </tr>\n",
       "    <tr>\n",
       "      <th>50%</th>\n",
       "      <td>106.460000</td>\n",
       "      <td>102.940000</td>\n",
       "      <td>103.740000</td>\n",
       "    </tr>\n",
       "    <tr>\n",
       "      <th>75%</th>\n",
       "      <td>110.230000</td>\n",
       "      <td>105.950000</td>\n",
       "      <td>106.510000</td>\n",
       "    </tr>\n",
       "    <tr>\n",
       "      <th>max</th>\n",
       "      <td>124.420000</td>\n",
       "      <td>121.550000</td>\n",
       "      <td>116.580000</td>\n",
       "    </tr>\n",
       "  </tbody>\n",
       "</table>\n",
       "</div>"
      ],
      "text/plain": [
       "               AU          CA          NZ\n",
       "count  501.000000  501.000000  501.000000\n",
       "mean   106.988363  104.074631  104.420279\n",
       "std      5.515604    4.818668    4.175869\n",
       "min     89.110000   93.230000   95.260000\n",
       "25%    103.110000  101.220000  101.550000\n",
       "50%    106.460000  102.940000  103.740000\n",
       "75%    110.230000  105.950000  106.510000\n",
       "max    124.420000  121.550000  116.580000"
      ]
     },
     "execution_count": 124,
     "metadata": {},
     "output_type": "execute_result"
    }
   ],
   "source": [
    "eer_vals[['AU', 'CA', 'NZ']].describe()"
   ]
  },
  {
   "cell_type": "markdown",
   "id": "03255baa-d462-4b52-a46a-eea9f91be978",
   "metadata": {},
   "source": [
    "## Risk Management Framework\n",
    "\n",
    "Aim is to take into account associated statistics between the two and minimise volatility whilst maximising return. Appropriate measures can include:\n",
    "- MVO or BL Portfolio\n",
    "- Correlation analysis and appropriate hedging associated "
   ]
  },
  {
   "cell_type": "code",
   "execution_count": null,
   "id": "592762c4-897e-4fb4-a459-eef7e0cf2a3d",
   "metadata": {},
   "outputs": [],
   "source": []
  },
  {
   "cell_type": "code",
   "execution_count": null,
   "id": "f1c7f2f0-8a31-44bd-83a4-662508bdd25e",
   "metadata": {},
   "outputs": [],
   "source": []
  }
 ],
 "metadata": {
  "kernelspec": {
   "display_name": "Python 3 (ipykernel)",
   "language": "python",
   "name": "python3"
  },
  "language_info": {
   "codemirror_mode": {
    "name": "ipython",
    "version": 3
   },
   "file_extension": ".py",
   "mimetype": "text/x-python",
   "name": "python",
   "nbconvert_exporter": "python",
   "pygments_lexer": "ipython3",
   "version": "3.9.12"
  }
 },
 "nbformat": 4,
 "nbformat_minor": 5
}
