{
 "cells": [
  {
   "cell_type": "code",
   "execution_count": 1,
   "id": "8e554905-3bf9-434b-8b11-e70a239e5fe4",
   "metadata": {},
   "outputs": [],
   "source": [
    "import MetaTrader5 as mt5 \n",
    "import pandas as pd\n",
    "import numpy as np\n",
    "from statsmodels.tsa.stattools import adfuller \n",
    "from datetime import datetime\n",
    "import requests\n",
    "import pandas as pd\n",
    "import numpy as np\n",
    "import warnings\n",
    "import json\n",
    "warnings.filterwarnings(\"ignore\")\n",
    "mt5.initialize()\n",
    "# Replace following with your MT5 Account Login\n",
    "account=51434456 # \n",
    "password=\"9UpBvVzc\"\n",
    "server = 'ICMarkets-Demo'\n",
    "\n",
    "def get_rates(pair1, timeframe, x):\n",
    "    pair1 = pd.DataFrame(mt5.copy_rates_from_pos(pair1, timeframe, 0, x))\n",
    "    pair1['time'] = pd.to_datetime(pair1['time'], unit = 's')\n",
    "    return pair1[['time','open', 'high', 'low', 'close']].set_index('time')"
   ]
  },
  {
   "cell_type": "markdown",
   "id": "abd9ca03-9187-4e73-8194-76744471f5c5",
   "metadata": {},
   "source": [
    "## Data Gathering"
   ]
  },
  {
   "cell_type": "code",
   "execution_count": 2,
   "id": "36866c12-5361-4226-8630-1d9dffbee556",
   "metadata": {},
   "outputs": [
    {
     "name": "stdout",
     "output_type": "stream",
     "text": [
      "Getting AUDUSD.a's rates\n",
      "Getting USDCAD.a's rates\n",
      "Getting USDCHF.a's rates\n",
      "Getting GBPUSD.a's rates\n",
      "Getting USDJPY.a's rates\n",
      "Getting NZDUSD.a's rates\n",
      "Getting EURUSD.a's rates\n"
     ]
    }
   ],
   "source": [
    "import requests\n",
    "import xml.etree.ElementTree as ET\n",
    "import pandas as pd\n",
    "\n",
    "combined_dfs = {}\n",
    "\n",
    "# Define the base URL for the BIS Stats API\n",
    "base_url = 'https://stats.bis.org/api/v1'\n",
    "\n",
    "count_codes = [['AUDUSD.a','AU'], ['USDCAD.a', 'CA'],\n",
    "               ['USDCHF.a','CH'], ['GBPUSD.a', 'GB'],\n",
    "               ['USDJPY.a', 'JP'], ['NZDUSD.a', 'NZ'], \n",
    "               ['EURUSD.a', 'XM']]\n",
    "\n",
    "for country in count_codes:\n",
    "\n",
    "    # Define the endpoint parameters\n",
    "    flow = 'BIS,WS_EER_D,1.0'  # Example: Version 1.0 of the WS_EER_M domain, maintained by the BIS\n",
    "    key = f'D.N.N.{country[1]}'\n",
    "    start_period = '2000'  # Example: Start year 2000\n",
    "    end_period = '2023'  # Example: End year 2020\n",
    "    detail = 'full'  # Example: All data and documentation\n",
    "\n",
    "    # Construct the endpoint URL\n",
    "    endpoint_url = f'{base_url}/data/{flow}/{key}/all'\n",
    "\n",
    "    # Define the query parameters\n",
    "    query_params = {\n",
    "        'startPeriod': start_period,\n",
    "        'endPeriod': end_period,\n",
    "        'detail': detail\n",
    "    }\n",
    "\n",
    "    # Make the GET request\n",
    "    response = requests.get(endpoint_url, params=query_params)\n",
    "\n",
    "    # Check for a successful response\n",
    "    if response.status_code == 200:\n",
    "        # Assign the text of the response to xml_data\n",
    "        xml_data = response.text\n",
    "\n",
    "        # Parse the XML data\n",
    "        root = ET.fromstring(xml_data)\n",
    "\n",
    "        # Initialize empty lists to store the data\n",
    "        time_periods = []\n",
    "        obs_values = []\n",
    "\n",
    "        # Iterate through the XML and extract the desired information\n",
    "        for obs in root.findall(\".//Obs\"):\n",
    "            time_period = obs.get('TIME_PERIOD')\n",
    "            obs_value = obs.get('OBS_VALUE')\n",
    "            time_periods.append(time_period)\n",
    "            obs_values.append(obs_value)\n",
    "\n",
    "        # Create a DataFrame\n",
    "        df = pd.DataFrame({\n",
    "            'Time_Period': time_periods,\n",
    "            'OBS_Value': obs_values\n",
    "        })\n",
    "\n",
    "        df['OBS_Value'] = df['OBS_Value'].replace('NaN', np.nan)\n",
    "        # Drop rows with NaN values\n",
    "        df.dropna(subset=['OBS_Value'], inplace=True)\n",
    "        df['OBS_Value'] = df['OBS_Value'].astype(float)\n",
    "        df['Time_Period'] = pd.to_datetime(df['Time_Period'])\n",
    "        \n",
    "        df = df.set_index('Time_Period')\n",
    "        print(f\"Getting {country[0]}'s rates\")\n",
    "        rates = get_rates(country[0], mt5.TIMEFRAME_D1, 2500)\n",
    "        \n",
    "        combined = pd.concat([df[-len(rates):], rates['close']], join = 'outer', axis = 1)\n",
    "        \n",
    "        combined_dfs[country[1]] = combined.dropna()\n",
    "\n",
    "    else:\n",
    "        print(f'Failed to retrieve data: {response.status_code}')"
   ]
  },
  {
   "cell_type": "code",
   "execution_count": 259,
   "id": "637738ae-9c2f-4b94-b2b8-1ab37478701e",
   "metadata": {},
   "outputs": [],
   "source": [
    "# Compute Expected Returns\n",
    "weekly_dfs = {}\n",
    "features = ['OBS_Value', 'close']\n",
    "\n",
    "for name, dfs in combined_dfs.items():\n",
    "    df = combined_dfs[name]\n",
    "    # Assuming 'df' is your DataFrame\n",
    "    df['date'] = pd.to_datetime(df.index)\n",
    "    df.set_index('date', inplace=True)\n",
    "\n",
    "    # Resample to get the last value of each week\n",
    "    weekly = df.resample('W').last()\n",
    "    weekly_dfs[name] = weekly\n",
    "\n",
    "for df in weekly_dfs.values():\n",
    "    df['EER_ret'] = df['OBS_Value'].pct_change()\n",
    "    df['close_ret'] = df['close'].pct_change()\n",
    "    df['ret_diff'] = df['close_ret'] - df['EER_ret']"
   ]
  },
  {
   "cell_type": "code",
   "execution_count": 4,
   "id": "050f8e40-1fc1-4fa2-819b-a63a407789f2",
   "metadata": {},
   "outputs": [],
   "source": [
    "last_update = {}\n",
    "\n",
    "for name, df in weekly_dfs.items():\n",
    "    last_update[name] = df['EER_ret'].iloc[-1]"
   ]
  },
  {
   "cell_type": "code",
   "execution_count": 5,
   "id": "d7cc9a3d-ec1e-41ad-b0e2-ba7bd99684e3",
   "metadata": {},
   "outputs": [],
   "source": [
    "last_update.keys()\n",
    "symbols = ['AUDUSD.a', 'USDCAD.a', 'USDCHF.a', 'GBPUSD.a', 'USDJPY.a', 'NZDUSD.a', 'EURUSD.a']\n",
    "\n",
    "last_update = {symbols[i]: value for i, (key, value) in enumerate(last_update.items())}"
   ]
  },
  {
   "cell_type": "markdown",
   "id": "2b1637ef-bc47-4d0e-8307-babb2ff29771",
   "metadata": {
    "tags": []
   },
   "source": [
    "## Order Sending / Closing Logic"
   ]
  },
  {
   "cell_type": "code",
   "execution_count": 870,
   "id": "526bf68e-fcf1-44af-a420-92c614b65896",
   "metadata": {
    "tags": []
   },
   "outputs": [],
   "source": [
    "def close_all():\n",
    "    close_positions = []\n",
    "    open_positions = mt5.positions_get()\n",
    "    open_positions\n",
    "    for i in open_positions:\n",
    "        close_positions.append(i)\n",
    "        \n",
    "    for pos in close_positions:\n",
    "        close_position(pos)\n",
    "        \n",
    "def close_position(position):\n",
    "\n",
    "    tick = mt5.symbol_info_tick(position.symbol)\n",
    "\n",
    "    request = {\n",
    "        \"action\" : mt5.TRADE_ACTION_DEAL,\n",
    "        \"position\": position.ticket,\n",
    "        \"symbol\": position.symbol,\n",
    "        \"volume\": position.volume,\n",
    "        \"type\": mt5.ORDER_TYPE_BUY if position.type == 1 else mt5.ORDER_TYPE_SELL,\n",
    "        \"price\": tick.ask if position.type == 1 else tick.bid,\n",
    "        \"deviation\": 20,\n",
    "        \"magic\": 100,\n",
    "        \"comment\": 'Regres Close',\n",
    "        'type_time': mt5.ORDER_TIME_GTC,\n",
    "        'type_filling':mt5.ORDER_FILLING_IOC,\n",
    "\n",
    "        }\n",
    "    result = mt5.order_send(request)"
   ]
  },
  {
   "cell_type": "code",
   "execution_count": 26,
   "id": "05a9845b-9a0a-4e3e-a07c-3fd206d51e91",
   "metadata": {},
   "outputs": [],
   "source": [
    "close_all()"
   ]
  },
  {
   "cell_type": "code",
   "execution_count": 871,
   "id": "bc347626-7bf5-48a1-9ea6-d977d6dee598",
   "metadata": {
    "tags": []
   },
   "outputs": [],
   "source": [
    "def send_order(symbol, side, lot, comment):\n",
    "    \n",
    "    if side.lower() == 'sell':\n",
    "        order_type = mt5.ORDER_TYPE_SELL\n",
    "        price = mt5.symbol_info_tick(symbol).bid\n",
    "    elif side.lower() == 'buy':\n",
    "        order_type = mt5.ORDER_TYPE_BUY\n",
    "        price = mt5.symbol_info_tick(symbol).ask\n",
    "    \n",
    "    request = {\n",
    "        \"action\": mt5.TRADE_ACTION_DEAL,\n",
    "        \"symbol\": symbol,\n",
    "        \"volume\": lot,\n",
    "        \"type\": order_type,\n",
    "        \"price\": price,\n",
    "        \"deviation\": 5,\n",
    "        \"magic\": 234000,\n",
    "        \"comment\": comment,\n",
    "        \"type_time\": mt5.ORDER_TIME_GTC,\n",
    "        \"type_filling\": mt5.ORDER_FILLING_IOC,\n",
    "    }\n",
    "    result = mt5.order_send(request)\n",
    "    result"
   ]
  },
  {
   "cell_type": "markdown",
   "id": "e63cea26-b75d-41a1-adf3-ecd9b8eb21a1",
   "metadata": {
    "tags": []
   },
   "source": [
    "# Risk Management"
   ]
  },
  {
   "cell_type": "markdown",
   "id": "2a9ca880-4e1d-4443-a037-b15c4c4e7dd6",
   "metadata": {},
   "source": [
    "**High level approach**\n",
    "\n",
    "ARIMA model to forecast return difference between EER_ret and close_ret (from week-1) to be used as a feature in a regression model along with the EER vals for week0.\n",
    "\n",
    "Obtain an expected return (range?) to then create an MVO portfolio to run in a monte carlo simulation to obtain the most optimal weightings/allocation (optimised for sharpe ratio)\n",
    "\n",
    "Steps\n",
    "1. Create ARIMA and EER Val forecasts \n",
    "    - Run statistical analysis to incorporate differing variations \n",
    "2. Train a regression model on data to obtain expected returns\n",
    "3. "
   ]
  },
  {
   "cell_type": "code",
   "execution_count": null,
   "id": "22a126c2-9b00-4df2-95f8-9b73b03482db",
   "metadata": {},
   "outputs": [],
   "source": []
  },
  {
   "cell_type": "code",
   "execution_count": null,
   "id": "45f81a7a-9371-4d4d-9599-b26fd8e67e28",
   "metadata": {},
   "outputs": [],
   "source": []
  },
  {
   "cell_type": "markdown",
   "id": "50ba23ec-a7da-4e32-b1df-7eb78f597018",
   "metadata": {
    "tags": []
   },
   "source": [
    "### Close / EER ret difference forecast (ARIMA Model)\n",
    "\n",
    "Forecast next close ret / EER ret difference for each currency for the next week. If EER forecast is within the IQR ranges associated with each currency, adjust lot sizes accordingly"
   ]
  },
  {
   "cell_type": "code",
   "execution_count": 6,
   "id": "49914f06-233d-43aa-b37a-c29e80398aaa",
   "metadata": {
    "tags": []
   },
   "outputs": [],
   "source": [
    "import itertools\n",
    "import warnings\n",
    "from statsmodels.tsa.arima.model import ARIMA\n",
    "import pandas as pd\n",
    "\n",
    "def evaluate_arima_model_aic_bic(series, arima_order):\n",
    "    '''Evaluates ARIMA model for AIC and BIC'''\n",
    "    try:\n",
    "        model = ARIMA(series, order=arima_order)\n",
    "        model_fit = model.fit()\n",
    "        aic = model_fit.aic\n",
    "        bic = model_fit.bic\n",
    "        return aic, bic\n",
    "    except Exception as e:\n",
    "        print(f'Error with ARIMA order {arima_order}: {e}')\n",
    "        return float('inf'), float('inf')\n",
    "\n",
    "def find_best_arima_model(series, p_values, d_values, q_values):\n",
    "    '''Find the best ARIMA model based on AIC and BIC'''\n",
    "    best_aic, best_bic, best_cfg = float(\"inf\"), float(\"inf\"), None\n",
    "    for p, d, q in itertools.product(p_values, d_values, q_values):\n",
    "        order = (p, d, q)\n",
    "        aic, bic = evaluate_arima_model_aic_bic(series, order)\n",
    "        if aic < best_aic or bic < best_bic:\n",
    "            best_aic, best_bic, best_cfg = aic, bic, order\n",
    "            print(f'ARIMA{order} AIC: {aic}, BIC: {bic}')\n",
    "    print(f'Best ARIMA{best_cfg} AIC: {best_aic}, BIC: {best_bic}')\n",
    "    return best_cfg"
   ]
  },
  {
   "cell_type": "code",
   "execution_count": 150,
   "id": "5d41184b-c4ab-4e5a-97ad-0ebb7786ed2f",
   "metadata": {},
   "outputs": [
    {
     "data": {
      "text/plain": [
       "(0, 0, 1)"
      ]
     },
     "execution_count": 150,
     "metadata": {},
     "output_type": "execute_result"
    }
   ],
   "source": [
    "best_arima_order"
   ]
  },
  {
   "cell_type": "code",
   "execution_count": 167,
   "id": "471f5527-5854-42db-8091-2176952773cd",
   "metadata": {},
   "outputs": [
    {
     "data": {
      "text/plain": [
       "<AxesSubplot:xlabel='date'>"
      ]
     },
     "execution_count": 167,
     "metadata": {},
     "output_type": "execute_result"
    },
    {
     "data": {
      "image/png": "[encoded data removed]",
      "text/plain": [
       "<Figure size 432x288 with 1 Axes>"
      ]
     },
     "metadata": {
      "needs_background": "light"
     },
     "output_type": "display_data"
    }
   ],
   "source": [
    "weekly_dfs['AU']['ret_diff'].plot()"
   ]
  },
  {
   "cell_type": "code",
   "execution_count": 185,
   "id": "c0527442-7cac-4344-89b5-b046a348c07f",
   "metadata": {},
   "outputs": [
    {
     "name": "stdout",
     "output_type": "stream",
     "text": [
      "Iterating through AU\n",
      "Iterating through CA\n",
      "Iterating through CH\n",
      "Iterating through GB\n",
      "Iterating through JP\n",
      "Iterating through NZ\n",
      "Iterating through XM\n"
     ]
    }
   ],
   "source": [
    "arma_forecasts = {}\n",
    "for df in weekly_dfs:\n",
    "    print(f'Iterating through {df}')\n",
    "    \n",
    "    series = weekly_dfs[df]['ret_diff'] \n",
    "\n",
    "    best_arima_order = (2, 1, 2)\n",
    "\n",
    "    best_model = ARIMA(series, order=best_arima_order)\n",
    "    best_model_fit = best_model.fit()\n",
    "    forecast = best_model_fit.forecast(steps=50)\n",
    "    arma_forecasts[df] = forecast"
   ]
  },
  {
   "cell_type": "code",
   "execution_count": 186,
   "id": "71186a88-8d2b-4eda-b05d-ee71aa01f8d6",
   "metadata": {
    "collapsed": true,
    "jupyter": {
     "outputs_hidden": true
    },
    "tags": []
   },
   "outputs": [
    {
     "data": {
      "text/plain": [
       "{'AU': 2023-12-24   -0.002946\n",
       " 2023-12-31   -0.000999\n",
       " 2024-01-07    0.001356\n",
       " 2024-01-14   -0.001811\n",
       " 2024-01-21    0.001102\n",
       " 2024-01-28   -0.001307\n",
       " 2024-02-04    0.000605\n",
       " 2024-02-11   -0.000886\n",
       " 2024-02-18    0.000268\n",
       " 2024-02-25   -0.000622\n",
       " 2024-03-03    0.000063\n",
       " 2024-03-10   -0.000464\n",
       " 2024-03-17   -0.000059\n",
       " 2024-03-24   -0.000371\n",
       " 2024-03-31   -0.000131\n",
       " 2024-04-07   -0.000315\n",
       " 2024-04-14   -0.000173\n",
       " 2024-04-21   -0.000282\n",
       " 2024-04-28   -0.000199\n",
       " 2024-05-05   -0.000263\n",
       " 2024-05-12   -0.000213\n",
       " 2024-05-19   -0.000252\n",
       " 2024-05-26   -0.000222\n",
       " 2024-06-02   -0.000245\n",
       " 2024-06-09   -0.000227\n",
       " 2024-06-16   -0.000241\n",
       " 2024-06-23   -0.000231\n",
       " 2024-06-30   -0.000238\n",
       " 2024-07-07   -0.000232\n",
       " 2024-07-14   -0.000237\n",
       " 2024-07-21   -0.000233\n",
       " 2024-07-28   -0.000236\n",
       " 2024-08-04   -0.000234\n",
       " 2024-08-11   -0.000236\n",
       " 2024-08-18   -0.000235\n",
       " 2024-08-25   -0.000235\n",
       " 2024-09-01   -0.000235\n",
       " 2024-09-08   -0.000235\n",
       " 2024-09-15   -0.000235\n",
       " 2024-09-22   -0.000235\n",
       " 2024-09-29   -0.000235\n",
       " 2024-10-06   -0.000235\n",
       " 2024-10-13   -0.000235\n",
       " 2024-10-20   -0.000235\n",
       " 2024-10-27   -0.000235\n",
       " 2024-11-03   -0.000235\n",
       " 2024-11-10   -0.000235\n",
       " 2024-11-17   -0.000235\n",
       " 2024-11-24   -0.000235\n",
       " 2024-12-01   -0.000235\n",
       " Freq: W-SUN, Name: predicted_mean, dtype: float64,\n",
       " 'CA': 2023-12-24    0.000458\n",
       " 2023-12-31   -0.000616\n",
       " 2024-01-07    0.001944\n",
       " 2024-01-14   -0.000476\n",
       " 2024-01-21    0.001905\n",
       " 2024-01-28   -0.000432\n",
       " 2024-02-04    0.001863\n",
       " 2024-02-11   -0.000390\n",
       " 2024-02-18    0.001821\n",
       " 2024-02-25   -0.000350\n",
       " 2024-03-03    0.001782\n",
       " 2024-03-10   -0.000311\n",
       " 2024-03-17    0.001743\n",
       " 2024-03-24   -0.000273\n",
       " 2024-03-31    0.001706\n",
       " 2024-04-07   -0.000237\n",
       " 2024-04-14    0.001671\n",
       " 2024-04-21   -0.000202\n",
       " 2024-04-28    0.001636\n",
       " 2024-05-05   -0.000168\n",
       " 2024-05-12    0.001603\n",
       " 2024-05-19   -0.000136\n",
       " 2024-05-26    0.001572\n",
       " 2024-06-02   -0.000105\n",
       " 2024-06-09    0.001541\n",
       " 2024-06-16   -0.000074\n",
       " 2024-06-23    0.001511\n",
       " 2024-06-30   -0.000045\n",
       " 2024-07-07    0.001483\n",
       " 2024-07-14   -0.000017\n",
       " 2024-07-21    0.001455\n",
       " 2024-07-28    0.000010\n",
       " 2024-08-04    0.001429\n",
       " 2024-08-11    0.000036\n",
       " 2024-08-18    0.001403\n",
       " 2024-08-25    0.000061\n",
       " 2024-09-01    0.001379\n",
       " 2024-09-08    0.000085\n",
       " 2024-09-15    0.001355\n",
       " 2024-09-22    0.000108\n",
       " 2024-09-29    0.001332\n",
       " 2024-10-06    0.000130\n",
       " 2024-10-13    0.001310\n",
       " 2024-10-20    0.000152\n",
       " 2024-10-27    0.001289\n",
       " 2024-11-03    0.000173\n",
       " 2024-11-10    0.001268\n",
       " 2024-11-17    0.000193\n",
       " 2024-11-24    0.001249\n",
       " 2024-12-01    0.000212\n",
       " Freq: W-SUN, Name: predicted_mean, dtype: float64,\n",
       " 'CH': 2023-12-24   -0.004216\n",
       " 2023-12-31    0.002180\n",
       " 2024-01-07   -0.003259\n",
       " 2024-01-14    0.000601\n",
       " 2024-01-21   -0.002073\n",
       " 2024-01-28   -0.000227\n",
       " 2024-02-04   -0.001500\n",
       " 2024-02-11   -0.000622\n",
       " 2024-02-18   -0.001228\n",
       " 2024-02-25   -0.000810\n",
       " 2024-03-03   -0.001098\n",
       " 2024-03-10   -0.000900\n",
       " 2024-03-17   -0.001037\n",
       " 2024-03-24   -0.000942\n",
       " 2024-03-31   -0.001007\n",
       " 2024-04-07   -0.000962\n",
       " 2024-04-14   -0.000993\n",
       " 2024-04-21   -0.000972\n",
       " 2024-04-28   -0.000987\n",
       " 2024-05-05   -0.000977\n",
       " 2024-05-12   -0.000984\n",
       " 2024-05-19   -0.000979\n",
       " 2024-05-26   -0.000982\n",
       " 2024-06-02   -0.000980\n",
       " 2024-06-09   -0.000981\n",
       " 2024-06-16   -0.000980\n",
       " 2024-06-23   -0.000981\n",
       " 2024-06-30   -0.000980\n",
       " 2024-07-07   -0.000981\n",
       " 2024-07-14   -0.000981\n",
       " 2024-07-21   -0.000981\n",
       " 2024-07-28   -0.000981\n",
       " 2024-08-04   -0.000981\n",
       " 2024-08-11   -0.000981\n",
       " 2024-08-18   -0.000981\n",
       " 2024-08-25   -0.000981\n",
       " 2024-09-01   -0.000981\n",
       " 2024-09-08   -0.000981\n",
       " 2024-09-15   -0.000981\n",
       " 2024-09-22   -0.000981\n",
       " 2024-09-29   -0.000981\n",
       " 2024-10-06   -0.000981\n",
       " 2024-10-13   -0.000981\n",
       " 2024-10-20   -0.000981\n",
       " 2024-10-27   -0.000981\n",
       " 2024-11-03   -0.000981\n",
       " 2024-11-10   -0.000981\n",
       " 2024-11-17   -0.000981\n",
       " 2024-11-24   -0.000981\n",
       " 2024-12-01   -0.000981\n",
       " Freq: W-SUN, Name: predicted_mean, dtype: float64,\n",
       " 'GB': 2023-12-24   -0.000531\n",
       " 2023-12-31   -0.000887\n",
       " 2024-01-07    0.001116\n",
       " 2024-01-14   -0.000507\n",
       " 2024-01-21    0.000493\n",
       " 2024-01-28   -0.000052\n",
       " 2024-02-04    0.000224\n",
       " 2024-02-11    0.000091\n",
       " 2024-02-18    0.000152\n",
       " 2024-02-25    0.000125\n",
       " 2024-03-03    0.000137\n",
       " 2024-03-10    0.000132\n",
       " 2024-03-17    0.000134\n",
       " 2024-03-24    0.000133\n",
       " 2024-03-31    0.000134\n",
       " 2024-04-07    0.000133\n",
       " 2024-04-14    0.000134\n",
       " 2024-04-21    0.000133\n",
       " 2024-04-28    0.000133\n",
       " 2024-05-05    0.000133\n",
       " 2024-05-12    0.000133\n",
       " 2024-05-19    0.000133\n",
       " 2024-05-26    0.000133\n",
       " 2024-06-02    0.000133\n",
       " 2024-06-09    0.000133\n",
       " 2024-06-16    0.000133\n",
       " 2024-06-23    0.000133\n",
       " 2024-06-30    0.000133\n",
       " 2024-07-07    0.000133\n",
       " 2024-07-14    0.000133\n",
       " 2024-07-21    0.000133\n",
       " 2024-07-28    0.000133\n",
       " 2024-08-04    0.000133\n",
       " 2024-08-11    0.000133\n",
       " 2024-08-18    0.000133\n",
       " 2024-08-25    0.000133\n",
       " 2024-09-01    0.000133\n",
       " 2024-09-08    0.000133\n",
       " 2024-09-15    0.000133\n",
       " 2024-09-22    0.000133\n",
       " 2024-09-29    0.000133\n",
       " 2024-10-06    0.000133\n",
       " 2024-10-13    0.000133\n",
       " 2024-10-20    0.000133\n",
       " 2024-10-27    0.000133\n",
       " 2024-11-03    0.000133\n",
       " 2024-11-10    0.000133\n",
       " 2024-11-17    0.000133\n",
       " 2024-11-24    0.000133\n",
       " 2024-12-01    0.000133\n",
       " Freq: W-SUN, Name: predicted_mean, dtype: float64,\n",
       " 'JP': 2023-12-24    0.000297\n",
       " 2023-12-31    0.000398\n",
       " 2024-01-07    0.001717\n",
       " 2024-01-14    0.000468\n",
       " 2024-01-21    0.001717\n",
       " 2024-01-28    0.000471\n",
       " 2024-02-04    0.001715\n",
       " 2024-02-11    0.000474\n",
       " 2024-02-18    0.001712\n",
       " 2024-02-25    0.000476\n",
       " 2024-03-03    0.001710\n",
       " 2024-03-10    0.000479\n",
       " 2024-03-17    0.001707\n",
       " 2024-03-24    0.000482\n",
       " 2024-03-31    0.001704\n",
       " 2024-04-07    0.000484\n",
       " 2024-04-14    0.001702\n",
       " 2024-04-21    0.000487\n",
       " 2024-04-28    0.001699\n",
       " 2024-05-05    0.000489\n",
       " 2024-05-12    0.001697\n",
       " 2024-05-19    0.000492\n",
       " 2024-05-26    0.001694\n",
       " 2024-06-02    0.000494\n",
       " 2024-06-09    0.001692\n",
       " 2024-06-16    0.000497\n",
       " 2024-06-23    0.001689\n",
       " 2024-06-30    0.000499\n",
       " 2024-07-07    0.001687\n",
       " 2024-07-14    0.000502\n",
       " 2024-07-21    0.001684\n",
       " 2024-07-28    0.000504\n",
       " 2024-08-04    0.001682\n",
       " 2024-08-11    0.000507\n",
       " 2024-08-18    0.001679\n",
       " 2024-08-25    0.000509\n",
       " 2024-09-01    0.001677\n",
       " 2024-09-08    0.000511\n",
       " 2024-09-15    0.001675\n",
       " 2024-09-22    0.000514\n",
       " 2024-09-29    0.001672\n",
       " 2024-10-06    0.000516\n",
       " 2024-10-13    0.001670\n",
       " 2024-10-20    0.000519\n",
       " 2024-10-27    0.001667\n",
       " 2024-11-03    0.000521\n",
       " 2024-11-10    0.001665\n",
       " 2024-11-17    0.000524\n",
       " 2024-11-24    0.001663\n",
       " 2024-12-01    0.000526\n",
       " Freq: W-SUN, Name: predicted_mean, dtype: float64,\n",
       " 'NZ': 2023-12-24   -0.002678\n",
       " 2023-12-31   -0.001261\n",
       " 2024-01-07    0.001399\n",
       " 2024-01-14   -0.001784\n",
       " 2024-01-21    0.001027\n",
       " 2024-01-28   -0.001265\n",
       " 2024-02-04    0.000554\n",
       " 2024-02-11   -0.000876\n",
       " 2024-02-18    0.000244\n",
       " 2024-02-25   -0.000632\n",
       " 2024-03-03    0.000053\n",
       " 2024-03-10   -0.000482\n",
       " 2024-03-17   -0.000064\n",
       " 2024-03-24   -0.000391\n",
       " 2024-03-31   -0.000135\n",
       " 2024-04-07   -0.000335\n",
       " 2024-04-14   -0.000179\n",
       " 2024-04-21   -0.000301\n",
       " 2024-04-28   -0.000206\n",
       " 2024-05-05   -0.000280\n",
       " 2024-05-12   -0.000222\n",
       " 2024-05-19   -0.000267\n",
       " 2024-05-26   -0.000232\n",
       " 2024-06-02   -0.000260\n",
       " 2024-06-09   -0.000238\n",
       " 2024-06-16   -0.000255\n",
       " 2024-06-23   -0.000242\n",
       " 2024-06-30   -0.000252\n",
       " 2024-07-07   -0.000244\n",
       " 2024-07-14   -0.000250\n",
       " 2024-07-21   -0.000245\n",
       " 2024-07-28   -0.000249\n",
       " 2024-08-04   -0.000246\n",
       " 2024-08-11   -0.000248\n",
       " 2024-08-18   -0.000247\n",
       " 2024-08-25   -0.000248\n",
       " 2024-09-01   -0.000247\n",
       " 2024-09-08   -0.000248\n",
       " 2024-09-15   -0.000247\n",
       " 2024-09-22   -0.000248\n",
       " 2024-09-29   -0.000247\n",
       " 2024-10-06   -0.000248\n",
       " 2024-10-13   -0.000247\n",
       " 2024-10-20   -0.000248\n",
       " 2024-10-27   -0.000247\n",
       " 2024-11-03   -0.000247\n",
       " 2024-11-10   -0.000247\n",
       " 2024-11-17   -0.000247\n",
       " 2024-11-24   -0.000247\n",
       " 2024-12-01   -0.000247\n",
       " Freq: W-SUN, Name: predicted_mean, dtype: float64,\n",
       " 'XM': 2023-12-24   -0.000836\n",
       " 2023-12-31    0.000618\n",
       " 2024-01-07    0.000579\n",
       " 2024-01-14    0.000461\n",
       " 2024-01-21    0.000523\n",
       " 2024-01-28    0.000503\n",
       " 2024-02-04    0.000507\n",
       " 2024-02-11    0.000507\n",
       " 2024-02-18    0.000507\n",
       " 2024-02-25    0.000507\n",
       " 2024-03-03    0.000507\n",
       " 2024-03-10    0.000507\n",
       " 2024-03-17    0.000507\n",
       " 2024-03-24    0.000507\n",
       " 2024-03-31    0.000507\n",
       " 2024-04-07    0.000507\n",
       " 2024-04-14    0.000507\n",
       " 2024-04-21    0.000507\n",
       " 2024-04-28    0.000507\n",
       " 2024-05-05    0.000507\n",
       " 2024-05-12    0.000507\n",
       " 2024-05-19    0.000507\n",
       " 2024-05-26    0.000507\n",
       " 2024-06-02    0.000507\n",
       " 2024-06-09    0.000507\n",
       " 2024-06-16    0.000507\n",
       " 2024-06-23    0.000507\n",
       " 2024-06-30    0.000507\n",
       " 2024-07-07    0.000507\n",
       " 2024-07-14    0.000507\n",
       " 2024-07-21    0.000507\n",
       " 2024-07-28    0.000507\n",
       " 2024-08-04    0.000507\n",
       " 2024-08-11    0.000507\n",
       " 2024-08-18    0.000507\n",
       " 2024-08-25    0.000507\n",
       " 2024-09-01    0.000507\n",
       " 2024-09-08    0.000507\n",
       " 2024-09-15    0.000507\n",
       " 2024-09-22    0.000507\n",
       " 2024-09-29    0.000507\n",
       " 2024-10-06    0.000507\n",
       " 2024-10-13    0.000507\n",
       " 2024-10-20    0.000507\n",
       " 2024-10-27    0.000507\n",
       " 2024-11-03    0.000507\n",
       " 2024-11-10    0.000507\n",
       " 2024-11-17    0.000507\n",
       " 2024-11-24    0.000507\n",
       " 2024-12-01    0.000507\n",
       " Freq: W-SUN, Name: predicted_mean, dtype: float64}"
      ]
     },
     "execution_count": 186,
     "metadata": {},
     "output_type": "execute_result"
    }
   ],
   "source": [
    "arma_forecasts"
   ]
  },
  {
   "cell_type": "code",
   "execution_count": 140,
   "id": "edfde89c-15d6-49a8-bc32-ebac2e7b39fe",
   "metadata": {
    "tags": []
   },
   "outputs": [],
   "source": [
    "forecast_diff = {}\n",
    "\n",
    "for key, val in last_update.items():\n",
    "    for key2, val2 in arma_forecasts.items():\n",
    "        if key2 in key:\n",
    "            forecast_diff[key2] = (val - val2) / val\n",
    "        else:\n",
    "            if key == 'EURUSD.a':\n",
    "                if key2 == 'XM':\n",
    "                    forecast_diff[key2] = (val - val2) / val"
   ]
  },
  {
   "cell_type": "code",
   "execution_count": 141,
   "id": "16698e66-0e4c-4769-ab30-f6501b566f1e",
   "metadata": {
    "collapsed": true,
    "jupyter": {
     "outputs_hidden": true
    },
    "tags": []
   },
   "outputs": [
    {
     "data": {
      "text/plain": [
       "{'AU': 2023-12-24    1.044799\n",
       " Freq: W-SUN, dtype: float64,\n",
       " 'CA': 2023-12-24    1.025587\n",
       " Freq: W-SUN, dtype: float64,\n",
       " 'CH': 2023-12-24    0.638441\n",
       " Freq: W-SUN, dtype: float64,\n",
       " 'GB': 2023-12-24    1.130399\n",
       " Freq: W-SUN, dtype: float64,\n",
       " 'JP': 2023-12-24    1.036089\n",
       " Freq: W-SUN, dtype: float64,\n",
       " 'NZ': 2023-12-24    0.859181\n",
       " Freq: W-SUN, dtype: float64,\n",
       " 'XM': 2023-12-24    1.017419\n",
       " Freq: W-SUN, dtype: float64}"
      ]
     },
     "execution_count": 141,
     "metadata": {},
     "output_type": "execute_result"
    }
   ],
   "source": [
    "forecast_diff"
   ]
  },
  {
   "cell_type": "code",
   "execution_count": null,
   "id": "8381d88a-e36e-4695-89bd-56338de3bc15",
   "metadata": {},
   "outputs": [],
   "source": []
  },
  {
   "cell_type": "code",
   "execution_count": null,
   "id": "3e791f2c-431c-425d-956a-446615ba32b1",
   "metadata": {},
   "outputs": [],
   "source": []
  },
  {
   "cell_type": "markdown",
   "id": "57c6c915-d94a-468f-982c-ef9d667d266b",
   "metadata": {},
   "source": [
    "### Regression Model / Monte Carlo Sim / weights"
   ]
  },
  {
   "cell_type": "code",
   "execution_count": 187,
   "id": "2dc83aa1-29e2-4362-b212-7f04ae2bbc28",
   "metadata": {},
   "outputs": [],
   "source": [
    "import numpy as np\n",
    "from sklearn.model_selection import train_test_split\n",
    "from sklearn.linear_model import LinearRegression\n",
    "from sklearn.metrics import mean_squared_error, r2_score"
   ]
  },
  {
   "cell_type": "code",
   "execution_count": 272,
   "id": "6b6948da-6623-4869-94fe-682ffb943562",
   "metadata": {
    "collapsed": true,
    "jupyter": {
     "outputs_hidden": true
    },
    "tags": []
   },
   "outputs": [
    {
     "name": "stdout",
     "output_type": "stream",
     "text": [
      "Looping through AU\n",
      "Coefficients: [1.08553559]\n",
      "Mean squared error (MSE): 0.000085\n",
      "Coefficient of determination (R^2): 0.648780\n",
      "Looping through CA\n",
      "Coefficients: [-0.86214958]\n",
      "Mean squared error (MSE): 0.000034\n",
      "Coefficient of determination (R^2): 0.655828\n",
      "Looping through CH\n",
      "Coefficients: [-1.05147309]\n",
      "Mean squared error (MSE): 0.000096\n",
      "Coefficient of determination (R^2): 0.621076\n",
      "Looping through GB\n",
      "Coefficients: [0.98194026]\n",
      "Mean squared error (MSE): 0.000090\n",
      "Coefficient of determination (R^2): 0.446211\n",
      "Looping through JP\n",
      "Coefficients: [-0.91034833]\n",
      "Mean squared error (MSE): 0.000055\n",
      "Coefficient of determination (R^2): 0.527316\n",
      "Looping through NZ\n",
      "Coefficients: [1.26706108]\n",
      "Mean squared error (MSE): 0.000113\n",
      "Coefficient of determination (R^2): 0.470826\n",
      "Looping through XM\n",
      "Coefficients: [1.36449499]\n",
      "Mean squared error (MSE): 0.000045\n",
      "Coefficient of determination (R^2): 0.597834\n"
     ]
    }
   ],
   "source": [
    "models = {}\n",
    "\n",
    "for df in weekly_dfs:\n",
    "    print(f\"Looping through {df}\")\n",
    "\n",
    "    X = weekly_dfs[df][['EER_ret']].dropna()\n",
    "    y = weekly_dfs[df]['close_ret'].dropna()\n",
    "\n",
    "    # Splitting the dataset into training and testing sets\n",
    "    X_train, X_test, y_train, y_test = train_test_split(X, y, test_size=0.20, random_state=42)\n",
    "\n",
    "    # Creating the linear regression model\n",
    "    model = LinearRegression()\n",
    "    models[df] = model\n",
    "    # Training the model\n",
    "    model.fit(X_train, y_train)\n",
    "\n",
    "    # Making predictions using the testing set\n",
    "    y_pred = model.predict(X_test)\n",
    "\n",
    "    # The coefficients\n",
    "    print('Coefficients:', model.coef_)\n",
    "    # The mean squared error\n",
    "    print('Mean squared error (MSE): %.6f' % mean_squared_error(y_test, y_pred))\n",
    "    # The coefficient of determination: 1 is perfect prediction\n",
    "    print('Coefficient of determination (R^2): %.6f' % r2_score(y_test, y_pred))"
   ]
  },
  {
   "cell_type": "code",
   "execution_count": 331,
   "id": "aa2e4379-2ba7-40c9-ab13-2dbb7c927295",
   "metadata": {},
   "outputs": [],
   "source": [
    "def calc_stats(df):\n",
    "\n",
    "    stats_df = pd.DataFrame()\n",
    "    stats_df['mean'] = df.mean()\n",
    "    stats_df['std'] = df.std()\n",
    "    # print('calculated')\n",
    "    return stats_df"
   ]
  },
  {
   "cell_type": "code",
   "execution_count": 332,
   "id": "de748e98-fe79-4c71-9241-d46a58aefc08",
   "metadata": {},
   "outputs": [
    {
     "data": {
      "text/html": [
       "<div>\n",
       "<style scoped>\n",
       "    .dataframe tbody tr th:only-of-type {\n",
       "        vertical-align: middle;\n",
       "    }\n",
       "\n",
       "    .dataframe tbody tr th {\n",
       "        vertical-align: top;\n",
       "    }\n",
       "\n",
       "    .dataframe thead th {\n",
       "        text-align: right;\n",
       "    }\n",
       "</style>\n",
       "<table border=\"1\" class=\"dataframe\">\n",
       "  <thead>\n",
       "    <tr style=\"text-align: right;\">\n",
       "      <th></th>\n",
       "      <th>mean</th>\n",
       "      <th>std</th>\n",
       "    </tr>\n",
       "  </thead>\n",
       "  <tbody>\n",
       "    <tr>\n",
       "      <th>EER_ret</th>\n",
       "      <td>-0.000235</td>\n",
       "      <td>0.010647</td>\n",
       "    </tr>\n",
       "  </tbody>\n",
       "</table>\n",
       "</div>"
      ],
      "text/plain": [
       "             mean       std\n",
       "EER_ret -0.000235  0.010647"
      ]
     },
     "execution_count": 332,
     "metadata": {},
     "output_type": "execute_result"
    }
   ],
   "source": [
    "calc_stats(weekly_dfs['AU'][['EER_ret']])"
   ]
  },
  {
   "cell_type": "code",
   "execution_count": 508,
   "id": "c2678a54-3ba1-4fce-b1c4-2fe0681dcb33",
   "metadata": {},
   "outputs": [],
   "source": [
    "stats = {}\n",
    "for df in weekly_dfs:\n",
    "    stats[df] = calc_stats(weekly_dfs[df][['EER_ret']])"
   ]
  },
  {
   "cell_type": "code",
   "execution_count": 595,
   "id": "a2729521-640c-4fe1-aaf5-154580e9d73f",
   "metadata": {},
   "outputs": [],
   "source": [
    "all_returns = pd.DataFrame()\n",
    "for sym in count_codes:\n",
    "    # print(f'Iterating thru {sym}')\n",
    "    rates = get_rates(sym[0], mt5.TIMEFRAME_D1, 2000)\n",
    "    rates = rates['close']\n",
    "    rates = rates.rename(f'{sym[0]}_close')\n",
    "    all_returns = pd.concat([all_returns, rates], axis = 1)\n",
    "latest_prices = all_returns.iloc[-1]"
   ]
  },
  {
   "cell_type": "code",
   "execution_count": 625,
   "id": "06ab04e6-c507-451f-9676-71e963ce3c06",
   "metadata": {},
   "outputs": [
    {
     "name": "stdout",
     "output_type": "stream",
     "text": [
      "100 simulations ran\n"
     ]
    }
   ],
   "source": [
    "sims = 100\n",
    "\n",
    "for i in range(sims):\n",
    "    if (i + 1) % 100 == 0:\n",
    "        print(f'{i + 1} simulations ran')"
   ]
  },
  {
   "cell_type": "code",
   "execution_count": 683,
   "id": "eccfff1f-c3d5-408e-a6ea-f4a42535229a",
   "metadata": {},
   "outputs": [
    {
     "name": "stdout",
     "output_type": "stream",
     "text": [
      "250 simulations ran\n",
      "500 simulations ran\n",
      "750 simulations ran\n",
      "1000 simulations ran\n",
      "1250 simulations ran\n",
      "1500 simulations ran\n",
      "1750 simulations ran\n",
      "2000 simulations ran\n",
      "2250 simulations ran\n",
      "2500 simulations ran\n",
      "2750 simulations ran\n",
      "3000 simulations ran\n",
      "3250 simulations ran\n",
      "3500 simulations ran\n",
      "3750 simulations ran\n",
      "4000 simulations ran\n",
      "4250 simulations ran\n",
      "4500 simulations ran\n",
      "4750 simulations ran\n",
      "5000 simulations ran\n"
     ]
    }
   ],
   "source": [
    "import numpy as np\n",
    "from pypfopt import EfficientFrontier, risk_models, expected_returns\n",
    "from pypfopt.discrete_allocation import DiscreteAllocation, get_latest_prices \n",
    "\n",
    "num_simulations = 5000\n",
    "all_weights = []\n",
    "\n",
    "for i in range(num_simulations):\n",
    "\n",
    "    if (i + 1) % 250 == 0:\n",
    "        print(f'{i + 1} simulations ran')\n",
    "    # Simulate the returns - this is a simple simulation; adjust as needed\n",
    "    expected_return_lst = {}\n",
    "    for df, values in stats.items():\n",
    "        mean = values['mean']\n",
    "        std = values['std']\n",
    "\n",
    "        for df2, lr_model in models.items():\n",
    "            if df == df2:\n",
    "                # print(f'match found for {df} and {df2}')\n",
    "                # Regression Model calculating expected returns \n",
    "                # expected_return_lst = {}\n",
    "                random_eer_ret = np.random.normal(mean, std, 1).reshape(-1,1)\n",
    "                # print(lr_model.predict(random_eer_ret))\n",
    "                expected_return_lst[df2] = lr_model.predict(random_eer_ret)\n",
    "            # Regression Model calculating expected returns \n",
    "            \n",
    "    lst = []\n",
    "    for i in expected_return_lst.values():\n",
    "        lst.append(i)\n",
    "        \n",
    "    highest_return = max(lst)\n",
    "    desired_scale = 0.05  # 5%\n",
    "    scaling_factor = desired_scale / highest_return\n",
    "    \n",
    "    # Apply the scaling factor\n",
    "    scaled_returns = [ret * scaling_factor for ret in lst] \n",
    "    scaled_values = [x[0] * 100 for x in scaled_returns]\n",
    "    fin = []\n",
    "    for i in scaled_values:\n",
    "        fin.append(abs(i))\n",
    "    \n",
    "    # Calculate expected returns and the covariance matrix\n",
    "    mu = fin\n",
    "    S = risk_models.sample_cov(all_returns)\n",
    "\n",
    "    # Optimize for the minimised volatility\n",
    "    ef = EfficientFrontier(mu, S, weight_bounds = (0.05, 0.25))\n",
    "    weights = ef.efficient_risk(0.025, market_neutral = False)\n",
    "    cleaned_weights = ef.clean_weights()\n",
    "    \n",
    "    exp_ret, exp_vol, sharpe = ef.portfolio_performance()\n",
    "    da = discrete_allocation.DiscreteAllocation(\n",
    "    cleaned_weights, latest_prices, \n",
    "    total_portfolio_value = 10000, short_ratio = None)\n",
    "    \n",
    "    # Perform the discrete allocation\n",
    "    allocation, leftover = da.lp_portfolio()\n",
    "    # Calculate the total investment in each asset\n",
    "    total_investment = {ticker: allocation[ticker] * latest_prices[ticker] for ticker in allocation}\n",
    "\n",
    "    # Total value of the portfolio\n",
    "    total_portfolio_value = sum(total_investment.values()) + leftover\n",
    "\n",
    "    # Convert to percentages\n",
    "    portfolio_percentages = {ticker: (value / total_portfolio_value) * 100 for ticker, value in total_investment.items()}\n",
    "    \n",
    "    # Store the weights from each simulation\n",
    "    # all_weights[i, :] = np.array(list(portfolio_percentages.values()))\n",
    "    all_weights.append([portfolio_percentages, exp_ret, exp_vol])"
   ]
  },
  {
   "cell_type": "code",
   "execution_count": 684,
   "id": "a4d51a66-cf65-4d67-ae72-b719634778a5",
   "metadata": {},
   "outputs": [
    {
     "name": "stdout",
     "output_type": "stream",
     "text": [
      "Mean Portfolio Weights:\n",
      "USDCAD.a_close    22.383952\n",
      "USDCHF.a_close    20.492449\n",
      "GBPUSD.a_close     8.815523\n",
      "USDJPY.a_close    12.469194\n",
      "NZDUSD.a_close    12.840159\n",
      "EURUSD.a_close    13.983660\n",
      "AUDUSD.a_close    11.752222\n",
      "dtype: float64\n",
      "\n",
      "Mean Expected Return: 8.205907365170354\n",
      "Mean Expected Volatility: 0.024888403536426174\n"
     ]
    }
   ],
   "source": [
    "weights_list = []\n",
    "returns_list = []\n",
    "volatility_list = []\n",
    "\n",
    "# Extract values into separate lists\n",
    "for item in all_weights:\n",
    "    weights_list.append(item[0])  # Portfolio weights dictionary\n",
    "    returns_list.append(item[1])  # Expected return\n",
    "    volatility_list.append(item[2])  # Expected volatility\n",
    "\n",
    "# Convert weights to DataFrame for easier mean calculation\n",
    "df_weights = pd.DataFrame(weights_list)\n",
    "\n",
    "# Calculate mean weights, returns, and volatility\n",
    "mean_weights = df_weights.mean()\n",
    "mean_return = np.mean(returns_list)\n",
    "mean_volatility = np.mean(volatility_list)\n",
    "\n",
    "print(\"Mean Portfolio Weights:\")\n",
    "print(mean_weights)\n",
    "print(\"\\nMean Expected Return:\", mean_return)\n",
    "print(\"Mean Expected Volatility:\", mean_volatility)"
   ]
  },
  {
   "cell_type": "code",
   "execution_count": 685,
   "id": "f7118440-5863-4179-b0d1-eb75c8430ceb",
   "metadata": {},
   "outputs": [],
   "source": [
    "import pandas as pd\n",
    "import numpy as np\n",
    "\n",
    "weights_list = []\n",
    "returns_list = []\n",
    "volatility_list = []\n",
    "\n",
    "# Extract values into separate lists\n",
    "for item in all_weights:\n",
    "    weights_list.append(item[0])  # Portfolio weights dictionary\n",
    "    returns_list.append(item[1])  # Expected return\n",
    "    volatility_list.append(item[2])  # Expected volatility\n",
    "\n",
    "# Convert weights to DataFrame for easier mean and IQR calculation\n",
    "df_weights = pd.DataFrame(weights_list)\n",
    "\n",
    "# Calculate mean weights and IQR for each asset\n",
    "mean_weights = df_weights.mean()\n",
    "iqr_weights = df_weights.quantile(0.75) - df_weights.quantile(0.25)\n",
    "iqr_25_weights = df_weights.quantile(0.25)\n",
    "iqr_75_weights = df_weights.quantile(0.75)\n",
    "\n",
    "# Combine return and volatility data\n",
    "df_performance = pd.DataFrame({\n",
    "    'expected_return': returns_list,\n",
    "    'expected_volatility': volatility_list\n",
    "})\n",
    "\n",
    "# Calculate mean return and volatility\n",
    "mean_return = df_performance['expected_return'].mean()\n",
    "iqr_25_ret = df_performance['expected_return'].quantile(0.25)\n",
    "iqr_75_ret = df_performance['expected_return'].quantile(0.75)\n",
    "\n",
    "mean_volatility = df_performance['expected_volatility'].mean()\n",
    "iqr_25_vol = df_performance['expected_volatility'].quantile(0.25)\n",
    "iqr_75_vol = df_performance['expected_volatility'].quantile(0.75)\n",
    "\n",
    "iqr_25_dict = {}\n",
    "iqr_75_dict = {}\n",
    "mean_dict = {}\n",
    "\n",
    "for index, row in df_weights.iterrows():\n",
    "    if row.isnull().any():\n",
    "        row_sum = row.sum()\n",
    "        shortfall = 100 - row_sum\n",
    "        df_weights.at[index, row.isnull()] = shortfall\n",
    "\n",
    "    # Convert weights to a tuple for hashability\n",
    "    # tuple_weights = tuple(row.tolist())"
   ]
  },
  {
   "cell_type": "code",
   "execution_count": 686,
   "id": "7d9f4fed-f043-4eea-a426-d5e32aca01de",
   "metadata": {},
   "outputs": [],
   "source": [
    "iqr_25_dict['weights'] = iqr_25_weights\n",
    "iqr_75_dict['weights'] = iqr_75_weights\n",
    "mean_dict['weights'] = mean_weights\n",
    "\n",
    "iqr_25_dict['ret'] = iqr_25_ret\n",
    "iqr_75_dict['ret'] = iqr_75_ret\n",
    "mean_dict['ret'] = mean_return\n",
    "\n",
    "iqr_25_dict['vol'] = iqr_25_vol\n",
    "iqr_75_dict['vol'] = iqr_75_vol\n",
    "mean_dict['vol'] = mean_volatility"
   ]
  },
  {
   "cell_type": "code",
   "execution_count": 732,
   "id": "1be4d076-b7b1-434c-81f1-fbd86abd0fce",
   "metadata": {},
   "outputs": [],
   "source": [
    "weights = {}\n",
    "all_dicts = {}\n",
    "\n",
    "all_dicts['iqr25'] = iqr_25_dict\n",
    "all_dicts['iqr75'] = iqr_75_dict\n",
    "all_dicts['mean_dict'] = mean_dict\n",
    "\n",
    "for df, items in all_dicts.items():\n",
    "    highest_ret = 0\n",
    "    if all_dicts[df]['ret'] > highest_ret:\n",
    "        highest_ret = all_dicts[df]['ret']\n",
    "        weights = all_dicts[df]['weights']"
   ]
  },
  {
   "cell_type": "code",
   "execution_count": 716,
   "id": "bb8deed4-a6a2-4098-ad0c-f8af46170490",
   "metadata": {},
   "outputs": [],
   "source": [
    "def scale_weights(weights):\n",
    "\n",
    "    total_weights = __builtins__.sum(weights.values)\n",
    "    scaled = {currency: weight / total_weights * 100 for currency, weight in weights.items()}\n",
    "\n",
    "    if isinstance(weights, pd.Series):\n",
    "        return pd.Series(scaled)\n",
    "    return scaled"
   ]
  },
  {
   "cell_type": "code",
   "execution_count": 757,
   "id": "ca2a90bc-cbff-48b5-b1cf-b78b55dd68d8",
   "metadata": {},
   "outputs": [],
   "source": [
    "weights = scale_weights(weights)"
   ]
  },
  {
   "cell_type": "markdown",
   "id": "6cfea177-5c41-47c9-b167-8a84cda9fe59",
   "metadata": {
    "jp-MarkdownHeadingCollapsed": true,
    "tags": []
   },
   "source": [
    "### scrap code"
   ]
  },
  {
   "cell_type": "code",
   "execution_count": 393,
   "id": "ebb4c260-2410-4769-bb02-f09f23f430e6",
   "metadata": {
    "collapsed": true,
    "jupyter": {
     "outputs_hidden": true,
     "source_hidden": true
    },
    "tags": []
   },
   "outputs": [
    {
     "name": "stdout",
     "output_type": "stream",
     "text": [
      "match found for AU and AU\n",
      "[0.00976244]\n",
      "match found for CA and CA\n",
      "[-0.01374206]\n",
      "match found for CH and CH\n",
      "[0.00070739]\n",
      "match found for GB and GB\n",
      "[0.00295269]\n",
      "match found for JP and JP\n",
      "[-0.00557417]\n",
      "match found for NZ and NZ\n",
      "[-0.0166149]\n",
      "match found for XM and XM\n",
      "[0.00791541]\n"
     ]
    }
   ],
   "source": [
    "expected_return_lst = {}\n",
    "for df, values in stats.items():\n",
    "    mean = values['mean']\n",
    "    std = values['std']\n",
    "    \n",
    "    for df2, lr_model in models.items():\n",
    "        if df == df2:\n",
    "            print(f'match found for {df} and {df2}')\n",
    "            # Regression Model calculating expected returns \n",
    "            # expected_return_lst = {}\n",
    "            random_eer_ret = np.random.normal(mean, std, 1).reshape(-1,1)\n",
    "            print(lr_model.predict(random_eer_ret))\n",
    "            expected_return_lst[df2] = lr_model.predict(random_eer_ret)\n",
    "            "
   ]
  },
  {
   "cell_type": "code",
   "execution_count": 509,
   "id": "e6247f6a-4f48-4fa9-a63c-20c2e3f48b2d",
   "metadata": {
    "jupyter": {
     "source_hidden": true
    },
    "tags": []
   },
   "outputs": [],
   "source": [
    "lst = []\n",
    "for i in expected_return_lst.values():\n",
    "    lst.append(i)"
   ]
  },
  {
   "cell_type": "code",
   "execution_count": 500,
   "id": "da39ae1e-373b-4267-a184-ca9627da17d8",
   "metadata": {
    "jupyter": {
     "source_hidden": true
    },
    "tags": []
   },
   "outputs": [],
   "source": [
    "highest_return = max(lst)\n",
    "desired_scale = 0.05  # 5%\n",
    "scaling_factor = desired_scale / highest_return"
   ]
  },
  {
   "cell_type": "code",
   "execution_count": 501,
   "id": "d4e7b3f8-5469-4abb-b3b7-e1ae5b7573d3",
   "metadata": {
    "collapsed": true,
    "jupyter": {
     "outputs_hidden": true,
     "source_hidden": true
    },
    "tags": []
   },
   "outputs": [
    {
     "data": {
      "text/plain": [
       "[array([0.05]),\n",
       " array([-0.07038234]),\n",
       " array([0.00362304]),\n",
       " array([0.01512269]),\n",
       " array([-0.02854906]),\n",
       " array([-0.08509608]),\n",
       " array([0.04054015])]"
      ]
     },
     "execution_count": 501,
     "metadata": {},
     "output_type": "execute_result"
    }
   ],
   "source": [
    "# Apply the scaling factor\n",
    "scaled_returns = [ret * scaling_factor for ret in lst] \n",
    "scaled_returns "
   ]
  },
  {
   "cell_type": "code",
   "execution_count": 569,
   "id": "dfe234d4-5ec2-4011-97f2-00eb89dd5448",
   "metadata": {
    "jupyter": {
     "source_hidden": true
    },
    "tags": []
   },
   "outputs": [],
   "source": [
    "scaled_values = [x[0] * 100 for x in scaled_returns]"
   ]
  },
  {
   "cell_type": "code",
   "execution_count": 578,
   "id": "2c9ce4e3-8b65-45ec-b608-6dd2e53b36f6",
   "metadata": {
    "jupyter": {
     "source_hidden": true
    },
    "tags": []
   },
   "outputs": [],
   "source": [
    "fin = []\n",
    "for i in scaled_values:\n",
    "    fin.append(abs(i))"
   ]
  },
  {
   "cell_type": "code",
   "execution_count": 585,
   "id": "27ea660e-4e0f-4c4d-b1ed-72f00fad4807",
   "metadata": {
    "collapsed": true,
    "jupyter": {
     "outputs_hidden": true,
     "source_hidden": true
    },
    "tags": []
   },
   "outputs": [
    {
     "name": "stdout",
     "output_type": "stream",
     "text": [
      "OrderedDict([('AUDUSD.a_close', 0.05), ('USDCAD.a_close', 0.25), ('USDCHF.a_close', 0.12749), ('GBPUSD.a_close', 0.05), ('USDJPY.a_close', 0.14772), ('NZDUSD.a_close', 0.2432), ('EURUSD.a_close', 0.13159)])\n"
     ]
    }
   ],
   "source": [
    "from pypfopt import EfficientFrontier, risk_models, expected_returns\n",
    "\n",
    "# Assuming 'data' is your DataFrame with historical returns\n",
    "# Calculate expected returns and the covariance matrix\n",
    "mu = fin\n",
    "S = risk_models.sample_cov(all_returns)\n",
    "\n",
    "# Optimize for the minimised volatility\n",
    "ef = EfficientFrontier(mu, S, weight_bounds = (0.05, 0.25))\n",
    "weights = ef.efficient_risk(0.025, market_neutral = False)\n",
    "cleaned_weights = ef.clean_weights()\n",
    "print(cleaned_weights)\n",
    "\n",
    "# Performance metrics\n",
    "expected_return, expected_volatility, expected_sharpe = ef.portfolio_performance()"
   ]
  },
  {
   "cell_type": "code",
   "execution_count": 588,
   "id": "4c051b21-8299-4e27-a55c-4ac728a9a6ed",
   "metadata": {
    "jupyter": {
     "source_hidden": true
    },
    "tags": []
   },
   "outputs": [],
   "source": [
    "da = discrete_allocation.DiscreteAllocation(\n",
    "    cleaned_weights, latest_prices, \n",
    "    total_portfolio_value = 10000, short_ratio = None)"
   ]
  },
  {
   "cell_type": "code",
   "execution_count": 591,
   "id": "fb44d758-62dc-4bcc-a37c-adcc3fa0a45c",
   "metadata": {
    "jupyter": {
     "source_hidden": true
    },
    "tags": []
   },
   "outputs": [],
   "source": [
    "# Perform the discrete allocation\n",
    "allocation, leftover = da.lp_portfolio()\n",
    "# Calculate the total investment in each asset\n",
    "total_investment = {ticker: allocation[ticker] * latest_prices[ticker] for ticker in allocation}\n",
    "\n",
    "# Total value of the portfolio\n",
    "total_portfolio_value = sum(total_investment.values()) + leftover\n",
    "\n",
    "# Convert to percentages\n",
    "portfolio_percentages = {ticker: (value / total_portfolio_value) * 100 for ticker, value in total_investment.items()}"
   ]
  },
  {
   "cell_type": "code",
   "execution_count": null,
   "id": "8bc713cf-7bbd-48e9-9bd5-5cbb05d0e8d8",
   "metadata": {
    "jupyter": {
     "source_hidden": true
    },
    "tags": []
   },
   "outputs": [],
   "source": [
    "import numpy as np\n",
    "\n",
    "num_simulations = 1000\n",
    "all_weights = np.zeros((num_simulations, len(data.columns)))\n",
    "\n",
    "for i in range(num_simulations):\n",
    "    # Simulate the returns - this is a simple simulation; adjust as needed\n",
    "    simulated_returns = np.random.normal(mu, S, size=(len(data), len(data.columns)))\n",
    "    \n",
    "    # Re-run MVO for the simulated returns\n",
    "    ef = EfficientFrontier(simulated_returns.mean(axis=0), risk_models.sample_cov(pd.DataFrame(simulated_returns)))\n",
    "    weights = ef.max_sharpe()\n",
    "    cleaned_weights = ef.clean_weights()\n",
    "    \n",
    "    # Store the weights from each simulation\n",
    "    all_weights[i, :] = np.array(list(cleaned_weights.values()))"
   ]
  },
  {
   "cell_type": "markdown",
   "id": "5df9309e-939a-4662-9fe2-7f449f8b5bd2",
   "metadata": {
    "tags": []
   },
   "source": [
    "# Orders "
   ]
  },
  {
   "cell_type": "markdown",
   "id": "08363705-6415-4b47-939e-6c41ba48a0b5",
   "metadata": {
    "tags": []
   },
   "source": [
    "### Simple Order Send\n",
    "Copying EER return direction as data is released."
   ]
  },
  {
   "cell_type": "code",
   "execution_count": 755,
   "id": "72dd01c3-f32e-4ab1-a6d2-97628b667bf6",
   "metadata": {},
   "outputs": [],
   "source": [
    "symbols = []\n",
    "for sym in count_codes:\n",
    "    symbols.append(sym[0])"
   ]
  },
  {
   "cell_type": "code",
   "execution_count": 756,
   "id": "76805392-b9ed-4e10-8ed0-e9d6db03b55c",
   "metadata": {},
   "outputs": [],
   "source": [
    "all_pairs = list(combinations(symbols, 2))"
   ]
  },
  {
   "cell_type": "code",
   "execution_count": null,
   "id": "b28b84f8-f7c5-4c8e-92f2-24bd4786d935",
   "metadata": {},
   "outputs": [],
   "source": []
  },
  {
   "cell_type": "code",
   "execution_count": null,
   "id": "af7fb71b-51fc-4644-a14e-ba1a07ef1190",
   "metadata": {},
   "outputs": [],
   "source": [
    "def adf_test(series1, series2):\n",
    "    '''Runs ADF test on a spread series'''\n",
    "    spread = series1 - series2\n",
    "    result = adfuller(spread)\n",
    "    return {'ADF Statistic': result[0], 'p-value': result[1], 'Critical Values': result[4]}\n",
    "\n",
    "for sym in all_pairs:\n",
    "    series1 = get_rates(sym[0], mt5.TIMEFRAME_D1, 500"
   ]
  },
  {
   "cell_type": "code",
   "execution_count": 64,
   "id": "83d105d2-18be-474e-a430-a1fb22ae1d7b",
   "metadata": {},
   "outputs": [],
   "source": [
    "def sim_send():\n",
    "    for symbol, value in last_update.items():\n",
    "        if symbol[:3] == 'USD':\n",
    "            print(f\"Looping through {symbol}\")\n",
    "            if value > 0:\n",
    "                send_order(symbol, 'sell', 1.00, 'EER')\n",
    "                print(f\"Selling {symbol}\")\n",
    "            else:\n",
    "                send_order(symbol, 'buy', 1.00, 'EER')\n",
    "        else:\n",
    "            if value > 0:\n",
    "                send_order(symbol, 'buy', 1.00, 'EER')\n",
    "            else:\n",
    "                send_order(symbol, 'sell', 1.00, 'EER')"
   ]
  },
  {
   "cell_type": "code",
   "execution_count": 872,
   "id": "11950bf2-a069-4eb8-b954-2dcfe630cb1d",
   "metadata": {},
   "outputs": [],
   "source": [
    "def mc_weights_send():\n",
    "    for symbol, value in last_update.items():\n",
    "        print(f\"Looping through {symbol}\")\n",
    "\n",
    "        # Find the corresponding weight for the symbol\n",
    "        for sym, weight in weights.items():\n",
    "            if symbol[:7] == sym[:7]:  # Assuming symbol format like 'AUDUSD.a'\n",
    "                lotsize = weight\n",
    "                break\n",
    "        else:\n",
    "            continue  # If no matching weight is found, continue to next symbol\n",
    "\n",
    "        # Determine whether to buy or sell based on the value\n",
    "        lotsize = round(( weight / 7 ), 2)\n",
    "        \n",
    "        if value > 0:\n",
    "            # If the value is positive, sell\n",
    "            print(f\"Selling {symbol}\")\n",
    "            send_order(symbol, 'buy', lotsize, 'EER_MC')\n",
    "            \n",
    "        else:\n",
    "            # If the value is negative or zero, buy\n",
    "            print(f\"Bought {symbol}\")\n",
    "            send_order(symbol, 'sell', lotsize, 'EER_MC')"
   ]
  },
  {
   "cell_type": "code",
   "execution_count": 873,
   "id": "5fd9b5f0-e65b-4fc2-a521-90ccf9afb45f",
   "metadata": {},
   "outputs": [
    {
     "name": "stdout",
     "output_type": "stream",
     "text": [
      "Looping through AUDUSD.a\n",
      "Selling AUDUSD.a\n",
      "Looping through USDCAD.a\n",
      "Selling USDCAD.a\n",
      "Looping through USDCHF.a\n",
      "Bought USDCHF.a\n",
      "Looping through GBPUSD.a\n",
      "Selling GBPUSD.a\n",
      "Looping through USDJPY.a\n",
      "Selling USDJPY.a\n",
      "Looping through NZDUSD.a\n",
      "Bought NZDUSD.a\n",
      "Looping through EURUSD.a\n",
      "Selling EURUSD.a\n"
     ]
    }
   ],
   "source": [
    "mc_weights_send()"
   ]
  },
  {
   "cell_type": "markdown",
   "id": "30cf4f6b-eba9-478a-b23f-016d21a13558",
   "metadata": {},
   "source": [
    "### Pair / Triplet Trading\n",
    "\n",
    "Trading based on a cointegrating relationship within EER values"
   ]
  },
  {
   "cell_type": "code",
   "execution_count": null,
   "id": "2dc835c3-f4af-42ef-9fa1-36c84163c154",
   "metadata": {},
   "outputs": [],
   "source": []
  },
  {
   "cell_type": "markdown",
   "id": "3c8bf2de-9fa1-446f-b020-8ef485387509",
   "metadata": {},
   "source": [
    "### Mean Reversion / Momentum \n",
    "\n",
    "Based on mean-reverting nature of EER values balanced with the momentum of EER values"
   ]
  },
  {
   "cell_type": "code",
   "execution_count": null,
   "id": "fc150523-71df-4c39-b270-e3982ad21bec",
   "metadata": {},
   "outputs": [],
   "source": []
  },
  {
   "cell_type": "code",
   "execution_count": null,
   "id": "eb39eade-e286-4afa-987a-08df4a1fa665",
   "metadata": {},
   "outputs": [],
   "source": []
  },
  {
   "cell_type": "code",
   "execution_count": null,
   "id": "4421737b-d82e-469f-a088-b08958293d48",
   "metadata": {},
   "outputs": [],
   "source": []
  },
  {
   "cell_type": "markdown",
   "id": "7193a304-0971-479f-a0bf-a5fcf51a7646",
   "metadata": {
    "tags": []
   },
   "source": [
    "# Research\n",
    "\n",
    "Analyzing the relationship of EER data and close prices. "
   ]
  },
  {
   "cell_type": "code",
   "execution_count": 737,
   "id": "7482aabc-60fb-4206-9c25-0ffbe54a44db",
   "metadata": {},
   "outputs": [],
   "source": [
    "for df in weekly_dfs.values():\n",
    "    df['ret'] = df['close'].pct_change()\n",
    "    df['ret_diff'] = df['EER_ret'] - df['ret']\n",
    "    df = df.dropna()"
   ]
  },
  {
   "cell_type": "code",
   "execution_count": 738,
   "id": "c2103158-3c2e-4ed0-97d7-3d55b56a1cef",
   "metadata": {},
   "outputs": [
    {
     "name": "stdout",
     "output_type": "stream",
     "text": [
      "EER Correlation with AU is: 0.7895590513032674\n",
      "EER Correlation with CA is: -0.8034449420507715\n",
      "EER Correlation with CH is: -0.6962195656612519\n",
      "EER Correlation with GB is: 0.6871875814155363\n",
      "EER Correlation with JP is: -0.8164550108813893\n",
      "EER Correlation with NZ is: 0.774779037008523\n",
      "EER Correlation with XM is: 0.7549860097389316\n"
     ]
    }
   ],
   "source": [
    "for name, df in weekly_dfs.items():\n",
    "    print(f\"EER Correlation with {name} is: {df['EER_ret'].corr(df['ret'])}\")"
   ]
  },
  {
   "cell_type": "code",
   "execution_count": 739,
   "id": "72aa1e6e-873f-4fc9-af82-5c6075060ef2",
   "metadata": {},
   "outputs": [
    {
     "data": {
      "text/html": [
       "<div>\n",
       "<style scoped>\n",
       "    .dataframe tbody tr th:only-of-type {\n",
       "        vertical-align: middle;\n",
       "    }\n",
       "\n",
       "    .dataframe tbody tr th {\n",
       "        vertical-align: top;\n",
       "    }\n",
       "\n",
       "    .dataframe thead th {\n",
       "        text-align: right;\n",
       "    }\n",
       "</style>\n",
       "<table border=\"1\" class=\"dataframe\">\n",
       "  <thead>\n",
       "    <tr style=\"text-align: right;\">\n",
       "      <th></th>\n",
       "      <th>AU Stats</th>\n",
       "      <th>CA Stats</th>\n",
       "      <th>CH Stats</th>\n",
       "      <th>GB Stats</th>\n",
       "      <th>JP Stats</th>\n",
       "      <th>NZ Stats</th>\n",
       "      <th>XM Stats</th>\n",
       "    </tr>\n",
       "  </thead>\n",
       "  <tbody>\n",
       "    <tr>\n",
       "      <th>count</th>\n",
       "      <td>499.000000</td>\n",
       "      <td>499.000000</td>\n",
       "      <td>499.000000</td>\n",
       "      <td>499.000000</td>\n",
       "      <td>499.000000</td>\n",
       "      <td>499.000000</td>\n",
       "      <td>499.000000</td>\n",
       "    </tr>\n",
       "    <tr>\n",
       "      <th>mean</th>\n",
       "      <td>0.000299</td>\n",
       "      <td>-0.000728</td>\n",
       "      <td>0.000471</td>\n",
       "      <td>0.000336</td>\n",
       "      <td>-0.001096</td>\n",
       "      <td>0.000350</td>\n",
       "      <td>0.000288</td>\n",
       "    </tr>\n",
       "    <tr>\n",
       "      <th>std</th>\n",
       "      <td>0.009047</td>\n",
       "      <td>0.018505</td>\n",
       "      <td>0.020930</td>\n",
       "      <td>0.009593</td>\n",
       "      <td>0.022437</td>\n",
       "      <td>0.009860</td>\n",
       "      <td>0.007556</td>\n",
       "    </tr>\n",
       "    <tr>\n",
       "      <th>min</th>\n",
       "      <td>-0.053037</td>\n",
       "      <td>-0.064334</td>\n",
       "      <td>-0.104875</td>\n",
       "      <td>-0.050289</td>\n",
       "      <td>-0.100707</td>\n",
       "      <td>-0.055615</td>\n",
       "      <td>-0.033891</td>\n",
       "    </tr>\n",
       "    <tr>\n",
       "      <th>25%</th>\n",
       "      <td>-0.005061</td>\n",
       "      <td>-0.011256</td>\n",
       "      <td>-0.009507</td>\n",
       "      <td>-0.005547</td>\n",
       "      <td>-0.013601</td>\n",
       "      <td>-0.005001</td>\n",
       "      <td>-0.004506</td>\n",
       "    </tr>\n",
       "    <tr>\n",
       "      <th>50%</th>\n",
       "      <td>0.000292</td>\n",
       "      <td>-0.000322</td>\n",
       "      <td>-0.000457</td>\n",
       "      <td>0.000599</td>\n",
       "      <td>-0.002314</td>\n",
       "      <td>0.000192</td>\n",
       "      <td>0.000589</td>\n",
       "    </tr>\n",
       "    <tr>\n",
       "      <th>75%</th>\n",
       "      <td>0.005601</td>\n",
       "      <td>0.011485</td>\n",
       "      <td>0.009052</td>\n",
       "      <td>0.005842</td>\n",
       "      <td>0.011016</td>\n",
       "      <td>0.005819</td>\n",
       "      <td>0.004759</td>\n",
       "    </tr>\n",
       "    <tr>\n",
       "      <th>max</th>\n",
       "      <td>0.033373</td>\n",
       "      <td>0.059054</td>\n",
       "      <td>0.284139</td>\n",
       "      <td>0.036804</td>\n",
       "      <td>0.077664</td>\n",
       "      <td>0.039223</td>\n",
       "      <td>0.029442</td>\n",
       "    </tr>\n",
       "  </tbody>\n",
       "</table>\n",
       "</div>"
      ],
      "text/plain": [
       "         AU Stats    CA Stats    CH Stats    GB Stats    JP Stats    NZ Stats  \\\n",
       "count  499.000000  499.000000  499.000000  499.000000  499.000000  499.000000   \n",
       "mean     0.000299   -0.000728    0.000471    0.000336   -0.001096    0.000350   \n",
       "std      0.009047    0.018505    0.020930    0.009593    0.022437    0.009860   \n",
       "min     -0.053037   -0.064334   -0.104875   -0.050289   -0.100707   -0.055615   \n",
       "25%     -0.005061   -0.011256   -0.009507   -0.005547   -0.013601   -0.005001   \n",
       "50%      0.000292   -0.000322   -0.000457    0.000599   -0.002314    0.000192   \n",
       "75%      0.005601    0.011485    0.009052    0.005842    0.011016    0.005819   \n",
       "max      0.033373    0.059054    0.284139    0.036804    0.077664    0.039223   \n",
       "\n",
       "         XM Stats  \n",
       "count  499.000000  \n",
       "mean     0.000288  \n",
       "std      0.007556  \n",
       "min     -0.033891  \n",
       "25%     -0.004506  \n",
       "50%      0.000589  \n",
       "75%      0.004759  \n",
       "max      0.029442  "
      ]
     },
     "execution_count": 739,
     "metadata": {},
     "output_type": "execute_result"
    }
   ],
   "source": [
    "desc_stats = pd.DataFrame()\n",
    "\n",
    "for name in weekly_dfs:\n",
    "    desc_stats[f\"{name} Stats\"] = weekly_dfs[name]['ret_diff'].describe()\n",
    "desc_stats"
   ]
  },
  {
   "cell_type": "code",
   "execution_count": 740,
   "id": "6aab6ab2-fcb7-42df-80b9-d5f34600ce38",
   "metadata": {},
   "outputs": [],
   "source": [
    "eer_vals = pd.DataFrame()\n",
    "\n",
    "for name in weekly_dfs:\n",
    "    eer_vals[f'{name}'] = weekly_dfs[name]['OBS_Value']"
   ]
  },
  {
   "cell_type": "code",
   "execution_count": 741,
   "id": "14678f4e-3b14-4797-bfde-22bff26f553c",
   "metadata": {},
   "outputs": [],
   "source": [
    "from statsmodels.tsa.stattools import coint\n",
    "from itertools import combinations\n",
    "import pandas as pd\n",
    "from statsmodels.tsa.stattools import adfuller \n",
    "\n",
    "def cointegration_test(series1, series2):\n",
    "    '''Runs cointegration test on two series'''\n",
    "    score, p_value, _ = coint(series1, series2)\n",
    "    return {'Cointegration Score': score, 'p-value': p_value}"
   ]
  },
  {
   "cell_type": "code",
   "execution_count": 742,
   "id": "93d8a545-0c83-4c98-a72c-862d3806cfd1",
   "metadata": {},
   "outputs": [],
   "source": [
    "all_pairs = list(combinations(eer_vals.columns, 2))\n",
    "all_trips = list(combinations(eer_vals.columns, 3))"
   ]
  },
  {
   "cell_type": "code",
   "execution_count": 743,
   "id": "b9c0298f-9818-47da-ad99-c915c1ee127d",
   "metadata": {
    "tags": []
   },
   "outputs": [],
   "source": [
    "def adf_test(series1, series2):\n",
    "    '''Runs ADF test on a spread series'''\n",
    "    spread = series1 - series2\n",
    "    result = adfuller(spread)\n",
    "    return {'ADF Statistic': result[0], 'p-value': result[1], 'Critical Values': result[4]}\n",
    "\n",
    "def johansen_test(data, det_order=0, k_ar_diff=1):\n",
    "\n",
    "    result = coint_johansen(data, det_order, k_ar_diff)\n",
    "    return result\n"
   ]
  },
  {
   "cell_type": "code",
   "execution_count": 744,
   "id": "0b8caac4-7782-4ecb-b3f6-46d026c0ab4e",
   "metadata": {
    "tags": []
   },
   "outputs": [
    {
     "data": {
      "text/plain": [
       "{('AU', 'NZ'): {'ADF_Stat': -4.1478, '10%_stat': -2.5699},\n",
       " ('CA', 'NZ'): {'ADF_Stat': -4.1739, '10%_stat': -2.5699},\n",
       " ('CA', 'XM'): {'ADF_Stat': -2.6991, '10%_stat': -2.5699},\n",
       " ('NZ', 'XM'): {'ADF_Stat': -2.571, '10%_stat': -2.5699}}"
      ]
     },
     "execution_count": 744,
     "metadata": {},
     "output_type": "execute_result"
    }
   ],
   "source": [
    "# Perform cointegration test on each pair\n",
    "coint_results = {}\n",
    "for pair in all_pairs:\n",
    "    series1, series2 = eer_vals[pair[0]], eer_vals[pair[1]]\n",
    "    coint_test_result = adf_test(series1, series2)\n",
    "    if coint_test_result['Critical Values']['10%'] > coint_test_result['ADF Statistic']:\n",
    "        # print(f\"{coint_test_result['Critical Values']['10%']} is smaller than {coint_test_result['ADF Statistic']}. Adding to results\")\n",
    "        coint_results[pair] = {'ADF_Stat': round(coint_test_result['ADF Statistic'], 4), \n",
    "                               '10%_stat': round(coint_test_result['Critical Values']['10%'], 4)}\n",
    "coint_results"
   ]
  },
  {
   "cell_type": "code",
   "execution_count": 745,
   "id": "a0b16314-6d48-4c20-af01-b579e21fc870",
   "metadata": {},
   "outputs": [
    {
     "data": {
      "text/html": [
       "<div>\n",
       "<style scoped>\n",
       "    .dataframe tbody tr th:only-of-type {\n",
       "        vertical-align: middle;\n",
       "    }\n",
       "\n",
       "    .dataframe tbody tr th {\n",
       "        vertical-align: top;\n",
       "    }\n",
       "\n",
       "    .dataframe thead th {\n",
       "        text-align: right;\n",
       "    }\n",
       "</style>\n",
       "<table border=\"1\" class=\"dataframe\">\n",
       "  <thead>\n",
       "    <tr style=\"text-align: right;\">\n",
       "      <th></th>\n",
       "      <th>AU</th>\n",
       "      <th>CA</th>\n",
       "      <th>CH</th>\n",
       "      <th>GB</th>\n",
       "      <th>JP</th>\n",
       "      <th>NZ</th>\n",
       "      <th>XM</th>\n",
       "    </tr>\n",
       "    <tr>\n",
       "      <th>date</th>\n",
       "      <th></th>\n",
       "      <th></th>\n",
       "      <th></th>\n",
       "      <th></th>\n",
       "      <th></th>\n",
       "      <th></th>\n",
       "      <th></th>\n",
       "    </tr>\n",
       "  </thead>\n",
       "  <tbody>\n",
       "    <tr>\n",
       "      <th>2014-05-25</th>\n",
       "      <td>119.55</td>\n",
       "      <td>118.63</td>\n",
       "      <td>90.36</td>\n",
       "      <td>114.02</td>\n",
       "      <td>95.19</td>\n",
       "      <td>113.35</td>\n",
       "      <td>105.64</td>\n",
       "    </tr>\n",
       "    <tr>\n",
       "      <th>2014-06-01</th>\n",
       "      <td>120.61</td>\n",
       "      <td>119.35</td>\n",
       "      <td>90.36</td>\n",
       "      <td>113.41</td>\n",
       "      <td>95.38</td>\n",
       "      <td>112.25</td>\n",
       "      <td>105.57</td>\n",
       "    </tr>\n",
       "    <tr>\n",
       "      <th>2014-06-08</th>\n",
       "      <td>121.06</td>\n",
       "      <td>118.37</td>\n",
       "      <td>90.58</td>\n",
       "      <td>113.84</td>\n",
       "      <td>94.61</td>\n",
       "      <td>112.78</td>\n",
       "      <td>105.71</td>\n",
       "    </tr>\n",
       "    <tr>\n",
       "      <th>2014-06-15</th>\n",
       "      <td>121.81</td>\n",
       "      <td>119.26</td>\n",
       "      <td>90.29</td>\n",
       "      <td>115.36</td>\n",
       "      <td>95.10</td>\n",
       "      <td>114.50</td>\n",
       "      <td>104.76</td>\n",
       "    </tr>\n",
       "    <tr>\n",
       "      <th>2014-06-22</th>\n",
       "      <td>121.76</td>\n",
       "      <td>119.58</td>\n",
       "      <td>90.48</td>\n",
       "      <td>115.60</td>\n",
       "      <td>94.96</td>\n",
       "      <td>114.89</td>\n",
       "      <td>105.11</td>\n",
       "    </tr>\n",
       "    <tr>\n",
       "      <th>...</th>\n",
       "      <td>...</td>\n",
       "      <td>...</td>\n",
       "      <td>...</td>\n",
       "      <td>...</td>\n",
       "      <td>...</td>\n",
       "      <td>...</td>\n",
       "      <td>...</td>\n",
       "    </tr>\n",
       "    <tr>\n",
       "      <th>2023-11-19</th>\n",
       "      <td>101.76</td>\n",
       "      <td>100.03</td>\n",
       "      <td>111.49</td>\n",
       "      <td>102.15</td>\n",
       "      <td>73.96</td>\n",
       "      <td>99.72</td>\n",
       "      <td>100.55</td>\n",
       "    </tr>\n",
       "    <tr>\n",
       "      <th>2023-11-26</th>\n",
       "      <td>102.54</td>\n",
       "      <td>100.19</td>\n",
       "      <td>111.62</td>\n",
       "      <td>102.95</td>\n",
       "      <td>73.69</td>\n",
       "      <td>100.72</td>\n",
       "      <td>100.65</td>\n",
       "    </tr>\n",
       "    <tr>\n",
       "      <th>2023-12-03</th>\n",
       "      <td>103.02</td>\n",
       "      <td>101.12</td>\n",
       "      <td>112.62</td>\n",
       "      <td>103.62</td>\n",
       "      <td>74.34</td>\n",
       "      <td>102.05</td>\n",
       "      <td>99.92</td>\n",
       "    </tr>\n",
       "    <tr>\n",
       "      <th>2023-12-10</th>\n",
       "      <td>102.83</td>\n",
       "      <td>100.99</td>\n",
       "      <td>113.26</td>\n",
       "      <td>103.62</td>\n",
       "      <td>76.60</td>\n",
       "      <td>101.70</td>\n",
       "      <td>98.94</td>\n",
       "    </tr>\n",
       "    <tr>\n",
       "      <th>2023-12-17</th>\n",
       "      <td>103.38</td>\n",
       "      <td>102.03</td>\n",
       "      <td>113.01</td>\n",
       "      <td>103.74</td>\n",
       "      <td>77.36</td>\n",
       "      <td>101.57</td>\n",
       "      <td>99.53</td>\n",
       "    </tr>\n",
       "  </tbody>\n",
       "</table>\n",
       "<p>500 rows × 7 columns</p>\n",
       "</div>"
      ],
      "text/plain": [
       "                AU      CA      CH      GB     JP      NZ      XM\n",
       "date                                                             \n",
       "2014-05-25  119.55  118.63   90.36  114.02  95.19  113.35  105.64\n",
       "2014-06-01  120.61  119.35   90.36  113.41  95.38  112.25  105.57\n",
       "2014-06-08  121.06  118.37   90.58  113.84  94.61  112.78  105.71\n",
       "2014-06-15  121.81  119.26   90.29  115.36  95.10  114.50  104.76\n",
       "2014-06-22  121.76  119.58   90.48  115.60  94.96  114.89  105.11\n",
       "...            ...     ...     ...     ...    ...     ...     ...\n",
       "2023-11-19  101.76  100.03  111.49  102.15  73.96   99.72  100.55\n",
       "2023-11-26  102.54  100.19  111.62  102.95  73.69  100.72  100.65\n",
       "2023-12-03  103.02  101.12  112.62  103.62  74.34  102.05   99.92\n",
       "2023-12-10  102.83  100.99  113.26  103.62  76.60  101.70   98.94\n",
       "2023-12-17  103.38  102.03  113.01  103.74  77.36  101.57   99.53\n",
       "\n",
       "[500 rows x 7 columns]"
      ]
     },
     "execution_count": 745,
     "metadata": {},
     "output_type": "execute_result"
    }
   ],
   "source": [
    "eer_vals"
   ]
  },
  {
   "cell_type": "code",
   "execution_count": 108,
   "id": "ee1494ba-a429-4c15-b14f-077ec3c083fc",
   "metadata": {},
   "outputs": [
    {
     "name": "stdout",
     "output_type": "stream",
     "text": [
      "  At 90%: 27.0669, Trace Stat = 26.334654627092632\n",
      "  At 95%: 29.7961, Trace Stat = 26.334654627092632\n",
      "  At 99%: 35.4628, Trace Stat = 26.334654627092632\n",
      "  At 90%: 13.4294, Trace Stat = 7.676091331107257\n",
      "  At 95%: 15.4943, Trace Stat = 7.676091331107257\n",
      "  At 99%: 19.9349, Trace Stat = 7.676091331107257\n",
      "  At 90%: 2.7055, Trace Stat = 0.7471535183749242\n",
      "  At 95%: 3.8415, Trace Stat = 0.7471535183749242\n",
      "  At 99%: 6.6349, Trace Stat = 0.7471535183749242\n"
     ]
    }
   ],
   "source": [
    "for sym in all_trips:\n",
    "    data = eer_vals[sym[0]], eer_vals[sym[1]], eer_vals[sym[2]]\n",
    "test_result = johansen_test(pd.DataFrame(data).T)\n",
    "n = len(data)\n",
    "for i in range(n):\n",
    "    print(f\"  At 90%: {test_result.trace_stat_crit_vals[i, 0]}, Trace Stat = {test_result.trace_stat[i]}\")\n",
    "    print(f\"  At 95%: {test_result.trace_stat_crit_vals[i, 1]}, Trace Stat = {test_result.trace_stat[i]}\")\n",
    "    print(f\"  At 99%: {test_result.trace_stat_crit_vals[i, 2]}, Trace Stat = {test_result.trace_stat[i]}\")"
   ]
  },
  {
   "cell_type": "code",
   "execution_count": 115,
   "id": "d191e523-36a6-46a3-a0fe-99d48a7b08b1",
   "metadata": {},
   "outputs": [
    {
     "name": "stdout",
     "output_type": "stream",
     "text": [
      "Result: 13.4294 < 13.937368787819146\n",
      "('AU', 'CA', 'GB') cointegrates on a trip. level\n",
      "Result: 13.4294 < 19.290192302491445\n",
      "('AU', 'CA', 'NZ') cointegrates on a trip. level\n",
      "Result: 13.4294 < 17.71064339528753\n",
      "('AU', 'CA', 'XM') cointegrates on a trip. level\n",
      "Result: 13.4294 < 13.440846845315779\n",
      "('AU', 'GB', 'XM') cointegrates on a trip. level\n",
      "Result: 13.4294 < 18.203896258830596\n",
      "('AU', 'NZ', 'XM') cointegrates on a trip. level\n",
      "Result: 13.4294 < 15.570874597943478\n",
      "('CA', 'CH', 'JP') cointegrates on a trip. level\n",
      "Result: 13.4294 < 16.647381123213624\n",
      "('CA', 'GB', 'NZ') cointegrates on a trip. level\n",
      "Result: 13.4294 < 16.29832999361456\n",
      "('CA', 'GB', 'XM') cointegrates on a trip. level\n",
      "Result: 13.4294 < 23.233955281631843\n",
      "('CA', 'NZ', 'XM') cointegrates on a trip. level\n",
      "Result: 13.4294 < 14.135697301903793\n",
      "('GB', 'NZ', 'XM') cointegrates on a trip. level\n"
     ]
    }
   ],
   "source": [
    "from statsmodels.tsa.vector_ar.vecm import coint_johansen\n",
    "trip_coint_res = {}\n",
    "for sym in all_trips:\n",
    "    data = eer_vals[sym[0]], eer_vals[sym[1]], eer_vals[sym[2]]\n",
    "    test_result = johansen_test(pd.DataFrame(data).T)\n",
    "    \n",
    "    if test_result.trace_stat_crit_vals[1,0] < test_result.trace_stat[1]:\n",
    "        print(f\"Result: {test_result.trace_stat_crit_vals[1,0]} < {test_result.trace_stat[1]}\")\n",
    "        print(f\"{sym} cointegrates on a trip. level\")\n",
    "    \n",
    "    # result = johansen_test(data)"
   ]
  },
  {
   "cell_type": "code",
   "execution_count": 119,
   "id": "f50b88c8-a1b4-4100-8647-6fc67350fd87",
   "metadata": {
    "tags": []
   },
   "outputs": [
    {
     "name": "stdout",
     "output_type": "stream",
     "text": [
      "('AU', 'CA', 'NZ') has 3 cointegrating relationship(s).\n",
      "('AU', 'CA', 'XM') has 3 cointegrating relationship(s).\n",
      "('AU', 'NZ', 'XM') has 3 cointegrating relationship(s).\n",
      "('CA', 'GB', 'NZ') has 3 cointegrating relationship(s).\n",
      "('CA', 'GB', 'XM') has 3 cointegrating relationship(s).\n",
      "('CA', 'NZ', 'XM') has 3 cointegrating relationship(s).\n"
     ]
    }
   ],
   "source": [
    "trip_coint_res = {}\n",
    "for sym in all_trips:\n",
    "    data = pd.DataFrame({sym[0]: eer_vals[sym[0]], sym[1]: eer_vals[sym[1]], sym[2]: eer_vals[sym[2]]})\n",
    "    test_result = johansen_test(data)\n",
    "    \n",
    "    \n",
    "    cointegrating_relations = sum(test_result.trace_stat > test_result.trace_stat_crit_vals[:, 1])\n",
    "    if cointegrating_relations >= 3:\n",
    "        trip_coint_res[sym] = cointegrating_relations\n",
    "\n",
    "    # print(f\"{sym} shows evidence of {cointegrating_relations} cointegrating relationship(s).\")\n",
    "\n",
    "# Output results\n",
    "for trip, relations in trip_coint_res.items():\n",
    "    print(f\"{trip} has {relations} cointegrating relationship(s).\")"
   ]
  },
  {
   "cell_type": "code",
   "execution_count": 124,
   "id": "075b9ec6-835e-48e6-a2ee-3202f1e4dedc",
   "metadata": {},
   "outputs": [
    {
     "data": {
      "text/html": [
       "<div>\n",
       "<style scoped>\n",
       "    .dataframe tbody tr th:only-of-type {\n",
       "        vertical-align: middle;\n",
       "    }\n",
       "\n",
       "    .dataframe tbody tr th {\n",
       "        vertical-align: top;\n",
       "    }\n",
       "\n",
       "    .dataframe thead th {\n",
       "        text-align: right;\n",
       "    }\n",
       "</style>\n",
       "<table border=\"1\" class=\"dataframe\">\n",
       "  <thead>\n",
       "    <tr style=\"text-align: right;\">\n",
       "      <th></th>\n",
       "      <th>AU</th>\n",
       "      <th>CA</th>\n",
       "      <th>NZ</th>\n",
       "    </tr>\n",
       "  </thead>\n",
       "  <tbody>\n",
       "    <tr>\n",
       "      <th>count</th>\n",
       "      <td>501.000000</td>\n",
       "      <td>501.000000</td>\n",
       "      <td>501.000000</td>\n",
       "    </tr>\n",
       "    <tr>\n",
       "      <th>mean</th>\n",
       "      <td>106.988363</td>\n",
       "      <td>104.074631</td>\n",
       "      <td>104.420279</td>\n",
       "    </tr>\n",
       "    <tr>\n",
       "      <th>std</th>\n",
       "      <td>5.515604</td>\n",
       "      <td>4.818668</td>\n",
       "      <td>4.175869</td>\n",
       "    </tr>\n",
       "    <tr>\n",
       "      <th>min</th>\n",
       "      <td>89.110000</td>\n",
       "      <td>93.230000</td>\n",
       "      <td>95.260000</td>\n",
       "    </tr>\n",
       "    <tr>\n",
       "      <th>25%</th>\n",
       "      <td>103.110000</td>\n",
       "      <td>101.220000</td>\n",
       "      <td>101.550000</td>\n",
       "    </tr>\n",
       "    <tr>\n",
       "      <th>50%</th>\n",
       "      <td>106.460000</td>\n",
       "      <td>102.940000</td>\n",
       "      <td>103.740000</td>\n",
       "    </tr>\n",
       "    <tr>\n",
       "      <th>75%</th>\n",
       "      <td>110.230000</td>\n",
       "      <td>105.950000</td>\n",
       "      <td>106.510000</td>\n",
       "    </tr>\n",
       "    <tr>\n",
       "      <th>max</th>\n",
       "      <td>124.420000</td>\n",
       "      <td>121.550000</td>\n",
       "      <td>116.580000</td>\n",
       "    </tr>\n",
       "  </tbody>\n",
       "</table>\n",
       "</div>"
      ],
      "text/plain": [
       "               AU          CA          NZ\n",
       "count  501.000000  501.000000  501.000000\n",
       "mean   106.988363  104.074631  104.420279\n",
       "std      5.515604    4.818668    4.175869\n",
       "min     89.110000   93.230000   95.260000\n",
       "25%    103.110000  101.220000  101.550000\n",
       "50%    106.460000  102.940000  103.740000\n",
       "75%    110.230000  105.950000  106.510000\n",
       "max    124.420000  121.550000  116.580000"
      ]
     },
     "execution_count": 124,
     "metadata": {},
     "output_type": "execute_result"
    }
   ],
   "source": [
    "eer_vals[['AU', 'CA', 'NZ']].describe()"
   ]
  },
  {
   "cell_type": "markdown",
   "id": "03255baa-d462-4b52-a46a-eea9f91be978",
   "metadata": {},
   "source": [
    "## Risk Management Framework\n",
    "\n",
    "Aim is to take into account associated statistics between the two and minimise volatility whilst maximising return. Appropriate measures can include:\n",
    "- MVO or BL Portfolio\n",
    "- Correlation analysis and appropriate hedging associated "
   ]
  },
  {
   "cell_type": "code",
   "execution_count": null,
   "id": "592762c4-897e-4fb4-a459-eef7e0cf2a3d",
   "metadata": {},
   "outputs": [],
   "source": []
  },
  {
   "cell_type": "code",
   "execution_count": null,
   "id": "f1c7f2f0-8a31-44bd-83a4-662508bdd25e",
   "metadata": {},
   "outputs": [],
   "source": []
  }
 ],
 "metadata": {
  "kernelspec": {
   "display_name": "Python 3 (ipykernel)",
   "language": "python",
   "name": "python3"
  },
  "language_info": {
   "codemirror_mode": {
    "name": "ipython",
    "version": 3
   },
   "file_extension": ".py",
   "mimetype": "text/x-python",
   "name": "python",
   "nbconvert_exporter": "python",
   "pygments_lexer": "ipython3",
   "version": "3.9.12"
  }
 },
 "nbformat": 4,
 "nbformat_minor": 5
}
