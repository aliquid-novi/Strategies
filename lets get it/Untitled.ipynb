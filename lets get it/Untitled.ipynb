{
 "cells": [
  {
   "cell_type": "code",
   "execution_count": 1,
   "id": "d10d9087-a5e1-4654-ac17-1c74a9e7096f",
   "metadata": {},
   "outputs": [],
   "source": [
    "import MetaTrader5 as mt5 \n",
    "import pandas as pd\n",
    "import numpy as np\n",
    "from statsmodels.tsa.stattools import adfuller \n",
    "from datetime import datetime\n",
    "mt5.initialize()\n",
    "# Replace following with your MT5 Account Login\n",
    "account=51434456 # \n",
    "password=\"9UpBvVzc\"\n",
    "server = 'ICMarkets-Demo'\n",
    "def get_rates(pair1, timeframe, x):\n",
    "    pair1 = pd.DataFrame(mt5.copy_rates_from_pos(pair1, timeframe, 0, x))\n",
    "    pair1['time'] = pd.to_datetime(pair1['time'], unit = 's')\n",
    "    return pair1[['time','open', 'high', 'low', 'close']].set_index('time')\n",
    "\n",
    "def compute_spread(p1, p2, tf, x):\n",
    "    data1 = get_rates(p1, tf, x)\n",
    "    data2 = get_rates(p2, tf, x)\n",
    "    merged = data1.join(data2, lsuffix=\"_x\", rsuffix=\"_y\")\n",
    "    spread = merged['close_x'] - merged['close_y']\n",
    "    return spread.dropna()\n",
    "\n",
    "def adf_test(spread):\n",
    "    '''Runs ADF test on a spread series'''\n",
    "    result = adfuller(spread)\n",
    "    return {'ADF Statistic': result[0], 'p-value': result[1], 'Critical Values': result[4]}"
   ]
  },
  {
   "cell_type": "code",
   "execution_count": 14,
   "id": "18fe9acb-a702-4f61-8d65-ce802c9267c5",
   "metadata": {},
   "outputs": [],
   "source": [
    "def get_pair_correlations(symbol1, symbol2, window):\n",
    "    s1 = str(symbol1)\n",
    "    s2 = str(symbol2)\n",
    "    symbol1 = get_rates(symbol1, mt5.TIMEFRAME_D1, 5000)\n",
    "    symbol2 = get_rates(symbol2, mt5.TIMEFRAME_D1, 5000)\n",
    "\n",
    "    combined_df = pd.concat([symbol1['close'].rename(f'{s1}_close'),\n",
    "                            symbol2['close'].rename(f'{s2}_close')], axis=1)\n",
    "\n",
    "    window_size = window  # Change this to the size of the window you want\n",
    "    combined_df['rolling_corr'] = combined_df[f'{s1}_close'].rolling(window=window_size).corr(combined_df[f'{s2}_close'])\n",
    "    combined_df['spread'] = combined_df[f'{s1}_close'] - combined_df[f'{s2}_close'] \n",
    "    combined_df[f'{s1}_return'] = combined_df[f'{s1}_close'].pct_change()\n",
    "    combined_df[f'{s2}_return'] = combined_df[f'{s2}_close'].pct_change()\n",
    "    combined_df['diff'] = combined_df[f'{s1}_return'] - combined_df[f'{s2}_return']\n",
    "    combined_df['rolling_corr_returns'] = combined_df['rolling_corr'].rolling(window=window_size).corr(combined_df['diff'])\n",
    "    combined_df['rolling_var'] = combined_df['EURUSD.a_close'].rolling(window = 25).var()\n",
    "    combined_df['MA_Ratio'] = combined_df['spread'].rolling(window = 15).mean() / combined_df['spread'].rolling(window = 75).mean()\n",
    "    return combined_df.dropna()"
   ]
  },
  {
   "cell_type": "code",
   "execution_count": 15,
   "id": "a545d160-7e26-42ef-ad04-222f20607dfc",
   "metadata": {},
   "outputs": [],
   "source": [
    "EU_GU = get_pair_correlations('EURUSD.a', 'GBPUSD.a', 5)"
   ]
  },
  {
   "cell_type": "code",
   "execution_count": 16,
   "id": "161d52e6-7b88-4b20-9046-36cb60f1c42f",
   "metadata": {},
   "outputs": [],
   "source": [
    "granger_df = pd.DataFrame()\n",
    "for i in range(1,4):\n",
    "    granger_df[f'MA_Ratio_{i}'] = EU_GU['MA_Ratio'].shift(i)\n",
    "\n",
    "for i in range(6, 9):\n",
    "    granger_df[f'rolling_corr_ret_{i}'] = EU_GU['rolling_corr_returns'].shift(i)\n",
    "\n",
    "granger_df['rolling_var_3'] = EU_GU['rolling_var'].shift(3)\n",
    "granger_df['rolling_var_4'] = EU_GU['rolling_var'].shift(4)\n",
    "granger_df['spread'] = EU_GU['spread']\n",
    "granger_df = granger_df.dropna()"
   ]
  },
  {
   "cell_type": "code",
   "execution_count": 17,
   "id": "4fca33e8-ad9c-42d6-ae2f-66b9d6afe781",
   "metadata": {},
   "outputs": [],
   "source": [
    "df = granger_df"
   ]
  },
  {
   "cell_type": "code",
   "execution_count": 18,
   "id": "341a7180-34df-47ae-9fd5-96df77417fb1",
   "metadata": {},
   "outputs": [],
   "source": [
    "import warnings\n",
    "warnings.filterwarnings(\"ignore\")"
   ]
  },
  {
   "cell_type": "code",
   "execution_count": 19,
   "id": "2b41af03-f400-4741-9fdd-1dbc27dfb002",
   "metadata": {},
   "outputs": [],
   "source": [
    "from statsmodels.tsa.statespace.sarimax import SARIMAX\n",
    "from sklearn.model_selection import train_test_split\n",
    "from sklearn.metrics import mean_squared_error\n",
    "from sklearn.ensemble import RandomForestRegressor\n",
    "from sklearn.model_selection import GridSearchCV\n",
    "import pandas as pd\n",
    "import numpy as np\n",
    "\n",
    "# Assuming 'df' is the DataFrame with your data\n",
    "\n",
    "# Split the data into training and test sets\n",
    "train_df, test_df = train_test_split(df, test_size=0.2, shuffle=False)\n",
    "\n",
    "# ARIMAX Model - using p, d, q values as 1 for demonstration; these should be determined by analysis\n",
    "# Extracting the target variable and the features\n",
    "y_train = train_df['spread']\n",
    "X_train = train_df.drop('spread', axis=1)\n",
    "y_test = test_df['spread']\n",
    "X_test = test_df.drop('spread', axis=1)\n",
    "\n",
    "# Building the ARIMAX model\n",
    "arimax_model = SARIMAX(y_train, exog=X_train, order=(1, 1, 1))\n",
    "arimax_result = arimax_model.fit()\n",
    "\n",
    "# Making predictions\n",
    "arimax_predictions = arimax_result.get_forecast(steps=len(y_test), exog=X_test).predicted_mean\n",
    "arimax_mse = mean_squared_error(y_test, arimax_predictions)\n",
    "\n",
    "# Random Forest Model - Hyperparameter tuning\n",
    "rf = RandomForestRegressor(random_state=42)\n",
    "\n",
    "# Set up the parameters for grid search; these ranges are quite small for demonstration purposes\n",
    "param_grid = {\n",
    "    'n_estimators': [50, 100, 200],\n",
    "    'max_depth': [5, 10, None],\n",
    "    'min_samples_split': [2, 5],\n",
    "    'min_samples_leaf': [1, 2, 4]\n",
    "}\n",
    "\n",
    "# Perform grid search\n",
    "grid_search = GridSearchCV(estimator=rf, param_grid=param_grid, cv=3, n_jobs=-1, scoring='neg_mean_squared_error')\n",
    "grid_search.fit(X_train, y_train)\n",
    "\n",
    "# Best Random Forest model after grid search\n",
    "best_rf = grid_search.best_estimator_\n",
    "\n",
    "# Making predictions\n",
    "rf_predictions = best_rf.predict(X_test)\n",
    "rf_mse = mean_squared_error(y_test, rf_predictions)"
   ]
  },
  {
   "cell_type": "code",
   "execution_count": 20,
   "id": "c98b070f-6946-489e-a463-2afcfe957d40",
   "metadata": {},
   "outputs": [
    {
     "data": {
      "text/plain": [
       "(0.0028157274763189323,\n",
       " 0.02710045271108657,\n",
       " {'max_depth': 5,\n",
       "  'min_samples_leaf': 4,\n",
       "  'min_samples_split': 2,\n",
       "  'n_estimators': 50})"
      ]
     },
     "execution_count": 20,
     "metadata": {},
     "output_type": "execute_result"
    }
   ],
   "source": [
    "(arimax_mse, rf_mse, grid_search.best_params_)"
   ]
  },
  {
   "cell_type": "code",
   "execution_count": 22,
   "id": "214c3d7e-5607-4220-9614-06b2a868ec67",
   "metadata": {},
   "outputs": [
    {
     "data": {
      "text/plain": [
       "time\n",
       "2004-11-26   -0.56360\n",
       "2004-11-29   -0.56640\n",
       "2004-11-30   -0.58040\n",
       "2004-12-01   -0.60000\n",
       "2004-12-02   -0.59720\n",
       "               ...   \n",
       "2023-10-30   -0.15538\n",
       "2023-10-31   -0.15716\n",
       "2023-11-01   -0.15818\n",
       "2023-11-02   -0.15816\n",
       "2023-11-03   -0.16526\n",
       "Name: spread, Length: 4843, dtype: float64"
      ]
     },
     "execution_count": 22,
     "metadata": {},
     "output_type": "execute_result"
    }
   ],
   "source": [
    "df['spread']"
   ]
  },
  {
   "cell_type": "code",
   "execution_count": null,
   "id": "a05fb14d-3a52-43c4-a469-72d4a0f06707",
   "metadata": {},
   "outputs": [],
   "source": []
  }
 ],
 "metadata": {
  "kernelspec": {
   "display_name": "Python 3 (ipykernel)",
   "language": "python",
   "name": "python3"
  },
  "language_info": {
   "codemirror_mode": {
    "name": "ipython",
    "version": 3
   },
   "file_extension": ".py",
   "mimetype": "text/x-python",
   "name": "python",
   "nbconvert_exporter": "python",
   "pygments_lexer": "ipython3",
   "version": "3.9.13"
  }
 },
 "nbformat": 4,
 "nbformat_minor": 5
}
