{
 "cells": [
  {
   "cell_type": "markdown",
   "id": "a45fbbf5-9994-4b28-89de-74f4b5a464f7",
   "metadata": {},
   "source": [
    "## FTMO Challenge Algorithm \n",
    "\n",
    "### FTMO Parameters:\n",
    "- 10% DD for Phases 1, 2 and afterwards. 5% max daily drawdown\n",
    "- 10% Return for Phase 1, 5% return for Phase.\n",
    "\n",
    "### Approach:\n",
    "\n",
    "FTMO's Asset universe includes Equities, Indices, Crypto, Commodities and Forex. The following portfolio strategies will be applied to each one:\n",
    "- **Equities** : MVO. 40% of portfolio\n",
    "- **Forex** : Quantitative Allocation. 40% of portfolio\n",
    "- **Indices, Crypto and Commodities** : TAA. 20% of portfolio\n",
    "\n",
    "**Other risk management tools to implement**\n",
    "- The idea of \"swaps\" "
   ]
  },
  {
   "cell_type": "markdown",
   "id": "253b9eec-0c39-4091-95d3-de694addf2f5",
   "metadata": {
    "tags": []
   },
   "source": [
    "### Libraries"
   ]
  },
  {
   "cell_type": "code",
   "execution_count": 1,
   "id": "ae77e95e-9721-4073-b5e7-60ee6c5eb74b",
   "metadata": {},
   "outputs": [],
   "source": [
    "import MetaTrader5 as mt5 \n",
    "import pandas as pd\n",
    "import numpy as np\n",
    "from statsmodels.tsa.stattools import adfuller \n",
    "from datetime import datetime\n",
    "import requests\n",
    "import pandas as pd\n",
    "import numpy as np\n",
    "import warnings\n",
    "import json\n",
    "\n",
    "warnings.filterwarnings(\"ignore\")\n",
    "mt5.initialize()\n",
    "# Replace following with your MT5 Account Login\n",
    "account=51434456 # \n",
    "password=\"9UpBvVzc\"\n",
    "server = 'ICMarkets-Demo'\n",
    "\n",
    "def get_rates(pair1, timeframe, x):\n",
    "    pair1 = pd.DataFrame(mt5.copy_rates_from_pos(pair1, timeframe, 0, x))\n",
    "    pair1['time'] = pd.to_datetime(pair1['time'], unit = 's')\n",
    "    return pair1[['time','open', 'high', 'low', 'close']].set_index('time')"
   ]
  },
  {
   "cell_type": "markdown",
   "id": "14e4aed6-300b-4ed4-8375-1cceaecb1673",
   "metadata": {
    "tags": []
   },
   "source": [
    "# Equities"
   ]
  },
  {
   "cell_type": "code",
   "execution_count": 4,
   "id": "6d998b9e-bf43-49fd-9ccf-550855b7cd47",
   "metadata": {},
   "outputs": [],
   "source": [
    "us = ['AAPL.NAS.a', 'AMZN.NAS.a', 'BABA.NYSE.a', 'BAC.NYSE.a', 'MVRS.NAS.a', 'GOOG.NAS.a', \n",
    "      'MSFT.NAS.a', 'NVDA.NAS.a', 'PFE.NYSE.a', 'RACE.NYSE.a', 'T.NYSE.a', 'V.NYSE.a', \n",
    "      'WMT.NYSE.a', 'ZM.NAS.a', 'TSLA.NAS.a', 'NFLX.NAS.a']"
   ]
  },
  {
   "cell_type": "code",
   "execution_count": null,
   "id": "afebdade-d96d-4cd5-9a57-0648dd8d67c7",
   "metadata": {},
   "outputs": [],
   "source": [
    "mu_dict = {}"
   ]
  },
  {
   "cell_type": "code",
   "execution_count": 5,
   "id": "b0a083a4-fa7c-47b2-822e-5604f4fd7553",
   "metadata": {
    "tags": []
   },
   "outputs": [
    {
     "name": "stdout",
     "output_type": "stream",
     "text": [
      "For period 25, mu list is:\n",
      "\n",
      "AAPL.NAS.a     1.048388\n",
      "AMZN.NAS.a     1.035472\n",
      "BABA.NYSE.a    1.001748\n",
      "BAC.NYSE.a     1.105464\n",
      "MVRS.NAS.a     1.041276\n",
      "GOOG.NAS.a     1.003678\n",
      "MSFT.NAS.a     0.986654\n",
      "NVDA.NAS.a     1.044952\n",
      "PFE.NYSE.a     0.877551\n",
      "RACE.NYSE.a    0.987430\n",
      "T.NYSE.a       1.004872\n",
      "V.NYSE.a       1.012254\n",
      "WMT.NYSE.a     0.988706\n",
      "ZM.NAS.a       1.057313\n",
      "TSLA.NAS.a     1.051999\n",
      "NFLX.NAS.a     0.997780\n",
      "Name: 2023-12-15 20:00:00, dtype: float64\n",
      "For period 50, mu list is:\n",
      "\n",
      "AAPL.NAS.a     1.067741\n",
      "AMZN.NAS.a     1.053712\n",
      "BABA.NYSE.a    0.901512\n",
      "BAC.NYSE.a     1.217595\n",
      "MVRS.NAS.a     1.031956\n",
      "GOOG.NAS.a     1.000823\n",
      "MSFT.NAS.a     1.010022\n",
      "NVDA.NAS.a     1.017289\n",
      "PFE.NYSE.a     0.910208\n",
      "RACE.NYSE.a    1.049626\n",
      "T.NYSE.a       1.061776\n",
      "V.NYSE.a       1.056011\n",
      "WMT.NYSE.a     0.923448\n",
      "ZM.NAS.a       1.160704\n",
      "TSLA.NAS.a     1.193812\n",
      "NFLX.NAS.a     1.061175\n",
      "Name: 2023-12-15 20:00:00, dtype: float64\n",
      "For period 75, mu list is:\n",
      "\n",
      "AAPL.NAS.a     1.141461\n",
      "AMZN.NAS.a     1.172682\n",
      "BABA.NYSE.a    0.899336\n",
      "BAC.NYSE.a     1.317850\n",
      "MVRS.NAS.a     1.082626\n",
      "GOOG.NAS.a     0.955006\n",
      "MSFT.NAS.a     1.123067\n",
      "NVDA.NAS.a     1.122021\n",
      "PFE.NYSE.a     0.876109\n",
      "RACE.NYSE.a    1.179257\n",
      "T.NYSE.a       1.062460\n",
      "V.NYSE.a       1.097097\n",
      "WMT.NYSE.a     0.939128\n",
      "ZM.NAS.a       1.152617\n",
      "TSLA.NAS.a     1.173833\n",
      "NFLX.NAS.a     1.143660\n",
      "Name: 2023-12-15 20:00:00, dtype: float64\n"
     ]
    }
   ],
   "source": [
    "from pypfopt import expected_returns \n",
    "from pypfopt import risk_models\n",
    "## Average expected return over the 20, 50 and 75 by a 40, 40 and 20 weighting\n",
    "sym_data = {}\n",
    "periods = [25, 50, 75]\n",
    "\n",
    "for period in periods:\n",
    "    for sym in us:\n",
    "        sym_data[sym] = get_rates(sym, mt5.TIMEFRAME_H4, period)\n",
    "\n",
    "    combined_data = pd.DataFrame({name: data['close'] for name, data in sym_data.items()})\n",
    "\n",
    "    returns = combined_data.pct_change().dropna()\n",
    "    \n",
    "    mu = expected_returns.prices_from_returns(returns)\n",
    "    \n",
    "    S = risk_models.sample_cov(returns, frequency=4*6*5)\n",
    "    \n",
    "    mu_dict[period] = \n",
    "    print(f\"For period {period}, mu list is:\"\n",
    "          f\"\\n\"\n",
    "          f\"\\n{mu.iloc[-1]}\")"
   ]
  },
  {
   "cell_type": "code",
   "execution_count": 6,
   "id": "c6f793dd-64fb-4fc1-8c1e-268429db79e2",
   "metadata": {},
   "outputs": [
    {
     "ename": "TypeError",
     "evalue": "expected_returns is not a series, list or array",
     "output_type": "error",
     "traceback": [
      "\u001b[1;31m---------------------------------------------------------------------------\u001b[0m",
      "\u001b[1;31mTypeError\u001b[0m                                 Traceback (most recent call last)",
      "Input \u001b[1;32mIn [6]\u001b[0m, in \u001b[0;36m<cell line: 3>\u001b[1;34m()\u001b[0m\n\u001b[0;32m      1\u001b[0m \u001b[38;5;28;01mfrom\u001b[39;00m \u001b[38;5;21;01mpypfopt\u001b[39;00m\u001b[38;5;21;01m.\u001b[39;00m\u001b[38;5;21;01mefficient_frontier\u001b[39;00m \u001b[38;5;28;01mimport\u001b[39;00m EfficientFrontier\n\u001b[1;32m----> 3\u001b[0m ef \u001b[38;5;241m=\u001b[39m \u001b[43mEfficientFrontier\u001b[49m\u001b[43m(\u001b[49m\u001b[43mmu\u001b[49m\u001b[43m,\u001b[49m\u001b[43m \u001b[49m\u001b[43mS\u001b[49m\u001b[43m)\u001b[49m\n\u001b[0;32m      4\u001b[0m \u001b[38;5;66;03m# ef.add_objective(lambda w: w @ S @ w, target=0.02**2)  # Target volatility squared (as variance)\u001b[39;00m\n\u001b[0;32m      5\u001b[0m weights \u001b[38;5;241m=\u001b[39m ef\u001b[38;5;241m.\u001b[39mmax_sharpe()\n",
      "File \u001b[1;32m~\\anaconda3\\lib\\site-packages\\pypfopt\\efficient_frontier\\efficient_frontier.py:86\u001b[0m, in \u001b[0;36mEfficientFrontier.__init__\u001b[1;34m(self, expected_returns, cov_matrix, weight_bounds, solver, verbose, solver_options)\u001b[0m\n\u001b[0;32m     84\u001b[0m \u001b[38;5;66;03m# Inputs\u001b[39;00m\n\u001b[0;32m     85\u001b[0m \u001b[38;5;28mself\u001b[39m\u001b[38;5;241m.\u001b[39mcov_matrix \u001b[38;5;241m=\u001b[39m \u001b[38;5;28mself\u001b[39m\u001b[38;5;241m.\u001b[39m_validate_cov_matrix(cov_matrix)\n\u001b[1;32m---> 86\u001b[0m \u001b[38;5;28mself\u001b[39m\u001b[38;5;241m.\u001b[39mexpected_returns \u001b[38;5;241m=\u001b[39m \u001b[38;5;28;43mself\u001b[39;49m\u001b[38;5;241;43m.\u001b[39;49m\u001b[43m_validate_expected_returns\u001b[49m\u001b[43m(\u001b[49m\u001b[43mexpected_returns\u001b[49m\u001b[43m)\u001b[49m\n\u001b[0;32m     87\u001b[0m \u001b[38;5;28mself\u001b[39m\u001b[38;5;241m.\u001b[39m_max_return_value \u001b[38;5;241m=\u001b[39m \u001b[38;5;28;01mNone\u001b[39;00m\n\u001b[0;32m     88\u001b[0m \u001b[38;5;28mself\u001b[39m\u001b[38;5;241m.\u001b[39m_market_neutral \u001b[38;5;241m=\u001b[39m \u001b[38;5;28;01mNone\u001b[39;00m\n",
      "File \u001b[1;32m~\\anaconda3\\lib\\site-packages\\pypfopt\\efficient_frontier\\efficient_frontier.py:127\u001b[0m, in \u001b[0;36mEfficientFrontier._validate_expected_returns\u001b[1;34m(expected_returns)\u001b[0m\n\u001b[0;32m    125\u001b[0m     \u001b[38;5;28;01mreturn\u001b[39;00m expected_returns\u001b[38;5;241m.\u001b[39mravel()\n\u001b[0;32m    126\u001b[0m \u001b[38;5;28;01melse\u001b[39;00m:\n\u001b[1;32m--> 127\u001b[0m     \u001b[38;5;28;01mraise\u001b[39;00m \u001b[38;5;167;01mTypeError\u001b[39;00m(\u001b[38;5;124m\"\u001b[39m\u001b[38;5;124mexpected_returns is not a series, list or array\u001b[39m\u001b[38;5;124m\"\u001b[39m)\n",
      "\u001b[1;31mTypeError\u001b[0m: expected_returns is not a series, list or array"
     ]
    }
   ],
   "source": [
    "from pypfopt.efficient_frontier import EfficientFrontier\n",
    "\n",
    "ef = EfficientFrontier(mu, S)\n",
    "# ef.add_objective(lambda w: w @ S @ w, target=0.02**2)  # Target volatility squared (as variance)\n",
    "weights = ef.max_sharpe()\n",
    "cleaned_weights = ef.clean_weights()"
   ]
  },
  {
   "cell_type": "code",
   "execution_count": null,
   "id": "9792a587-1576-4d8b-87b7-795790131921",
   "metadata": {},
   "outputs": [],
   "source": []
  },
  {
   "cell_type": "code",
   "execution_count": null,
   "id": "1bfdf61e-8b3d-471b-b708-3ed5618b7f1a",
   "metadata": {},
   "outputs": [],
   "source": []
  },
  {
   "cell_type": "markdown",
   "id": "945c221b-1b68-449a-808e-07b3c3f86f28",
   "metadata": {},
   "source": [
    "# Forex"
   ]
  },
  {
   "cell_type": "code",
   "execution_count": null,
   "id": "b2111cc1-c65c-4e80-afc3-8827c34ab963",
   "metadata": {},
   "outputs": [],
   "source": []
  },
  {
   "cell_type": "code",
   "execution_count": null,
   "id": "aa37cf4e-865c-432f-adab-2bcea29f7bf1",
   "metadata": {},
   "outputs": [],
   "source": []
  },
  {
   "cell_type": "code",
   "execution_count": null,
   "id": "3efed03e-e163-4e0d-82a7-7decfc34257c",
   "metadata": {},
   "outputs": [],
   "source": []
  },
  {
   "cell_type": "markdown",
   "id": "780687eb-54e9-44b7-b854-f055fc3d40a5",
   "metadata": {},
   "source": [
    "# Indices, Crypto and Commodities"
   ]
  },
  {
   "cell_type": "code",
   "execution_count": null,
   "id": "b2c7885b-6e19-4b69-9d79-ca8d2f14fcf0",
   "metadata": {},
   "outputs": [],
   "source": []
  },
  {
   "cell_type": "code",
   "execution_count": null,
   "id": "79972034-5eb8-4db1-81b1-294f88949024",
   "metadata": {},
   "outputs": [],
   "source": []
  },
  {
   "cell_type": "code",
   "execution_count": null,
   "id": "734e820b-b88a-4b19-9710-1f95da7f7fa1",
   "metadata": {},
   "outputs": [],
   "source": []
  },
  {
   "cell_type": "code",
   "execution_count": null,
   "id": "1e1cac4f-45d0-4984-b601-61cd4300c5c4",
   "metadata": {},
   "outputs": [],
   "source": []
  },
  {
   "cell_type": "code",
   "execution_count": null,
   "id": "1487aec4-b67c-4bee-9e8e-93411c314242",
   "metadata": {},
   "outputs": [],
   "source": []
  },
  {
   "cell_type": "code",
   "execution_count": null,
   "id": "a60210c6-09de-433b-98be-2c996913847a",
   "metadata": {},
   "outputs": [],
   "source": []
  }
 ],
 "metadata": {
  "kernelspec": {
   "display_name": "Python 3 (ipykernel)",
   "language": "python",
   "name": "python3"
  },
  "language_info": {
   "codemirror_mode": {
    "name": "ipython",
    "version": 3
   },
   "file_extension": ".py",
   "mimetype": "text/x-python",
   "name": "python",
   "nbconvert_exporter": "python",
   "pygments_lexer": "ipython3",
   "version": "3.9.13"
  }
 },
 "nbformat": 4,
 "nbformat_minor": 5
}
