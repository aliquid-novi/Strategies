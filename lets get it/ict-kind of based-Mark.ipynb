{
 "cells": [
  {
   "cell_type": "code",
   "execution_count": 6,
   "id": "13ee967d-8a7b-4c67-85c0-07f801a7fcaf",
   "metadata": {},
   "outputs": [],
   "source": [
    "import MetaTrader5 as mt5 \n",
    "import pandas as pd\n",
    "import numpy as np\n",
    "from statsmodels.tsa.stattools import adfuller \n",
    "from datetime import datetime\n",
    "import requests\n",
    "import pandas as pd\n",
    "import numpy as np\n",
    "import warnings\n",
    "import json\n",
    "warnings.filterwarnings(\"ignore\")\n",
    "mt5.initialize()\n",
    "# Replace following with your MT5 Account Login\n",
    "account=51434456 # \n",
    "password=\"9UpBvVzc\"\n",
    "server = 'ICMarkets-Demo'\n",
    "def get_rates(pair1, timeframe, x):\n",
    "    pair1 = pd.DataFrame(mt5.copy_rates_from_pos(pair1, timeframe, 0, x))\n",
    "    pair1['time'] = pd.to_datetime(pair1['time'], unit = 's')\n",
    "    return pair1[['time','open', 'high', 'low', 'close']].set_index('time')"
   ]
  },
  {
   "cell_type": "code",
   "execution_count": 2,
   "id": "27ede201-c01a-4865-b5ab-5f5fb8b823d2",
   "metadata": {},
   "outputs": [],
   "source": [
    "import math"
   ]
  },
  {
   "cell_type": "code",
   "execution_count": 5,
   "id": "7ef0caef-3990-4e2b-840a-05f3ccae4d73",
   "metadata": {},
   "outputs": [
    {
     "data": {
      "text/plain": [
       "20"
      ]
     },
     "execution_count": 5,
     "metadata": {},
     "output_type": "execute_result"
    }
   ],
   "source": [
    "math.floor(20.5)"
   ]
  },
  {
   "cell_type": "code",
   "execution_count": 64,
   "id": "d6587b85-0ea3-4ca1-9d6f-846171e17578",
   "metadata": {},
   "outputs": [],
   "source": [
    "# To calculate dealing range LOW, divide current price by po3 number corresponding to trading style and take first two digits and multiply it by \n",
    "# the po3 number. that's your new low\n",
    "eurusd = get_rates('EURUSD.a', mt5.TIMEFRAME_H1, 500)\n",
    "\n",
    "def po3_range(name, po3):\n",
    "    sym_range = {}\n",
    "    symbol = get_rates(name + '.a', mt5.TIMEFRAME_H1, 500)\n",
    "    current_price = int(symbol['close'].iloc[-1] * 10000)\n",
    "    res = (current_price / 3**po3) \n",
    "    res = int(str(res)[:2])\n",
    "    sym_range[name + ' low'] = (res * 3**po3) / 1000 # dealing low\n",
    "    sym_range[name + ' high'] = ((res * 3**po3) + 3**po3) / 1000 # dealing high\n",
    "    return sym_range"
   ]
  },
  {
   "cell_type": "code",
   "execution_count": 66,
   "id": "01059668-7a7b-46bf-a012-d8f594843f54",
   "metadata": {},
   "outputs": [
    {
     "data": {
      "text/plain": [
       "{'EURUSD low': 1.053, 'EURUSD high': 1.134}"
      ]
     },
     "execution_count": 66,
     "metadata": {},
     "output_type": "execute_result"
    }
   ],
   "source": [
    "po3_range('EURUSD', 4) "
   ]
  },
  {
   "cell_type": "code",
   "execution_count": null,
   "id": "145cac9c-23c1-41e4-9577-bb835ac55db9",
   "metadata": {},
   "outputs": [],
   "source": []
  }
 ],
 "metadata": {
  "kernelspec": {
   "display_name": "Python 3 (ipykernel)",
   "language": "python",
   "name": "python3"
  },
  "language_info": {
   "codemirror_mode": {
    "name": "ipython",
    "version": 3
   },
   "file_extension": ".py",
   "mimetype": "text/x-python",
   "name": "python",
   "nbconvert_exporter": "python",
   "pygments_lexer": "ipython3",
   "version": "3.9.12"
  }
 },
 "nbformat": 4,
 "nbformat_minor": 5
}
