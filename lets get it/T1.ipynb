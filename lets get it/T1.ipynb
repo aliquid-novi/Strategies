{
 "cells": [
  {
   "cell_type": "markdown",
   "id": "3a492bcb-d475-45af-a469-7e2431b62f70",
   "metadata": {},
   "source": [
    "### Cointegration x Multiple Linear Regression -> Markov Chain \n",
    "\n",
    "Feed multiple linear regression output into the transitional matrix for the Markov Chain transition probabilities between states."
   ]
  },
  {
   "cell_type": "code",
   "execution_count": 31,
   "id": "a53f2be4-ef3b-4afc-9f8b-4a68fcc512ee",
   "metadata": {},
   "outputs": [],
   "source": [
    "# Libaries \n",
    "# Libraries and Modules used\n",
    "import MetaTrader5 as mt5 \n",
    "import pandas as pd\n",
    "from sklearn.linear_model import LinearRegression\n",
    "import ta\n",
    "import warnings\n",
    "warnings.filterwarnings(\"ignore\")\n",
    "import numpy as np\n",
    "# warnings.filterwarnings(\"ignore\")\n",
    "mt5.initialize()\n",
    "# Replace following with your MT5 Account Login\n",
    "account=51127988 # \n",
    "password=\"Aar2frM7\"\n",
    "server = 'ICMarkets-Demo'\n",
    "\n",
    "# Function to get rates from MT5 \n",
    "def get_rates(pair1, timeframe, x):\n",
    "    pair1 = pd.DataFrame(mt5.copy_rates_from_pos(pair1, timeframe, 0, x))\n",
    "    pair1['time'] = pd.to_datetime(pair1['time'], unit = 's')\n",
    "    return pair1['close']"
   ]
  },
  {
   "cell_type": "markdown",
   "id": "9afa11d0-e94e-4eab-b6f7-102586fc64b5",
   "metadata": {},
   "source": [
    "### Cointegration Code"
   ]
  },
  {
   "cell_type": "markdown",
   "id": "c59f9866-f123-4b9e-b48a-34f183b7a4fe",
   "metadata": {},
   "source": [
    "### Multiple Linear Regression "
   ]
  },
  {
   "cell_type": "markdown",
   "id": "1a74a1ba-5862-4187-b7a1-c45f9a961e0e",
   "metadata": {},
   "source": [
    "### Markov Chain"
   ]
  },
  {
   "cell_type": "code",
   "execution_count": 133,
   "id": "5fe4a137-eb62-4a3e-bb04-21684a797b80",
   "metadata": {},
   "outputs": [],
   "source": [
    "class MarkovChain:\n",
    "    \n",
    "    # Adjust Accordingly \n",
    "    def __init__(self, price_data):\n",
    "        self.data = pd.DataFrame(price_data)\n",
    "        self.states = ['s_bull', 'w_bull', 'w_bear', 's_bear']\n",
    "    \n",
    "    def compute_returns(self):\n",
    "        self.data['returns'] = self.data['close'].pct_change()\n",
    "        \n",
    "    # Temporary states, to amend to more sophisticated/specific states\n",
    "    def classify_state(self, ret):\n",
    "        if ret > 0.01:\n",
    "            return 's_bull'\n",
    "        elif ret > 0.003 and ret < 0.01:\n",
    "            return 'w_bull'\n",
    "        elif ret < 0.002 and ret > -0.002:\n",
    "            return 'doji'\n",
    "        elif ret < -0.003 and ret > -0.01:\n",
    "            return 'w_bear'\n",
    "        else:\n",
    "            return 's_bear'\n",
    "        \n",
    "    def classify_states(self):\n",
    "        self.data['state'] = self.data['returns'].apply(self.classify_state)\n",
    "\n",
    "    # def transition_matrix(self):\n",
    "    "
   ]
  },
  {
   "cell_type": "code",
   "execution_count": 134,
   "id": "b0969d82-cabe-4064-bb17-e9c03336807a",
   "metadata": {},
   "outputs": [
    {
     "data": {
      "text/plain": [
       "0      1.16066\n",
       "1      1.15793\n",
       "2      1.16127\n",
       "3      1.15545\n",
       "4      1.15675\n",
       "        ...   \n",
       "495    1.05719\n",
       "496    1.05031\n",
       "497    1.05661\n",
       "498    1.05732\n",
       "499    1.05700\n",
       "Name: close, Length: 500, dtype: float64"
      ]
     },
     "execution_count": 134,
     "metadata": {},
     "output_type": "execute_result"
    }
   ],
   "source": [
    "data = get_rates(\"EURUSD.a\", mt5.TIMEFRAME_D1, 500)\n",
    "data"
   ]
  },
  {
   "cell_type": "code",
   "execution_count": 135,
   "id": "668d62d8-1a79-4ded-86aa-bb846ac48863",
   "metadata": {},
   "outputs": [
    {
     "data": {
      "text/html": [
       "<div>\n",
       "<style scoped>\n",
       "    .dataframe tbody tr th:only-of-type {\n",
       "        vertical-align: middle;\n",
       "    }\n",
       "\n",
       "    .dataframe tbody tr th {\n",
       "        vertical-align: top;\n",
       "    }\n",
       "\n",
       "    .dataframe thead th {\n",
       "        text-align: right;\n",
       "    }\n",
       "</style>\n",
       "<table border=\"1\" class=\"dataframe\">\n",
       "  <thead>\n",
       "    <tr style=\"text-align: right;\">\n",
       "      <th></th>\n",
       "      <th>close</th>\n",
       "      <th>returns</th>\n",
       "      <th>state</th>\n",
       "    </tr>\n",
       "  </thead>\n",
       "  <tbody>\n",
       "    <tr>\n",
       "      <th>0</th>\n",
       "      <td>1.16066</td>\n",
       "      <td>NaN</td>\n",
       "      <td>s_bear</td>\n",
       "    </tr>\n",
       "    <tr>\n",
       "      <th>1</th>\n",
       "      <td>1.15793</td>\n",
       "      <td>-0.002352</td>\n",
       "      <td>s_bear</td>\n",
       "    </tr>\n",
       "    <tr>\n",
       "      <th>2</th>\n",
       "      <td>1.16127</td>\n",
       "      <td>0.002884</td>\n",
       "      <td>s_bear</td>\n",
       "    </tr>\n",
       "    <tr>\n",
       "      <th>3</th>\n",
       "      <td>1.15545</td>\n",
       "      <td>-0.005012</td>\n",
       "      <td>w_bear</td>\n",
       "    </tr>\n",
       "    <tr>\n",
       "      <th>4</th>\n",
       "      <td>1.15675</td>\n",
       "      <td>0.001125</td>\n",
       "      <td>doji</td>\n",
       "    </tr>\n",
       "    <tr>\n",
       "      <th>...</th>\n",
       "      <td>...</td>\n",
       "      <td>...</td>\n",
       "      <td>...</td>\n",
       "    </tr>\n",
       "    <tr>\n",
       "      <th>495</th>\n",
       "      <td>1.05719</td>\n",
       "      <td>-0.001907</td>\n",
       "      <td>doji</td>\n",
       "    </tr>\n",
       "    <tr>\n",
       "      <th>496</th>\n",
       "      <td>1.05031</td>\n",
       "      <td>-0.006508</td>\n",
       "      <td>w_bear</td>\n",
       "    </tr>\n",
       "    <tr>\n",
       "      <th>497</th>\n",
       "      <td>1.05661</td>\n",
       "      <td>0.005998</td>\n",
       "      <td>w_bull</td>\n",
       "    </tr>\n",
       "    <tr>\n",
       "      <th>498</th>\n",
       "      <td>1.05732</td>\n",
       "      <td>0.000672</td>\n",
       "      <td>doji</td>\n",
       "    </tr>\n",
       "    <tr>\n",
       "      <th>499</th>\n",
       "      <td>1.05700</td>\n",
       "      <td>-0.000303</td>\n",
       "      <td>doji</td>\n",
       "    </tr>\n",
       "  </tbody>\n",
       "</table>\n",
       "<p>500 rows × 3 columns</p>\n",
       "</div>"
      ],
      "text/plain": [
       "       close   returns   state\n",
       "0    1.16066       NaN  s_bear\n",
       "1    1.15793 -0.002352  s_bear\n",
       "2    1.16127  0.002884  s_bear\n",
       "3    1.15545 -0.005012  w_bear\n",
       "4    1.15675  0.001125    doji\n",
       "..       ...       ...     ...\n",
       "495  1.05719 -0.001907    doji\n",
       "496  1.05031 -0.006508  w_bear\n",
       "497  1.05661  0.005998  w_bull\n",
       "498  1.05732  0.000672    doji\n",
       "499  1.05700 -0.000303    doji\n",
       "\n",
       "[500 rows x 3 columns]"
      ]
     },
     "execution_count": 135,
     "metadata": {},
     "output_type": "execute_result"
    }
   ],
   "source": [
    "a = MarkovChain(data)\n",
    "a.compute_returns()\n",
    "a.classify_states()\n",
    "a.data"
   ]
  },
  {
   "cell_type": "code",
   "execution_count": null,
   "id": "f0e7e6f3-2c72-4ad9-9a7d-57fa789073f2",
   "metadata": {},
   "outputs": [],
   "source": []
  },
  {
   "cell_type": "code",
   "execution_count": null,
   "id": "fbc1e834-5ea3-4b50-8e6d-f21597c66c43",
   "metadata": {},
   "outputs": [],
   "source": []
  }
 ],
 "metadata": {
  "kernelspec": {
   "display_name": "Python 3 (ipykernel)",
   "language": "python",
   "name": "python3"
  },
  "language_info": {
   "codemirror_mode": {
    "name": "ipython",
    "version": 3
   },
   "file_extension": ".py",
   "mimetype": "text/x-python",
   "name": "python",
   "nbconvert_exporter": "python",
   "pygments_lexer": "ipython3",
   "version": "3.9.13"
  }
 },
 "nbformat": 4,
 "nbformat_minor": 5
}
