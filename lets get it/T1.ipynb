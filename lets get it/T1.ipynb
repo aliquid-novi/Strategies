{
 "cells": [
  {
   "cell_type": "markdown",
   "id": "3a492bcb-d475-45af-a469-7e2431b62f70",
   "metadata": {},
   "source": [
    "### Cointegration x Multiple Linear Regression -> Markov Chain \n",
    "\n",
    "Feed multiple linear regression output into the transitional matrix for the Markov Chain transition probabilities between states."
   ]
  },
  {
   "cell_type": "code",
   "execution_count": 31,
   "id": "a53f2be4-ef3b-4afc-9f8b-4a68fcc512ee",
   "metadata": {},
   "outputs": [],
   "source": [
    "# Libaries \n",
    "# Libraries and Modules used\n",
    "import MetaTrader5 as mt5 \n",
    "import pandas as pd\n",
    "from sklearn.linear_model import LinearRegression\n",
    "import ta\n",
    "import warnings\n",
    "warnings.filterwarnings(\"ignore\")\n",
    "import numpy as np\n",
    "# warnings.filterwarnings(\"ignore\")\n",
    "mt5.initialize()\n",
    "# Replace following with your MT5 Account Login\n",
    "account=51127988 # \n",
    "password=\"Aar2frM7\"\n",
    "server = 'ICMarkets-Demo'\n",
    "\n",
    "# Function to get rates from MT5 \n",
    "def get_rates(pair1, timeframe, x):\n",
    "    pair1 = pd.DataFrame(mt5.copy_rates_from_pos(pair1, timeframe, 0, x))\n",
    "    pair1['time'] = pd.to_datetime(pair1['time'], unit = 's')\n",
    "    return pair1['close']"
   ]
  },
  {
   "cell_type": "markdown",
   "id": "9afa11d0-e94e-4eab-b6f7-102586fc64b5",
   "metadata": {},
   "source": [
    "### Cointegration Code"
   ]
  },
  {
   "cell_type": "markdown",
   "id": "c59f9866-f123-4b9e-b48a-34f183b7a4fe",
   "metadata": {},
   "source": [
    "### Multiple Linear Regression "
   ]
  },
  {
   "cell_type": "markdown",
   "id": "1a74a1ba-5862-4187-b7a1-c45f9a961e0e",
   "metadata": {},
   "source": [
    "### Markov Chain"
   ]
  },
  {
   "cell_type": "code",
   "execution_count": 66,
   "id": "5fe4a137-eb62-4a3e-bb04-21684a797b80",
   "metadata": {},
   "outputs": [],
   "source": [
    "class MarkovChain:\n",
    "    \n",
    "    # Adjust Accordingly \n",
    "    def __init__(self, price_data):\n",
    "        self.data = pd.DataFrame(price_data)\n",
    "        self.states = ['s_bull', 'w_bull', 'w_bear', 's_bear']\n",
    "        self.returns\n",
    "    \n",
    "    # Need to make code create a new column of returns on the following function \n",
    "    def get_return(self):\n",
    "        self['returns'] = self.data['close'].pct_change()\n",
    "    \n",
    "    # Temporary states, to amend to more sophisticated/specific states\n",
    "    def classify_state(self, ret):\n",
    "        if ret > 0.035:\n",
    "            self.state = 's_bull'\n",
    "        elif ret > 0.02 and ret < 0.034:\n",
    "            self.state = 'w_bull'\n",
    "        elif ret < -0.2 and ret > -0.034:\n",
    "            self.state = 'w_bear',\n",
    "        else:\n",
    "            self.state = 's_bear'\n",
    "            \n",
    "    def transition_matrix(self):\n",
    "    \n",
    "    "
   ]
  },
  {
   "cell_type": "code",
   "execution_count": 64,
   "id": "b0969d82-cabe-4064-bb17-e9c03336807a",
   "metadata": {},
   "outputs": [],
   "source": [
    "data = get_rates(\"EURUSD.a\", mt5.TIMEFRAME_D1, 500)"
   ]
  },
  {
   "cell_type": "code",
   "execution_count": 65,
   "id": "668d62d8-1a79-4ded-86aa-bb846ac48863",
   "metadata": {},
   "outputs": [
    {
     "ename": "TypeError",
     "evalue": "'MarkovChain' object does not support item assignment",
     "output_type": "error",
     "traceback": [
      "\u001b[1;31m---------------------------------------------------------------------------\u001b[0m",
      "\u001b[1;31mTypeError\u001b[0m                                 Traceback (most recent call last)",
      "Cell \u001b[1;32mIn[65], line 1\u001b[0m\n\u001b[1;32m----> 1\u001b[0m a \u001b[38;5;241m=\u001b[39m \u001b[43mMarkovChain\u001b[49m\u001b[43m(\u001b[49m\u001b[43mdata\u001b[49m\u001b[43m)\u001b[49m\n\u001b[0;32m      2\u001b[0m a\u001b[38;5;241m.\u001b[39mget_return\n\u001b[0;32m      3\u001b[0m a\u001b[38;5;241m.\u001b[39mdata\n",
      "Cell \u001b[1;32mIn[63], line 6\u001b[0m, in \u001b[0;36mMarkovChain.__init__\u001b[1;34m(self, price_data)\u001b[0m\n\u001b[0;32m      4\u001b[0m \u001b[38;5;28mself\u001b[39m\u001b[38;5;241m.\u001b[39mdata \u001b[38;5;241m=\u001b[39m pd\u001b[38;5;241m.\u001b[39mDataFrame(price_data)\n\u001b[0;32m      5\u001b[0m \u001b[38;5;28mself\u001b[39m\u001b[38;5;241m.\u001b[39mstates \u001b[38;5;241m=\u001b[39m [\u001b[38;5;124m'\u001b[39m\u001b[38;5;124ms_bull\u001b[39m\u001b[38;5;124m'\u001b[39m, \u001b[38;5;124m'\u001b[39m\u001b[38;5;124mw_bull\u001b[39m\u001b[38;5;124m'\u001b[39m, \u001b[38;5;124m'\u001b[39m\u001b[38;5;124mw_bear\u001b[39m\u001b[38;5;124m'\u001b[39m, \u001b[38;5;124m'\u001b[39m\u001b[38;5;124ms_bear\u001b[39m\u001b[38;5;124m'\u001b[39m]\n\u001b[1;32m----> 6\u001b[0m \u001b[38;5;28mself\u001b[39m\u001b[38;5;241m.\u001b[39mreturns \u001b[38;5;241m=\u001b[39m \u001b[38;5;28;43mself\u001b[39;49m\u001b[38;5;241;43m.\u001b[39;49m\u001b[43mget_return\u001b[49m\u001b[43m(\u001b[49m\u001b[43m)\u001b[49m\n",
      "Cell \u001b[1;32mIn[63], line 9\u001b[0m, in \u001b[0;36mMarkovChain.get_return\u001b[1;34m(self)\u001b[0m\n\u001b[0;32m      8\u001b[0m \u001b[38;5;28;01mdef\u001b[39;00m \u001b[38;5;21mget_return\u001b[39m(\u001b[38;5;28mself\u001b[39m):\n\u001b[1;32m----> 9\u001b[0m     \u001b[38;5;28mself\u001b[39m[\u001b[38;5;124m'\u001b[39m\u001b[38;5;124mreturns\u001b[39m\u001b[38;5;124m'\u001b[39m] \u001b[38;5;241m=\u001b[39m \u001b[38;5;28mself\u001b[39m\u001b[38;5;241m.\u001b[39mdata[\u001b[38;5;124m'\u001b[39m\u001b[38;5;124mclose\u001b[39m\u001b[38;5;124m'\u001b[39m]\u001b[38;5;241m.\u001b[39mpct_change()\n",
      "\u001b[1;31mTypeError\u001b[0m: 'MarkovChain' object does not support item assignment"
     ]
    }
   ],
   "source": [
    "a = MarkovChain(data)\n",
    "a.get_return\n",
    "a.data"
   ]
  },
  {
   "cell_type": "code",
   "execution_count": null,
   "id": "f0e7e6f3-2c72-4ad9-9a7d-57fa789073f2",
   "metadata": {},
   "outputs": [],
   "source": []
  }
 ],
 "metadata": {
  "kernelspec": {
   "display_name": "Python 3 (ipykernel)",
   "language": "python",
   "name": "python3"
  },
  "language_info": {
   "codemirror_mode": {
    "name": "ipython",
    "version": 3
   },
   "file_extension": ".py",
   "mimetype": "text/x-python",
   "name": "python",
   "nbconvert_exporter": "python",
   "pygments_lexer": "ipython3",
   "version": "3.9.13"
  }
 },
 "nbformat": 4,
 "nbformat_minor": 5
}
