{
 "cells": [
  {
   "cell_type": "code",
   "execution_count": 28,
   "id": "8e554905-3bf9-434b-8b11-e70a239e5fe4",
   "metadata": {},
   "outputs": [],
   "source": [
    "import MetaTrader5 as mt5 \n",
    "import pandas as pd\n",
    "import numpy as np\n",
    "from statsmodels.tsa.stattools import adfuller \n",
    "from datetime import datetime\n",
    "import requests\n",
    "import pandas as pd\n",
    "import numpy as np\n",
    "import warnings\n",
    "import json\n",
    "warnings.filterwarnings(\"ignore\")\n",
    "mt5.initialize()\n",
    "# Replace following with your MT5 Account Login\n",
    "account=51434456 # \n",
    "password=\"9UpBvVzc\"\n",
    "server = 'ICMarkets-Demo'\n",
    "\n",
    "def get_rates(pair1, timeframe, x):\n",
    "    pair1 = pd.DataFrame(mt5.copy_rates_from_pos(pair1, timeframe, 0, x))\n",
    "    pair1['time'] = pd.to_datetime(pair1['time'], unit = 's')\n",
    "    return pair1[['time','open', 'high', 'low', 'close']].set_index('time')"
   ]
  },
  {
   "cell_type": "code",
   "execution_count": 4,
   "id": "36866c12-5361-4226-8630-1d9dffbee556",
   "metadata": {},
   "outputs": [
    {
     "name": "stdout",
     "output_type": "stream",
     "text": [
      "Getting AUDUSD.a's rates\n",
      "Getting USDCAD.a's rates\n",
      "Getting USDCHF.a's rates\n",
      "Getting GBPUSD.a's rates\n",
      "Getting USDJPY.a's rates\n",
      "Getting NZDUSD.a's rates\n",
      "Getting EURUSD.a's rates\n"
     ]
    }
   ],
   "source": [
    "import requests\n",
    "import xml.etree.ElementTree as ET\n",
    "import pandas as pd\n",
    "\n",
    "combined_dfs = {}\n",
    "\n",
    "# Define the base URL for the BIS Stats API\n",
    "base_url = 'https://stats.bis.org/api/v1'\n",
    "\n",
    "count_codes = [['AUDUSD.a','AU'], ['USDCAD.a', 'CA'],\n",
    "               ['USDCHF.a','CH'], ['GBPUSD.a', 'GB'],\n",
    "               ['USDJPY.a', 'JP'], ['NZDUSD.a', 'NZ'], \n",
    "               ['EURUSD.a', 'XM']]\n",
    "\n",
    "for country in count_codes:\n",
    "\n",
    "    # Define the endpoint parameters\n",
    "    flow = 'BIS,WS_EER_D,1.0'  # Example: Version 1.0 of the WS_EER_M domain, maintained by the BIS\n",
    "    key = f'D.N.N.{country[1]}'\n",
    "    start_period = '2000'  # Example: Start year 2000\n",
    "    end_period = '2023'  # Example: End year 2020\n",
    "    detail = 'full'  # Example: All data and documentation\n",
    "\n",
    "    # Construct the endpoint URL\n",
    "    endpoint_url = f'{base_url}/data/{flow}/{key}/all'\n",
    "\n",
    "    # Define the query parameters\n",
    "    query_params = {\n",
    "        'startPeriod': start_period,\n",
    "        'endPeriod': end_period,\n",
    "        'detail': detail\n",
    "    }\n",
    "\n",
    "    # Make the GET request\n",
    "    response = requests.get(endpoint_url, params=query_params)\n",
    "\n",
    "    # Check for a successful response\n",
    "    if response.status_code == 200:\n",
    "        # Assign the text of the response to xml_data\n",
    "        xml_data = response.text\n",
    "\n",
    "        # Parse the XML data\n",
    "        root = ET.fromstring(xml_data)\n",
    "\n",
    "        # Initialize empty lists to store the data\n",
    "        time_periods = []\n",
    "        obs_values = []\n",
    "\n",
    "        # Iterate through the XML and extract the desired information\n",
    "        for obs in root.findall(\".//Obs\"):\n",
    "            time_period = obs.get('TIME_PERIOD')\n",
    "            obs_value = obs.get('OBS_VALUE')\n",
    "            time_periods.append(time_period)\n",
    "            obs_values.append(obs_value)\n",
    "\n",
    "        # Create a DataFrame\n",
    "        df = pd.DataFrame({\n",
    "            'Time_Period': time_periods,\n",
    "            'OBS_Value': obs_values\n",
    "        })\n",
    "\n",
    "        df['OBS_Value'] = df['OBS_Value'].replace('NaN', np.nan)\n",
    "        # Drop rows with NaN values\n",
    "        df.dropna(subset=['OBS_Value'], inplace=True)\n",
    "        df['OBS_Value'] = df['OBS_Value'].astype(float)\n",
    "        df['Time_Period'] = pd.to_datetime(df['Time_Period'])\n",
    "        \n",
    "        df = df.set_index('Time_Period')\n",
    "        print(f\"Getting {country[0]}'s rates\")\n",
    "        rates = get_rates(country[0], mt5.TIMEFRAME_D1, 2500)\n",
    "        \n",
    "        combined = pd.concat([df[-len(rates):], rates['close']], join = 'outer', axis = 1)\n",
    "        \n",
    "        combined_dfs[country[1]] = combined.dropna()\n",
    "\n",
    "    else:\n",
    "        print(f'Failed to retrieve data: {response.status_code}')"
   ]
  },
  {
   "cell_type": "code",
   "execution_count": 5,
   "id": "8da3de7a-c713-4fb2-b42c-434ee7ff11c3",
   "metadata": {},
   "outputs": [
    {
     "data": {
      "text/plain": [
       "OBS_Value    103.38000\n",
       "close          0.66199\n",
       "Name: 2023-12-04 00:00:00, dtype: float64"
      ]
     },
     "execution_count": 5,
     "metadata": {},
     "output_type": "execute_result"
    }
   ],
   "source": [
    "combined_dfs['AU'].iloc[-1]"
   ]
  },
  {
   "cell_type": "code",
   "execution_count": 7,
   "id": "637738ae-9c2f-4b94-b2b8-1ab37478701e",
   "metadata": {},
   "outputs": [],
   "source": [
    "# Compute Expected Returns\n",
    "weekly_dfs = {}\n",
    "features = ['OBS_Value', 'close']\n",
    "\n",
    "for name, dfs in combined_dfs.items():\n",
    "    df = combined_dfs[name]\n",
    "    # Assuming 'df' is your DataFrame\n",
    "    df['date'] = pd.to_datetime(df.index)\n",
    "    df.set_index('date', inplace=True)\n",
    "\n",
    "    # Resample to get the last value of each week\n",
    "    weekly = df.resample('W').last()\n",
    "    weekly_dfs[name] = weekly\n",
    "\n",
    "for df in weekly_dfs.values():\n",
    "    df['EER_ret'] = df['OBS_Value'].pct_change()"
   ]
  },
  {
   "cell_type": "code",
   "execution_count": 8,
   "id": "3f1def98-b69a-4cf5-ae2e-2256901332c9",
   "metadata": {},
   "outputs": [
    {
     "name": "stdout",
     "output_type": "stream",
     "text": [
      "0.0034944670937682165\n",
      "0.00029667721518977785\n",
      "0.004794885455513986\n",
      "0.0019301293186642088\n",
      "0.009685230024212954\n",
      "0.0013718765311121484\n",
      "-0.0030024019215372233\n"
     ]
    }
   ],
   "source": [
    "for df in weekly_dfs.values():\n",
    "    print(df['EER_ret'].iloc[-1])"
   ]
  },
  {
   "cell_type": "code",
   "execution_count": 9,
   "id": "050f8e40-1fc1-4fa2-819b-a63a407789f2",
   "metadata": {},
   "outputs": [],
   "source": [
    "last_update = {}\n",
    "\n",
    "for name, df in weekly_dfs.items():\n",
    "    last_update[name] = df['EER_ret'].iloc[-1]"
   ]
  },
  {
   "cell_type": "code",
   "execution_count": 10,
   "id": "d7cc9a3d-ec1e-41ad-b0e2-ba7bd99684e3",
   "metadata": {},
   "outputs": [],
   "source": [
    "last_update.keys()\n",
    "symbols = ['AUDUSD.a', 'USDCAD.a', 'USDCHF.a', 'GBPUSD.a', 'USDJPY.a', 'NZDUSD.a', 'EURUSD.a']\n",
    "\n",
    "last_update = {symbols[i]: value for i, (key, value) in enumerate(last_update.items())}"
   ]
  },
  {
   "cell_type": "code",
   "execution_count": 15,
   "id": "bc347626-7bf5-48a1-9ea6-d977d6dee598",
   "metadata": {
    "jupyter": {
     "source_hidden": true
    },
    "tags": []
   },
   "outputs": [],
   "source": [
    "def send_order(symbol, side, lot, comment):\n",
    "    \n",
    "    if side.lower() == 'sell':\n",
    "        order_type = mt5.ORDER_TYPE_SELL\n",
    "        price = mt5.symbol_info_tick(symbol).bid\n",
    "    elif side.lower() == 'buy':\n",
    "        order_type = mt5.ORDER_TYPE_BUY\n",
    "        price = mt5.symbol_info_tick(symbol).ask\n",
    "    \n",
    "    request = {\n",
    "        \"action\": mt5.TRADE_ACTION_DEAL,\n",
    "        \"symbol\": symbol,\n",
    "        \"volume\": lot,\n",
    "        \"type\": order_type,\n",
    "        \"price\": price,\n",
    "        \"deviation\": 5,\n",
    "        \"magic\": 234000,\n",
    "        \"comment\": comment,\n",
    "        \"type_time\": mt5.ORDER_TIME_GTC,\n",
    "        \"type_filling\": mt5.ORDER_FILLING_IOC,\n",
    "    }\n",
    "    result = mt5.order_send(request)\n",
    "    result"
   ]
  },
  {
   "cell_type": "code",
   "execution_count": 19,
   "id": "b32970a5-0261-4028-86cc-9965ef7de1a7",
   "metadata": {},
   "outputs": [
    {
     "data": {
      "text/plain": [
       "{'AUDUSD.a': 0.0034944670937682165,\n",
       " 'USDCAD.a': 0.00029667721518977785,\n",
       " 'USDCHF.a': 0.004794885455513986,\n",
       " 'GBPUSD.a': 0.0019301293186642088,\n",
       " 'USDJPY.a': 0.009685230024212954,\n",
       " 'NZDUSD.a': 0.0013718765311121484,\n",
       " 'EURUSD.a': -0.0030024019215372233}"
      ]
     },
     "execution_count": 19,
     "metadata": {},
     "output_type": "execute_result"
    }
   ],
   "source": [
    "last_update"
   ]
  },
  {
   "cell_type": "code",
   "execution_count": 27,
   "id": "09ffc977-74d7-4513-8eac-3ce39bb34fe1",
   "metadata": {},
   "outputs": [
    {
     "name": "stdout",
     "output_type": "stream",
     "text": [
      "Looping through USDCAD.a\n",
      "Selling USDCAD.a\n",
      "Looping through USDCHF.a\n",
      "Selling USDCHF.a\n",
      "Looping through USDJPY.a\n",
      "Selling USDJPY.a\n"
     ]
    }
   ],
   "source": [
    "for symbol, value in last_update.items():\n",
    "    if symbol[:3] == 'USD':\n",
    "        print(f\"Looping through {symbol}\")\n",
    "        if value > 0:\n",
    "            send_order(symbol, 'sell', 1.00, 'EER')\n",
    "            print(f\"Selling {symbol}\")\n",
    "        else:\n",
    "            send_order(symbol, 'buy', 1.00, 'EER')\n",
    "    else:\n",
    "        if value > 0:\n",
    "            send_order(symbol, 'buy', 1.00, 'EER')\n",
    "        else:\n",
    "            send_order(symbol, 'sell', 1.00, 'EER')"
   ]
  },
  {
   "cell_type": "code",
   "execution_count": 21,
   "id": "d49a2cfd-aeb7-4923-957d-e32dbe5301e1",
   "metadata": {
    "jupyter": {
     "source_hidden": true
    },
    "tags": []
   },
   "outputs": [],
   "source": [
    "def close_position(position):\n",
    "\n",
    "    tick = mt5.symbol_info_tick(position.symbol)\n",
    "\n",
    "    request = {\n",
    "        \"action\" : mt5.TRADE_ACTION_DEAL,\n",
    "        \"position\": position.ticket,\n",
    "        \"symbol\": position.symbol,\n",
    "        \"volume\": position.volume,\n",
    "        \"type\": mt5.ORDER_TYPE_BUY if position.type == 1 else mt5.ORDER_TYPE_SELL,\n",
    "        \"price\": tick.ask if position.type == 1 else tick.bid,\n",
    "        \"deviation\": 20,\n",
    "        \"magic\": 100,\n",
    "        \"comment\": 'Regres Close',\n",
    "        'type_time': mt5.ORDER_TIME_GTC,\n",
    "        'type_filling':mt5.ORDER_FILLING_IOC,\n",
    "\n",
    "        }\n",
    "    result = mt5.order_send(request)\n",
    "    \n",
    "def close_all():\n",
    "    close_positions = []\n",
    "    open_positions = mt5.positions_get()\n",
    "    open_positions\n",
    "    for i in open_positions:\n",
    "        close_positions.append(i)\n",
    "        \n",
    "    for pos in close_positions:\n",
    "        close_position(pos)"
   ]
  },
  {
   "cell_type": "code",
   "execution_count": 22,
   "id": "fffdff86-a945-47c5-8e0d-0928b8813663",
   "metadata": {},
   "outputs": [],
   "source": [
    "close_all()"
   ]
  },
  {
   "cell_type": "code",
   "execution_count": null,
   "id": "9c87d7a1-1790-4852-aa4b-06c9b5660276",
   "metadata": {},
   "outputs": [],
   "source": []
  },
  {
   "cell_type": "code",
   "execution_count": 38,
   "id": "15fe6e08-8d90-45b8-839b-5ccab71019af",
   "metadata": {},
   "outputs": [],
   "source": [
    "# Work on automating it "
   ]
  },
  {
   "cell_type": "code",
   "execution_count": null,
   "id": "1973d636-c4d0-448f-a887-8f580d33751e",
   "metadata": {},
   "outputs": [],
   "source": []
  },
  {
   "cell_type": "markdown",
   "id": "7193a304-0971-479f-a0bf-a5fcf51a7646",
   "metadata": {},
   "source": [
    "## Research\n",
    "\n",
    "Analyzing the relationship of EER data and close prices. "
   ]
  },
  {
   "cell_type": "code",
   "execution_count": 46,
   "id": "7482aabc-60fb-4206-9c25-0ffbe54a44db",
   "metadata": {},
   "outputs": [],
   "source": [
    "for df in weekly_dfs.values():\n",
    "    df['ret'] = df['close'].pct_change()\n",
    "    df['ret_diff'] = df['EER_ret'] - df['ret']\n",
    "    df = df.dropna()"
   ]
  },
  {
   "cell_type": "code",
   "execution_count": 45,
   "id": "c2103158-3c2e-4ed0-97d7-3d55b56a1cef",
   "metadata": {},
   "outputs": [
    {
     "name": "stdout",
     "output_type": "stream",
     "text": [
      "EER Correlation with AU is: - 0.789959411588927\n",
      "EER Correlation with CA is: - -0.8025088045215404\n",
      "EER Correlation with CH is: - -0.6988886637344842\n",
      "EER Correlation with GB is: - 0.6875061468615474\n",
      "EER Correlation with JP is: - -0.8166462412374796\n",
      "EER Correlation with NZ is: - 0.7756967406755285\n",
      "EER Correlation with XM is: - 0.7542138061921932\n"
     ]
    }
   ],
   "source": [
    "for name, df in weekly_dfs.items():\n",
    "    print(f\"EER Correlation with {name} is: - {df['EER_ret'].corr(df['ret'])}\")"
   ]
  },
  {
   "cell_type": "code",
   "execution_count": 49,
   "id": "72aa1e6e-873f-4fc9-af82-5c6075060ef2",
   "metadata": {},
   "outputs": [
    {
     "data": {
      "text/plain": [
       "count    500.000000\n",
       "mean       0.000330\n",
       "std        0.009013\n",
       "min       -0.053037\n",
       "25%       -0.005043\n",
       "50%        0.000351\n",
       "75%        0.005571\n",
       "max        0.033373\n",
       "Name: ret_diff, dtype: float64"
      ]
     },
     "execution_count": 49,
     "metadata": {},
     "output_type": "execute_result"
    }
   ],
   "source": [
    "weekly_dfs['AU']['ret_diff'].describe()"
   ]
  },
  {
   "cell_type": "code",
   "execution_count": null,
   "id": "7799a61c-4854-4258-aa0d-6a6249d5090a",
   "metadata": {},
   "outputs": [],
   "source": []
  },
  {
   "cell_type": "markdown",
   "id": "03255baa-d462-4b52-a46a-eea9f91be978",
   "metadata": {},
   "source": [
    "## Risk Management Framework\n",
    "\n",
    "Aim is to take into account associated statistics between the two and minimise volatility whilst maximising return. Appropriate measures can include:\n",
    "- MVO or BL Portfolio\n",
    "- Correlation analysis and appropriate hedging associated "
   ]
  },
  {
   "cell_type": "code",
   "execution_count": null,
   "id": "592762c4-897e-4fb4-a459-eef7e0cf2a3d",
   "metadata": {},
   "outputs": [],
   "source": []
  },
  {
   "cell_type": "code",
   "execution_count": null,
   "id": "f1c7f2f0-8a31-44bd-83a4-662508bdd25e",
   "metadata": {},
   "outputs": [],
   "source": []
  }
 ],
 "metadata": {
  "kernelspec": {
   "display_name": "Python 3 (ipykernel)",
   "language": "python",
   "name": "python3"
  },
  "language_info": {
   "codemirror_mode": {
    "name": "ipython",
    "version": 3
   },
   "file_extension": ".py",
   "mimetype": "text/x-python",
   "name": "python",
   "nbconvert_exporter": "python",
   "pygments_lexer": "ipython3",
   "version": "3.9.12"
  }
 },
 "nbformat": 4,
 "nbformat_minor": 5
}
