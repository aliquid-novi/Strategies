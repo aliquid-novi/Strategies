{
 "cells": [
  {
   "cell_type": "code",
   "execution_count": 1,
   "id": "8e554905-3bf9-434b-8b11-e70a239e5fe4",
   "metadata": {},
   "outputs": [],
   "source": [
    "import MetaTrader5 as mt5 \n",
    "import pandas as pd\n",
    "import numpy as np\n",
    "from statsmodels.tsa.stattools import adfuller \n",
    "from datetime import datetime\n",
    "import requests\n",
    "import pandas as pd\n",
    "import numpy as np\n",
    "import warnings\n",
    "import json\n",
    "warnings.filterwarnings(\"ignore\")\n",
    "mt5.initialize()\n",
    "# Replace following with your MT5 Account Login\n",
    "account=51434456 # \n",
    "password=\"9UpBvVzc\"\n",
    "server = 'ICMarkets-Demo'\n",
    "\n",
    "def get_rates(pair1, timeframe, x):\n",
    "    pair1 = pd.DataFrame(mt5.copy_rates_from_pos(pair1, timeframe, 0, x))\n",
    "    pair1['time'] = pd.to_datetime(pair1['time'], unit = 's')\n",
    "    return pair1[['time','open', 'high', 'low', 'close']].set_index('time')"
   ]
  },
  {
   "cell_type": "code",
   "execution_count": 2,
   "id": "36866c12-5361-4226-8630-1d9dffbee556",
   "metadata": {},
   "outputs": [
    {
     "name": "stdout",
     "output_type": "stream",
     "text": [
      "Getting AUDUSD.a's rates\n",
      "Getting USDCAD.a's rates\n",
      "Getting USDCHF.a's rates\n",
      "Getting GBPUSD.a's rates\n",
      "Getting USDJPY.a's rates\n",
      "Getting NZDUSD.a's rates\n",
      "Getting EURUSD.a's rates\n"
     ]
    }
   ],
   "source": [
    "import requests\n",
    "import xml.etree.ElementTree as ET\n",
    "import pandas as pd\n",
    "\n",
    "combined_dfs = {}\n",
    "\n",
    "# Define the base URL for the BIS Stats API\n",
    "base_url = 'https://stats.bis.org/api/v1'\n",
    "\n",
    "count_codes = [['AUDUSD.a','AU'], ['USDCAD.a', 'CA'],\n",
    "               ['USDCHF.a','CH'], ['GBPUSD.a', 'GB'],\n",
    "               ['USDJPY.a', 'JP'], ['NZDUSD.a', 'NZ'], \n",
    "               ['EURUSD.a', 'XM']]\n",
    "\n",
    "for country in count_codes:\n",
    "\n",
    "    # Define the endpoint parameters\n",
    "    flow = 'BIS,WS_EER_D,1.0'  # Example: Version 1.0 of the WS_EER_M domain, maintained by the BIS\n",
    "    key = f'D.N.N.{country[1]}'\n",
    "    start_period = '2000'  # Example: Start year 2000\n",
    "    end_period = '2023'  # Example: End year 2020\n",
    "    detail = 'full'  # Example: All data and documentation\n",
    "\n",
    "    # Construct the endpoint URL\n",
    "    endpoint_url = f'{base_url}/data/{flow}/{key}/all'\n",
    "\n",
    "    # Define the query parameters\n",
    "    query_params = {\n",
    "        'startPeriod': start_period,\n",
    "        'endPeriod': end_period,\n",
    "        'detail': detail\n",
    "    }\n",
    "\n",
    "    # Make the GET request\n",
    "    response = requests.get(endpoint_url, params=query_params)\n",
    "\n",
    "    # Check for a successful response\n",
    "    if response.status_code == 200:\n",
    "        # Assign the text of the response to xml_data\n",
    "        xml_data = response.text\n",
    "\n",
    "        # Parse the XML data\n",
    "        root = ET.fromstring(xml_data)\n",
    "\n",
    "        # Initialize empty lists to store the data\n",
    "        time_periods = []\n",
    "        obs_values = []\n",
    "\n",
    "        # Iterate through the XML and extract the desired information\n",
    "        for obs in root.findall(\".//Obs\"):\n",
    "            time_period = obs.get('TIME_PERIOD')\n",
    "            obs_value = obs.get('OBS_VALUE')\n",
    "            time_periods.append(time_period)\n",
    "            obs_values.append(obs_value)\n",
    "\n",
    "        # Create a DataFrame\n",
    "        df = pd.DataFrame({\n",
    "            'Time_Period': time_periods,\n",
    "            'OBS_Value': obs_values\n",
    "        })\n",
    "\n",
    "        df['OBS_Value'] = df['OBS_Value'].replace('NaN', np.nan)\n",
    "        # Drop rows with NaN values\n",
    "        df.dropna(subset=['OBS_Value'], inplace=True)\n",
    "        df['OBS_Value'] = df['OBS_Value'].astype(float)\n",
    "        df['Time_Period'] = pd.to_datetime(df['Time_Period'])\n",
    "        \n",
    "        df = df.set_index('Time_Period')\n",
    "        print(f\"Getting {country[0]}'s rates\")\n",
    "        rates = get_rates(country[0], mt5.TIMEFRAME_D1, 2500)\n",
    "        \n",
    "        combined = pd.concat([df[-len(rates):], rates['close']], join = 'outer', axis = 1)\n",
    "        \n",
    "        combined_dfs[country[1]] = combined.dropna()\n",
    "\n",
    "    else:\n",
    "        print(f'Failed to retrieve data: {response.status_code}')"
   ]
  },
  {
   "cell_type": "code",
   "execution_count": 5,
   "id": "8da3de7a-c713-4fb2-b42c-434ee7ff11c3",
   "metadata": {},
   "outputs": [
    {
     "data": {
      "text/plain": [
       "OBS_Value    103.38000\n",
       "close          0.66199\n",
       "Name: 2023-12-04 00:00:00, dtype: float64"
      ]
     },
     "execution_count": 5,
     "metadata": {},
     "output_type": "execute_result"
    }
   ],
   "source": [
    "combined_dfs['AU'].iloc[-1]"
   ]
  },
  {
   "cell_type": "code",
   "execution_count": 6,
   "id": "e1b06ed8-f732-4599-a324-de36d3f00281",
   "metadata": {},
   "outputs": [
    {
     "data": {
      "text/html": [
       "<div>\n",
       "<style scoped>\n",
       "    .dataframe tbody tr th:only-of-type {\n",
       "        vertical-align: middle;\n",
       "    }\n",
       "\n",
       "    .dataframe tbody tr th {\n",
       "        vertical-align: top;\n",
       "    }\n",
       "\n",
       "    .dataframe thead th {\n",
       "        text-align: right;\n",
       "    }\n",
       "</style>\n",
       "<table border=\"1\" class=\"dataframe\">\n",
       "  <thead>\n",
       "    <tr style=\"text-align: right;\">\n",
       "      <th></th>\n",
       "      <th>OBS_Value</th>\n",
       "      <th>close</th>\n",
       "    </tr>\n",
       "  </thead>\n",
       "  <tbody>\n",
       "    <tr>\n",
       "      <th>2014-05-06</th>\n",
       "      <td>119.94</td>\n",
       "      <td>0.93419</td>\n",
       "    </tr>\n",
       "    <tr>\n",
       "      <th>2014-05-07</th>\n",
       "      <td>120.05</td>\n",
       "      <td>0.93271</td>\n",
       "    </tr>\n",
       "    <tr>\n",
       "      <th>2014-05-08</th>\n",
       "      <td>120.62</td>\n",
       "      <td>0.93684</td>\n",
       "    </tr>\n",
       "    <tr>\n",
       "      <th>2014-05-09</th>\n",
       "      <td>120.85</td>\n",
       "      <td>0.93611</td>\n",
       "    </tr>\n",
       "    <tr>\n",
       "      <th>2014-05-12</th>\n",
       "      <td>121.07</td>\n",
       "      <td>0.93625</td>\n",
       "    </tr>\n",
       "    <tr>\n",
       "      <th>...</th>\n",
       "      <td>...</td>\n",
       "      <td>...</td>\n",
       "    </tr>\n",
       "    <tr>\n",
       "      <th>2023-11-28</th>\n",
       "      <td>102.84</td>\n",
       "      <td>0.66488</td>\n",
       "    </tr>\n",
       "    <tr>\n",
       "      <th>2023-11-29</th>\n",
       "      <td>102.66</td>\n",
       "      <td>0.66174</td>\n",
       "    </tr>\n",
       "    <tr>\n",
       "      <th>2023-11-30</th>\n",
       "      <td>102.67</td>\n",
       "      <td>0.66051</td>\n",
       "    </tr>\n",
       "    <tr>\n",
       "      <th>2023-12-01</th>\n",
       "      <td>103.02</td>\n",
       "      <td>0.66750</td>\n",
       "    </tr>\n",
       "    <tr>\n",
       "      <th>2023-12-04</th>\n",
       "      <td>103.38</td>\n",
       "      <td>0.66199</td>\n",
       "    </tr>\n",
       "  </tbody>\n",
       "</table>\n",
       "<p>2486 rows × 2 columns</p>\n",
       "</div>"
      ],
      "text/plain": [
       "            OBS_Value    close\n",
       "2014-05-06     119.94  0.93419\n",
       "2014-05-07     120.05  0.93271\n",
       "2014-05-08     120.62  0.93684\n",
       "2014-05-09     120.85  0.93611\n",
       "2014-05-12     121.07  0.93625\n",
       "...               ...      ...\n",
       "2023-11-28     102.84  0.66488\n",
       "2023-11-29     102.66  0.66174\n",
       "2023-11-30     102.67  0.66051\n",
       "2023-12-01     103.02  0.66750\n",
       "2023-12-04     103.38  0.66199\n",
       "\n",
       "[2486 rows x 2 columns]"
      ]
     },
     "execution_count": 6,
     "metadata": {},
     "output_type": "execute_result"
    }
   ],
   "source": [
    "combined_dfs['AU']"
   ]
  },
  {
   "cell_type": "code",
   "execution_count": 20,
   "id": "637738ae-9c2f-4b94-b2b8-1ab37478701e",
   "metadata": {},
   "outputs": [],
   "source": [
    "# Compute Expected Returns\n",
    "weekly_dfs = {}\n",
    "features = ['OBS_Value', 'close']\n",
    "\n",
    "for name, dfs in combined_dfs.items():\n",
    "    df = combined_dfs[name]\n",
    "    # Assuming 'df' is your DataFrame\n",
    "    df['date'] = pd.to_datetime(df.index)\n",
    "    df.set_index('date', inplace=True)\n",
    "\n",
    "    # Resample to get the last value of each week\n",
    "    weekly = df.resample('W').last()\n",
    "    weekly_dfs[name] = weekly\n",
    "\n",
    "for df in weekly_dfs.values():\n",
    "    df['EER_ret'] = df['OBS_Value'].pct_change()"
   ]
  },
  {
   "cell_type": "code",
   "execution_count": 23,
   "id": "3f1def98-b69a-4cf5-ae2e-2256901332c9",
   "metadata": {},
   "outputs": [
    {
     "name": "stdout",
     "output_type": "stream",
     "text": [
      "0.0034944670937682165\n",
      "0.00029667721518977785\n",
      "0.004794885455513986\n",
      "0.0019301293186642088\n",
      "0.009685230024212954\n",
      "0.0013718765311121484\n",
      "-0.0030024019215372233\n"
     ]
    }
   ],
   "source": [
    "for df in weekly_dfs.values():\n",
    "    print(df['EER_ret'].iloc[-1])"
   ]
  },
  {
   "cell_type": "code",
   "execution_count": 24,
   "id": "050f8e40-1fc1-4fa2-819b-a63a407789f2",
   "metadata": {},
   "outputs": [],
   "source": [
    "last_update = {}\n",
    "\n",
    "for name, df in weekly_dfs.items():\n",
    "    last_update[name] = df['EER_ret'].iloc[-1]"
   ]
  },
  {
   "cell_type": "code",
   "execution_count": 33,
   "id": "d7cc9a3d-ec1e-41ad-b0e2-ba7bd99684e3",
   "metadata": {},
   "outputs": [],
   "source": [
    "last_update.keys()\n",
    "symbols = ['AUDUSD.a', 'USDCAD.a', 'USDCHF.a', 'GBPUSD.a', 'USDJPY.a', 'NZDUSD.a', 'EURUSD.a']\n",
    "\n",
    "last_update = {symbols[i]: value for i, (key, value) in enumerate(last_update.items())}"
   ]
  },
  {
   "cell_type": "code",
   "execution_count": 34,
   "id": "6edb37d0-ac42-48d6-91e0-23d31c77a5e9",
   "metadata": {},
   "outputs": [
    {
     "data": {
      "text/plain": [
       "{'AUDUSD.a': 0.0034944670937682165,\n",
       " 'USDCAD.a': 0.00029667721518977785,\n",
       " 'USDCHF.a': 0.004794885455513986,\n",
       " 'GBPUSD.a': 0.0019301293186642088,\n",
       " 'USDJPY.a': 0.009685230024212954,\n",
       " 'NZDUSD.a': 0.0013718765311121484,\n",
       " 'EURUSD.a': -0.0030024019215372233}"
      ]
     },
     "execution_count": 34,
     "metadata": {},
     "output_type": "execute_result"
    }
   ],
   "source": [
    "last_update"
   ]
  },
  {
   "cell_type": "code",
   "execution_count": 35,
   "id": "bc347626-7bf5-48a1-9ea6-d977d6dee598",
   "metadata": {},
   "outputs": [],
   "source": [
    "def send_order(symbol, side, lot, comment):\n",
    "    \n",
    "    if side.lower() == 'sell':\n",
    "        order_type = mt5.ORDER_TYPE_SELL\n",
    "        price = mt5.symbol_info_tick(symbol).bid\n",
    "    elif side.lower() == 'buy':\n",
    "        order_type = mt5.ORDER_TYPE_BUY\n",
    "        price = mt5.symbol_info_tick(symbol).ask\n",
    "    \n",
    "    request = {\n",
    "        \"action\": mt5.TRADE_ACTION_DEAL,\n",
    "        \"symbol\": symbol,\n",
    "        \"volume\": lot,\n",
    "        \"type\": order_type,\n",
    "        \"price\": price,\n",
    "        \"deviation\": 5,\n",
    "        \"magic\": 234000,\n",
    "        \"comment\": comment,\n",
    "        \"type_time\": mt5.ORDER_TIME_GTC,\n",
    "        \"type_filling\": mt5.ORDER_FILLING_IOC,\n",
    "    }\n",
    "    result = mt5.order_send(request)\n",
    "    result"
   ]
  },
  {
   "cell_type": "code",
   "execution_count": 37,
   "id": "09ffc977-74d7-4513-8eac-3ce39bb34fe1",
   "metadata": {},
   "outputs": [],
   "source": [
    "for symbol, value in last_update.items():\n",
    "    if value > 0:\n",
    "        send_order(symbol, 'buy', 1.00, 'EER')\n",
    "    else:\n",
    "        send_order(symbol, 'sell', 1.00, 'EER')"
   ]
  },
  {
   "cell_type": "code",
   "execution_count": 38,
   "id": "15fe6e08-8d90-45b8-839b-5ccab71019af",
   "metadata": {},
   "outputs": [],
   "source": [
    "# Work on automating it "
   ]
  },
  {
   "cell_type": "code",
   "execution_count": null,
   "id": "1973d636-c4d0-448f-a887-8f580d33751e",
   "metadata": {},
   "outputs": [],
   "source": []
  }
 ],
 "metadata": {
  "kernelspec": {
   "display_name": "Python 3 (ipykernel)",
   "language": "python",
   "name": "python3"
  },
  "language_info": {
   "codemirror_mode": {
    "name": "ipython",
    "version": 3
   },
   "file_extension": ".py",
   "mimetype": "text/x-python",
   "name": "python",
   "nbconvert_exporter": "python",
   "pygments_lexer": "ipython3",
   "version": "3.9.13"
  }
 },
 "nbformat": 4,
 "nbformat_minor": 5
}
